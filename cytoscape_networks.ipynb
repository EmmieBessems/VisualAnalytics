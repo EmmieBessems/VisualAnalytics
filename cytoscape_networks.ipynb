{
 "cells": [
  {
   "cell_type": "code",
   "execution_count": 1,
   "metadata": {
    "collapsed": true
   },
   "outputs": [
    {
     "name": "stdout",
     "output_type": "stream",
     "text": [
      "Requirement already satisfied: dash-cytoscape==0.2.0 in c:\\users\\20182402\\anaconda3\\lib\\site-packages (0.2.0)\n",
      "Requirement already satisfied: dash in c:\\users\\20182402\\anaconda3\\lib\\site-packages (from dash-cytoscape==0.2.0) (1.20.0)\n",
      "Requirement already satisfied: future in c:\\users\\20182402\\anaconda3\\lib\\site-packages (from dash->dash-cytoscape==0.2.0) (0.18.2)\n",
      "Requirement already satisfied: flask-compress in c:\\users\\20182402\\anaconda3\\lib\\site-packages (from dash->dash-cytoscape==0.2.0) (1.9.0)\n",
      "Requirement already satisfied: dash-html-components==1.1.3 in c:\\users\\20182402\\anaconda3\\lib\\site-packages (from dash->dash-cytoscape==0.2.0) (1.1.3)\n",
      "Requirement already satisfied: dash-core-components==1.16.0 in c:\\users\\20182402\\anaconda3\\lib\\site-packages (from dash->dash-cytoscape==0.2.0) (1.16.0)\n",
      "Requirement already satisfied: dash-table==4.11.3 in c:\\users\\20182402\\anaconda3\\lib\\site-packages (from dash->dash-cytoscape==0.2.0) (4.11.3)\n",
      "Requirement already satisfied: dash-renderer==1.9.1 in c:\\users\\20182402\\anaconda3\\lib\\site-packages (from dash->dash-cytoscape==0.2.0) (1.9.1)\n",
      "Requirement already satisfied: Flask>=1.0.4 in c:\\users\\20182402\\anaconda3\\lib\\site-packages (from dash->dash-cytoscape==0.2.0) (1.1.1)\n",
      "Requirement already satisfied: plotly in c:\\users\\20182402\\anaconda3\\lib\\site-packages (from dash->dash-cytoscape==0.2.0) (4.14.3)\n",
      "Requirement already satisfied: itsdangerous>=0.24 in c:\\users\\20182402\\anaconda3\\lib\\site-packages (from Flask>=1.0.4->dash->dash-cytoscape==0.2.0) (1.1.0)\n",
      "Requirement already satisfied: click>=5.1 in c:\\users\\20182402\\anaconda3\\lib\\site-packages (from Flask>=1.0.4->dash->dash-cytoscape==0.2.0) (7.0)\n",
      "Requirement already satisfied: Jinja2>=2.10.1 in c:\\users\\20182402\\anaconda3\\lib\\site-packages (from Flask>=1.0.4->dash->dash-cytoscape==0.2.0) (2.11.1)\n",
      "Requirement already satisfied: Werkzeug>=0.15 in c:\\users\\20182402\\anaconda3\\lib\\site-packages (from Flask>=1.0.4->dash->dash-cytoscape==0.2.0) (1.0.0)\n",
      "Requirement already satisfied: MarkupSafe>=0.23 in c:\\users\\20182402\\anaconda3\\lib\\site-packages (from Jinja2>=2.10.1->Flask>=1.0.4->dash->dash-cytoscape==0.2.0) (1.1.1)\n",
      "Requirement already satisfied: brotli in c:\\users\\20182402\\anaconda3\\lib\\site-packages (from flask-compress->dash->dash-cytoscape==0.2.0) (1.0.9)\n",
      "Requirement already satisfied: six in c:\\users\\20182402\\appdata\\roaming\\python\\python37\\site-packages (from plotly->dash->dash-cytoscape==0.2.0) (1.15.0)\n",
      "Requirement already satisfied: retrying>=1.3.3 in c:\\users\\20182402\\anaconda3\\lib\\site-packages (from plotly->dash->dash-cytoscape==0.2.0) (1.3.3)\n",
      "Note: you may need to restart the kernel to use updated packages.\n"
     ]
    }
   ],
   "source": [
    "# !pip install dash-cytoscape==0.2.0"
   ]
  },
  {
   "cell_type": "code",
   "execution_count": 1,
   "outputs": [],
   "source": [
    "import dash\n",
    "import dash_cytoscape as cyto\n",
    "import dash_html_components as html\n",
    "import dash_core_components as dcc\n",
    "import pandas as pd\n",
    "import json\n",
    "import datetime"
   ],
   "metadata": {
    "collapsed": false,
    "pycharm": {
     "name": "#%%\n"
    }
   }
  },
  {
   "cell_type": "code",
   "execution_count": 2,
   "outputs": [
    {
     "data": {
      "text/plain": "                                From  \\\n0     Sven.Flecha@gastech.com.kronos   \n1   Kanon.Herrero@gastech.com.kronos   \n2   Bertrand.Ovan@gastech.com.kronos   \n3  Valeria.Morlun@gastech.com.kronos   \n4      Mat.Bramar@gastech.com.kronos   \n\n                                                  To           Date  \\\n0  Isak.Baza@gastech.com.kronos, Lucas.Alcazar@ga...  1/6/2014 8:39   \n1  Felix.Resumir@gastech.com.kronos, Hideki.Cocin...  1/6/2014 8:58   \n2  Emile.Arpa@gastech.com.kronos, Varro.Awelon@ga...  1/6/2014 9:28   \n3  Dante.Coginian@gastech.com.kronos, Albina.Hafo...  1/6/2014 9:38   \n4  Rachel.Pantanal@gastech.com.kronos, Lars.Azada...  1/6/2014 9:49   \n\n                                         Subject  \n0              GT-SeismicProcessorPro Bug Report  \n1                    Inspection request for site  \n2  New refueling policies - Effective February 1  \n3                Route suggestion for next shift  \n4                             Upcoming birthdays  ",
      "text/html": "<div>\n<style scoped>\n    .dataframe tbody tr th:only-of-type {\n        vertical-align: middle;\n    }\n\n    .dataframe tbody tr th {\n        vertical-align: top;\n    }\n\n    .dataframe thead th {\n        text-align: right;\n    }\n</style>\n<table border=\"1\" class=\"dataframe\">\n  <thead>\n    <tr style=\"text-align: right;\">\n      <th></th>\n      <th>From</th>\n      <th>To</th>\n      <th>Date</th>\n      <th>Subject</th>\n    </tr>\n  </thead>\n  <tbody>\n    <tr>\n      <th>0</th>\n      <td>Sven.Flecha@gastech.com.kronos</td>\n      <td>Isak.Baza@gastech.com.kronos, Lucas.Alcazar@ga...</td>\n      <td>1/6/2014 8:39</td>\n      <td>GT-SeismicProcessorPro Bug Report</td>\n    </tr>\n    <tr>\n      <th>1</th>\n      <td>Kanon.Herrero@gastech.com.kronos</td>\n      <td>Felix.Resumir@gastech.com.kronos, Hideki.Cocin...</td>\n      <td>1/6/2014 8:58</td>\n      <td>Inspection request for site</td>\n    </tr>\n    <tr>\n      <th>2</th>\n      <td>Bertrand.Ovan@gastech.com.kronos</td>\n      <td>Emile.Arpa@gastech.com.kronos, Varro.Awelon@ga...</td>\n      <td>1/6/2014 9:28</td>\n      <td>New refueling policies - Effective February 1</td>\n    </tr>\n    <tr>\n      <th>3</th>\n      <td>Valeria.Morlun@gastech.com.kronos</td>\n      <td>Dante.Coginian@gastech.com.kronos, Albina.Hafo...</td>\n      <td>1/6/2014 9:38</td>\n      <td>Route suggestion for next shift</td>\n    </tr>\n    <tr>\n      <th>4</th>\n      <td>Mat.Bramar@gastech.com.kronos</td>\n      <td>Rachel.Pantanal@gastech.com.kronos, Lars.Azada...</td>\n      <td>1/6/2014 9:49</td>\n      <td>Upcoming birthdays</td>\n    </tr>\n  </tbody>\n</table>\n</div>"
     },
     "execution_count": 2,
     "metadata": {},
     "output_type": "execute_result"
    }
   ],
   "source": [
    "emails = pd.read_csv('email headers.csv', encoding='cp1252')\n",
    "emails.head()"
   ],
   "metadata": {
    "collapsed": false,
    "pycharm": {
     "name": "#%%\n"
    }
   }
  },
  {
   "cell_type": "code",
   "execution_count": 3,
   "outputs": [
    {
     "data": {
      "text/plain": "                                  From                                    To  \\\n0       Sven.Flecha@gastech.com.kronos          Isak.Baza@gastech.com.kronos   \n0       Sven.Flecha@gastech.com.kronos      Lucas.Alcazar@gastech.com.kronos   \n1     Kanon.Herrero@gastech.com.kronos      Felix.Resumir@gastech.com.kronos   \n1     Kanon.Herrero@gastech.com.kronos    Hideki.Cocinaro@gastech.com.kronos   \n1     Kanon.Herrero@gastech.com.kronos         Inga.Ferro@gastech.com.kronos   \n...                                ...                                   ...   \n1169   Albina.Hafon@gastech.com.kronos     Valeria.Morlun@gastech.com.kronos   \n1169   Albina.Hafon@gastech.com.kronos  Cecilia.Morluniau@gastech.com.kronos   \n1169   Albina.Hafon@gastech.com.kronos          Henk.Mies@gastech.com.kronos   \n1169   Albina.Hafon@gastech.com.kronos     Dylan.Scozzese@gastech.com.kronos   \n1169   Albina.Hafon@gastech.com.kronos     Benito.Hawelon@gastech.com.kronos   \n\n                 Date                            Subject  \n0       1/6/2014 8:39  GT-SeismicProcessorPro Bug Report  \n0       1/6/2014 8:39  GT-SeismicProcessorPro Bug Report  \n1       1/6/2014 8:58        Inspection request for site  \n1       1/6/2014 8:58        Inspection request for site  \n1       1/6/2014 8:58        Inspection request for site  \n...               ...                                ...  \n1169  1/17/2014 20:46     RE: Traffic advisory for today  \n1169  1/17/2014 20:46     RE: Traffic advisory for today  \n1169  1/17/2014 20:46     RE: Traffic advisory for today  \n1169  1/17/2014 20:46     RE: Traffic advisory for today  \n1169  1/17/2014 20:46     RE: Traffic advisory for today  \n\n[9063 rows x 4 columns]",
      "text/html": "<div>\n<style scoped>\n    .dataframe tbody tr th:only-of-type {\n        vertical-align: middle;\n    }\n\n    .dataframe tbody tr th {\n        vertical-align: top;\n    }\n\n    .dataframe thead th {\n        text-align: right;\n    }\n</style>\n<table border=\"1\" class=\"dataframe\">\n  <thead>\n    <tr style=\"text-align: right;\">\n      <th></th>\n      <th>From</th>\n      <th>To</th>\n      <th>Date</th>\n      <th>Subject</th>\n    </tr>\n  </thead>\n  <tbody>\n    <tr>\n      <th>0</th>\n      <td>Sven.Flecha@gastech.com.kronos</td>\n      <td>Isak.Baza@gastech.com.kronos</td>\n      <td>1/6/2014 8:39</td>\n      <td>GT-SeismicProcessorPro Bug Report</td>\n    </tr>\n    <tr>\n      <th>0</th>\n      <td>Sven.Flecha@gastech.com.kronos</td>\n      <td>Lucas.Alcazar@gastech.com.kronos</td>\n      <td>1/6/2014 8:39</td>\n      <td>GT-SeismicProcessorPro Bug Report</td>\n    </tr>\n    <tr>\n      <th>1</th>\n      <td>Kanon.Herrero@gastech.com.kronos</td>\n      <td>Felix.Resumir@gastech.com.kronos</td>\n      <td>1/6/2014 8:58</td>\n      <td>Inspection request for site</td>\n    </tr>\n    <tr>\n      <th>1</th>\n      <td>Kanon.Herrero@gastech.com.kronos</td>\n      <td>Hideki.Cocinaro@gastech.com.kronos</td>\n      <td>1/6/2014 8:58</td>\n      <td>Inspection request for site</td>\n    </tr>\n    <tr>\n      <th>1</th>\n      <td>Kanon.Herrero@gastech.com.kronos</td>\n      <td>Inga.Ferro@gastech.com.kronos</td>\n      <td>1/6/2014 8:58</td>\n      <td>Inspection request for site</td>\n    </tr>\n    <tr>\n      <th>...</th>\n      <td>...</td>\n      <td>...</td>\n      <td>...</td>\n      <td>...</td>\n    </tr>\n    <tr>\n      <th>1169</th>\n      <td>Albina.Hafon@gastech.com.kronos</td>\n      <td>Valeria.Morlun@gastech.com.kronos</td>\n      <td>1/17/2014 20:46</td>\n      <td>RE: Traffic advisory for today</td>\n    </tr>\n    <tr>\n      <th>1169</th>\n      <td>Albina.Hafon@gastech.com.kronos</td>\n      <td>Cecilia.Morluniau@gastech.com.kronos</td>\n      <td>1/17/2014 20:46</td>\n      <td>RE: Traffic advisory for today</td>\n    </tr>\n    <tr>\n      <th>1169</th>\n      <td>Albina.Hafon@gastech.com.kronos</td>\n      <td>Henk.Mies@gastech.com.kronos</td>\n      <td>1/17/2014 20:46</td>\n      <td>RE: Traffic advisory for today</td>\n    </tr>\n    <tr>\n      <th>1169</th>\n      <td>Albina.Hafon@gastech.com.kronos</td>\n      <td>Dylan.Scozzese@gastech.com.kronos</td>\n      <td>1/17/2014 20:46</td>\n      <td>RE: Traffic advisory for today</td>\n    </tr>\n    <tr>\n      <th>1169</th>\n      <td>Albina.Hafon@gastech.com.kronos</td>\n      <td>Benito.Hawelon@gastech.com.kronos</td>\n      <td>1/17/2014 20:46</td>\n      <td>RE: Traffic advisory for today</td>\n    </tr>\n  </tbody>\n</table>\n<p>9063 rows × 4 columns</p>\n</div>"
     },
     "execution_count": 3,
     "metadata": {},
     "output_type": "execute_result"
    }
   ],
   "source": [
    "# Split up multiple receivers to separate rows\n",
    "emails = emails.assign(To=emails.To.str.split(', '))\n",
    "emails = emails.explode('To')\n",
    "emails"
   ],
   "metadata": {
    "collapsed": false,
    "pycharm": {
     "name": "#%%\n"
    }
   }
  },
  {
   "cell_type": "code",
   "execution_count": 4,
   "outputs": [
    {
     "data": {
      "text/plain": "                                  From                                    To  \\\n0       Sven.Flecha@gastech.com.kronos          Isak.Baza@gastech.com.kronos   \n0       Sven.Flecha@gastech.com.kronos      Lucas.Alcazar@gastech.com.kronos   \n1     Kanon.Herrero@gastech.com.kronos      Felix.Resumir@gastech.com.kronos   \n1     Kanon.Herrero@gastech.com.kronos    Hideki.Cocinaro@gastech.com.kronos   \n1     Kanon.Herrero@gastech.com.kronos         Inga.Ferro@gastech.com.kronos   \n...                                ...                                   ...   \n1169   Albina.Hafon@gastech.com.kronos     Valeria.Morlun@gastech.com.kronos   \n1169   Albina.Hafon@gastech.com.kronos  Cecilia.Morluniau@gastech.com.kronos   \n1169   Albina.Hafon@gastech.com.kronos          Henk.Mies@gastech.com.kronos   \n1169   Albina.Hafon@gastech.com.kronos     Dylan.Scozzese@gastech.com.kronos   \n1169   Albina.Hafon@gastech.com.kronos     Benito.Hawelon@gastech.com.kronos   \n\n            Date                            Subject      Time  \n0     2014-01-06  GT-SeismicProcessorPro Bug Report  08:39:00  \n0     2014-01-06  GT-SeismicProcessorPro Bug Report  08:39:00  \n1     2014-01-06        Inspection request for site  08:58:00  \n1     2014-01-06        Inspection request for site  08:58:00  \n1     2014-01-06        Inspection request for site  08:58:00  \n...          ...                                ...       ...  \n1169  2014-01-17     RE: Traffic advisory for today  20:46:00  \n1169  2014-01-17     RE: Traffic advisory for today  20:46:00  \n1169  2014-01-17     RE: Traffic advisory for today  20:46:00  \n1169  2014-01-17     RE: Traffic advisory for today  20:46:00  \n1169  2014-01-17     RE: Traffic advisory for today  20:46:00  \n\n[9063 rows x 5 columns]",
      "text/html": "<div>\n<style scoped>\n    .dataframe tbody tr th:only-of-type {\n        vertical-align: middle;\n    }\n\n    .dataframe tbody tr th {\n        vertical-align: top;\n    }\n\n    .dataframe thead th {\n        text-align: right;\n    }\n</style>\n<table border=\"1\" class=\"dataframe\">\n  <thead>\n    <tr style=\"text-align: right;\">\n      <th></th>\n      <th>From</th>\n      <th>To</th>\n      <th>Date</th>\n      <th>Subject</th>\n      <th>Time</th>\n    </tr>\n  </thead>\n  <tbody>\n    <tr>\n      <th>0</th>\n      <td>Sven.Flecha@gastech.com.kronos</td>\n      <td>Isak.Baza@gastech.com.kronos</td>\n      <td>2014-01-06</td>\n      <td>GT-SeismicProcessorPro Bug Report</td>\n      <td>08:39:00</td>\n    </tr>\n    <tr>\n      <th>0</th>\n      <td>Sven.Flecha@gastech.com.kronos</td>\n      <td>Lucas.Alcazar@gastech.com.kronos</td>\n      <td>2014-01-06</td>\n      <td>GT-SeismicProcessorPro Bug Report</td>\n      <td>08:39:00</td>\n    </tr>\n    <tr>\n      <th>1</th>\n      <td>Kanon.Herrero@gastech.com.kronos</td>\n      <td>Felix.Resumir@gastech.com.kronos</td>\n      <td>2014-01-06</td>\n      <td>Inspection request for site</td>\n      <td>08:58:00</td>\n    </tr>\n    <tr>\n      <th>1</th>\n      <td>Kanon.Herrero@gastech.com.kronos</td>\n      <td>Hideki.Cocinaro@gastech.com.kronos</td>\n      <td>2014-01-06</td>\n      <td>Inspection request for site</td>\n      <td>08:58:00</td>\n    </tr>\n    <tr>\n      <th>1</th>\n      <td>Kanon.Herrero@gastech.com.kronos</td>\n      <td>Inga.Ferro@gastech.com.kronos</td>\n      <td>2014-01-06</td>\n      <td>Inspection request for site</td>\n      <td>08:58:00</td>\n    </tr>\n    <tr>\n      <th>...</th>\n      <td>...</td>\n      <td>...</td>\n      <td>...</td>\n      <td>...</td>\n      <td>...</td>\n    </tr>\n    <tr>\n      <th>1169</th>\n      <td>Albina.Hafon@gastech.com.kronos</td>\n      <td>Valeria.Morlun@gastech.com.kronos</td>\n      <td>2014-01-17</td>\n      <td>RE: Traffic advisory for today</td>\n      <td>20:46:00</td>\n    </tr>\n    <tr>\n      <th>1169</th>\n      <td>Albina.Hafon@gastech.com.kronos</td>\n      <td>Cecilia.Morluniau@gastech.com.kronos</td>\n      <td>2014-01-17</td>\n      <td>RE: Traffic advisory for today</td>\n      <td>20:46:00</td>\n    </tr>\n    <tr>\n      <th>1169</th>\n      <td>Albina.Hafon@gastech.com.kronos</td>\n      <td>Henk.Mies@gastech.com.kronos</td>\n      <td>2014-01-17</td>\n      <td>RE: Traffic advisory for today</td>\n      <td>20:46:00</td>\n    </tr>\n    <tr>\n      <th>1169</th>\n      <td>Albina.Hafon@gastech.com.kronos</td>\n      <td>Dylan.Scozzese@gastech.com.kronos</td>\n      <td>2014-01-17</td>\n      <td>RE: Traffic advisory for today</td>\n      <td>20:46:00</td>\n    </tr>\n    <tr>\n      <th>1169</th>\n      <td>Albina.Hafon@gastech.com.kronos</td>\n      <td>Benito.Hawelon@gastech.com.kronos</td>\n      <td>2014-01-17</td>\n      <td>RE: Traffic advisory for today</td>\n      <td>20:46:00</td>\n    </tr>\n  </tbody>\n</table>\n<p>9063 rows × 5 columns</p>\n</div>"
     },
     "execution_count": 4,
     "metadata": {},
     "output_type": "execute_result"
    }
   ],
   "source": [
    "# Separate the date and time in different columns\n",
    "emails['Time'] = pd.to_datetime(emails['Date']).dt.time\n",
    "emails['Date'] = pd.to_datetime(emails['Date']).dt.date\n",
    "emails"
   ],
   "metadata": {
    "collapsed": false,
    "pycharm": {
     "name": "#%%\n"
    }
   }
  },
  {
   "cell_type": "code",
   "execution_count": 5,
   "outputs": [],
   "source": [
    "def create_json(emails):\n",
    "    \"\"\"Given a dataframe with emails (from, to, and a date), a json is created that can be\n",
    "    used as input for the Cytoscape network graph.\"\"\"\n",
    "\n",
    "    # Extract the from and to emails\n",
    "    emails_from = emails.From.tolist()\n",
    "    emails_to = emails.To.tolist()\n",
    "\n",
    "    # Create a list with all appearing emails and remove duplicates\n",
    "    nodes = emails_from + emails_to\n",
    "    nodes = list(dict.fromkeys(nodes))\n",
    "\n",
    "    # Create the correct format for the nodes\n",
    "    nodes_list = []\n",
    "    for node in nodes:\n",
    "        name = node.split('@')[0].split('.')\n",
    "        text = \"{\\\"data\\\": {\" +\"\\\"id\\\": \\\"\" + node +\"\\\", \\\"label\\\": \\\"\" + name[0] + \" \" + name[1] + \"\\\"}}\"\n",
    "        nodes_list.append(text)\n",
    "\n",
    "    # Create a list of from - to email pairs\n",
    "    pairs = []\n",
    "    for i in range(len(emails_from)):\n",
    "        pairs.append([emails_from[i], emails_to[i]])\n",
    "    # Compute weights and add them to the pairs\n",
    "    weights = []\n",
    "    for pair in pairs:\n",
    "        weights.append(pairs.count(pair))\n",
    "    count = 0\n",
    "    for pair in pairs:\n",
    "        pair.append(weights[count])\n",
    "        count += 1\n",
    "    # Remove duplicates\n",
    "    unique = []\n",
    "    for pair in pairs:\n",
    "        if pair not in unique:\n",
    "            unique.append(pair)\n",
    "        else:\n",
    "            pass\n",
    "    # Create the correct format for the links\n",
    "    links_list = []\n",
    "    for link in unique:\n",
    "        text = \"{\\\"data\\\": {\\\"source\\\": \\\"\" + link[0] + \"\\\", \\\"target\\\": \\\"\" + link[1] + \"\\\", \\\"weight\\\": \" + str(link[2]) + \"}}\"\n",
    "        links_list.append(text)\n",
    "\n",
    "    # Write to the json file\n",
    "    with open('./network_data.json', 'w') as network_data:\n",
    "        z = 0\n",
    "        network_data.writelines(\"[\")\n",
    "        while z < (len(nodes_list)):\n",
    "            network_data.writelines(nodes_list[z] + \",\")\n",
    "            z += 1\n",
    "        z = 0\n",
    "        while z < (len(links_list) - 1):\n",
    "            network_data.writelines(links_list[z] + \",\")\n",
    "            z += 1\n",
    "        network_data.writelines(links_list[-1])\n",
    "        network_data.writelines(\"]\")"
   ],
   "metadata": {
    "collapsed": false,
    "pycharm": {
     "name": "#%%\n"
    }
   }
  },
  {
   "cell_type": "code",
   "execution_count": 11,
   "outputs": [
    {
     "data": {
      "text/plain": "                                    From  \\\n0         Sven.Flecha@gastech.com.kronos   \n0         Sven.Flecha@gastech.com.kronos   \n1       Kanon.Herrero@gastech.com.kronos   \n1       Kanon.Herrero@gastech.com.kronos   \n1       Kanon.Herrero@gastech.com.kronos   \n..                                   ...   \n15          Isak.Baza@gastech.com.kronos   \n16      Lucas.Alcazar@gastech.com.kronos   \n16      Lucas.Alcazar@gastech.com.kronos   \n17  Sten.Sanjorge Jr.@gastech.com.tethys   \n17  Sten.Sanjorge Jr.@gastech.com.tethys   \n\n                                      To        Date  \\\n0           Isak.Baza@gastech.com.kronos  2014-01-06   \n0       Lucas.Alcazar@gastech.com.kronos  2014-01-06   \n1       Felix.Resumir@gastech.com.kronos  2014-01-06   \n1     Hideki.Cocinaro@gastech.com.kronos  2014-01-06   \n1          Inga.Ferro@gastech.com.kronos  2014-01-06   \n..                                   ...         ...   \n15      Lucas.Alcazar@gastech.com.kronos  2014-01-06   \n16          Isak.Baza@gastech.com.kronos  2014-01-06   \n16      Lucas.Alcazar@gastech.com.kronos  2014-01-06   \n17        Orhan.Strum@gastech.com.kronos  2014-01-06   \n17  Willem.Vasco-Pais@gastech.com.kronos  2014-01-06   \n\n                                  Subject      Time  \n0       GT-SeismicProcessorPro Bug Report  08:39:00  \n0       GT-SeismicProcessorPro Bug Report  08:39:00  \n1             Inspection request for site  08:58:00  \n1             Inspection request for site  08:58:00  \n1             Inspection request for site  08:58:00  \n..                                    ...       ...  \n15  RE: GT-SeismicProcessorPro Bug Report  11:34:00  \n16  RE: GT-SeismicProcessorPro Bug Report  11:40:00  \n16  RE: GT-SeismicProcessorPro Bug Report  11:40:00  \n17                                    IPO  11:53:00  \n17                                    IPO  11:53:00  \n\n[223 rows x 5 columns]",
      "text/html": "<div>\n<style scoped>\n    .dataframe tbody tr th:only-of-type {\n        vertical-align: middle;\n    }\n\n    .dataframe tbody tr th {\n        vertical-align: top;\n    }\n\n    .dataframe thead th {\n        text-align: right;\n    }\n</style>\n<table border=\"1\" class=\"dataframe\">\n  <thead>\n    <tr style=\"text-align: right;\">\n      <th></th>\n      <th>From</th>\n      <th>To</th>\n      <th>Date</th>\n      <th>Subject</th>\n      <th>Time</th>\n    </tr>\n  </thead>\n  <tbody>\n    <tr>\n      <th>0</th>\n      <td>Sven.Flecha@gastech.com.kronos</td>\n      <td>Isak.Baza@gastech.com.kronos</td>\n      <td>2014-01-06</td>\n      <td>GT-SeismicProcessorPro Bug Report</td>\n      <td>08:39:00</td>\n    </tr>\n    <tr>\n      <th>0</th>\n      <td>Sven.Flecha@gastech.com.kronos</td>\n      <td>Lucas.Alcazar@gastech.com.kronos</td>\n      <td>2014-01-06</td>\n      <td>GT-SeismicProcessorPro Bug Report</td>\n      <td>08:39:00</td>\n    </tr>\n    <tr>\n      <th>1</th>\n      <td>Kanon.Herrero@gastech.com.kronos</td>\n      <td>Felix.Resumir@gastech.com.kronos</td>\n      <td>2014-01-06</td>\n      <td>Inspection request for site</td>\n      <td>08:58:00</td>\n    </tr>\n    <tr>\n      <th>1</th>\n      <td>Kanon.Herrero@gastech.com.kronos</td>\n      <td>Hideki.Cocinaro@gastech.com.kronos</td>\n      <td>2014-01-06</td>\n      <td>Inspection request for site</td>\n      <td>08:58:00</td>\n    </tr>\n    <tr>\n      <th>1</th>\n      <td>Kanon.Herrero@gastech.com.kronos</td>\n      <td>Inga.Ferro@gastech.com.kronos</td>\n      <td>2014-01-06</td>\n      <td>Inspection request for site</td>\n      <td>08:58:00</td>\n    </tr>\n    <tr>\n      <th>...</th>\n      <td>...</td>\n      <td>...</td>\n      <td>...</td>\n      <td>...</td>\n      <td>...</td>\n    </tr>\n    <tr>\n      <th>15</th>\n      <td>Isak.Baza@gastech.com.kronos</td>\n      <td>Lucas.Alcazar@gastech.com.kronos</td>\n      <td>2014-01-06</td>\n      <td>RE: GT-SeismicProcessorPro Bug Report</td>\n      <td>11:34:00</td>\n    </tr>\n    <tr>\n      <th>16</th>\n      <td>Lucas.Alcazar@gastech.com.kronos</td>\n      <td>Isak.Baza@gastech.com.kronos</td>\n      <td>2014-01-06</td>\n      <td>RE: GT-SeismicProcessorPro Bug Report</td>\n      <td>11:40:00</td>\n    </tr>\n    <tr>\n      <th>16</th>\n      <td>Lucas.Alcazar@gastech.com.kronos</td>\n      <td>Lucas.Alcazar@gastech.com.kronos</td>\n      <td>2014-01-06</td>\n      <td>RE: GT-SeismicProcessorPro Bug Report</td>\n      <td>11:40:00</td>\n    </tr>\n    <tr>\n      <th>17</th>\n      <td>Sten.Sanjorge Jr.@gastech.com.tethys</td>\n      <td>Orhan.Strum@gastech.com.kronos</td>\n      <td>2014-01-06</td>\n      <td>IPO</td>\n      <td>11:53:00</td>\n    </tr>\n    <tr>\n      <th>17</th>\n      <td>Sten.Sanjorge Jr.@gastech.com.tethys</td>\n      <td>Willem.Vasco-Pais@gastech.com.kronos</td>\n      <td>2014-01-06</td>\n      <td>IPO</td>\n      <td>11:53:00</td>\n    </tr>\n  </tbody>\n</table>\n<p>223 rows × 5 columns</p>\n</div>"
     },
     "execution_count": 11,
     "metadata": {},
     "output_type": "execute_result"
    }
   ],
   "source": [
    "# Filter out emails from the first day\n",
    "emails_day1 = emails[emails['Date'] == datetime.date(2014, 1, 6)]\n",
    "emails_day1_morning = emails_day1[(emails_day1['Time'] < datetime.time(12,0,0))]\n",
    "emails_day1_morning"
   ],
   "metadata": {
    "collapsed": false,
    "pycharm": {
     "name": "#%%\n"
    }
   }
  },
  {
   "cell_type": "code",
   "execution_count": 12,
   "outputs": [],
   "source": [
    "create_json(emails_day1_morning)"
   ],
   "metadata": {
    "collapsed": false,
    "pycharm": {
     "name": "#%%\n"
    }
   }
  },
  {
   "cell_type": "code",
   "execution_count": 13,
   "outputs": [],
   "source": [
    "app = dash.Dash(__name__)\n",
    "\n",
    "with open('network_data.json', 'r') as f:\n",
    "    data = json.load(f)"
   ],
   "metadata": {
    "collapsed": false,
    "pycharm": {
     "name": "#%%\n"
    }
   }
  },
  {
   "cell_type": "code",
   "execution_count": 20,
   "outputs": [
    {
     "ename": "TypeError",
     "evalue": "__init__() got multiple values for argument 'value'",
     "output_type": "error",
     "traceback": [
      "\u001B[1;31m---------------------------------------------------------------------------\u001B[0m",
      "\u001B[1;31mTypeError\u001B[0m                                 Traceback (most recent call last)",
      "\u001B[1;32m~\\AppData\\Local\\Temp/ipykernel_22292/510734222.py\u001B[0m in \u001B[0;36m<module>\u001B[1;34m\u001B[0m\n\u001B[0;32m      9\u001B[0m         \u001B[1;36m0\u001B[0m\u001B[1;33m,\u001B[0m \u001B[1;36m20\u001B[0m\u001B[1;33m,\u001B[0m \u001B[1;36m5\u001B[0m\u001B[1;33m,\u001B[0m\u001B[1;33m\u001B[0m\u001B[1;33m\u001B[0m\u001B[0m\n\u001B[0;32m     10\u001B[0m         \u001B[0mvalue\u001B[0m\u001B[1;33m=\u001B[0m\u001B[1;36m10\u001B[0m\u001B[1;33m,\u001B[0m\u001B[1;33m\u001B[0m\u001B[1;33m\u001B[0m\u001B[0m\n\u001B[1;32m---> 11\u001B[1;33m         id='my-slider')\n\u001B[0m\u001B[0;32m     12\u001B[0m     ]),\n\u001B[0;32m     13\u001B[0m     \u001B[0mhtml\u001B[0m\u001B[1;33m.\u001B[0m\u001B[0mDiv\u001B[0m\u001B[1;33m(\u001B[0m\u001B[0mid\u001B[0m\u001B[1;33m=\u001B[0m\u001B[1;34m'slider-output-container'\u001B[0m\u001B[1;33m)\u001B[0m\u001B[1;33m\u001B[0m\u001B[1;33m\u001B[0m\u001B[0m\n",
      "\u001B[1;32m~\\Anaconda3\\lib\\site-packages\\dash\\development\\base_component.py\u001B[0m in \u001B[0;36mwrapper\u001B[1;34m(*args, **kwargs)\u001B[0m\n\u001B[0;32m    364\u001B[0m         \u001B[1;32mif\u001B[0m \u001B[1;34m\"self\"\u001B[0m \u001B[1;32min\u001B[0m \u001B[0mkwargs\u001B[0m\u001B[1;33m[\u001B[0m\u001B[1;34m\"_explicit_args\"\u001B[0m\u001B[1;33m]\u001B[0m\u001B[1;33m:\u001B[0m\u001B[1;33m\u001B[0m\u001B[1;33m\u001B[0m\u001B[0m\n\u001B[0;32m    365\u001B[0m             \u001B[0mkwargs\u001B[0m\u001B[1;33m[\u001B[0m\u001B[1;34m\"_explicit_args\"\u001B[0m\u001B[1;33m]\u001B[0m\u001B[1;33m.\u001B[0m\u001B[0mremove\u001B[0m\u001B[1;33m(\u001B[0m\u001B[1;34m\"self\"\u001B[0m\u001B[1;33m)\u001B[0m\u001B[1;33m\u001B[0m\u001B[1;33m\u001B[0m\u001B[0m\n\u001B[1;32m--> 366\u001B[1;33m         \u001B[1;32mreturn\u001B[0m \u001B[0mfunc\u001B[0m\u001B[1;33m(\u001B[0m\u001B[1;33m*\u001B[0m\u001B[0margs\u001B[0m\u001B[1;33m,\u001B[0m \u001B[1;33m**\u001B[0m\u001B[0mkwargs\u001B[0m\u001B[1;33m)\u001B[0m\u001B[1;33m\u001B[0m\u001B[1;33m\u001B[0m\u001B[0m\n\u001B[0m\u001B[0;32m    367\u001B[0m \u001B[1;33m\u001B[0m\u001B[0m\n\u001B[0;32m    368\u001B[0m     \u001B[1;31m# If Python 3, we can set the function signature to be correct\u001B[0m\u001B[1;33m\u001B[0m\u001B[1;33m\u001B[0m\u001B[1;33m\u001B[0m\u001B[0m\n",
      "\u001B[1;31mTypeError\u001B[0m: __init__() got multiple values for argument 'value'"
     ]
    }
   ],
   "source": [
    "app.layout = html.Div([\n",
    "    html.Div([cyto.Cytoscape(\n",
    "        id='cytoscape-v1',\n",
    "        layout={'name': 'circle'},\n",
    "        style={'width': '100%', 'height': '1000px'},\n",
    "        elements=data)\n",
    "    ]),\n",
    "    html.Div([dcc.Slider(\n",
    "        0, 20, 5,\n",
    "        value=10,\n",
    "        id='my-slider')\n",
    "    ]),\n",
    "    html.Div(id='slider-output-container')\n",
    "])"
   ],
   "metadata": {
    "collapsed": false,
    "pycharm": {
     "name": "#%%\n"
    }
   }
  },
  {
   "cell_type": "code",
   "execution_count": 18,
   "outputs": [
    {
     "name": "stdout",
     "output_type": "stream",
     "text": [
      "Dash is running on http://127.0.0.1:8050/\n",
      "\n",
      "Dash is running on http://127.0.0.1:8050/\n",
      "\n",
      " * Serving Flask app \"__main__\" (lazy loading)\n",
      " * Environment: production\n",
      "\u001B[31m   WARNING: This is a development server. Do not use it in a production deployment.\u001B[0m\n",
      "\u001B[2m   Use a production WSGI server instead.\u001B[0m\n",
      " * Debug mode: off\n"
     ]
    },
    {
     "name": "stderr",
     "output_type": "stream",
     "text": [
      " * Running on http://127.0.0.1:8050/ (Press CTRL+C to quit)\n",
      "127.0.0.1 - - [31/Mar/2022 16:07:54] \"GET / HTTP/1.1\" 200 -\n",
      "127.0.0.1 - - [31/Mar/2022 16:07:55] \"GET /_dash-layout HTTP/1.1\" 200 -\n",
      "127.0.0.1 - - [31/Mar/2022 16:07:55] \"GET /_dash-dependencies HTTP/1.1\" 200 -\n"
     ]
    }
   ],
   "source": [
    "if __name__ == '__main__':\n",
    "    app.run_server()"
   ],
   "metadata": {
    "collapsed": false,
    "pycharm": {
     "name": "#%%\n"
    }
   }
  },
  {
   "cell_type": "code",
   "execution_count": null,
   "outputs": [],
   "source": [],
   "metadata": {
    "collapsed": false,
    "pycharm": {
     "name": "#%%\n"
    }
   }
  }
 ],
 "metadata": {
  "kernelspec": {
   "display_name": "Python 3",
   "language": "python",
   "name": "python3"
  },
  "language_info": {
   "codemirror_mode": {
    "name": "ipython",
    "version": 2
   },
   "file_extension": ".py",
   "mimetype": "text/x-python",
   "name": "python",
   "nbconvert_exporter": "python",
   "pygments_lexer": "ipython2",
   "version": "2.7.6"
  }
 },
 "nbformat": 4,
 "nbformat_minor": 0
}