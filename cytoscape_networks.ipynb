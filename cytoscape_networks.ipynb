{
 "cells": [
  {
   "cell_type": "code",
   "execution_count": 1,
   "outputs": [],
   "source": [
    "import dash\n",
    "import dash_cytoscape as cyto\n",
    "import dash_html_components as html\n",
    "import dash_core_components as dcc\n",
    "import pandas as pd\n",
    "import json\n",
    "import datetime\n",
    "import plotly.express as px\n",
    "import base64"
   ],
   "metadata": {
    "collapsed": false,
    "pycharm": {
     "name": "#%%\n"
    }
   }
  },
  {
   "cell_type": "code",
   "execution_count": 2,
   "outputs": [
    {
     "data": {
      "text/plain": "                                From  \\\n0     Sven.Flecha@gastech.com.kronos   \n1   Kanon.Herrero@gastech.com.kronos   \n2   Bertrand.Ovan@gastech.com.kronos   \n3  Valeria.Morlun@gastech.com.kronos   \n4      Mat.Bramar@gastech.com.kronos   \n\n                                                  To           Date  \\\n0  Isak.Baza@gastech.com.kronos, Lucas.Alcazar@ga...  1/6/2014 8:39   \n1  Felix.Resumir@gastech.com.kronos, Hideki.Cocin...  1/6/2014 8:58   \n2  Emile.Arpa@gastech.com.kronos, Varro.Awelon@ga...  1/6/2014 9:28   \n3  Dante.Coginian@gastech.com.kronos, Albina.Hafo...  1/6/2014 9:38   \n4  Rachel.Pantanal@gastech.com.kronos, Lars.Azada...  1/6/2014 9:49   \n\n                                         Subject  \n0              GT-SeismicProcessorPro Bug Report  \n1                    Inspection request for site  \n2  New refueling policies - Effective February 1  \n3                Route suggestion for next shift  \n4                             Upcoming birthdays  ",
      "text/html": "<div>\n<style scoped>\n    .dataframe tbody tr th:only-of-type {\n        vertical-align: middle;\n    }\n\n    .dataframe tbody tr th {\n        vertical-align: top;\n    }\n\n    .dataframe thead th {\n        text-align: right;\n    }\n</style>\n<table border=\"1\" class=\"dataframe\">\n  <thead>\n    <tr style=\"text-align: right;\">\n      <th></th>\n      <th>From</th>\n      <th>To</th>\n      <th>Date</th>\n      <th>Subject</th>\n    </tr>\n  </thead>\n  <tbody>\n    <tr>\n      <th>0</th>\n      <td>Sven.Flecha@gastech.com.kronos</td>\n      <td>Isak.Baza@gastech.com.kronos, Lucas.Alcazar@ga...</td>\n      <td>1/6/2014 8:39</td>\n      <td>GT-SeismicProcessorPro Bug Report</td>\n    </tr>\n    <tr>\n      <th>1</th>\n      <td>Kanon.Herrero@gastech.com.kronos</td>\n      <td>Felix.Resumir@gastech.com.kronos, Hideki.Cocin...</td>\n      <td>1/6/2014 8:58</td>\n      <td>Inspection request for site</td>\n    </tr>\n    <tr>\n      <th>2</th>\n      <td>Bertrand.Ovan@gastech.com.kronos</td>\n      <td>Emile.Arpa@gastech.com.kronos, Varro.Awelon@ga...</td>\n      <td>1/6/2014 9:28</td>\n      <td>New refueling policies - Effective February 1</td>\n    </tr>\n    <tr>\n      <th>3</th>\n      <td>Valeria.Morlun@gastech.com.kronos</td>\n      <td>Dante.Coginian@gastech.com.kronos, Albina.Hafo...</td>\n      <td>1/6/2014 9:38</td>\n      <td>Route suggestion for next shift</td>\n    </tr>\n    <tr>\n      <th>4</th>\n      <td>Mat.Bramar@gastech.com.kronos</td>\n      <td>Rachel.Pantanal@gastech.com.kronos, Lars.Azada...</td>\n      <td>1/6/2014 9:49</td>\n      <td>Upcoming birthdays</td>\n    </tr>\n  </tbody>\n</table>\n</div>"
     },
     "execution_count": 2,
     "metadata": {},
     "output_type": "execute_result"
    }
   ],
   "source": [
    "emails = pd.read_csv('email headers.csv', encoding='cp1252')\n",
    "emails.head()"
   ],
   "metadata": {
    "collapsed": false,
    "pycharm": {
     "name": "#%%\n"
    }
   }
  },
  {
   "cell_type": "code",
   "execution_count": 3,
   "outputs": [
    {
     "data": {
      "text/plain": "                                  From                                    To  \\\n0       Sven.Flecha@gastech.com.kronos          Isak.Baza@gastech.com.kronos   \n0       Sven.Flecha@gastech.com.kronos      Lucas.Alcazar@gastech.com.kronos   \n1     Kanon.Herrero@gastech.com.kronos      Felix.Resumir@gastech.com.kronos   \n1     Kanon.Herrero@gastech.com.kronos    Hideki.Cocinaro@gastech.com.kronos   \n1     Kanon.Herrero@gastech.com.kronos         Inga.Ferro@gastech.com.kronos   \n...                                ...                                   ...   \n1169   Albina.Hafon@gastech.com.kronos     Valeria.Morlun@gastech.com.kronos   \n1169   Albina.Hafon@gastech.com.kronos  Cecilia.Morluniau@gastech.com.kronos   \n1169   Albina.Hafon@gastech.com.kronos          Henk.Mies@gastech.com.kronos   \n1169   Albina.Hafon@gastech.com.kronos     Dylan.Scozzese@gastech.com.kronos   \n1169   Albina.Hafon@gastech.com.kronos     Benito.Hawelon@gastech.com.kronos   \n\n                 Date                            Subject  \n0       1/6/2014 8:39  GT-SeismicProcessorPro Bug Report  \n0       1/6/2014 8:39  GT-SeismicProcessorPro Bug Report  \n1       1/6/2014 8:58        Inspection request for site  \n1       1/6/2014 8:58        Inspection request for site  \n1       1/6/2014 8:58        Inspection request for site  \n...               ...                                ...  \n1169  1/17/2014 20:46     RE: Traffic advisory for today  \n1169  1/17/2014 20:46     RE: Traffic advisory for today  \n1169  1/17/2014 20:46     RE: Traffic advisory for today  \n1169  1/17/2014 20:46     RE: Traffic advisory for today  \n1169  1/17/2014 20:46     RE: Traffic advisory for today  \n\n[9063 rows x 4 columns]",
      "text/html": "<div>\n<style scoped>\n    .dataframe tbody tr th:only-of-type {\n        vertical-align: middle;\n    }\n\n    .dataframe tbody tr th {\n        vertical-align: top;\n    }\n\n    .dataframe thead th {\n        text-align: right;\n    }\n</style>\n<table border=\"1\" class=\"dataframe\">\n  <thead>\n    <tr style=\"text-align: right;\">\n      <th></th>\n      <th>From</th>\n      <th>To</th>\n      <th>Date</th>\n      <th>Subject</th>\n    </tr>\n  </thead>\n  <tbody>\n    <tr>\n      <th>0</th>\n      <td>Sven.Flecha@gastech.com.kronos</td>\n      <td>Isak.Baza@gastech.com.kronos</td>\n      <td>1/6/2014 8:39</td>\n      <td>GT-SeismicProcessorPro Bug Report</td>\n    </tr>\n    <tr>\n      <th>0</th>\n      <td>Sven.Flecha@gastech.com.kronos</td>\n      <td>Lucas.Alcazar@gastech.com.kronos</td>\n      <td>1/6/2014 8:39</td>\n      <td>GT-SeismicProcessorPro Bug Report</td>\n    </tr>\n    <tr>\n      <th>1</th>\n      <td>Kanon.Herrero@gastech.com.kronos</td>\n      <td>Felix.Resumir@gastech.com.kronos</td>\n      <td>1/6/2014 8:58</td>\n      <td>Inspection request for site</td>\n    </tr>\n    <tr>\n      <th>1</th>\n      <td>Kanon.Herrero@gastech.com.kronos</td>\n      <td>Hideki.Cocinaro@gastech.com.kronos</td>\n      <td>1/6/2014 8:58</td>\n      <td>Inspection request for site</td>\n    </tr>\n    <tr>\n      <th>1</th>\n      <td>Kanon.Herrero@gastech.com.kronos</td>\n      <td>Inga.Ferro@gastech.com.kronos</td>\n      <td>1/6/2014 8:58</td>\n      <td>Inspection request for site</td>\n    </tr>\n    <tr>\n      <th>...</th>\n      <td>...</td>\n      <td>...</td>\n      <td>...</td>\n      <td>...</td>\n    </tr>\n    <tr>\n      <th>1169</th>\n      <td>Albina.Hafon@gastech.com.kronos</td>\n      <td>Valeria.Morlun@gastech.com.kronos</td>\n      <td>1/17/2014 20:46</td>\n      <td>RE: Traffic advisory for today</td>\n    </tr>\n    <tr>\n      <th>1169</th>\n      <td>Albina.Hafon@gastech.com.kronos</td>\n      <td>Cecilia.Morluniau@gastech.com.kronos</td>\n      <td>1/17/2014 20:46</td>\n      <td>RE: Traffic advisory for today</td>\n    </tr>\n    <tr>\n      <th>1169</th>\n      <td>Albina.Hafon@gastech.com.kronos</td>\n      <td>Henk.Mies@gastech.com.kronos</td>\n      <td>1/17/2014 20:46</td>\n      <td>RE: Traffic advisory for today</td>\n    </tr>\n    <tr>\n      <th>1169</th>\n      <td>Albina.Hafon@gastech.com.kronos</td>\n      <td>Dylan.Scozzese@gastech.com.kronos</td>\n      <td>1/17/2014 20:46</td>\n      <td>RE: Traffic advisory for today</td>\n    </tr>\n    <tr>\n      <th>1169</th>\n      <td>Albina.Hafon@gastech.com.kronos</td>\n      <td>Benito.Hawelon@gastech.com.kronos</td>\n      <td>1/17/2014 20:46</td>\n      <td>RE: Traffic advisory for today</td>\n    </tr>\n  </tbody>\n</table>\n<p>9063 rows × 4 columns</p>\n</div>"
     },
     "execution_count": 3,
     "metadata": {},
     "output_type": "execute_result"
    }
   ],
   "source": [
    "# Split up multiple receivers to separate rows\n",
    "emails = emails.assign(To=emails.To.str.split(', '))\n",
    "emails = emails.explode('To')\n",
    "emails"
   ],
   "metadata": {
    "collapsed": false,
    "pycharm": {
     "name": "#%%\n"
    }
   }
  },
  {
   "cell_type": "code",
   "execution_count": 4,
   "outputs": [
    {
     "data": {
      "text/plain": "                                  From                                    To  \\\n0       Sven.Flecha@gastech.com.kronos          Isak.Baza@gastech.com.kronos   \n0       Sven.Flecha@gastech.com.kronos      Lucas.Alcazar@gastech.com.kronos   \n1     Kanon.Herrero@gastech.com.kronos      Felix.Resumir@gastech.com.kronos   \n1     Kanon.Herrero@gastech.com.kronos    Hideki.Cocinaro@gastech.com.kronos   \n1     Kanon.Herrero@gastech.com.kronos         Inga.Ferro@gastech.com.kronos   \n...                                ...                                   ...   \n1169   Albina.Hafon@gastech.com.kronos     Valeria.Morlun@gastech.com.kronos   \n1169   Albina.Hafon@gastech.com.kronos  Cecilia.Morluniau@gastech.com.kronos   \n1169   Albina.Hafon@gastech.com.kronos          Henk.Mies@gastech.com.kronos   \n1169   Albina.Hafon@gastech.com.kronos     Dylan.Scozzese@gastech.com.kronos   \n1169   Albina.Hafon@gastech.com.kronos     Benito.Hawelon@gastech.com.kronos   \n\n            Date                            Subject      Time  \n0     2014-01-06  GT-SeismicProcessorPro Bug Report  08:39:00  \n0     2014-01-06  GT-SeismicProcessorPro Bug Report  08:39:00  \n1     2014-01-06        Inspection request for site  08:58:00  \n1     2014-01-06        Inspection request for site  08:58:00  \n1     2014-01-06        Inspection request for site  08:58:00  \n...          ...                                ...       ...  \n1169  2014-01-17     RE: Traffic advisory for today  20:46:00  \n1169  2014-01-17     RE: Traffic advisory for today  20:46:00  \n1169  2014-01-17     RE: Traffic advisory for today  20:46:00  \n1169  2014-01-17     RE: Traffic advisory for today  20:46:00  \n1169  2014-01-17     RE: Traffic advisory for today  20:46:00  \n\n[9063 rows x 5 columns]",
      "text/html": "<div>\n<style scoped>\n    .dataframe tbody tr th:only-of-type {\n        vertical-align: middle;\n    }\n\n    .dataframe tbody tr th {\n        vertical-align: top;\n    }\n\n    .dataframe thead th {\n        text-align: right;\n    }\n</style>\n<table border=\"1\" class=\"dataframe\">\n  <thead>\n    <tr style=\"text-align: right;\">\n      <th></th>\n      <th>From</th>\n      <th>To</th>\n      <th>Date</th>\n      <th>Subject</th>\n      <th>Time</th>\n    </tr>\n  </thead>\n  <tbody>\n    <tr>\n      <th>0</th>\n      <td>Sven.Flecha@gastech.com.kronos</td>\n      <td>Isak.Baza@gastech.com.kronos</td>\n      <td>2014-01-06</td>\n      <td>GT-SeismicProcessorPro Bug Report</td>\n      <td>08:39:00</td>\n    </tr>\n    <tr>\n      <th>0</th>\n      <td>Sven.Flecha@gastech.com.kronos</td>\n      <td>Lucas.Alcazar@gastech.com.kronos</td>\n      <td>2014-01-06</td>\n      <td>GT-SeismicProcessorPro Bug Report</td>\n      <td>08:39:00</td>\n    </tr>\n    <tr>\n      <th>1</th>\n      <td>Kanon.Herrero@gastech.com.kronos</td>\n      <td>Felix.Resumir@gastech.com.kronos</td>\n      <td>2014-01-06</td>\n      <td>Inspection request for site</td>\n      <td>08:58:00</td>\n    </tr>\n    <tr>\n      <th>1</th>\n      <td>Kanon.Herrero@gastech.com.kronos</td>\n      <td>Hideki.Cocinaro@gastech.com.kronos</td>\n      <td>2014-01-06</td>\n      <td>Inspection request for site</td>\n      <td>08:58:00</td>\n    </tr>\n    <tr>\n      <th>1</th>\n      <td>Kanon.Herrero@gastech.com.kronos</td>\n      <td>Inga.Ferro@gastech.com.kronos</td>\n      <td>2014-01-06</td>\n      <td>Inspection request for site</td>\n      <td>08:58:00</td>\n    </tr>\n    <tr>\n      <th>...</th>\n      <td>...</td>\n      <td>...</td>\n      <td>...</td>\n      <td>...</td>\n      <td>...</td>\n    </tr>\n    <tr>\n      <th>1169</th>\n      <td>Albina.Hafon@gastech.com.kronos</td>\n      <td>Valeria.Morlun@gastech.com.kronos</td>\n      <td>2014-01-17</td>\n      <td>RE: Traffic advisory for today</td>\n      <td>20:46:00</td>\n    </tr>\n    <tr>\n      <th>1169</th>\n      <td>Albina.Hafon@gastech.com.kronos</td>\n      <td>Cecilia.Morluniau@gastech.com.kronos</td>\n      <td>2014-01-17</td>\n      <td>RE: Traffic advisory for today</td>\n      <td>20:46:00</td>\n    </tr>\n    <tr>\n      <th>1169</th>\n      <td>Albina.Hafon@gastech.com.kronos</td>\n      <td>Henk.Mies@gastech.com.kronos</td>\n      <td>2014-01-17</td>\n      <td>RE: Traffic advisory for today</td>\n      <td>20:46:00</td>\n    </tr>\n    <tr>\n      <th>1169</th>\n      <td>Albina.Hafon@gastech.com.kronos</td>\n      <td>Dylan.Scozzese@gastech.com.kronos</td>\n      <td>2014-01-17</td>\n      <td>RE: Traffic advisory for today</td>\n      <td>20:46:00</td>\n    </tr>\n    <tr>\n      <th>1169</th>\n      <td>Albina.Hafon@gastech.com.kronos</td>\n      <td>Benito.Hawelon@gastech.com.kronos</td>\n      <td>2014-01-17</td>\n      <td>RE: Traffic advisory for today</td>\n      <td>20:46:00</td>\n    </tr>\n  </tbody>\n</table>\n<p>9063 rows × 5 columns</p>\n</div>"
     },
     "execution_count": 4,
     "metadata": {},
     "output_type": "execute_result"
    }
   ],
   "source": [
    "# Separate the date and time in different columns\n",
    "emails['Time'] = pd.to_datetime(emails['Date']).dt.time\n",
    "emails['Date'] = pd.to_datetime(emails['Date']).dt.date\n",
    "emails"
   ],
   "metadata": {
    "collapsed": false,
    "pycharm": {
     "name": "#%%\n"
    }
   }
  },
  {
   "cell_type": "code",
   "execution_count": 5,
   "outputs": [
    {
     "data": {
      "text/plain": "        LastName FirstName BirthDate BirthCountry  Gender CitizenshipCountry  \\\n50       Resumir     Felix  30-06-59       Tethys    Male             Tethys   \n51       Bodrogi    Loreto  17-04-89       Kronos    Male             Kronos   \n52      Cocinaro    Hideki  25-12-80       Tethys    Male             Tethys   \n53         Ferro      Inga  17-06-89       Kronos  Female             Kronos   \n54  Sanjorge Jr.      Sten  29-08-48       Tethys    Male             Tethys   \n\n   CitizenshipBasis CitizenshipStartDate PassportCountry PassportIssueDate  \\\n50      BirthNation             30-06-59          Tethys          20-03-05   \n51      BirthNation             17-04-89            None              None   \n52      BirthNation             25-12-80          Tethys          25-05-13   \n53      BirthNation             17-06-89            None              None   \n54      BirthNation             29-08-48          Tethys          21-04-13   \n\n   PassportExpirationDate CurrentEmploymentType  CurrentEmploymentTitle  \\\n50               19-03-15              Security  Security Group Manager   \n51                   None              Security            Site Control   \n52               24-05-23              Security            Site Control   \n53                   None              Security            Site Control   \n54               20-04-23             Executive           President/CEO   \n\n   CurrentEmploymentStartDate                          EmailAddress  \\\n50                   15-09-03      Felix.Resumir@gastech.com.kronos   \n51                   17-08-13     Loreto.Bodrogi@gastech.com.kronos   \n52                   01-01-10    Hideki.Cocinaro@gastech.com.kronos   \n53                   11-01-13         Inga.Ferro@gastech.com.kronos   \n54                   09-11-90  Sten.Sanjorge Jr.@gastech.com.tethys   \n\n     MilitaryServiceBranch MilitaryDischargeType MilitaryDischargeDate  \n50  TethanDefenseForceArmy    HonorableDischarge              01-10-97  \n51     ArmedForcesOfKronos    HonorableDischarge              01-10-08  \n52  TethanDefenseForceArmy    HonorableDischarge              01-10-09  \n53     ArmedForcesOfKronos      GeneralDischarge              01-10-12  \n54                    None                  None                  None  ",
      "text/html": "<div>\n<style scoped>\n    .dataframe tbody tr th:only-of-type {\n        vertical-align: middle;\n    }\n\n    .dataframe tbody tr th {\n        vertical-align: top;\n    }\n\n    .dataframe thead th {\n        text-align: right;\n    }\n</style>\n<table border=\"1\" class=\"dataframe\">\n  <thead>\n    <tr style=\"text-align: right;\">\n      <th></th>\n      <th>LastName</th>\n      <th>FirstName</th>\n      <th>BirthDate</th>\n      <th>BirthCountry</th>\n      <th>Gender</th>\n      <th>CitizenshipCountry</th>\n      <th>CitizenshipBasis</th>\n      <th>CitizenshipStartDate</th>\n      <th>PassportCountry</th>\n      <th>PassportIssueDate</th>\n      <th>PassportExpirationDate</th>\n      <th>CurrentEmploymentType</th>\n      <th>CurrentEmploymentTitle</th>\n      <th>CurrentEmploymentStartDate</th>\n      <th>EmailAddress</th>\n      <th>MilitaryServiceBranch</th>\n      <th>MilitaryDischargeType</th>\n      <th>MilitaryDischargeDate</th>\n    </tr>\n  </thead>\n  <tbody>\n    <tr>\n      <th>50</th>\n      <td>Resumir</td>\n      <td>Felix</td>\n      <td>30-06-59</td>\n      <td>Tethys</td>\n      <td>Male</td>\n      <td>Tethys</td>\n      <td>BirthNation</td>\n      <td>30-06-59</td>\n      <td>Tethys</td>\n      <td>20-03-05</td>\n      <td>19-03-15</td>\n      <td>Security</td>\n      <td>Security Group Manager</td>\n      <td>15-09-03</td>\n      <td>Felix.Resumir@gastech.com.kronos</td>\n      <td>TethanDefenseForceArmy</td>\n      <td>HonorableDischarge</td>\n      <td>01-10-97</td>\n    </tr>\n    <tr>\n      <th>51</th>\n      <td>Bodrogi</td>\n      <td>Loreto</td>\n      <td>17-04-89</td>\n      <td>Kronos</td>\n      <td>Male</td>\n      <td>Kronos</td>\n      <td>BirthNation</td>\n      <td>17-04-89</td>\n      <td>None</td>\n      <td>None</td>\n      <td>None</td>\n      <td>Security</td>\n      <td>Site Control</td>\n      <td>17-08-13</td>\n      <td>Loreto.Bodrogi@gastech.com.kronos</td>\n      <td>ArmedForcesOfKronos</td>\n      <td>HonorableDischarge</td>\n      <td>01-10-08</td>\n    </tr>\n    <tr>\n      <th>52</th>\n      <td>Cocinaro</td>\n      <td>Hideki</td>\n      <td>25-12-80</td>\n      <td>Tethys</td>\n      <td>Male</td>\n      <td>Tethys</td>\n      <td>BirthNation</td>\n      <td>25-12-80</td>\n      <td>Tethys</td>\n      <td>25-05-13</td>\n      <td>24-05-23</td>\n      <td>Security</td>\n      <td>Site Control</td>\n      <td>01-01-10</td>\n      <td>Hideki.Cocinaro@gastech.com.kronos</td>\n      <td>TethanDefenseForceArmy</td>\n      <td>HonorableDischarge</td>\n      <td>01-10-09</td>\n    </tr>\n    <tr>\n      <th>53</th>\n      <td>Ferro</td>\n      <td>Inga</td>\n      <td>17-06-89</td>\n      <td>Kronos</td>\n      <td>Female</td>\n      <td>Kronos</td>\n      <td>BirthNation</td>\n      <td>17-06-89</td>\n      <td>None</td>\n      <td>None</td>\n      <td>None</td>\n      <td>Security</td>\n      <td>Site Control</td>\n      <td>11-01-13</td>\n      <td>Inga.Ferro@gastech.com.kronos</td>\n      <td>ArmedForcesOfKronos</td>\n      <td>GeneralDischarge</td>\n      <td>01-10-12</td>\n    </tr>\n    <tr>\n      <th>54</th>\n      <td>Sanjorge Jr.</td>\n      <td>Sten</td>\n      <td>29-08-48</td>\n      <td>Tethys</td>\n      <td>Male</td>\n      <td>Tethys</td>\n      <td>BirthNation</td>\n      <td>29-08-48</td>\n      <td>Tethys</td>\n      <td>21-04-13</td>\n      <td>20-04-23</td>\n      <td>Executive</td>\n      <td>President/CEO</td>\n      <td>09-11-90</td>\n      <td>Sten.Sanjorge Jr.@gastech.com.tethys</td>\n      <td>None</td>\n      <td>None</td>\n      <td>None</td>\n    </tr>\n  </tbody>\n</table>\n</div>"
     },
     "execution_count": 5,
     "metadata": {},
     "output_type": "execute_result"
    }
   ],
   "source": [
    "# Read the employee records, check for employment types\n",
    "records = pd.read_csv('EmployeeRecords.csv')\n",
    "\n",
    "# Some processing for displaying the data later on\n",
    "records = records.fillna('None')\n",
    "double_email = records[records['LastName'] == 'Sanjorge Jr.']\n",
    "records = records.append(double_email, ignore_index=True)\n",
    "records.at[54, 'EmailAddress'] = 'Sten.Sanjorge Jr.@gastech.com.tethys'\n",
    "\n",
    "records.tail()"
   ],
   "metadata": {
    "collapsed": false,
    "pycharm": {
     "name": "#%%\n"
    }
   }
  },
  {
   "cell_type": "code",
   "execution_count": 7,
   "outputs": [],
   "source": [
    "def create_json(emails, records, day: int, departments=['Administration', 'Engineering', 'Executive', 'Facilities', 'Information Technology', 'Security']):\n",
    "    \"\"\"Given a split-out dataframe with emails (1 from, 1 to, and a date) and , a json is created that can be\n",
    "    used as input for the Cytoscape network graph.\"\"\"\n",
    "\n",
    "    # Extract the from and to emails\n",
    "    emails_from = emails.From.tolist()\n",
    "    emails_to = emails.To.tolist()\n",
    "\n",
    "    # Create a list with all appearing emails and remove duplicates\n",
    "    nodes = emails_from + emails_to\n",
    "    nodes = list(dict.fromkeys(nodes))\n",
    "\n",
    "    nodes_df = pd.DataFrame(nodes, columns=['EmailAddress'])\n",
    "    records_mod = records[['EmailAddress', 'CurrentEmploymentType']]\n",
    "    # There is one line missing in the records compared to emails: Executive Sten Sanjorge Jr. has two email addresses, one ending in .tethys (not in the records) and one ending in .kronos, suspicious?\n",
    "    records_mod = records_mod.append({'EmailAddress': 'Sten.Sanjorge Jr.@gastech.com.tethys', 'CurrentEmploymentType': 'Executive'}, ignore_index=True)\n",
    "\n",
    "    merged = nodes_df.merge(records_mod, how='inner', on=['EmailAddress'])\n",
    "    merged = merged.sort_values(by=['CurrentEmploymentType'])\n",
    "    merged = merged[merged['CurrentEmploymentType'].isin(departments)]\n",
    "    merged_list = merged.values.tolist()\n",
    "\n",
    "    # Create the formatted text for the nodes\n",
    "    nodes_list = []\n",
    "    for node in merged_list:\n",
    "        name = node[0].split('@')[0].split('.')\n",
    "        text = \"{\\\"data\\\": {\\\"id\\\": \\\"\" + node[0] + \"\\\", \\\"label\\\": \\\"\" + name[0] + \" \" + name[1] + \"\\\"}, \\\"classes\\\": \\\"\" + node[1] + \"\\\"}\"\n",
    "        nodes_list.append(text)\n",
    "\n",
    "    # Create a list of from - to email pairs\n",
    "    pairs = []\n",
    "    for i in range(len(emails_from)):\n",
    "        if (emails_from[i] in merged['EmailAddress'].values.tolist()) and (emails_to[i] in merged['EmailAddress'].values.tolist()):\n",
    "            pairs.append([emails_from[i], emails_to[i]])\n",
    "        else:\n",
    "            pass\n",
    "    # Compute weights and add them to the pairs\n",
    "    weights = []\n",
    "    for pair in pairs:\n",
    "        weights.append(pairs.count(pair))\n",
    "    count = 0\n",
    "    for pair in pairs:\n",
    "        pair.append(weights[count])\n",
    "        count += 1\n",
    "    # Remove duplicates\n",
    "    unique = []\n",
    "    for pair in pairs:\n",
    "        if pair not in unique:\n",
    "            unique.append(pair)\n",
    "        else:\n",
    "            pass\n",
    "    # Create the correct format for the links\n",
    "    links_list = []\n",
    "    for link in unique:\n",
    "        text = \"{\\\"data\\\": {\\\"source\\\": \\\"\" + link[0] + \"\\\", \\\"target\\\": \\\"\" + link[1] + \"\\\", \\\"weight\\\": \" + str(link[2]) + \"}}\"\n",
    "        links_list.append(text)\n",
    "\n",
    "    # Write to the json file\n",
    "    file_name = './network_data_day' + str(day) + '.json'\n",
    "\n",
    "    with open(file_name, 'w') as network_data:\n",
    "        z = 0\n",
    "        network_data.writelines(\"[\")\n",
    "        while z < (len(nodes_list)):\n",
    "            network_data.writelines(nodes_list[z] + \",\")\n",
    "            z += 1\n",
    "        z = 0\n",
    "        while z < (len(links_list) - 1):\n",
    "            network_data.writelines(links_list[z] + \",\")\n",
    "            z += 1\n",
    "        network_data.writelines(links_list[-1])\n",
    "        network_data.writelines(\"]\")"
   ],
   "metadata": {
    "collapsed": false,
    "pycharm": {
     "name": "#%%\n"
    }
   }
  },
  {
   "cell_type": "code",
   "execution_count": 8,
   "outputs": [],
   "source": [
    "# Filter out emails from the days\n",
    "emails_day1 = emails[emails['Date'] == datetime.date(2014, 1, 6)]\n",
    "emails_day2 = emails[emails['Date'] == datetime.date(2014, 1, 7)]\n",
    "emails_day3 = emails[emails['Date'] == datetime.date(2014, 1, 8)]\n",
    "emails_day4 = emails[emails['Date'] == datetime.date(2014, 1, 9)]\n",
    "emails_day5 = emails[emails['Date'] == datetime.date(2014, 1, 10)]\n",
    "emails_day6 = emails[emails['Date'] == datetime.date(2014, 1, 13)]\n",
    "emails_day7 = emails[emails['Date'] == datetime.date(2014, 1, 14)]\n",
    "emails_day8 = emails[emails['Date'] == datetime.date(2014, 1, 15)]\n",
    "emails_day9 = emails[emails['Date'] == datetime.date(2014, 1, 16)]\n",
    "emails_day10 = emails[emails['Date'] == datetime.date(2014, 1, 17)]"
   ],
   "metadata": {
    "collapsed": false,
    "pycharm": {
     "name": "#%%\n"
    }
   }
  },
  {
   "cell_type": "code",
   "execution_count": 9,
   "outputs": [],
   "source": [
    "create_json(emails_day1, records, 1)\n",
    "create_json(emails_day2, records, 2)\n",
    "create_json(emails_day3, records, 3)\n",
    "create_json(emails_day4, records, 4)\n",
    "create_json(emails_day5, records, 5)\n",
    "create_json(emails_day6, records, 6)\n",
    "create_json(emails_day7, records, 7)\n",
    "create_json(emails_day8, records, 8)\n",
    "create_json(emails_day9, records, 9)\n",
    "create_json(emails_day10, records, 10)"
   ],
   "metadata": {
    "collapsed": false,
    "pycharm": {
     "name": "#%%\n"
    }
   }
  },
  {
   "cell_type": "code",
   "execution_count": 10,
   "outputs": [],
   "source": [
    "app = dash.Dash(__name__)\n",
    "\n",
    "with open('network_data_day1.json', 'r') as f:\n",
    "    data_day1 = json.load(f)\n",
    "with open('network_data_day2.json', 'r') as f:\n",
    "    data_day2 = json.load(f)\n",
    "with open('network_data_day3.json', 'r') as f:\n",
    "    data_day3 = json.load(f)\n",
    "with open('network_data_day4.json', 'r') as f:\n",
    "    data_day4 = json.load(f)\n",
    "with open('network_data_day5.json', 'r') as f:\n",
    "    data_day5 = json.load(f)\n",
    "with open('network_data_day6.json', 'r') as f:\n",
    "    data_day6 = json.load(f)\n",
    "with open('network_data_day7.json', 'r') as f:\n",
    "    data_day7 = json.load(f)\n",
    "with open('network_data_day8.json', 'r') as f:\n",
    "    data_day8 = json.load(f)\n",
    "with open('network_data_day9.json', 'r') as f:\n",
    "    data_day9 = json.load(f)\n",
    "with open('network_data_day10.json', 'r') as f:\n",
    "    data_day10 = json.load(f)\n",
    "\n",
    "# Set the colorscale to extract colors for the network graph from\n",
    "colors = px.colors.qualitative.Set3\n",
    "# Import the legend image and encode it\n",
    "image_filename = 'network_legend.PNG'\n",
    "encoded_image = base64.b64encode(open(image_filename, 'rb').read())"
   ],
   "metadata": {
    "collapsed": false,
    "pycharm": {
     "name": "#%%\n"
    }
   }
  },
  {
   "cell_type": "code",
   "execution_count": 11,
   "outputs": [],
   "source": [
    "stylesheet = [\n",
    "    {\n",
    "        'selector': 'node',\n",
    "        'style': {\n",
    "            'label': 'data(label)'\n",
    "        }\n",
    "    },\n",
    "    {\n",
    "        'selector': 'edge', # Add a toggle to turn on edge directions\n",
    "        'style': {\n",
    "            'mid-target-arrow-color': '#C5D3E2',\n",
    "            'mid-target-arrow-shape': 'triangle',\n",
    "            'arrow-scale': 2\n",
    "        }\n",
    "    },\n",
    "    {\n",
    "        'selector': '[weight > 3]',\n",
    "        'style': {\n",
    "            'line-color': 'red'\n",
    "        }\n",
    "    },\n",
    "    {\n",
    "        'selector': '.Information',\n",
    "        'style': {\n",
    "            'background-color': colors[0]\n",
    "        }\n",
    "    }\n",
    "    ,\n",
    "    {\n",
    "        'selector': '.Executive',\n",
    "        'style': {\n",
    "            'background-color': colors[1]\n",
    "        }\n",
    "    },\n",
    "    {\n",
    "        'selector': '.Engineering',\n",
    "        'style': {\n",
    "            'background-color': colors[2]\n",
    "        }\n",
    "    },\n",
    "    {\n",
    "        'selector': '.Security',\n",
    "        'style': {\n",
    "            'background-color': colors[3]\n",
    "        }\n",
    "    },\n",
    "    {\n",
    "        'selector': '.Facilities',\n",
    "        'style': {\n",
    "            'background-color': colors[4]\n",
    "        }\n",
    "    },\n",
    "    {\n",
    "        'selector': '.Administration',\n",
    "        'style': {\n",
    "            'background-color': colors[5]\n",
    "        }\n",
    "    }\n",
    "]"
   ],
   "metadata": {
    "collapsed": false,
    "pycharm": {
     "name": "#%%\n"
    }
   }
  },
  {
   "cell_type": "code",
   "execution_count": 12,
   "outputs": [],
   "source": [
    "app.layout = html.Div([\n",
    "    html.Div([\n",
    "        html.Div([\n",
    "            html.Label(['Select a part of the day to filter'],\n",
    "                       style={'font-weight': 'bold', 'text-align': 'center', 'font-size': '22px'}),\n",
    "            dcc.RadioItems(\n",
    "                id='my-radio',\n",
    "                options=[{'label': 'Morning', 'value': 'morning'},\n",
    "                         {'label': 'Afternoon', 'value': 'afternoon'},\n",
    "                         {'label': 'Evening', 'value': 'evening'}]\n",
    "            )\n",
    "        ], style={'padding': 10, 'flex': 1}),\n",
    "        html.Div([\n",
    "            html.Label(['Select department(s) to display'],\n",
    "                       style={'font-weight': 'bold', 'text-align': 'center', 'font-size': '22px'}),\n",
    "            dcc.Checklist(\n",
    "                id='my-checklist',\n",
    "                options=[{'label': 'Administration', 'value': 'Administration'},\n",
    "                         {'label': 'Engineering', 'value': 'Engineering'},\n",
    "                         {'label': 'Executive', 'value': 'Executive'},\n",
    "                         {'label': 'Facilities', 'value': 'Facilities'},\n",
    "                         {'label': 'Information Technology', 'value': 'Information Technology'},\n",
    "                         {'label': 'Security', 'value': 'Security'}],\n",
    "                value=['Administration', 'Engineering', 'Executive', 'Facilities', 'Information Technology', 'Security'],\n",
    "                labelStyle={'display': 'inline-block'}\n",
    "            ),\n",
    "            html.Img(src='data:image/png;base64,{}'.format(encoded_image.decode()),\n",
    "                     style={'width': '87%'})\n",
    "        ], style={'padding': 10, 'flex': 1})\n",
    "    ], style={'display': 'flex', 'flex-direction': 'row'}),\n",
    "    html.Div([\n",
    "        html.Label(['2014-01-06'],\n",
    "                   style={'font-weight': 'bold', 'text-align': 'center', 'font-size': '22px',\n",
    "                          'width': '20%', 'display': 'inline-block'}),\n",
    "        html.Label(['2014-01-07'],\n",
    "                   style={'font-weight': 'bold', 'text-align': 'center', 'font-size': '22px',\n",
    "                          'width': '20%', 'display': 'inline-block'}),\n",
    "        html.Label(['2014-01-08'],\n",
    "                   style={'font-weight': 'bold', 'text-align': 'center', 'font-size': '22px',\n",
    "                          'width': '20%', 'display': 'inline-block'}),\n",
    "        html.Label(['2014-01-09'],\n",
    "                   style={'font-weight': 'bold', 'text-align': 'center', 'font-size': '22px',\n",
    "                          'width': '20%', 'display': 'inline-block'}),\n",
    "        html.Label(['2014-01-10'],\n",
    "                   style={'font-weight': 'bold', 'text-align': 'center', 'font-size': '22px',\n",
    "                          'width': '20%', 'display': 'inline-block'})\n",
    "    ]),\n",
    "    html.Div([\n",
    "        cyto.Cytoscape(\n",
    "            id='cytoscape-v1',\n",
    "            layout={'name': 'circle'},\n",
    "            style={'width': '20%', 'height': '300px', 'display': 'inline-block'},\n",
    "            elements=data_day1,\n",
    "            stylesheet=stylesheet\n",
    "        ),\n",
    "        cyto.Cytoscape(\n",
    "            id='cytoscape-v2',\n",
    "            layout={'name': 'circle'},\n",
    "            style={'width': '20%', 'height': '300px', 'display': 'inline-block'},\n",
    "            elements=data_day2,\n",
    "            stylesheet=stylesheet\n",
    "        ),\n",
    "        cyto.Cytoscape(\n",
    "            id='cytoscape-v3',\n",
    "            layout={'name': 'circle'},\n",
    "            style={'width': '20%', 'height': '300px', 'display': 'inline-block'},\n",
    "            elements=data_day3,\n",
    "            stylesheet=stylesheet\n",
    "        ),\n",
    "        cyto.Cytoscape(\n",
    "            id='cytoscape-v4',\n",
    "            layout={'name': 'circle'},\n",
    "            style={'width': '20%', 'height': '300px', 'display': 'inline-block'},\n",
    "            elements=data_day4,\n",
    "            stylesheet=stylesheet\n",
    "        ),\n",
    "        cyto.Cytoscape(\n",
    "            id='cytoscape-v5',\n",
    "            layout={'name': 'circle'},\n",
    "            style={'width': '20%', 'height': '300px', 'display': 'inline-block'},\n",
    "            elements=data_day5,\n",
    "            stylesheet=stylesheet\n",
    "        )\n",
    "    ]),\n",
    "    html.Div([\n",
    "        html.P(id='tapNodeData-cyto-v1',\n",
    "               style={'width': '20%', 'display': 'inline-block'}),\n",
    "        html.P(id='tapNodeData-cyto-v2',\n",
    "               style={'width': '20%', 'display': 'inline-block'}),\n",
    "        html.P(id='tapNodeData-cyto-v3',\n",
    "               style={'width': '20%', 'display': 'inline-block'}),\n",
    "        html.P(id='tapNodeData-cyto-v4',\n",
    "               style={'width': '20%', 'display': 'inline-block'}),\n",
    "        html.P(id='tapNodeData-cyto-v5',\n",
    "               style={'width': '20%', 'display': 'inline-block'})\n",
    "    ]),\n",
    "    html.Div([\n",
    "        html.Label(['2014-01-13'],\n",
    "                   style={'font-weight': 'bold', 'text-align': 'center', 'font-size': '22px',\n",
    "                          'width': '20%', 'display': 'inline-block'}),\n",
    "        html.Label(['2014-01-14'],\n",
    "                   style={'font-weight': 'bold', 'text-align': 'center', 'font-size': '22px',\n",
    "                          'width': '20%', 'display': 'inline-block'}),\n",
    "        html.Label(['2014-01-15'],\n",
    "                   style={'font-weight': 'bold', 'text-align': 'center', 'font-size': '22px',\n",
    "                          'width': '20%', 'display': 'inline-block'}),\n",
    "        html.Label(['2014-01-16'],\n",
    "                   style={'font-weight': 'bold', 'text-align': 'center', 'font-size': '22px',\n",
    "                          'width': '20%', 'display': 'inline-block'}),\n",
    "        html.Label(['2014-01-17'],\n",
    "                   style={'font-weight': 'bold', 'text-align': 'center', 'font-size': '22px',\n",
    "                          'width': '20%', 'display': 'inline-block'}),\n",
    "    ]),\n",
    "    html.Div([\n",
    "        cyto.Cytoscape(\n",
    "            id='cytoscape-v6',\n",
    "            layout={'name': 'circle'},\n",
    "            style={'width': '20%', 'height': '300px', 'display': 'inline-block'},\n",
    "            elements=data_day6,\n",
    "            stylesheet=stylesheet\n",
    "        ),\n",
    "        cyto.Cytoscape(\n",
    "            id='cytoscape-v7',\n",
    "            layout={'name': 'circle'},\n",
    "            style={'width': '20%', 'height': '300px', 'display': 'inline-block'},\n",
    "            elements=data_day7,\n",
    "            stylesheet=stylesheet\n",
    "        ),\n",
    "        cyto.Cytoscape(\n",
    "            id='cytoscape-v8',\n",
    "            layout={'name': 'circle'},\n",
    "            style={'width': '20%', 'height': '300px', 'display': 'inline-block'},\n",
    "            elements=data_day8,\n",
    "            stylesheet=stylesheet\n",
    "        ),\n",
    "        cyto.Cytoscape(\n",
    "            id='cytoscape-v9',\n",
    "            layout={'name': 'circle'},\n",
    "            style={'width': '20%', 'height': '300px', 'display': 'inline-block'},\n",
    "            elements=data_day9,\n",
    "            stylesheet=stylesheet\n",
    "        ),\n",
    "        cyto.Cytoscape(\n",
    "            id='cytoscape-v10',\n",
    "            layout={'name': 'circle'},\n",
    "            style={'width': '20%', 'height': '300px', 'display': 'inline-block'},\n",
    "            elements=data_day10,\n",
    "            stylesheet=stylesheet\n",
    "        )\n",
    "    ]),\n",
    "    html.Div([\n",
    "        html.P(id='tapNodeData-cyto-v6',\n",
    "               style={'width': '20%', 'display': 'inline-block'}),\n",
    "        html.P(id='tapNodeData-cyto-v7',\n",
    "               style={'width': '20%', 'display': 'inline-block'}),\n",
    "        html.P(id='tapNodeData-cyto-v8',\n",
    "               style={'width': '20%', 'display': 'inline-block'}),\n",
    "        html.P(id='tapNodeData-cyto-v9',\n",
    "               style={'width': '20%', 'display': 'inline-block'}),\n",
    "        html.P(id='tapNodeData-cyto-v10',\n",
    "               style={'width': '20%', 'display': 'inline-block'})\n",
    "    ])\n",
    "])"
   ],
   "metadata": {
    "collapsed": false,
    "pycharm": {
     "name": "#%%\n"
    }
   }
  },
  {
   "cell_type": "code",
   "execution_count": 13,
   "outputs": [],
   "source": [
    "@app.callback(\n",
    "    [dash.dependencies.Output(component_id='cytoscape-v1', component_property='elements'),\n",
    "     dash.dependencies.Output(component_id='cytoscape-v2', component_property='elements'),\n",
    "     dash.dependencies.Output(component_id='cytoscape-v3', component_property='elements'),\n",
    "     dash.dependencies.Output(component_id='cytoscape-v4', component_property='elements'),\n",
    "     dash.dependencies.Output(component_id='cytoscape-v5', component_property='elements'),\n",
    "     dash.dependencies.Output(component_id='cytoscape-v6', component_property='elements'),\n",
    "     dash.dependencies.Output(component_id='cytoscape-v7', component_property='elements'),\n",
    "     dash.dependencies.Output(component_id='cytoscape-v8', component_property='elements'),\n",
    "     dash.dependencies.Output(component_id='cytoscape-v9', component_property='elements'),\n",
    "     dash.dependencies.Output(component_id='cytoscape-v10', component_property='elements')],\n",
    "    [dash.dependencies.Input(component_id='my-radio', component_property='value'),\n",
    "     dash.dependencies.Input(component_id='my-checklist', component_property='value')])\n",
    "\n",
    "def update_output(radio_value, checklist_values):\n",
    "\n",
    "    emails_day1 = emails[emails['Date'] == datetime.date(2014, 1, 6)]\n",
    "    emails_day2 = emails[emails['Date'] == datetime.date(2014, 1, 7)]\n",
    "    emails_day3 = emails[emails['Date'] == datetime.date(2014, 1, 8)]\n",
    "    emails_day4 = emails[emails['Date'] == datetime.date(2014, 1, 9)]\n",
    "    emails_day5 = emails[emails['Date'] == datetime.date(2014, 1, 10)]\n",
    "    emails_day6 = emails[emails['Date'] == datetime.date(2014, 1, 13)]\n",
    "    emails_day7 = emails[emails['Date'] == datetime.date(2014, 1, 14)]\n",
    "    emails_day8 = emails[emails['Date'] == datetime.date(2014, 1, 15)]\n",
    "    emails_day9 = emails[emails['Date'] == datetime.date(2014, 1, 16)]\n",
    "    emails_day10 = emails[emails['Date'] == datetime.date(2014, 1, 17)]\n",
    "\n",
    "    if radio_value == 'morning':\n",
    "        emails_day1 = emails_day1[emails_day1['Time'] <= datetime.time(12, 0, 0)]\n",
    "        emails_day2 = emails_day2[emails_day2['Time'] <= datetime.time(12, 0, 0)]\n",
    "        emails_day3 = emails_day3[emails_day3['Time'] <= datetime.time(12, 0, 0)]\n",
    "        emails_day4 = emails_day4[emails_day4['Time'] <= datetime.time(12, 0, 0)]\n",
    "        emails_day5 = emails_day5[emails_day5['Time'] <= datetime.time(12, 0, 0)]\n",
    "        emails_day6 = emails_day6[emails_day6['Time'] <= datetime.time(12, 0, 0)]\n",
    "        emails_day7 = emails_day7[emails_day7['Time'] <= datetime.time(12, 0, 0)]\n",
    "        emails_day8 = emails_day8[emails_day8['Time'] <= datetime.time(12, 0, 0)]\n",
    "        emails_day9 = emails_day9[emails_day9['Time'] <= datetime.time(12, 0, 0)]\n",
    "        emails_day10 = emails_day10[emails_day10['Time'] <= datetime.time(12, 0, 0)]\n",
    "\n",
    "    if radio_value == 'afternoon':\n",
    "        emails_day1 = emails_day1[(emails_day1['Time'] > datetime.time(12, 0, 0)) & (emails_day1['Time'] <= datetime.time(18, 0, 0))]\n",
    "        emails_day2 = emails_day2[(emails_day2['Time'] > datetime.time(12, 0, 0)) & (emails_day2['Time'] <= datetime.time(18, 0, 0))]\n",
    "        emails_day3 = emails_day3[(emails_day3['Time'] > datetime.time(12, 0, 0)) & (emails_day3['Time'] <= datetime.time(18, 0, 0))]\n",
    "        emails_day4 = emails_day4[(emails_day4['Time'] > datetime.time(12, 0, 0)) & (emails_day4['Time'] <= datetime.time(18, 0, 0))]\n",
    "        emails_day5 = emails_day5[(emails_day5['Time'] > datetime.time(12, 0, 0)) & (emails_day5['Time'] <= datetime.time(18, 0, 0))]\n",
    "        emails_day6 = emails_day6[(emails_day6['Time'] > datetime.time(12, 0, 0)) & (emails_day6['Time'] <= datetime.time(18, 0, 0))]\n",
    "        emails_day7 = emails_day7[(emails_day7['Time'] > datetime.time(12, 0, 0)) & (emails_day7['Time'] <= datetime.time(18, 0, 0))]\n",
    "        emails_day8 = emails_day8[(emails_day8['Time'] > datetime.time(12, 0, 0)) & (emails_day8['Time'] <= datetime.time(18, 0, 0))]\n",
    "        emails_day9 = emails_day9[(emails_day9['Time'] > datetime.time(12, 0, 0)) & (emails_day9['Time'] <= datetime.time(18, 0, 0))]\n",
    "        emails_day10 = emails_day10[(emails_day10['Time'] > datetime.time(12, 0, 0)) & (emails_day10['Time'] <= datetime.time(18, 0, 0))]\n",
    "\n",
    "    if radio_value == 'evening':\n",
    "        emails_day1 = emails_day1[emails_day1['Time'] > datetime.time(18, 0, 0)]\n",
    "        emails_day2 = emails_day2[emails_day2['Time'] > datetime.time(18, 0, 0)]\n",
    "        emails_day3 = emails_day3[emails_day3['Time'] > datetime.time(18, 0, 0)]\n",
    "        emails_day4 = emails_day4[emails_day4['Time'] > datetime.time(18, 0, 0)]\n",
    "        emails_day5 = emails_day5[emails_day5['Time'] > datetime.time(18, 0, 0)]\n",
    "        emails_day6 = emails_day6[emails_day6['Time'] > datetime.time(18, 0, 0)]\n",
    "        emails_day7 = emails_day7[emails_day7['Time'] > datetime.time(18, 0, 0)]\n",
    "        emails_day8 = emails_day8[emails_day8['Time'] > datetime.time(18, 0, 0)]\n",
    "        emails_day9 = emails_day9[emails_day9['Time'] > datetime.time(18, 0, 0)]\n",
    "        emails_day10 = emails_day10[emails_day10['Time'] > datetime.time(18, 0, 0)]\n",
    "\n",
    "    try:\n",
    "        create_json(emails_day1, records, 1, checklist_values)\n",
    "        with open('network_data_day1.json', 'r') as f:\n",
    "            elements_day1 = json.load(f)\n",
    "    except:\n",
    "        elements_day1 = [{'data': {'id': 'one', 'label': 'Nothing to display'}}]\n",
    "    try:\n",
    "        create_json(emails_day2, records, 2, checklist_values)\n",
    "        with open('network_data_day2.json', 'r') as f:\n",
    "            elements_day2 = json.load(f)\n",
    "    except:\n",
    "        elements_day2 = [{'data': {'id': 'one', 'label': 'Nothing to display'}}]\n",
    "    try:\n",
    "        create_json(emails_day3, records, 3, checklist_values)\n",
    "        with open('network_data_day3.json', 'r') as f:\n",
    "            elements_day3 = json.load(f)\n",
    "    except:\n",
    "        elements_day3 = [{'data': {'id': 'one', 'label': 'Nothing to display'}}]\n",
    "    try:\n",
    "        create_json(emails_day4, records, 4, checklist_values)\n",
    "        with open('network_data_day4.json', 'r') as f:\n",
    "            elements_day4 = json.load(f)\n",
    "    except:\n",
    "        elements_day4 = [{'data': {'id': 'one', 'label': 'Nothing to display'}}]\n",
    "    try:\n",
    "        create_json(emails_day5, records, 5, checklist_values)\n",
    "        with open('network_data_day5.json', 'r') as f:\n",
    "            elements_day5 = json.load(f)\n",
    "    except:\n",
    "        elements_day5 = [{'data': {'id': 'one', 'label': 'Nothing to display'}}]\n",
    "    try:\n",
    "        create_json(emails_day6, records, 6, checklist_values)\n",
    "        with open('network_data_day6.json', 'r') as f:\n",
    "            elements_day6 = json.load(f)\n",
    "    except:\n",
    "        elements_day6 = [{'data': {'id': 'one', 'label': 'Nothing to display'}}]\n",
    "    try:\n",
    "        create_json(emails_day7, records, 7, checklist_values)\n",
    "        with open('network_data_day7.json', 'r') as f:\n",
    "            elements_day7 = json.load(f)\n",
    "    except:\n",
    "        elements_day7 = [{'data': {'id': 'one', 'label': 'Nothing to display'}}]\n",
    "    try:\n",
    "        create_json(emails_day8, records, 8, checklist_values)\n",
    "        with open('network_data_day8.json', 'r') as f:\n",
    "            elements_day8 = json.load(f)\n",
    "    except:\n",
    "        elements_day8 = [{'data': {'id': 'one', 'label': 'Nothing to display'}}]\n",
    "    try:\n",
    "        create_json(emails_day9, records, 9, checklist_values)\n",
    "        with open('network_data_day9.json', 'r') as f:\n",
    "            elements_day9 = json.load(f)\n",
    "    except:\n",
    "        elements_day9 = [{'data': {'id': 'one', 'label': 'Nothing to display'}}]\n",
    "    try:\n",
    "        create_json(emails_day10, records, 10, checklist_values)\n",
    "        with open('network_data_day10.json', 'r') as f:\n",
    "            elements_day10 = json.load(f)\n",
    "    except:\n",
    "        elements_day10 = [{'data': {'id': 'one', 'label': 'Nothing to display'}}]\n",
    "\n",
    "    return elements_day1, elements_day2, elements_day3, elements_day4, elements_day5, elements_day6, elements_day7, elements_day8, elements_day9, elements_day10"
   ],
   "metadata": {
    "collapsed": false,
    "pycharm": {
     "name": "#%%\n"
    }
   }
  },
  {
   "cell_type": "code",
   "execution_count": 14,
   "outputs": [],
   "source": [
    "@app.callback(\n",
    "    dash.dependencies.Output(component_id='tapNodeData-cyto-v1', component_property='children'),\n",
    "    [dash.dependencies.Input(component_id='cytoscape-v1', component_property='tapNodeData')]\n",
    ")\n",
    "\n",
    "def displayTap_v1(data):\n",
    "    email = data['id']\n",
    "    record = records[records['EmailAddress'] == email].reset_index()\n",
    "\n",
    "    return \"Name: \" + data['label'] + ', Mail:' + email + ', Country: ' + record['CitizenshipCountry'][0] + ', Military: ' + record['MilitaryServiceBranch'][0]"
   ],
   "metadata": {
    "collapsed": false,
    "pycharm": {
     "name": "#%%\n"
    }
   }
  },
  {
   "cell_type": "code",
   "execution_count": 15,
   "outputs": [],
   "source": [
    "@app.callback(\n",
    "    dash.dependencies.Output(component_id='tapNodeData-cyto-v2', component_property='children'),\n",
    "    [dash.dependencies.Input(component_id='cytoscape-v2', component_property='tapNodeData')]\n",
    ")\n",
    "\n",
    "def displayTap_v2(data):\n",
    "    email = data['id']\n",
    "    record = records[records['EmailAddress'] == email].reset_index()\n",
    "\n",
    "    return \"Name: \" + data['label'] + ', Email:' + email + ', Country: ' + record['CitizenshipCountry'][0] + ', Military: ' + record['MilitaryServiceBranch'][0]"
   ],
   "metadata": {
    "collapsed": false,
    "pycharm": {
     "name": "#%%\n"
    }
   }
  },
  {
   "cell_type": "code",
   "execution_count": 16,
   "outputs": [],
   "source": [
    "@app.callback(\n",
    "    dash.dependencies.Output(component_id='tapNodeData-cyto-v3', component_property='children'),\n",
    "    [dash.dependencies.Input(component_id='cytoscape-v3', component_property='tapNodeData')]\n",
    ")\n",
    "\n",
    "def displayTap_v3(data):\n",
    "    email = data['id']\n",
    "    record = records[records['EmailAddress'] == email].reset_index()\n",
    "\n",
    "    return \"Name: \" + data['label'] + ', Email:' + email + ', Country: ' + record['CitizenshipCountry'][0] + ', Military: ' + record['MilitaryServiceBranch'][0]"
   ],
   "metadata": {
    "collapsed": false,
    "pycharm": {
     "name": "#%%\n"
    }
   }
  },
  {
   "cell_type": "code",
   "execution_count": 17,
   "outputs": [],
   "source": [
    "@app.callback(\n",
    "    dash.dependencies.Output(component_id='tapNodeData-cyto-v4', component_property='children'),\n",
    "    [dash.dependencies.Input(component_id='cytoscape-v4', component_property='tapNodeData')]\n",
    ")\n",
    "\n",
    "def displayTap_v4(data):\n",
    "    email = data['id']\n",
    "    record = records[records['EmailAddress'] == email].reset_index()\n",
    "\n",
    "    return \"Name: \" + data['label'] + ', Email:' + email + ', Country: ' + record['CitizenshipCountry'][0] + ', Military: ' + record['MilitaryServiceBranch'][0]"
   ],
   "metadata": {
    "collapsed": false,
    "pycharm": {
     "name": "#%%\n"
    }
   }
  },
  {
   "cell_type": "code",
   "execution_count": 18,
   "outputs": [],
   "source": [
    "@app.callback(\n",
    "    dash.dependencies.Output(component_id='tapNodeData-cyto-v5', component_property='children'),\n",
    "    [dash.dependencies.Input(component_id='cytoscape-v5', component_property='tapNodeData')]\n",
    ")\n",
    "\n",
    "def displayTap_v5(data):\n",
    "    email = data['id']\n",
    "    record = records[records['EmailAddress'] == email].reset_index()\n",
    "\n",
    "    return \"Name: \" + data['label'] + ', Email:' + email + ', Country: ' + record['CitizenshipCountry'][0] + ', Military: ' + record['MilitaryServiceBranch'][0]"
   ],
   "metadata": {
    "collapsed": false,
    "pycharm": {
     "name": "#%%\n"
    }
   }
  },
  {
   "cell_type": "code",
   "execution_count": 19,
   "outputs": [],
   "source": [
    "@app.callback(\n",
    "    dash.dependencies.Output(component_id='tapNodeData-cyto-v6', component_property='children'),\n",
    "    [dash.dependencies.Input(component_id='cytoscape-v6', component_property='tapNodeData')]\n",
    ")\n",
    "\n",
    "def displayTap_v6(data):\n",
    "    email = data['id']\n",
    "    record = records[records['EmailAddress'] == email].reset_index()\n",
    "\n",
    "    return \"Name: \" + data['label'] + ', Email:' + email + ', Country: ' + record['CitizenshipCountry'][0] + ', Military: ' + record['MilitaryServiceBranch'][0]"
   ],
   "metadata": {
    "collapsed": false,
    "pycharm": {
     "name": "#%%\n"
    }
   }
  },
  {
   "cell_type": "code",
   "execution_count": 20,
   "outputs": [],
   "source": [
    "@app.callback(\n",
    "    dash.dependencies.Output(component_id='tapNodeData-cyto-v7', component_property='children'),\n",
    "    [dash.dependencies.Input(component_id='cytoscape-v7', component_property='tapNodeData')]\n",
    ")\n",
    "\n",
    "def displayTap_v7(data):\n",
    "    email = data['id']\n",
    "    record = records[records['EmailAddress'] == email].reset_index()\n",
    "\n",
    "    return \"Name: \" + data['label'] + ', Email:' + email + ', Country: ' + record['CitizenshipCountry'][0] + ', Military: ' + record['MilitaryServiceBranch'][0]"
   ],
   "metadata": {
    "collapsed": false,
    "pycharm": {
     "name": "#%%\n"
    }
   }
  },
  {
   "cell_type": "code",
   "execution_count": 21,
   "outputs": [],
   "source": [
    "@app.callback(\n",
    "    dash.dependencies.Output(component_id='tapNodeData-cyto-v8', component_property='children'),\n",
    "    [dash.dependencies.Input(component_id='cytoscape-v8', component_property='tapNodeData')]\n",
    ")\n",
    "\n",
    "def displayTap_v8(data):\n",
    "    email = data['id']\n",
    "    record = records[records['EmailAddress'] == email].reset_index()\n",
    "\n",
    "    return \"Name: \" + data['label'] + ', Email:' + email + ', Country: ' + record['CitizenshipCountry'][0] + ', Military: ' + record['MilitaryServiceBranch'][0]"
   ],
   "metadata": {
    "collapsed": false,
    "pycharm": {
     "name": "#%%\n"
    }
   }
  },
  {
   "cell_type": "code",
   "execution_count": 22,
   "outputs": [],
   "source": [
    "@app.callback(\n",
    "    dash.dependencies.Output(component_id='tapNodeData-cyto-v9', component_property='children'),\n",
    "    [dash.dependencies.Input(component_id='cytoscape-v9', component_property='tapNodeData')]\n",
    ")\n",
    "\n",
    "def displayTap_v9(data):\n",
    "    email = data['id']\n",
    "    record = records[records['EmailAddress'] == email].reset_index()\n",
    "\n",
    "    return \"Name: \" + data['label'] + ', Email:' + email + ', Country: ' + record['CitizenshipCountry'][0] + ', Military: ' + record['MilitaryServiceBranch'][0]"
   ],
   "metadata": {
    "collapsed": false,
    "pycharm": {
     "name": "#%%\n"
    }
   }
  },
  {
   "cell_type": "code",
   "execution_count": 23,
   "outputs": [],
   "source": [
    "@app.callback(\n",
    "    dash.dependencies.Output(component_id='tapNodeData-cyto-v10', component_property='children'),\n",
    "    [dash.dependencies.Input(component_id='cytoscape-v10', component_property='tapNodeData')]\n",
    ")\n",
    "\n",
    "def displayTap_v10(data):\n",
    "    email = data['id']\n",
    "    record = records[records['EmailAddress'] == email].reset_index()\n",
    "\n",
    "    return \"Name: \" + data['label'] + ', Email:' + email + ', Country: ' + record['CitizenshipCountry'][0] + ', Military: ' + record['MilitaryServiceBranch'][0]"
   ],
   "metadata": {
    "collapsed": false,
    "pycharm": {
     "name": "#%%\n"
    }
   }
  },
  {
   "cell_type": "code",
   "execution_count": 25,
   "outputs": [
    {
     "name": "stdout",
     "output_type": "stream",
     "text": [
      "Dash is running on http://127.0.0.1:8050/\n",
      "\n",
      " * Serving Flask app \"__main__\" (lazy loading)\n",
      " * Environment: production\n",
      "\u001B[31m   WARNING: This is a development server. Do not use it in a production deployment.\u001B[0m\n",
      "\u001B[2m   Use a production WSGI server instead.\u001B[0m\n",
      " * Debug mode: on\n"
     ]
    }
   ],
   "source": [
    "app.run_server(debug=True, use_reloader=False)"
   ],
   "metadata": {
    "collapsed": false,
    "pycharm": {
     "name": "#%%\n"
    }
   }
  },
  {
   "cell_type": "markdown",
   "source": [
    "Next steps:\n",
    "- Add other days as well.\n",
    "- Add checkboxes to select departments.\n",
    "- Add radioitems (or maybe checkboxes?) to select on graph bigger.\n",
    "- On click, remove a node and it's edges."
   ],
   "metadata": {
    "collapsed": false
   }
  }
 ],
 "metadata": {
  "kernelspec": {
   "display_name": "Python 3",
   "language": "python",
   "name": "python3"
  },
  "language_info": {
   "codemirror_mode": {
    "name": "ipython",
    "version": 2
   },
   "file_extension": ".py",
   "mimetype": "text/x-python",
   "name": "python",
   "nbconvert_exporter": "python",
   "pygments_lexer": "ipython2",
   "version": "2.7.6"
  }
 },
 "nbformat": 4,
 "nbformat_minor": 0
}