{
 "cells": [
  {
   "cell_type": "code",
   "execution_count": 1,
   "outputs": [],
   "source": [
    "import dash\n",
    "import dash_cytoscape as cyto\n",
    "import dash_html_components as html\n",
    "import dash_core_components as dcc\n",
    "import pandas as pd\n",
    "import json\n",
    "import datetime"
   ],
   "metadata": {
    "collapsed": false,
    "pycharm": {
     "name": "#%%\n"
    }
   }
  },
  {
   "cell_type": "code",
   "execution_count": 2,
   "outputs": [
    {
     "data": {
      "text/plain": "                                From  \\\n0     Sven.Flecha@gastech.com.kronos   \n1   Kanon.Herrero@gastech.com.kronos   \n2   Bertrand.Ovan@gastech.com.kronos   \n3  Valeria.Morlun@gastech.com.kronos   \n4      Mat.Bramar@gastech.com.kronos   \n\n                                                  To           Date  \\\n0  Isak.Baza@gastech.com.kronos, Lucas.Alcazar@ga...  1/6/2014 8:39   \n1  Felix.Resumir@gastech.com.kronos, Hideki.Cocin...  1/6/2014 8:58   \n2  Emile.Arpa@gastech.com.kronos, Varro.Awelon@ga...  1/6/2014 9:28   \n3  Dante.Coginian@gastech.com.kronos, Albina.Hafo...  1/6/2014 9:38   \n4  Rachel.Pantanal@gastech.com.kronos, Lars.Azada...  1/6/2014 9:49   \n\n                                         Subject  \n0              GT-SeismicProcessorPro Bug Report  \n1                    Inspection request for site  \n2  New refueling policies - Effective February 1  \n3                Route suggestion for next shift  \n4                             Upcoming birthdays  ",
      "text/html": "<div>\n<style scoped>\n    .dataframe tbody tr th:only-of-type {\n        vertical-align: middle;\n    }\n\n    .dataframe tbody tr th {\n        vertical-align: top;\n    }\n\n    .dataframe thead th {\n        text-align: right;\n    }\n</style>\n<table border=\"1\" class=\"dataframe\">\n  <thead>\n    <tr style=\"text-align: right;\">\n      <th></th>\n      <th>From</th>\n      <th>To</th>\n      <th>Date</th>\n      <th>Subject</th>\n    </tr>\n  </thead>\n  <tbody>\n    <tr>\n      <th>0</th>\n      <td>Sven.Flecha@gastech.com.kronos</td>\n      <td>Isak.Baza@gastech.com.kronos, Lucas.Alcazar@ga...</td>\n      <td>1/6/2014 8:39</td>\n      <td>GT-SeismicProcessorPro Bug Report</td>\n    </tr>\n    <tr>\n      <th>1</th>\n      <td>Kanon.Herrero@gastech.com.kronos</td>\n      <td>Felix.Resumir@gastech.com.kronos, Hideki.Cocin...</td>\n      <td>1/6/2014 8:58</td>\n      <td>Inspection request for site</td>\n    </tr>\n    <tr>\n      <th>2</th>\n      <td>Bertrand.Ovan@gastech.com.kronos</td>\n      <td>Emile.Arpa@gastech.com.kronos, Varro.Awelon@ga...</td>\n      <td>1/6/2014 9:28</td>\n      <td>New refueling policies - Effective February 1</td>\n    </tr>\n    <tr>\n      <th>3</th>\n      <td>Valeria.Morlun@gastech.com.kronos</td>\n      <td>Dante.Coginian@gastech.com.kronos, Albina.Hafo...</td>\n      <td>1/6/2014 9:38</td>\n      <td>Route suggestion for next shift</td>\n    </tr>\n    <tr>\n      <th>4</th>\n      <td>Mat.Bramar@gastech.com.kronos</td>\n      <td>Rachel.Pantanal@gastech.com.kronos, Lars.Azada...</td>\n      <td>1/6/2014 9:49</td>\n      <td>Upcoming birthdays</td>\n    </tr>\n  </tbody>\n</table>\n</div>"
     },
     "execution_count": 2,
     "metadata": {},
     "output_type": "execute_result"
    }
   ],
   "source": [
    "emails = pd.read_csv('email headers.csv', encoding='cp1252')\n",
    "emails.head()"
   ],
   "metadata": {
    "collapsed": false,
    "pycharm": {
     "name": "#%%\n"
    }
   }
  },
  {
   "cell_type": "code",
   "execution_count": 3,
   "outputs": [
    {
     "data": {
      "text/plain": "                                  From                                    To  \\\n0       Sven.Flecha@gastech.com.kronos          Isak.Baza@gastech.com.kronos   \n0       Sven.Flecha@gastech.com.kronos      Lucas.Alcazar@gastech.com.kronos   \n1     Kanon.Herrero@gastech.com.kronos      Felix.Resumir@gastech.com.kronos   \n1     Kanon.Herrero@gastech.com.kronos    Hideki.Cocinaro@gastech.com.kronos   \n1     Kanon.Herrero@gastech.com.kronos         Inga.Ferro@gastech.com.kronos   \n...                                ...                                   ...   \n1169   Albina.Hafon@gastech.com.kronos     Valeria.Morlun@gastech.com.kronos   \n1169   Albina.Hafon@gastech.com.kronos  Cecilia.Morluniau@gastech.com.kronos   \n1169   Albina.Hafon@gastech.com.kronos          Henk.Mies@gastech.com.kronos   \n1169   Albina.Hafon@gastech.com.kronos     Dylan.Scozzese@gastech.com.kronos   \n1169   Albina.Hafon@gastech.com.kronos     Benito.Hawelon@gastech.com.kronos   \n\n                 Date                            Subject  \n0       1/6/2014 8:39  GT-SeismicProcessorPro Bug Report  \n0       1/6/2014 8:39  GT-SeismicProcessorPro Bug Report  \n1       1/6/2014 8:58        Inspection request for site  \n1       1/6/2014 8:58        Inspection request for site  \n1       1/6/2014 8:58        Inspection request for site  \n...               ...                                ...  \n1169  1/17/2014 20:46     RE: Traffic advisory for today  \n1169  1/17/2014 20:46     RE: Traffic advisory for today  \n1169  1/17/2014 20:46     RE: Traffic advisory for today  \n1169  1/17/2014 20:46     RE: Traffic advisory for today  \n1169  1/17/2014 20:46     RE: Traffic advisory for today  \n\n[9063 rows x 4 columns]",
      "text/html": "<div>\n<style scoped>\n    .dataframe tbody tr th:only-of-type {\n        vertical-align: middle;\n    }\n\n    .dataframe tbody tr th {\n        vertical-align: top;\n    }\n\n    .dataframe thead th {\n        text-align: right;\n    }\n</style>\n<table border=\"1\" class=\"dataframe\">\n  <thead>\n    <tr style=\"text-align: right;\">\n      <th></th>\n      <th>From</th>\n      <th>To</th>\n      <th>Date</th>\n      <th>Subject</th>\n    </tr>\n  </thead>\n  <tbody>\n    <tr>\n      <th>0</th>\n      <td>Sven.Flecha@gastech.com.kronos</td>\n      <td>Isak.Baza@gastech.com.kronos</td>\n      <td>1/6/2014 8:39</td>\n      <td>GT-SeismicProcessorPro Bug Report</td>\n    </tr>\n    <tr>\n      <th>0</th>\n      <td>Sven.Flecha@gastech.com.kronos</td>\n      <td>Lucas.Alcazar@gastech.com.kronos</td>\n      <td>1/6/2014 8:39</td>\n      <td>GT-SeismicProcessorPro Bug Report</td>\n    </tr>\n    <tr>\n      <th>1</th>\n      <td>Kanon.Herrero@gastech.com.kronos</td>\n      <td>Felix.Resumir@gastech.com.kronos</td>\n      <td>1/6/2014 8:58</td>\n      <td>Inspection request for site</td>\n    </tr>\n    <tr>\n      <th>1</th>\n      <td>Kanon.Herrero@gastech.com.kronos</td>\n      <td>Hideki.Cocinaro@gastech.com.kronos</td>\n      <td>1/6/2014 8:58</td>\n      <td>Inspection request for site</td>\n    </tr>\n    <tr>\n      <th>1</th>\n      <td>Kanon.Herrero@gastech.com.kronos</td>\n      <td>Inga.Ferro@gastech.com.kronos</td>\n      <td>1/6/2014 8:58</td>\n      <td>Inspection request for site</td>\n    </tr>\n    <tr>\n      <th>...</th>\n      <td>...</td>\n      <td>...</td>\n      <td>...</td>\n      <td>...</td>\n    </tr>\n    <tr>\n      <th>1169</th>\n      <td>Albina.Hafon@gastech.com.kronos</td>\n      <td>Valeria.Morlun@gastech.com.kronos</td>\n      <td>1/17/2014 20:46</td>\n      <td>RE: Traffic advisory for today</td>\n    </tr>\n    <tr>\n      <th>1169</th>\n      <td>Albina.Hafon@gastech.com.kronos</td>\n      <td>Cecilia.Morluniau@gastech.com.kronos</td>\n      <td>1/17/2014 20:46</td>\n      <td>RE: Traffic advisory for today</td>\n    </tr>\n    <tr>\n      <th>1169</th>\n      <td>Albina.Hafon@gastech.com.kronos</td>\n      <td>Henk.Mies@gastech.com.kronos</td>\n      <td>1/17/2014 20:46</td>\n      <td>RE: Traffic advisory for today</td>\n    </tr>\n    <tr>\n      <th>1169</th>\n      <td>Albina.Hafon@gastech.com.kronos</td>\n      <td>Dylan.Scozzese@gastech.com.kronos</td>\n      <td>1/17/2014 20:46</td>\n      <td>RE: Traffic advisory for today</td>\n    </tr>\n    <tr>\n      <th>1169</th>\n      <td>Albina.Hafon@gastech.com.kronos</td>\n      <td>Benito.Hawelon@gastech.com.kronos</td>\n      <td>1/17/2014 20:46</td>\n      <td>RE: Traffic advisory for today</td>\n    </tr>\n  </tbody>\n</table>\n<p>9063 rows × 4 columns</p>\n</div>"
     },
     "execution_count": 3,
     "metadata": {},
     "output_type": "execute_result"
    }
   ],
   "source": [
    "# Split up multiple receivers to separate rows\n",
    "emails = emails.assign(To=emails.To.str.split(', '))\n",
    "emails = emails.explode('To')\n",
    "emails"
   ],
   "metadata": {
    "collapsed": false,
    "pycharm": {
     "name": "#%%\n"
    }
   }
  },
  {
   "cell_type": "code",
   "execution_count": 4,
   "outputs": [
    {
     "data": {
      "text/plain": "                                  From                                    To  \\\n0       Sven.Flecha@gastech.com.kronos          Isak.Baza@gastech.com.kronos   \n0       Sven.Flecha@gastech.com.kronos      Lucas.Alcazar@gastech.com.kronos   \n1     Kanon.Herrero@gastech.com.kronos      Felix.Resumir@gastech.com.kronos   \n1     Kanon.Herrero@gastech.com.kronos    Hideki.Cocinaro@gastech.com.kronos   \n1     Kanon.Herrero@gastech.com.kronos         Inga.Ferro@gastech.com.kronos   \n...                                ...                                   ...   \n1169   Albina.Hafon@gastech.com.kronos     Valeria.Morlun@gastech.com.kronos   \n1169   Albina.Hafon@gastech.com.kronos  Cecilia.Morluniau@gastech.com.kronos   \n1169   Albina.Hafon@gastech.com.kronos          Henk.Mies@gastech.com.kronos   \n1169   Albina.Hafon@gastech.com.kronos     Dylan.Scozzese@gastech.com.kronos   \n1169   Albina.Hafon@gastech.com.kronos     Benito.Hawelon@gastech.com.kronos   \n\n            Date                            Subject      Time  \n0     2014-01-06  GT-SeismicProcessorPro Bug Report  08:39:00  \n0     2014-01-06  GT-SeismicProcessorPro Bug Report  08:39:00  \n1     2014-01-06        Inspection request for site  08:58:00  \n1     2014-01-06        Inspection request for site  08:58:00  \n1     2014-01-06        Inspection request for site  08:58:00  \n...          ...                                ...       ...  \n1169  2014-01-17     RE: Traffic advisory for today  20:46:00  \n1169  2014-01-17     RE: Traffic advisory for today  20:46:00  \n1169  2014-01-17     RE: Traffic advisory for today  20:46:00  \n1169  2014-01-17     RE: Traffic advisory for today  20:46:00  \n1169  2014-01-17     RE: Traffic advisory for today  20:46:00  \n\n[9063 rows x 5 columns]",
      "text/html": "<div>\n<style scoped>\n    .dataframe tbody tr th:only-of-type {\n        vertical-align: middle;\n    }\n\n    .dataframe tbody tr th {\n        vertical-align: top;\n    }\n\n    .dataframe thead th {\n        text-align: right;\n    }\n</style>\n<table border=\"1\" class=\"dataframe\">\n  <thead>\n    <tr style=\"text-align: right;\">\n      <th></th>\n      <th>From</th>\n      <th>To</th>\n      <th>Date</th>\n      <th>Subject</th>\n      <th>Time</th>\n    </tr>\n  </thead>\n  <tbody>\n    <tr>\n      <th>0</th>\n      <td>Sven.Flecha@gastech.com.kronos</td>\n      <td>Isak.Baza@gastech.com.kronos</td>\n      <td>2014-01-06</td>\n      <td>GT-SeismicProcessorPro Bug Report</td>\n      <td>08:39:00</td>\n    </tr>\n    <tr>\n      <th>0</th>\n      <td>Sven.Flecha@gastech.com.kronos</td>\n      <td>Lucas.Alcazar@gastech.com.kronos</td>\n      <td>2014-01-06</td>\n      <td>GT-SeismicProcessorPro Bug Report</td>\n      <td>08:39:00</td>\n    </tr>\n    <tr>\n      <th>1</th>\n      <td>Kanon.Herrero@gastech.com.kronos</td>\n      <td>Felix.Resumir@gastech.com.kronos</td>\n      <td>2014-01-06</td>\n      <td>Inspection request for site</td>\n      <td>08:58:00</td>\n    </tr>\n    <tr>\n      <th>1</th>\n      <td>Kanon.Herrero@gastech.com.kronos</td>\n      <td>Hideki.Cocinaro@gastech.com.kronos</td>\n      <td>2014-01-06</td>\n      <td>Inspection request for site</td>\n      <td>08:58:00</td>\n    </tr>\n    <tr>\n      <th>1</th>\n      <td>Kanon.Herrero@gastech.com.kronos</td>\n      <td>Inga.Ferro@gastech.com.kronos</td>\n      <td>2014-01-06</td>\n      <td>Inspection request for site</td>\n      <td>08:58:00</td>\n    </tr>\n    <tr>\n      <th>...</th>\n      <td>...</td>\n      <td>...</td>\n      <td>...</td>\n      <td>...</td>\n      <td>...</td>\n    </tr>\n    <tr>\n      <th>1169</th>\n      <td>Albina.Hafon@gastech.com.kronos</td>\n      <td>Valeria.Morlun@gastech.com.kronos</td>\n      <td>2014-01-17</td>\n      <td>RE: Traffic advisory for today</td>\n      <td>20:46:00</td>\n    </tr>\n    <tr>\n      <th>1169</th>\n      <td>Albina.Hafon@gastech.com.kronos</td>\n      <td>Cecilia.Morluniau@gastech.com.kronos</td>\n      <td>2014-01-17</td>\n      <td>RE: Traffic advisory for today</td>\n      <td>20:46:00</td>\n    </tr>\n    <tr>\n      <th>1169</th>\n      <td>Albina.Hafon@gastech.com.kronos</td>\n      <td>Henk.Mies@gastech.com.kronos</td>\n      <td>2014-01-17</td>\n      <td>RE: Traffic advisory for today</td>\n      <td>20:46:00</td>\n    </tr>\n    <tr>\n      <th>1169</th>\n      <td>Albina.Hafon@gastech.com.kronos</td>\n      <td>Dylan.Scozzese@gastech.com.kronos</td>\n      <td>2014-01-17</td>\n      <td>RE: Traffic advisory for today</td>\n      <td>20:46:00</td>\n    </tr>\n    <tr>\n      <th>1169</th>\n      <td>Albina.Hafon@gastech.com.kronos</td>\n      <td>Benito.Hawelon@gastech.com.kronos</td>\n      <td>2014-01-17</td>\n      <td>RE: Traffic advisory for today</td>\n      <td>20:46:00</td>\n    </tr>\n  </tbody>\n</table>\n<p>9063 rows × 5 columns</p>\n</div>"
     },
     "execution_count": 4,
     "metadata": {},
     "output_type": "execute_result"
    }
   ],
   "source": [
    "# Separate the date and time in different columns\n",
    "emails['Time'] = pd.to_datetime(emails['Date']).dt.time\n",
    "emails['Date'] = pd.to_datetime(emails['Date']).dt.date\n",
    "emails"
   ],
   "metadata": {
    "collapsed": false,
    "pycharm": {
     "name": "#%%\n"
    }
   }
  },
  {
   "cell_type": "code",
   "execution_count": 5,
   "outputs": [],
   "source": [
    "def create_json(emails):\n",
    "    \"\"\"Given a dataframe with emails (from, to, and a date), a json is created that can be\n",
    "    used as input for the Cytoscape network graph.\"\"\"\n",
    "\n",
    "    # Extract the from and to emails\n",
    "    emails_from = emails.From.tolist()\n",
    "    emails_to = emails.To.tolist()\n",
    "\n",
    "    # Create a list with all appearing emails and remove duplicates\n",
    "    nodes = emails_from + emails_to\n",
    "    nodes = list(dict.fromkeys(nodes))\n",
    "\n",
    "    # Create the correct format for the nodes\n",
    "    nodes_list = []\n",
    "    for node in nodes:\n",
    "        name = node.split('@')[0].split('.')\n",
    "        text = \"{\\\"data\\\": {\" +\"\\\"id\\\": \\\"\" + node +\"\\\", \\\"label\\\": \\\"\" + name[0] + \" \" + name[1] + \"\\\"}}\"\n",
    "        nodes_list.append(text)\n",
    "\n",
    "    # Create a list of from - to email pairs\n",
    "    pairs = []\n",
    "    for i in range(len(emails_from)):\n",
    "        pairs.append([emails_from[i], emails_to[i]])\n",
    "    # Compute weights and add them to the pairs\n",
    "    weights = []\n",
    "    for pair in pairs:\n",
    "        weights.append(pairs.count(pair))\n",
    "    count = 0\n",
    "    for pair in pairs:\n",
    "        pair.append(weights[count])\n",
    "        count += 1\n",
    "    # Remove duplicates\n",
    "    unique = []\n",
    "    for pair in pairs:\n",
    "        if pair not in unique:\n",
    "            unique.append(pair)\n",
    "        else:\n",
    "            pass\n",
    "    # Create the correct format for the links\n",
    "    links_list = []\n",
    "    for link in unique:\n",
    "        text = \"{\\\"data\\\": {\\\"source\\\": \\\"\" + link[0] + \"\\\", \\\"target\\\": \\\"\" + link[1] + \"\\\", \\\"weight\\\": \" + str(link[2]) + \"}}\"\n",
    "        links_list.append(text)\n",
    "\n",
    "    # Write to the json file\n",
    "    with open('./network_data.json', 'w') as network_data:\n",
    "        z = 0\n",
    "        network_data.writelines(\"[\")\n",
    "        while z < (len(nodes_list)):\n",
    "            network_data.writelines(nodes_list[z] + \",\")\n",
    "            z += 1\n",
    "        z = 0\n",
    "        while z < (len(links_list) - 1):\n",
    "            network_data.writelines(links_list[z] + \",\")\n",
    "            z += 1\n",
    "        network_data.writelines(links_list[-1])\n",
    "        network_data.writelines(\"]\")"
   ],
   "metadata": {
    "collapsed": false,
    "pycharm": {
     "name": "#%%\n"
    }
   }
  },
  {
   "cell_type": "code",
   "execution_count": 6,
   "outputs": [],
   "source": [
    "# Filter out emails from the first day\n",
    "emails_day1 = emails[emails['Date'] == datetime.date(2014, 1, 6)]"
   ],
   "metadata": {
    "collapsed": false,
    "pycharm": {
     "name": "#%%\n"
    }
   }
  },
  {
   "cell_type": "code",
   "execution_count": 7,
   "outputs": [],
   "source": [
    "create_json(emails_day1)"
   ],
   "metadata": {
    "collapsed": false,
    "pycharm": {
     "name": "#%%\n"
    }
   }
  },
  {
   "cell_type": "code",
   "execution_count": 8,
   "outputs": [],
   "source": [
    "app = dash.Dash(__name__)\n",
    "\n",
    "with open('network_data.json', 'r') as f:\n",
    "    data = json.load(f)"
   ],
   "metadata": {
    "collapsed": false,
    "pycharm": {
     "name": "#%%\n"
    }
   }
  },
  {
   "cell_type": "code",
   "execution_count": 9,
   "outputs": [],
   "source": [
    "app.layout = html.Div([\n",
    "    html.Div([\n",
    "        html.Label(['Visualize network on date...'],\n",
    "                   style={'font-weight': 'bold', 'text-align': 'center', 'font-size': '26px'}),\n",
    "        dcc.Slider(\n",
    "            min=0, max=9, step=1,\n",
    "            value=0,\n",
    "            marks={\n",
    "                0: '2014-01-06',\n",
    "                1: '2014-01-07',\n",
    "                2: '2014-01-08',\n",
    "                3: '2014-01-09',\n",
    "                4: '2014-01-10',\n",
    "                5: '2014-01-13',\n",
    "                6: '2014-01-14',\n",
    "                7: '2014-01-15',\n",
    "                8: '2014-01-16',\n",
    "                9: '2014-01-17'\n",
    "            },\n",
    "            id='my-slider'\n",
    "        ),\n",
    "        html.Label(['Select a part of the day to filter'],\n",
    "                   style={'font-weight': 'bold', 'text-align': 'center', 'font-size': '26px'}),\n",
    "        dcc.Dropdown(\n",
    "            id='my-dropdown',\n",
    "            options=[\n",
    "                {'label': 'Morning', 'value': 'morning'},\n",
    "                {'label': 'Afternoon', 'value': 'afternoon'},\n",
    "                {'label': 'Evening', 'value': 'evening'}],\n",
    "            placeholder='Select...'\n",
    "        )\n",
    "    ]),\n",
    "    html.Div([\n",
    "        cyto.Cytoscape(\n",
    "            id='cytoscape-v1',\n",
    "            layout={'name': 'circle'},\n",
    "            style={'width': '100%', 'height': '1000px'},\n",
    "            elements=data\n",
    "        )\n",
    "    ])\n",
    "])"
   ],
   "metadata": {
    "collapsed": false,
    "pycharm": {
     "name": "#%%\n"
    }
   }
  },
  {
   "cell_type": "code",
   "execution_count": 10,
   "outputs": [],
   "source": [
    "@app.callback(\n",
    "    dash.dependencies.Output(component_id='cytoscape-v1', component_property='elements'),\n",
    "    [dash.dependencies.Input(component_id='my-slider', component_property='value'),\n",
    "     dash.dependencies.Input(component_id='my-dropdown', component_property='value')])\n",
    "\n",
    "def update_output(slider_value, dropdown_value):\n",
    "    dates = emails['Date'].unique()\n",
    "    emails_day = emails[emails['Date'] == dates[slider_value]]\n",
    "\n",
    "    if dropdown_value == 'morning':\n",
    "        emails_day = emails_day[emails_day['Time'] <= datetime.time(12, 0, 0)]\n",
    "    if dropdown_value == 'afternoon':\n",
    "        emails_day = emails_day[(emails_day['Time'] > datetime.time(12, 0, 0)) & (emails_day['Time'] <= datetime.time(18, 0, 0))]\n",
    "    if dropdown_value == 'evening':\n",
    "        emails_day = emails_day[emails_day['Time'] > datetime.time(18, 0, 0)]\n",
    "\n",
    "    create_json(emails_day)\n",
    "    with open('network_data.json', 'r') as f:\n",
    "        elements = json.load(f)\n",
    "\n",
    "    return elements"
   ],
   "metadata": {
    "collapsed": false,
    "pycharm": {
     "name": "#%%\n"
    }
   }
  },
  {
   "cell_type": "code",
   "execution_count": 11,
   "outputs": [
    {
     "name": "stdout",
     "output_type": "stream",
     "text": [
      "Dash is running on http://127.0.0.1:8050/\n",
      "\n",
      " * Serving Flask app \"__main__\" (lazy loading)\n",
      " * Environment: production\n",
      "\u001B[31m   WARNING: This is a development server. Do not use it in a production deployment.\u001B[0m\n",
      "\u001B[2m   Use a production WSGI server instead.\u001B[0m\n",
      " * Debug mode: off\n"
     ]
    },
    {
     "name": "stderr",
     "output_type": "stream",
     "text": [
      " * Running on http://127.0.0.1:8050/ (Press CTRL+C to quit)\n",
      "127.0.0.1 - - [04/Apr/2022 09:17:53] \"GET / HTTP/1.1\" 200 -\n",
      "127.0.0.1 - - [04/Apr/2022 09:17:53] \"GET /_dash-dependencies HTTP/1.1\" 200 -\n",
      "127.0.0.1 - - [04/Apr/2022 09:17:53] \"GET /_dash-layout HTTP/1.1\" 200 -\n",
      "127.0.0.1 - - [04/Apr/2022 09:17:53] \"POST /_dash-update-component HTTP/1.1\" 200 -\n",
      "127.0.0.1 - - [04/Apr/2022 09:17:56] \"POST /_dash-update-component HTTP/1.1\" 200 -\n",
      "127.0.0.1 - - [04/Apr/2022 09:17:58] \"POST /_dash-update-component HTTP/1.1\" 200 -\n",
      "127.0.0.1 - - [04/Apr/2022 09:18:00] \"POST /_dash-update-component HTTP/1.1\" 200 -\n",
      "127.0.0.1 - - [04/Apr/2022 09:18:02] \"POST /_dash-update-component HTTP/1.1\" 200 -\n",
      "127.0.0.1 - - [04/Apr/2022 09:18:05] \"POST /_dash-update-component HTTP/1.1\" 200 -\n",
      "127.0.0.1 - - [04/Apr/2022 09:18:10] \"POST /_dash-update-component HTTP/1.1\" 200 -\n",
      "127.0.0.1 - - [04/Apr/2022 09:18:14] \"POST /_dash-update-component HTTP/1.1\" 200 -\n",
      "127.0.0.1 - - [04/Apr/2022 09:18:17] \"POST /_dash-update-component HTTP/1.1\" 200 -\n",
      "127.0.0.1 - - [04/Apr/2022 09:18:20] \"POST /_dash-update-component HTTP/1.1\" 200 -\n",
      "127.0.0.1 - - [04/Apr/2022 09:18:22] \"POST /_dash-update-component HTTP/1.1\" 200 -\n",
      "127.0.0.1 - - [04/Apr/2022 09:18:23] \"POST /_dash-update-component HTTP/1.1\" 200 -\n"
     ]
    }
   ],
   "source": [
    "if __name__ == '__main__':\n",
    "    app.run_server()"
   ],
   "metadata": {
    "collapsed": false,
    "pycharm": {
     "name": "#%%\n"
    }
   }
  },
  {
   "cell_type": "code",
   "execution_count": null,
   "outputs": [],
   "source": [],
   "metadata": {
    "collapsed": false,
    "pycharm": {
     "name": "#%%\n"
    }
   }
  }
 ],
 "metadata": {
  "kernelspec": {
   "display_name": "Python 3",
   "language": "python",
   "name": "python3"
  },
  "language_info": {
   "codemirror_mode": {
    "name": "ipython",
    "version": 2
   },
   "file_extension": ".py",
   "mimetype": "text/x-python",
   "name": "python",
   "nbconvert_exporter": "python",
   "pygments_lexer": "ipython2",
   "version": "2.7.6"
  }
 },
 "nbformat": 4,
 "nbformat_minor": 0
}