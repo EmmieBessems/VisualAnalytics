{
 "cells": [
  {
   "cell_type": "code",
   "execution_count": 1,
   "id": "a9ce9c38",
   "metadata": {},
   "outputs": [],
   "source": [
    "import dash\n",
    "from dash import html\n",
    "from dash import dcc\n",
    "import plotly.graph_objects as go\n",
    "import plotly.express as px\n",
    "from dash.dependencies import Input, Output"
   ]
  },
  {
   "cell_type": "code",
   "execution_count": 2,
   "id": "eb9f8834",
   "metadata": {},
   "outputs": [
    {
     "name": "stdout",
     "output_type": "stream",
     "text": [
      "C:\\Users\\ingeg\\anaconda3\\envs\\VA\\python.exe\n"
     ]
    }
   ],
   "source": [
    "import sys\n",
    "print(sys.executable)"
   ]
  },
  {
   "cell_type": "code",
   "execution_count": 33,
   "id": "97856707",
   "metadata": {},
   "outputs": [],
   "source": [
    "import flair"
   ]
  },
  {
   "cell_type": "code",
   "execution_count": 34,
   "id": "96175584",
   "metadata": {
    "scrolled": true
   },
   "outputs": [
    {
     "name": "stdout",
     "output_type": "stream",
     "text": [
      "2022-04-17 15:43:08,229 loading file C:\\Users\\ingeg\\.flair\\models\\sentiment-en-mix-distillbert_4.pt\n"
     ]
    }
   ],
   "source": [
    "flair_sentiment = flair.models.TextClassifier.load('en-sentiment')"
   ]
  },
  {
   "cell_type": "code",
   "execution_count": 35,
   "id": "6815e845",
   "metadata": {
    "scrolled": true
   },
   "outputs": [
    {
     "name": "stdout",
     "output_type": "stream",
     "text": [
      "0.txt\n"
     ]
    },
    {
     "name": "stderr",
     "output_type": "stream",
     "text": [
      "C:\\Users\\ingeg\\AppData\\Local\\Temp\\ipykernel_1336\\1388660847.py:61: FutureWarning: The frame.append method is deprecated and will be removed from pandas in a future version. Use pandas.concat instead.\n",
      "  df = df.append({\"File_Name\": filename,\"Date\":  date, \"Sentiment\":total_sentiment, \"Publisher\":publisher, \"Mentioned_Names\":article_names, \"Text\":article}, ignore_index=True)\n"
     ]
    },
    {
     "name": "stdout",
     "output_type": "stream",
     "text": [
      "1.txt\n"
     ]
    },
    {
     "name": "stderr",
     "output_type": "stream",
     "text": [
      "C:\\Users\\ingeg\\AppData\\Local\\Temp\\ipykernel_1336\\1388660847.py:61: FutureWarning: The frame.append method is deprecated and will be removed from pandas in a future version. Use pandas.concat instead.\n",
      "  df = df.append({\"File_Name\": filename,\"Date\":  date, \"Sentiment\":total_sentiment, \"Publisher\":publisher, \"Mentioned_Names\":article_names, \"Text\":article}, ignore_index=True)\n",
      "C:\\Users\\ingeg\\AppData\\Local\\Temp\\ipykernel_1336\\1388660847.py:61: FutureWarning: The frame.append method is deprecated and will be removed from pandas in a future version. Use pandas.concat instead.\n",
      "  df = df.append({\"File_Name\": filename,\"Date\":  date, \"Sentiment\":total_sentiment, \"Publisher\":publisher, \"Mentioned_Names\":article_names, \"Text\":article}, ignore_index=True)\n"
     ]
    },
    {
     "name": "stdout",
     "output_type": "stream",
     "text": [
      "10.txt\n",
      "100.txt\n"
     ]
    },
    {
     "name": "stderr",
     "output_type": "stream",
     "text": [
      "C:\\Users\\ingeg\\AppData\\Local\\Temp\\ipykernel_1336\\1388660847.py:61: FutureWarning: The frame.append method is deprecated and will be removed from pandas in a future version. Use pandas.concat instead.\n",
      "  df = df.append({\"File_Name\": filename,\"Date\":  date, \"Sentiment\":total_sentiment, \"Publisher\":publisher, \"Mentioned_Names\":article_names, \"Text\":article}, ignore_index=True)\n"
     ]
    },
    {
     "name": "stdout",
     "output_type": "stream",
     "text": [
      "101.txt\n"
     ]
    },
    {
     "name": "stderr",
     "output_type": "stream",
     "text": [
      "C:\\Users\\ingeg\\AppData\\Local\\Temp\\ipykernel_1336\\1388660847.py:61: FutureWarning: The frame.append method is deprecated and will be removed from pandas in a future version. Use pandas.concat instead.\n",
      "  df = df.append({\"File_Name\": filename,\"Date\":  date, \"Sentiment\":total_sentiment, \"Publisher\":publisher, \"Mentioned_Names\":article_names, \"Text\":article}, ignore_index=True)\n",
      "C:\\Users\\ingeg\\AppData\\Local\\Temp\\ipykernel_1336\\1388660847.py:61: FutureWarning: The frame.append method is deprecated and will be removed from pandas in a future version. Use pandas.concat instead.\n",
      "  df = df.append({\"File_Name\": filename,\"Date\":  date, \"Sentiment\":total_sentiment, \"Publisher\":publisher, \"Mentioned_Names\":article_names, \"Text\":article}, ignore_index=True)\n"
     ]
    },
    {
     "name": "stdout",
     "output_type": "stream",
     "text": [
      "102.txt\n",
      "103.txt\n"
     ]
    },
    {
     "name": "stderr",
     "output_type": "stream",
     "text": [
      "C:\\Users\\ingeg\\AppData\\Local\\Temp\\ipykernel_1336\\1388660847.py:61: FutureWarning: The frame.append method is deprecated and will be removed from pandas in a future version. Use pandas.concat instead.\n",
      "  df = df.append({\"File_Name\": filename,\"Date\":  date, \"Sentiment\":total_sentiment, \"Publisher\":publisher, \"Mentioned_Names\":article_names, \"Text\":article}, ignore_index=True)\n",
      "C:\\Users\\ingeg\\AppData\\Local\\Temp\\ipykernel_1336\\1388660847.py:61: FutureWarning: The frame.append method is deprecated and will be removed from pandas in a future version. Use pandas.concat instead.\n",
      "  df = df.append({\"File_Name\": filename,\"Date\":  date, \"Sentiment\":total_sentiment, \"Publisher\":publisher, \"Mentioned_Names\":article_names, \"Text\":article}, ignore_index=True)\n"
     ]
    },
    {
     "name": "stdout",
     "output_type": "stream",
     "text": [
      "104.txt\n",
      "105.txt\n"
     ]
    },
    {
     "name": "stderr",
     "output_type": "stream",
     "text": [
      "C:\\Users\\ingeg\\AppData\\Local\\Temp\\ipykernel_1336\\1388660847.py:61: FutureWarning: The frame.append method is deprecated and will be removed from pandas in a future version. Use pandas.concat instead.\n",
      "  df = df.append({\"File_Name\": filename,\"Date\":  date, \"Sentiment\":total_sentiment, \"Publisher\":publisher, \"Mentioned_Names\":article_names, \"Text\":article}, ignore_index=True)\n",
      "C:\\Users\\ingeg\\AppData\\Local\\Temp\\ipykernel_1336\\1388660847.py:61: FutureWarning: The frame.append method is deprecated and will be removed from pandas in a future version. Use pandas.concat instead.\n",
      "  df = df.append({\"File_Name\": filename,\"Date\":  date, \"Sentiment\":total_sentiment, \"Publisher\":publisher, \"Mentioned_Names\":article_names, \"Text\":article}, ignore_index=True)\n"
     ]
    },
    {
     "name": "stdout",
     "output_type": "stream",
     "text": [
      "106.txt\n",
      "107.txt\n"
     ]
    },
    {
     "name": "stderr",
     "output_type": "stream",
     "text": [
      "C:\\Users\\ingeg\\AppData\\Local\\Temp\\ipykernel_1336\\1388660847.py:61: FutureWarning: The frame.append method is deprecated and will be removed from pandas in a future version. Use pandas.concat instead.\n",
      "  df = df.append({\"File_Name\": filename,\"Date\":  date, \"Sentiment\":total_sentiment, \"Publisher\":publisher, \"Mentioned_Names\":article_names, \"Text\":article}, ignore_index=True)\n",
      "C:\\Users\\ingeg\\AppData\\Local\\Temp\\ipykernel_1336\\1388660847.py:61: FutureWarning: The frame.append method is deprecated and will be removed from pandas in a future version. Use pandas.concat instead.\n",
      "  df = df.append({\"File_Name\": filename,\"Date\":  date, \"Sentiment\":total_sentiment, \"Publisher\":publisher, \"Mentioned_Names\":article_names, \"Text\":article}, ignore_index=True)\n"
     ]
    },
    {
     "name": "stdout",
     "output_type": "stream",
     "text": [
      "108.txt\n",
      "109.txt\n"
     ]
    },
    {
     "name": "stderr",
     "output_type": "stream",
     "text": [
      "C:\\Users\\ingeg\\AppData\\Local\\Temp\\ipykernel_1336\\1388660847.py:61: FutureWarning: The frame.append method is deprecated and will be removed from pandas in a future version. Use pandas.concat instead.\n",
      "  df = df.append({\"File_Name\": filename,\"Date\":  date, \"Sentiment\":total_sentiment, \"Publisher\":publisher, \"Mentioned_Names\":article_names, \"Text\":article}, ignore_index=True)\n",
      "C:\\Users\\ingeg\\AppData\\Local\\Temp\\ipykernel_1336\\1388660847.py:61: FutureWarning: The frame.append method is deprecated and will be removed from pandas in a future version. Use pandas.concat instead.\n",
      "  df = df.append({\"File_Name\": filename,\"Date\":  date, \"Sentiment\":total_sentiment, \"Publisher\":publisher, \"Mentioned_Names\":article_names, \"Text\":article}, ignore_index=True)\n"
     ]
    },
    {
     "name": "stdout",
     "output_type": "stream",
     "text": [
      "11.txt\n",
      "110.txt\n"
     ]
    },
    {
     "name": "stderr",
     "output_type": "stream",
     "text": [
      "C:\\Users\\ingeg\\AppData\\Local\\Temp\\ipykernel_1336\\1388660847.py:61: FutureWarning: The frame.append method is deprecated and will be removed from pandas in a future version. Use pandas.concat instead.\n",
      "  df = df.append({\"File_Name\": filename,\"Date\":  date, \"Sentiment\":total_sentiment, \"Publisher\":publisher, \"Mentioned_Names\":article_names, \"Text\":article}, ignore_index=True)\n",
      "C:\\Users\\ingeg\\AppData\\Local\\Temp\\ipykernel_1336\\1388660847.py:61: FutureWarning: The frame.append method is deprecated and will be removed from pandas in a future version. Use pandas.concat instead.\n",
      "  df = df.append({\"File_Name\": filename,\"Date\":  date, \"Sentiment\":total_sentiment, \"Publisher\":publisher, \"Mentioned_Names\":article_names, \"Text\":article}, ignore_index=True)\n"
     ]
    },
    {
     "name": "stdout",
     "output_type": "stream",
     "text": [
      "111.txt\n",
      "112.txt\n"
     ]
    },
    {
     "name": "stderr",
     "output_type": "stream",
     "text": [
      "C:\\Users\\ingeg\\AppData\\Local\\Temp\\ipykernel_1336\\1388660847.py:61: FutureWarning: The frame.append method is deprecated and will be removed from pandas in a future version. Use pandas.concat instead.\n",
      "  df = df.append({\"File_Name\": filename,\"Date\":  date, \"Sentiment\":total_sentiment, \"Publisher\":publisher, \"Mentioned_Names\":article_names, \"Text\":article}, ignore_index=True)\n",
      "C:\\Users\\ingeg\\AppData\\Local\\Temp\\ipykernel_1336\\1388660847.py:61: FutureWarning: The frame.append method is deprecated and will be removed from pandas in a future version. Use pandas.concat instead.\n",
      "  df = df.append({\"File_Name\": filename,\"Date\":  date, \"Sentiment\":total_sentiment, \"Publisher\":publisher, \"Mentioned_Names\":article_names, \"Text\":article}, ignore_index=True)\n"
     ]
    },
    {
     "name": "stdout",
     "output_type": "stream",
     "text": [
      "113.txt\n",
      "114.txt\n"
     ]
    },
    {
     "name": "stderr",
     "output_type": "stream",
     "text": [
      "C:\\Users\\ingeg\\AppData\\Local\\Temp\\ipykernel_1336\\1388660847.py:61: FutureWarning: The frame.append method is deprecated and will be removed from pandas in a future version. Use pandas.concat instead.\n",
      "  df = df.append({\"File_Name\": filename,\"Date\":  date, \"Sentiment\":total_sentiment, \"Publisher\":publisher, \"Mentioned_Names\":article_names, \"Text\":article}, ignore_index=True)\n",
      "C:\\Users\\ingeg\\AppData\\Local\\Temp\\ipykernel_1336\\1388660847.py:61: FutureWarning: The frame.append method is deprecated and will be removed from pandas in a future version. Use pandas.concat instead.\n",
      "  df = df.append({\"File_Name\": filename,\"Date\":  date, \"Sentiment\":total_sentiment, \"Publisher\":publisher, \"Mentioned_Names\":article_names, \"Text\":article}, ignore_index=True)\n"
     ]
    },
    {
     "name": "stdout",
     "output_type": "stream",
     "text": [
      "115.txt\n",
      "116.txt\n"
     ]
    },
    {
     "name": "stderr",
     "output_type": "stream",
     "text": [
      "C:\\Users\\ingeg\\AppData\\Local\\Temp\\ipykernel_1336\\1388660847.py:61: FutureWarning: The frame.append method is deprecated and will be removed from pandas in a future version. Use pandas.concat instead.\n",
      "  df = df.append({\"File_Name\": filename,\"Date\":  date, \"Sentiment\":total_sentiment, \"Publisher\":publisher, \"Mentioned_Names\":article_names, \"Text\":article}, ignore_index=True)\n",
      "C:\\Users\\ingeg\\AppData\\Local\\Temp\\ipykernel_1336\\1388660847.py:61: FutureWarning: The frame.append method is deprecated and will be removed from pandas in a future version. Use pandas.concat instead.\n",
      "  df = df.append({\"File_Name\": filename,\"Date\":  date, \"Sentiment\":total_sentiment, \"Publisher\":publisher, \"Mentioned_Names\":article_names, \"Text\":article}, ignore_index=True)\n"
     ]
    },
    {
     "name": "stdout",
     "output_type": "stream",
     "text": [
      "117.txt\n",
      "118.txt\n"
     ]
    },
    {
     "name": "stderr",
     "output_type": "stream",
     "text": [
      "C:\\Users\\ingeg\\AppData\\Local\\Temp\\ipykernel_1336\\1388660847.py:61: FutureWarning: The frame.append method is deprecated and will be removed from pandas in a future version. Use pandas.concat instead.\n",
      "  df = df.append({\"File_Name\": filename,\"Date\":  date, \"Sentiment\":total_sentiment, \"Publisher\":publisher, \"Mentioned_Names\":article_names, \"Text\":article}, ignore_index=True)\n",
      "C:\\Users\\ingeg\\AppData\\Local\\Temp\\ipykernel_1336\\1388660847.py:61: FutureWarning: The frame.append method is deprecated and will be removed from pandas in a future version. Use pandas.concat instead.\n",
      "  df = df.append({\"File_Name\": filename,\"Date\":  date, \"Sentiment\":total_sentiment, \"Publisher\":publisher, \"Mentioned_Names\":article_names, \"Text\":article}, ignore_index=True)\n"
     ]
    },
    {
     "name": "stdout",
     "output_type": "stream",
     "text": [
      "119.txt\n",
      "12.txt\n"
     ]
    },
    {
     "name": "stderr",
     "output_type": "stream",
     "text": [
      "C:\\Users\\ingeg\\AppData\\Local\\Temp\\ipykernel_1336\\1388660847.py:61: FutureWarning: The frame.append method is deprecated and will be removed from pandas in a future version. Use pandas.concat instead.\n",
      "  df = df.append({\"File_Name\": filename,\"Date\":  date, \"Sentiment\":total_sentiment, \"Publisher\":publisher, \"Mentioned_Names\":article_names, \"Text\":article}, ignore_index=True)\n",
      "C:\\Users\\ingeg\\AppData\\Local\\Temp\\ipykernel_1336\\1388660847.py:61: FutureWarning: The frame.append method is deprecated and will be removed from pandas in a future version. Use pandas.concat instead.\n",
      "  df = df.append({\"File_Name\": filename,\"Date\":  date, \"Sentiment\":total_sentiment, \"Publisher\":publisher, \"Mentioned_Names\":article_names, \"Text\":article}, ignore_index=True)\n",
      "C:\\Users\\ingeg\\AppData\\Local\\Temp\\ipykernel_1336\\1388660847.py:61: FutureWarning: The frame.append method is deprecated and will be removed from pandas in a future version. Use pandas.concat instead.\n",
      "  df = df.append({\"File_Name\": filename,\"Date\":  date, \"Sentiment\":total_sentiment, \"Publisher\":publisher, \"Mentioned_Names\":article_names, \"Text\":article}, ignore_index=True)\n"
     ]
    },
    {
     "name": "stdout",
     "output_type": "stream",
     "text": [
      "120.txt\n",
      "121.txt\n",
      "122.txt\n",
      "123.txt\n"
     ]
    },
    {
     "name": "stderr",
     "output_type": "stream",
     "text": [
      "C:\\Users\\ingeg\\AppData\\Local\\Temp\\ipykernel_1336\\1388660847.py:61: FutureWarning: The frame.append method is deprecated and will be removed from pandas in a future version. Use pandas.concat instead.\n",
      "  df = df.append({\"File_Name\": filename,\"Date\":  date, \"Sentiment\":total_sentiment, \"Publisher\":publisher, \"Mentioned_Names\":article_names, \"Text\":article}, ignore_index=True)\n",
      "C:\\Users\\ingeg\\AppData\\Local\\Temp\\ipykernel_1336\\1388660847.py:61: FutureWarning: The frame.append method is deprecated and will be removed from pandas in a future version. Use pandas.concat instead.\n",
      "  df = df.append({\"File_Name\": filename,\"Date\":  date, \"Sentiment\":total_sentiment, \"Publisher\":publisher, \"Mentioned_Names\":article_names, \"Text\":article}, ignore_index=True)\n"
     ]
    },
    {
     "name": "stdout",
     "output_type": "stream",
     "text": [
      "124.txt\n"
     ]
    },
    {
     "name": "stderr",
     "output_type": "stream",
     "text": [
      "C:\\Users\\ingeg\\AppData\\Local\\Temp\\ipykernel_1336\\1388660847.py:61: FutureWarning: The frame.append method is deprecated and will be removed from pandas in a future version. Use pandas.concat instead.\n",
      "  df = df.append({\"File_Name\": filename,\"Date\":  date, \"Sentiment\":total_sentiment, \"Publisher\":publisher, \"Mentioned_Names\":article_names, \"Text\":article}, ignore_index=True)\n",
      "C:\\Users\\ingeg\\AppData\\Local\\Temp\\ipykernel_1336\\1388660847.py:61: FutureWarning: The frame.append method is deprecated and will be removed from pandas in a future version. Use pandas.concat instead.\n",
      "  df = df.append({\"File_Name\": filename,\"Date\":  date, \"Sentiment\":total_sentiment, \"Publisher\":publisher, \"Mentioned_Names\":article_names, \"Text\":article}, ignore_index=True)\n"
     ]
    },
    {
     "name": "stdout",
     "output_type": "stream",
     "text": [
      "125.txt\n",
      "126.txt\n"
     ]
    },
    {
     "name": "stderr",
     "output_type": "stream",
     "text": [
      "C:\\Users\\ingeg\\AppData\\Local\\Temp\\ipykernel_1336\\1388660847.py:61: FutureWarning: The frame.append method is deprecated and will be removed from pandas in a future version. Use pandas.concat instead.\n",
      "  df = df.append({\"File_Name\": filename,\"Date\":  date, \"Sentiment\":total_sentiment, \"Publisher\":publisher, \"Mentioned_Names\":article_names, \"Text\":article}, ignore_index=True)\n",
      "C:\\Users\\ingeg\\AppData\\Local\\Temp\\ipykernel_1336\\1388660847.py:61: FutureWarning: The frame.append method is deprecated and will be removed from pandas in a future version. Use pandas.concat instead.\n",
      "  df = df.append({\"File_Name\": filename,\"Date\":  date, \"Sentiment\":total_sentiment, \"Publisher\":publisher, \"Mentioned_Names\":article_names, \"Text\":article}, ignore_index=True)\n"
     ]
    },
    {
     "name": "stdout",
     "output_type": "stream",
     "text": [
      "127.txt\n",
      "128.txt\n"
     ]
    },
    {
     "name": "stderr",
     "output_type": "stream",
     "text": [
      "C:\\Users\\ingeg\\AppData\\Local\\Temp\\ipykernel_1336\\1388660847.py:61: FutureWarning: The frame.append method is deprecated and will be removed from pandas in a future version. Use pandas.concat instead.\n",
      "  df = df.append({\"File_Name\": filename,\"Date\":  date, \"Sentiment\":total_sentiment, \"Publisher\":publisher, \"Mentioned_Names\":article_names, \"Text\":article}, ignore_index=True)\n"
     ]
    },
    {
     "name": "stdout",
     "output_type": "stream",
     "text": [
      "129.txt\n"
     ]
    },
    {
     "name": "stderr",
     "output_type": "stream",
     "text": [
      "C:\\Users\\ingeg\\AppData\\Local\\Temp\\ipykernel_1336\\1388660847.py:61: FutureWarning: The frame.append method is deprecated and will be removed from pandas in a future version. Use pandas.concat instead.\n",
      "  df = df.append({\"File_Name\": filename,\"Date\":  date, \"Sentiment\":total_sentiment, \"Publisher\":publisher, \"Mentioned_Names\":article_names, \"Text\":article}, ignore_index=True)\n",
      "C:\\Users\\ingeg\\AppData\\Local\\Temp\\ipykernel_1336\\1388660847.py:61: FutureWarning: The frame.append method is deprecated and will be removed from pandas in a future version. Use pandas.concat instead.\n",
      "  df = df.append({\"File_Name\": filename,\"Date\":  date, \"Sentiment\":total_sentiment, \"Publisher\":publisher, \"Mentioned_Names\":article_names, \"Text\":article}, ignore_index=True)\n"
     ]
    },
    {
     "name": "stdout",
     "output_type": "stream",
     "text": [
      "13.txt\n",
      "130.txt\n"
     ]
    },
    {
     "name": "stderr",
     "output_type": "stream",
     "text": [
      "C:\\Users\\ingeg\\AppData\\Local\\Temp\\ipykernel_1336\\1388660847.py:61: FutureWarning: The frame.append method is deprecated and will be removed from pandas in a future version. Use pandas.concat instead.\n",
      "  df = df.append({\"File_Name\": filename,\"Date\":  date, \"Sentiment\":total_sentiment, \"Publisher\":publisher, \"Mentioned_Names\":article_names, \"Text\":article}, ignore_index=True)\n",
      "C:\\Users\\ingeg\\AppData\\Local\\Temp\\ipykernel_1336\\1388660847.py:61: FutureWarning: The frame.append method is deprecated and will be removed from pandas in a future version. Use pandas.concat instead.\n",
      "  df = df.append({\"File_Name\": filename,\"Date\":  date, \"Sentiment\":total_sentiment, \"Publisher\":publisher, \"Mentioned_Names\":article_names, \"Text\":article}, ignore_index=True)\n"
     ]
    },
    {
     "name": "stdout",
     "output_type": "stream",
     "text": [
      "131.txt\n",
      "132.txt\n"
     ]
    },
    {
     "name": "stderr",
     "output_type": "stream",
     "text": [
      "C:\\Users\\ingeg\\AppData\\Local\\Temp\\ipykernel_1336\\1388660847.py:61: FutureWarning: The frame.append method is deprecated and will be removed from pandas in a future version. Use pandas.concat instead.\n",
      "  df = df.append({\"File_Name\": filename,\"Date\":  date, \"Sentiment\":total_sentiment, \"Publisher\":publisher, \"Mentioned_Names\":article_names, \"Text\":article}, ignore_index=True)\n",
      "C:\\Users\\ingeg\\AppData\\Local\\Temp\\ipykernel_1336\\1388660847.py:61: FutureWarning: The frame.append method is deprecated and will be removed from pandas in a future version. Use pandas.concat instead.\n",
      "  df = df.append({\"File_Name\": filename,\"Date\":  date, \"Sentiment\":total_sentiment, \"Publisher\":publisher, \"Mentioned_Names\":article_names, \"Text\":article}, ignore_index=True)\n"
     ]
    },
    {
     "name": "stdout",
     "output_type": "stream",
     "text": [
      "133.txt\n",
      "134.txt\n"
     ]
    },
    {
     "name": "stderr",
     "output_type": "stream",
     "text": [
      "C:\\Users\\ingeg\\AppData\\Local\\Temp\\ipykernel_1336\\1388660847.py:61: FutureWarning: The frame.append method is deprecated and will be removed from pandas in a future version. Use pandas.concat instead.\n",
      "  df = df.append({\"File_Name\": filename,\"Date\":  date, \"Sentiment\":total_sentiment, \"Publisher\":publisher, \"Mentioned_Names\":article_names, \"Text\":article}, ignore_index=True)\n",
      "C:\\Users\\ingeg\\AppData\\Local\\Temp\\ipykernel_1336\\1388660847.py:61: FutureWarning: The frame.append method is deprecated and will be removed from pandas in a future version. Use pandas.concat instead.\n",
      "  df = df.append({\"File_Name\": filename,\"Date\":  date, \"Sentiment\":total_sentiment, \"Publisher\":publisher, \"Mentioned_Names\":article_names, \"Text\":article}, ignore_index=True)\n"
     ]
    },
    {
     "name": "stdout",
     "output_type": "stream",
     "text": [
      "135.txt\n",
      "136.txt\n"
     ]
    },
    {
     "name": "stderr",
     "output_type": "stream",
     "text": [
      "C:\\Users\\ingeg\\AppData\\Local\\Temp\\ipykernel_1336\\1388660847.py:61: FutureWarning: The frame.append method is deprecated and will be removed from pandas in a future version. Use pandas.concat instead.\n",
      "  df = df.append({\"File_Name\": filename,\"Date\":  date, \"Sentiment\":total_sentiment, \"Publisher\":publisher, \"Mentioned_Names\":article_names, \"Text\":article}, ignore_index=True)\n",
      "C:\\Users\\ingeg\\AppData\\Local\\Temp\\ipykernel_1336\\1388660847.py:61: FutureWarning: The frame.append method is deprecated and will be removed from pandas in a future version. Use pandas.concat instead.\n",
      "  df = df.append({\"File_Name\": filename,\"Date\":  date, \"Sentiment\":total_sentiment, \"Publisher\":publisher, \"Mentioned_Names\":article_names, \"Text\":article}, ignore_index=True)\n"
     ]
    },
    {
     "name": "stdout",
     "output_type": "stream",
     "text": [
      "137.txt\n",
      "138.txt\n"
     ]
    },
    {
     "name": "stderr",
     "output_type": "stream",
     "text": [
      "C:\\Users\\ingeg\\AppData\\Local\\Temp\\ipykernel_1336\\1388660847.py:61: FutureWarning: The frame.append method is deprecated and will be removed from pandas in a future version. Use pandas.concat instead.\n",
      "  df = df.append({\"File_Name\": filename,\"Date\":  date, \"Sentiment\":total_sentiment, \"Publisher\":publisher, \"Mentioned_Names\":article_names, \"Text\":article}, ignore_index=True)\n",
      "C:\\Users\\ingeg\\AppData\\Local\\Temp\\ipykernel_1336\\1388660847.py:61: FutureWarning: The frame.append method is deprecated and will be removed from pandas in a future version. Use pandas.concat instead.\n",
      "  df = df.append({\"File_Name\": filename,\"Date\":  date, \"Sentiment\":total_sentiment, \"Publisher\":publisher, \"Mentioned_Names\":article_names, \"Text\":article}, ignore_index=True)\n",
      "C:\\Users\\ingeg\\AppData\\Local\\Temp\\ipykernel_1336\\1388660847.py:61: FutureWarning: The frame.append method is deprecated and will be removed from pandas in a future version. Use pandas.concat instead.\n",
      "  df = df.append({\"File_Name\": filename,\"Date\":  date, \"Sentiment\":total_sentiment, \"Publisher\":publisher, \"Mentioned_Names\":article_names, \"Text\":article}, ignore_index=True)\n"
     ]
    },
    {
     "name": "stdout",
     "output_type": "stream",
     "text": [
      "139.txt\n",
      "14.txt\n",
      "140.txt\n"
     ]
    },
    {
     "name": "stderr",
     "output_type": "stream",
     "text": [
      "C:\\Users\\ingeg\\AppData\\Local\\Temp\\ipykernel_1336\\1388660847.py:61: FutureWarning: The frame.append method is deprecated and will be removed from pandas in a future version. Use pandas.concat instead.\n",
      "  df = df.append({\"File_Name\": filename,\"Date\":  date, \"Sentiment\":total_sentiment, \"Publisher\":publisher, \"Mentioned_Names\":article_names, \"Text\":article}, ignore_index=True)\n"
     ]
    },
    {
     "name": "stdout",
     "output_type": "stream",
     "text": [
      "141.txt\n"
     ]
    },
    {
     "name": "stderr",
     "output_type": "stream",
     "text": [
      "C:\\Users\\ingeg\\AppData\\Local\\Temp\\ipykernel_1336\\1388660847.py:61: FutureWarning: The frame.append method is deprecated and will be removed from pandas in a future version. Use pandas.concat instead.\n",
      "  df = df.append({\"File_Name\": filename,\"Date\":  date, \"Sentiment\":total_sentiment, \"Publisher\":publisher, \"Mentioned_Names\":article_names, \"Text\":article}, ignore_index=True)\n",
      "C:\\Users\\ingeg\\AppData\\Local\\Temp\\ipykernel_1336\\1388660847.py:61: FutureWarning: The frame.append method is deprecated and will be removed from pandas in a future version. Use pandas.concat instead.\n",
      "  df = df.append({\"File_Name\": filename,\"Date\":  date, \"Sentiment\":total_sentiment, \"Publisher\":publisher, \"Mentioned_Names\":article_names, \"Text\":article}, ignore_index=True)\n"
     ]
    },
    {
     "name": "stdout",
     "output_type": "stream",
     "text": [
      "142.txt\n",
      "143.txt\n"
     ]
    },
    {
     "name": "stderr",
     "output_type": "stream",
     "text": [
      "C:\\Users\\ingeg\\AppData\\Local\\Temp\\ipykernel_1336\\1388660847.py:61: FutureWarning: The frame.append method is deprecated and will be removed from pandas in a future version. Use pandas.concat instead.\n",
      "  df = df.append({\"File_Name\": filename,\"Date\":  date, \"Sentiment\":total_sentiment, \"Publisher\":publisher, \"Mentioned_Names\":article_names, \"Text\":article}, ignore_index=True)\n",
      "C:\\Users\\ingeg\\AppData\\Local\\Temp\\ipykernel_1336\\1388660847.py:61: FutureWarning: The frame.append method is deprecated and will be removed from pandas in a future version. Use pandas.concat instead.\n",
      "  df = df.append({\"File_Name\": filename,\"Date\":  date, \"Sentiment\":total_sentiment, \"Publisher\":publisher, \"Mentioned_Names\":article_names, \"Text\":article}, ignore_index=True)\n"
     ]
    },
    {
     "name": "stdout",
     "output_type": "stream",
     "text": [
      "144.txt\n",
      "145.txt\n"
     ]
    },
    {
     "name": "stderr",
     "output_type": "stream",
     "text": [
      "C:\\Users\\ingeg\\AppData\\Local\\Temp\\ipykernel_1336\\1388660847.py:61: FutureWarning: The frame.append method is deprecated and will be removed from pandas in a future version. Use pandas.concat instead.\n",
      "  df = df.append({\"File_Name\": filename,\"Date\":  date, \"Sentiment\":total_sentiment, \"Publisher\":publisher, \"Mentioned_Names\":article_names, \"Text\":article}, ignore_index=True)\n"
     ]
    },
    {
     "name": "stdout",
     "output_type": "stream",
     "text": [
      "146.txt\n"
     ]
    },
    {
     "name": "stderr",
     "output_type": "stream",
     "text": [
      "C:\\Users\\ingeg\\AppData\\Local\\Temp\\ipykernel_1336\\1388660847.py:61: FutureWarning: The frame.append method is deprecated and will be removed from pandas in a future version. Use pandas.concat instead.\n",
      "  df = df.append({\"File_Name\": filename,\"Date\":  date, \"Sentiment\":total_sentiment, \"Publisher\":publisher, \"Mentioned_Names\":article_names, \"Text\":article}, ignore_index=True)\n"
     ]
    },
    {
     "name": "stdout",
     "output_type": "stream",
     "text": [
      "147.txt\n"
     ]
    },
    {
     "name": "stderr",
     "output_type": "stream",
     "text": [
      "C:\\Users\\ingeg\\AppData\\Local\\Temp\\ipykernel_1336\\1388660847.py:61: FutureWarning: The frame.append method is deprecated and will be removed from pandas in a future version. Use pandas.concat instead.\n",
      "  df = df.append({\"File_Name\": filename,\"Date\":  date, \"Sentiment\":total_sentiment, \"Publisher\":publisher, \"Mentioned_Names\":article_names, \"Text\":article}, ignore_index=True)\n",
      "C:\\Users\\ingeg\\AppData\\Local\\Temp\\ipykernel_1336\\1388660847.py:61: FutureWarning: The frame.append method is deprecated and will be removed from pandas in a future version. Use pandas.concat instead.\n",
      "  df = df.append({\"File_Name\": filename,\"Date\":  date, \"Sentiment\":total_sentiment, \"Publisher\":publisher, \"Mentioned_Names\":article_names, \"Text\":article}, ignore_index=True)\n"
     ]
    },
    {
     "name": "stdout",
     "output_type": "stream",
     "text": [
      "148.txt\n",
      "149.txt\n"
     ]
    },
    {
     "name": "stderr",
     "output_type": "stream",
     "text": [
      "C:\\Users\\ingeg\\AppData\\Local\\Temp\\ipykernel_1336\\1388660847.py:61: FutureWarning: The frame.append method is deprecated and will be removed from pandas in a future version. Use pandas.concat instead.\n",
      "  df = df.append({\"File_Name\": filename,\"Date\":  date, \"Sentiment\":total_sentiment, \"Publisher\":publisher, \"Mentioned_Names\":article_names, \"Text\":article}, ignore_index=True)\n",
      "C:\\Users\\ingeg\\AppData\\Local\\Temp\\ipykernel_1336\\1388660847.py:61: FutureWarning: The frame.append method is deprecated and will be removed from pandas in a future version. Use pandas.concat instead.\n",
      "  df = df.append({\"File_Name\": filename,\"Date\":  date, \"Sentiment\":total_sentiment, \"Publisher\":publisher, \"Mentioned_Names\":article_names, \"Text\":article}, ignore_index=True)\n"
     ]
    },
    {
     "name": "stdout",
     "output_type": "stream",
     "text": [
      "15.txt\n",
      "150.txt\n"
     ]
    },
    {
     "name": "stderr",
     "output_type": "stream",
     "text": [
      "C:\\Users\\ingeg\\AppData\\Local\\Temp\\ipykernel_1336\\1388660847.py:61: FutureWarning: The frame.append method is deprecated and will be removed from pandas in a future version. Use pandas.concat instead.\n",
      "  df = df.append({\"File_Name\": filename,\"Date\":  date, \"Sentiment\":total_sentiment, \"Publisher\":publisher, \"Mentioned_Names\":article_names, \"Text\":article}, ignore_index=True)\n",
      "C:\\Users\\ingeg\\AppData\\Local\\Temp\\ipykernel_1336\\1388660847.py:61: FutureWarning: The frame.append method is deprecated and will be removed from pandas in a future version. Use pandas.concat instead.\n",
      "  df = df.append({\"File_Name\": filename,\"Date\":  date, \"Sentiment\":total_sentiment, \"Publisher\":publisher, \"Mentioned_Names\":article_names, \"Text\":article}, ignore_index=True)\n"
     ]
    },
    {
     "name": "stdout",
     "output_type": "stream",
     "text": [
      "151.txt\n",
      "152.txt\n"
     ]
    },
    {
     "name": "stderr",
     "output_type": "stream",
     "text": [
      "C:\\Users\\ingeg\\AppData\\Local\\Temp\\ipykernel_1336\\1388660847.py:61: FutureWarning: The frame.append method is deprecated and will be removed from pandas in a future version. Use pandas.concat instead.\n",
      "  df = df.append({\"File_Name\": filename,\"Date\":  date, \"Sentiment\":total_sentiment, \"Publisher\":publisher, \"Mentioned_Names\":article_names, \"Text\":article}, ignore_index=True)\n",
      "C:\\Users\\ingeg\\AppData\\Local\\Temp\\ipykernel_1336\\1388660847.py:61: FutureWarning: The frame.append method is deprecated and will be removed from pandas in a future version. Use pandas.concat instead.\n",
      "  df = df.append({\"File_Name\": filename,\"Date\":  date, \"Sentiment\":total_sentiment, \"Publisher\":publisher, \"Mentioned_Names\":article_names, \"Text\":article}, ignore_index=True)\n"
     ]
    },
    {
     "name": "stdout",
     "output_type": "stream",
     "text": [
      "153.txt\n",
      "154.txt\n"
     ]
    },
    {
     "name": "stderr",
     "output_type": "stream",
     "text": [
      "C:\\Users\\ingeg\\AppData\\Local\\Temp\\ipykernel_1336\\1388660847.py:61: FutureWarning: The frame.append method is deprecated and will be removed from pandas in a future version. Use pandas.concat instead.\n",
      "  df = df.append({\"File_Name\": filename,\"Date\":  date, \"Sentiment\":total_sentiment, \"Publisher\":publisher, \"Mentioned_Names\":article_names, \"Text\":article}, ignore_index=True)\n",
      "C:\\Users\\ingeg\\AppData\\Local\\Temp\\ipykernel_1336\\1388660847.py:61: FutureWarning: The frame.append method is deprecated and will be removed from pandas in a future version. Use pandas.concat instead.\n",
      "  df = df.append({\"File_Name\": filename,\"Date\":  date, \"Sentiment\":total_sentiment, \"Publisher\":publisher, \"Mentioned_Names\":article_names, \"Text\":article}, ignore_index=True)\n"
     ]
    },
    {
     "name": "stdout",
     "output_type": "stream",
     "text": [
      "155.txt\n",
      "156.txt\n"
     ]
    },
    {
     "name": "stderr",
     "output_type": "stream",
     "text": [
      "C:\\Users\\ingeg\\AppData\\Local\\Temp\\ipykernel_1336\\1388660847.py:61: FutureWarning: The frame.append method is deprecated and will be removed from pandas in a future version. Use pandas.concat instead.\n",
      "  df = df.append({\"File_Name\": filename,\"Date\":  date, \"Sentiment\":total_sentiment, \"Publisher\":publisher, \"Mentioned_Names\":article_names, \"Text\":article}, ignore_index=True)\n"
     ]
    },
    {
     "name": "stdout",
     "output_type": "stream",
     "text": [
      "157.txt\n"
     ]
    },
    {
     "name": "stderr",
     "output_type": "stream",
     "text": [
      "C:\\Users\\ingeg\\AppData\\Local\\Temp\\ipykernel_1336\\1388660847.py:61: FutureWarning: The frame.append method is deprecated and will be removed from pandas in a future version. Use pandas.concat instead.\n",
      "  df = df.append({\"File_Name\": filename,\"Date\":  date, \"Sentiment\":total_sentiment, \"Publisher\":publisher, \"Mentioned_Names\":article_names, \"Text\":article}, ignore_index=True)\n"
     ]
    },
    {
     "name": "stdout",
     "output_type": "stream",
     "text": [
      "158.txt\n"
     ]
    },
    {
     "name": "stderr",
     "output_type": "stream",
     "text": [
      "C:\\Users\\ingeg\\AppData\\Local\\Temp\\ipykernel_1336\\1388660847.py:61: FutureWarning: The frame.append method is deprecated and will be removed from pandas in a future version. Use pandas.concat instead.\n",
      "  df = df.append({\"File_Name\": filename,\"Date\":  date, \"Sentiment\":total_sentiment, \"Publisher\":publisher, \"Mentioned_Names\":article_names, \"Text\":article}, ignore_index=True)\n",
      "C:\\Users\\ingeg\\AppData\\Local\\Temp\\ipykernel_1336\\1388660847.py:61: FutureWarning: The frame.append method is deprecated and will be removed from pandas in a future version. Use pandas.concat instead.\n",
      "  df = df.append({\"File_Name\": filename,\"Date\":  date, \"Sentiment\":total_sentiment, \"Publisher\":publisher, \"Mentioned_Names\":article_names, \"Text\":article}, ignore_index=True)\n",
      "C:\\Users\\ingeg\\AppData\\Local\\Temp\\ipykernel_1336\\1388660847.py:61: FutureWarning: The frame.append method is deprecated and will be removed from pandas in a future version. Use pandas.concat instead.\n",
      "  df = df.append({\"File_Name\": filename,\"Date\":  date, \"Sentiment\":total_sentiment, \"Publisher\":publisher, \"Mentioned_Names\":article_names, \"Text\":article}, ignore_index=True)\n"
     ]
    },
    {
     "name": "stdout",
     "output_type": "stream",
     "text": [
      "159.txt\n",
      "16.txt\n",
      "160.txt\n"
     ]
    },
    {
     "name": "stderr",
     "output_type": "stream",
     "text": [
      "C:\\Users\\ingeg\\AppData\\Local\\Temp\\ipykernel_1336\\1388660847.py:61: FutureWarning: The frame.append method is deprecated and will be removed from pandas in a future version. Use pandas.concat instead.\n",
      "  df = df.append({\"File_Name\": filename,\"Date\":  date, \"Sentiment\":total_sentiment, \"Publisher\":publisher, \"Mentioned_Names\":article_names, \"Text\":article}, ignore_index=True)\n"
     ]
    },
    {
     "name": "stdout",
     "output_type": "stream",
     "text": [
      "161.txt\n"
     ]
    },
    {
     "name": "stderr",
     "output_type": "stream",
     "text": [
      "C:\\Users\\ingeg\\AppData\\Local\\Temp\\ipykernel_1336\\1388660847.py:61: FutureWarning: The frame.append method is deprecated and will be removed from pandas in a future version. Use pandas.concat instead.\n",
      "  df = df.append({\"File_Name\": filename,\"Date\":  date, \"Sentiment\":total_sentiment, \"Publisher\":publisher, \"Mentioned_Names\":article_names, \"Text\":article}, ignore_index=True)\n"
     ]
    },
    {
     "name": "stdout",
     "output_type": "stream",
     "text": [
      "162.txt\n"
     ]
    },
    {
     "name": "stderr",
     "output_type": "stream",
     "text": [
      "C:\\Users\\ingeg\\AppData\\Local\\Temp\\ipykernel_1336\\1388660847.py:61: FutureWarning: The frame.append method is deprecated and will be removed from pandas in a future version. Use pandas.concat instead.\n",
      "  df = df.append({\"File_Name\": filename,\"Date\":  date, \"Sentiment\":total_sentiment, \"Publisher\":publisher, \"Mentioned_Names\":article_names, \"Text\":article}, ignore_index=True)\n",
      "C:\\Users\\ingeg\\AppData\\Local\\Temp\\ipykernel_1336\\1388660847.py:61: FutureWarning: The frame.append method is deprecated and will be removed from pandas in a future version. Use pandas.concat instead.\n",
      "  df = df.append({\"File_Name\": filename,\"Date\":  date, \"Sentiment\":total_sentiment, \"Publisher\":publisher, \"Mentioned_Names\":article_names, \"Text\":article}, ignore_index=True)\n"
     ]
    },
    {
     "name": "stdout",
     "output_type": "stream",
     "text": [
      "163.txt\n",
      "164.txt\n"
     ]
    },
    {
     "name": "stderr",
     "output_type": "stream",
     "text": [
      "C:\\Users\\ingeg\\AppData\\Local\\Temp\\ipykernel_1336\\1388660847.py:61: FutureWarning: The frame.append method is deprecated and will be removed from pandas in a future version. Use pandas.concat instead.\n",
      "  df = df.append({\"File_Name\": filename,\"Date\":  date, \"Sentiment\":total_sentiment, \"Publisher\":publisher, \"Mentioned_Names\":article_names, \"Text\":article}, ignore_index=True)\n"
     ]
    },
    {
     "name": "stdout",
     "output_type": "stream",
     "text": [
      "165.txt\n"
     ]
    },
    {
     "name": "stderr",
     "output_type": "stream",
     "text": [
      "C:\\Users\\ingeg\\AppData\\Local\\Temp\\ipykernel_1336\\1388660847.py:61: FutureWarning: The frame.append method is deprecated and will be removed from pandas in a future version. Use pandas.concat instead.\n",
      "  df = df.append({\"File_Name\": filename,\"Date\":  date, \"Sentiment\":total_sentiment, \"Publisher\":publisher, \"Mentioned_Names\":article_names, \"Text\":article}, ignore_index=True)\n"
     ]
    },
    {
     "name": "stdout",
     "output_type": "stream",
     "text": [
      "166.txt\n"
     ]
    },
    {
     "name": "stderr",
     "output_type": "stream",
     "text": [
      "C:\\Users\\ingeg\\AppData\\Local\\Temp\\ipykernel_1336\\1388660847.py:61: FutureWarning: The frame.append method is deprecated and will be removed from pandas in a future version. Use pandas.concat instead.\n",
      "  df = df.append({\"File_Name\": filename,\"Date\":  date, \"Sentiment\":total_sentiment, \"Publisher\":publisher, \"Mentioned_Names\":article_names, \"Text\":article}, ignore_index=True)\n"
     ]
    },
    {
     "name": "stdout",
     "output_type": "stream",
     "text": [
      "167.txt\n"
     ]
    },
    {
     "name": "stderr",
     "output_type": "stream",
     "text": [
      "C:\\Users\\ingeg\\AppData\\Local\\Temp\\ipykernel_1336\\1388660847.py:61: FutureWarning: The frame.append method is deprecated and will be removed from pandas in a future version. Use pandas.concat instead.\n",
      "  df = df.append({\"File_Name\": filename,\"Date\":  date, \"Sentiment\":total_sentiment, \"Publisher\":publisher, \"Mentioned_Names\":article_names, \"Text\":article}, ignore_index=True)\n"
     ]
    },
    {
     "name": "stdout",
     "output_type": "stream",
     "text": [
      "168.txt\n"
     ]
    },
    {
     "name": "stderr",
     "output_type": "stream",
     "text": [
      "C:\\Users\\ingeg\\AppData\\Local\\Temp\\ipykernel_1336\\1388660847.py:61: FutureWarning: The frame.append method is deprecated and will be removed from pandas in a future version. Use pandas.concat instead.\n",
      "  df = df.append({\"File_Name\": filename,\"Date\":  date, \"Sentiment\":total_sentiment, \"Publisher\":publisher, \"Mentioned_Names\":article_names, \"Text\":article}, ignore_index=True)\n",
      "C:\\Users\\ingeg\\AppData\\Local\\Temp\\ipykernel_1336\\1388660847.py:61: FutureWarning: The frame.append method is deprecated and will be removed from pandas in a future version. Use pandas.concat instead.\n",
      "  df = df.append({\"File_Name\": filename,\"Date\":  date, \"Sentiment\":total_sentiment, \"Publisher\":publisher, \"Mentioned_Names\":article_names, \"Text\":article}, ignore_index=True)\n"
     ]
    },
    {
     "name": "stdout",
     "output_type": "stream",
     "text": [
      "169.txt\n",
      "17.txt\n"
     ]
    },
    {
     "name": "stderr",
     "output_type": "stream",
     "text": [
      "C:\\Users\\ingeg\\AppData\\Local\\Temp\\ipykernel_1336\\1388660847.py:61: FutureWarning: The frame.append method is deprecated and will be removed from pandas in a future version. Use pandas.concat instead.\n",
      "  df = df.append({\"File_Name\": filename,\"Date\":  date, \"Sentiment\":total_sentiment, \"Publisher\":publisher, \"Mentioned_Names\":article_names, \"Text\":article}, ignore_index=True)\n"
     ]
    },
    {
     "name": "stdout",
     "output_type": "stream",
     "text": [
      "170.txt\n"
     ]
    },
    {
     "name": "stderr",
     "output_type": "stream",
     "text": [
      "C:\\Users\\ingeg\\AppData\\Local\\Temp\\ipykernel_1336\\1388660847.py:61: FutureWarning: The frame.append method is deprecated and will be removed from pandas in a future version. Use pandas.concat instead.\n",
      "  df = df.append({\"File_Name\": filename,\"Date\":  date, \"Sentiment\":total_sentiment, \"Publisher\":publisher, \"Mentioned_Names\":article_names, \"Text\":article}, ignore_index=True)\n",
      "C:\\Users\\ingeg\\AppData\\Local\\Temp\\ipykernel_1336\\1388660847.py:61: FutureWarning: The frame.append method is deprecated and will be removed from pandas in a future version. Use pandas.concat instead.\n",
      "  df = df.append({\"File_Name\": filename,\"Date\":  date, \"Sentiment\":total_sentiment, \"Publisher\":publisher, \"Mentioned_Names\":article_names, \"Text\":article}, ignore_index=True)\n"
     ]
    },
    {
     "name": "stdout",
     "output_type": "stream",
     "text": [
      "171.txt\n",
      "172.txt\n"
     ]
    },
    {
     "name": "stderr",
     "output_type": "stream",
     "text": [
      "C:\\Users\\ingeg\\AppData\\Local\\Temp\\ipykernel_1336\\1388660847.py:61: FutureWarning: The frame.append method is deprecated and will be removed from pandas in a future version. Use pandas.concat instead.\n",
      "  df = df.append({\"File_Name\": filename,\"Date\":  date, \"Sentiment\":total_sentiment, \"Publisher\":publisher, \"Mentioned_Names\":article_names, \"Text\":article}, ignore_index=True)\n",
      "C:\\Users\\ingeg\\AppData\\Local\\Temp\\ipykernel_1336\\1388660847.py:61: FutureWarning: The frame.append method is deprecated and will be removed from pandas in a future version. Use pandas.concat instead.\n",
      "  df = df.append({\"File_Name\": filename,\"Date\":  date, \"Sentiment\":total_sentiment, \"Publisher\":publisher, \"Mentioned_Names\":article_names, \"Text\":article}, ignore_index=True)\n"
     ]
    },
    {
     "name": "stdout",
     "output_type": "stream",
     "text": [
      "173.txt\n",
      "174.txt\n"
     ]
    },
    {
     "name": "stderr",
     "output_type": "stream",
     "text": [
      "C:\\Users\\ingeg\\AppData\\Local\\Temp\\ipykernel_1336\\1388660847.py:61: FutureWarning: The frame.append method is deprecated and will be removed from pandas in a future version. Use pandas.concat instead.\n",
      "  df = df.append({\"File_Name\": filename,\"Date\":  date, \"Sentiment\":total_sentiment, \"Publisher\":publisher, \"Mentioned_Names\":article_names, \"Text\":article}, ignore_index=True)\n"
     ]
    },
    {
     "name": "stdout",
     "output_type": "stream",
     "text": [
      "175.txt\n"
     ]
    },
    {
     "name": "stderr",
     "output_type": "stream",
     "text": [
      "C:\\Users\\ingeg\\AppData\\Local\\Temp\\ipykernel_1336\\1388660847.py:61: FutureWarning: The frame.append method is deprecated and will be removed from pandas in a future version. Use pandas.concat instead.\n",
      "  df = df.append({\"File_Name\": filename,\"Date\":  date, \"Sentiment\":total_sentiment, \"Publisher\":publisher, \"Mentioned_Names\":article_names, \"Text\":article}, ignore_index=True)\n",
      "C:\\Users\\ingeg\\AppData\\Local\\Temp\\ipykernel_1336\\1388660847.py:61: FutureWarning: The frame.append method is deprecated and will be removed from pandas in a future version. Use pandas.concat instead.\n",
      "  df = df.append({\"File_Name\": filename,\"Date\":  date, \"Sentiment\":total_sentiment, \"Publisher\":publisher, \"Mentioned_Names\":article_names, \"Text\":article}, ignore_index=True)\n"
     ]
    },
    {
     "name": "stdout",
     "output_type": "stream",
     "text": [
      "176.txt\n",
      "177.txt\n"
     ]
    },
    {
     "name": "stderr",
     "output_type": "stream",
     "text": [
      "C:\\Users\\ingeg\\AppData\\Local\\Temp\\ipykernel_1336\\1388660847.py:61: FutureWarning: The frame.append method is deprecated and will be removed from pandas in a future version. Use pandas.concat instead.\n",
      "  df = df.append({\"File_Name\": filename,\"Date\":  date, \"Sentiment\":total_sentiment, \"Publisher\":publisher, \"Mentioned_Names\":article_names, \"Text\":article}, ignore_index=True)\n",
      "C:\\Users\\ingeg\\AppData\\Local\\Temp\\ipykernel_1336\\1388660847.py:61: FutureWarning: The frame.append method is deprecated and will be removed from pandas in a future version. Use pandas.concat instead.\n",
      "  df = df.append({\"File_Name\": filename,\"Date\":  date, \"Sentiment\":total_sentiment, \"Publisher\":publisher, \"Mentioned_Names\":article_names, \"Text\":article}, ignore_index=True)\n"
     ]
    },
    {
     "name": "stdout",
     "output_type": "stream",
     "text": [
      "178.txt\n",
      "179.txt\n"
     ]
    },
    {
     "name": "stderr",
     "output_type": "stream",
     "text": [
      "C:\\Users\\ingeg\\AppData\\Local\\Temp\\ipykernel_1336\\1388660847.py:61: FutureWarning: The frame.append method is deprecated and will be removed from pandas in a future version. Use pandas.concat instead.\n",
      "  df = df.append({\"File_Name\": filename,\"Date\":  date, \"Sentiment\":total_sentiment, \"Publisher\":publisher, \"Mentioned_Names\":article_names, \"Text\":article}, ignore_index=True)\n"
     ]
    },
    {
     "name": "stdout",
     "output_type": "stream",
     "text": [
      "18.txt\n"
     ]
    },
    {
     "name": "stderr",
     "output_type": "stream",
     "text": [
      "C:\\Users\\ingeg\\AppData\\Local\\Temp\\ipykernel_1336\\1388660847.py:61: FutureWarning: The frame.append method is deprecated and will be removed from pandas in a future version. Use pandas.concat instead.\n",
      "  df = df.append({\"File_Name\": filename,\"Date\":  date, \"Sentiment\":total_sentiment, \"Publisher\":publisher, \"Mentioned_Names\":article_names, \"Text\":article}, ignore_index=True)\n"
     ]
    },
    {
     "name": "stdout",
     "output_type": "stream",
     "text": [
      "180.txt\n"
     ]
    },
    {
     "name": "stderr",
     "output_type": "stream",
     "text": [
      "C:\\Users\\ingeg\\AppData\\Local\\Temp\\ipykernel_1336\\1388660847.py:61: FutureWarning: The frame.append method is deprecated and will be removed from pandas in a future version. Use pandas.concat instead.\n",
      "  df = df.append({\"File_Name\": filename,\"Date\":  date, \"Sentiment\":total_sentiment, \"Publisher\":publisher, \"Mentioned_Names\":article_names, \"Text\":article}, ignore_index=True)\n",
      "C:\\Users\\ingeg\\AppData\\Local\\Temp\\ipykernel_1336\\1388660847.py:61: FutureWarning: The frame.append method is deprecated and will be removed from pandas in a future version. Use pandas.concat instead.\n",
      "  df = df.append({\"File_Name\": filename,\"Date\":  date, \"Sentiment\":total_sentiment, \"Publisher\":publisher, \"Mentioned_Names\":article_names, \"Text\":article}, ignore_index=True)\n"
     ]
    },
    {
     "name": "stdout",
     "output_type": "stream",
     "text": [
      "181.txt\n",
      "182.txt\n"
     ]
    },
    {
     "name": "stderr",
     "output_type": "stream",
     "text": [
      "C:\\Users\\ingeg\\AppData\\Local\\Temp\\ipykernel_1336\\1388660847.py:61: FutureWarning: The frame.append method is deprecated and will be removed from pandas in a future version. Use pandas.concat instead.\n",
      "  df = df.append({\"File_Name\": filename,\"Date\":  date, \"Sentiment\":total_sentiment, \"Publisher\":publisher, \"Mentioned_Names\":article_names, \"Text\":article}, ignore_index=True)\n"
     ]
    },
    {
     "name": "stdout",
     "output_type": "stream",
     "text": [
      "183.txt\n"
     ]
    },
    {
     "name": "stderr",
     "output_type": "stream",
     "text": [
      "C:\\Users\\ingeg\\AppData\\Local\\Temp\\ipykernel_1336\\1388660847.py:61: FutureWarning: The frame.append method is deprecated and will be removed from pandas in a future version. Use pandas.concat instead.\n",
      "  df = df.append({\"File_Name\": filename,\"Date\":  date, \"Sentiment\":total_sentiment, \"Publisher\":publisher, \"Mentioned_Names\":article_names, \"Text\":article}, ignore_index=True)\n",
      "C:\\Users\\ingeg\\AppData\\Local\\Temp\\ipykernel_1336\\1388660847.py:61: FutureWarning: The frame.append method is deprecated and will be removed from pandas in a future version. Use pandas.concat instead.\n",
      "  df = df.append({\"File_Name\": filename,\"Date\":  date, \"Sentiment\":total_sentiment, \"Publisher\":publisher, \"Mentioned_Names\":article_names, \"Text\":article}, ignore_index=True)\n"
     ]
    },
    {
     "name": "stdout",
     "output_type": "stream",
     "text": [
      "184.txt\n",
      "185.txt\n"
     ]
    },
    {
     "name": "stderr",
     "output_type": "stream",
     "text": [
      "C:\\Users\\ingeg\\AppData\\Local\\Temp\\ipykernel_1336\\1388660847.py:61: FutureWarning: The frame.append method is deprecated and will be removed from pandas in a future version. Use pandas.concat instead.\n",
      "  df = df.append({\"File_Name\": filename,\"Date\":  date, \"Sentiment\":total_sentiment, \"Publisher\":publisher, \"Mentioned_Names\":article_names, \"Text\":article}, ignore_index=True)\n",
      "C:\\Users\\ingeg\\AppData\\Local\\Temp\\ipykernel_1336\\1388660847.py:61: FutureWarning: The frame.append method is deprecated and will be removed from pandas in a future version. Use pandas.concat instead.\n",
      "  df = df.append({\"File_Name\": filename,\"Date\":  date, \"Sentiment\":total_sentiment, \"Publisher\":publisher, \"Mentioned_Names\":article_names, \"Text\":article}, ignore_index=True)\n"
     ]
    },
    {
     "name": "stdout",
     "output_type": "stream",
     "text": [
      "186.txt\n",
      "187.txt\n"
     ]
    },
    {
     "name": "stderr",
     "output_type": "stream",
     "text": [
      "C:\\Users\\ingeg\\AppData\\Local\\Temp\\ipykernel_1336\\1388660847.py:61: FutureWarning: The frame.append method is deprecated and will be removed from pandas in a future version. Use pandas.concat instead.\n",
      "  df = df.append({\"File_Name\": filename,\"Date\":  date, \"Sentiment\":total_sentiment, \"Publisher\":publisher, \"Mentioned_Names\":article_names, \"Text\":article}, ignore_index=True)\n",
      "C:\\Users\\ingeg\\AppData\\Local\\Temp\\ipykernel_1336\\1388660847.py:61: FutureWarning: The frame.append method is deprecated and will be removed from pandas in a future version. Use pandas.concat instead.\n",
      "  df = df.append({\"File_Name\": filename,\"Date\":  date, \"Sentiment\":total_sentiment, \"Publisher\":publisher, \"Mentioned_Names\":article_names, \"Text\":article}, ignore_index=True)\n"
     ]
    },
    {
     "name": "stdout",
     "output_type": "stream",
     "text": [
      "188.txt\n",
      "189.txt\n"
     ]
    },
    {
     "name": "stderr",
     "output_type": "stream",
     "text": [
      "C:\\Users\\ingeg\\AppData\\Local\\Temp\\ipykernel_1336\\1388660847.py:61: FutureWarning: The frame.append method is deprecated and will be removed from pandas in a future version. Use pandas.concat instead.\n",
      "  df = df.append({\"File_Name\": filename,\"Date\":  date, \"Sentiment\":total_sentiment, \"Publisher\":publisher, \"Mentioned_Names\":article_names, \"Text\":article}, ignore_index=True)\n",
      "C:\\Users\\ingeg\\AppData\\Local\\Temp\\ipykernel_1336\\1388660847.py:61: FutureWarning: The frame.append method is deprecated and will be removed from pandas in a future version. Use pandas.concat instead.\n",
      "  df = df.append({\"File_Name\": filename,\"Date\":  date, \"Sentiment\":total_sentiment, \"Publisher\":publisher, \"Mentioned_Names\":article_names, \"Text\":article}, ignore_index=True)\n"
     ]
    },
    {
     "name": "stdout",
     "output_type": "stream",
     "text": [
      "19.txt\n",
      "190.txt\n"
     ]
    },
    {
     "name": "stderr",
     "output_type": "stream",
     "text": [
      "C:\\Users\\ingeg\\AppData\\Local\\Temp\\ipykernel_1336\\1388660847.py:61: FutureWarning: The frame.append method is deprecated and will be removed from pandas in a future version. Use pandas.concat instead.\n",
      "  df = df.append({\"File_Name\": filename,\"Date\":  date, \"Sentiment\":total_sentiment, \"Publisher\":publisher, \"Mentioned_Names\":article_names, \"Text\":article}, ignore_index=True)\n"
     ]
    },
    {
     "name": "stdout",
     "output_type": "stream",
     "text": [
      "191.txt\n"
     ]
    },
    {
     "name": "stderr",
     "output_type": "stream",
     "text": [
      "C:\\Users\\ingeg\\AppData\\Local\\Temp\\ipykernel_1336\\1388660847.py:61: FutureWarning: The frame.append method is deprecated and will be removed from pandas in a future version. Use pandas.concat instead.\n",
      "  df = df.append({\"File_Name\": filename,\"Date\":  date, \"Sentiment\":total_sentiment, \"Publisher\":publisher, \"Mentioned_Names\":article_names, \"Text\":article}, ignore_index=True)\n",
      "C:\\Users\\ingeg\\AppData\\Local\\Temp\\ipykernel_1336\\1388660847.py:61: FutureWarning: The frame.append method is deprecated and will be removed from pandas in a future version. Use pandas.concat instead.\n",
      "  df = df.append({\"File_Name\": filename,\"Date\":  date, \"Sentiment\":total_sentiment, \"Publisher\":publisher, \"Mentioned_Names\":article_names, \"Text\":article}, ignore_index=True)\n"
     ]
    },
    {
     "name": "stdout",
     "output_type": "stream",
     "text": [
      "192.txt\n",
      "193.txt\n",
      "194.txt\n"
     ]
    },
    {
     "name": "stderr",
     "output_type": "stream",
     "text": [
      "C:\\Users\\ingeg\\AppData\\Local\\Temp\\ipykernel_1336\\1388660847.py:61: FutureWarning: The frame.append method is deprecated and will be removed from pandas in a future version. Use pandas.concat instead.\n",
      "  df = df.append({\"File_Name\": filename,\"Date\":  date, \"Sentiment\":total_sentiment, \"Publisher\":publisher, \"Mentioned_Names\":article_names, \"Text\":article}, ignore_index=True)\n",
      "C:\\Users\\ingeg\\AppData\\Local\\Temp\\ipykernel_1336\\1388660847.py:61: FutureWarning: The frame.append method is deprecated and will be removed from pandas in a future version. Use pandas.concat instead.\n",
      "  df = df.append({\"File_Name\": filename,\"Date\":  date, \"Sentiment\":total_sentiment, \"Publisher\":publisher, \"Mentioned_Names\":article_names, \"Text\":article}, ignore_index=True)\n"
     ]
    },
    {
     "name": "stdout",
     "output_type": "stream",
     "text": [
      "195.txt\n"
     ]
    },
    {
     "name": "stderr",
     "output_type": "stream",
     "text": [
      "C:\\Users\\ingeg\\AppData\\Local\\Temp\\ipykernel_1336\\1388660847.py:61: FutureWarning: The frame.append method is deprecated and will be removed from pandas in a future version. Use pandas.concat instead.\n",
      "  df = df.append({\"File_Name\": filename,\"Date\":  date, \"Sentiment\":total_sentiment, \"Publisher\":publisher, \"Mentioned_Names\":article_names, \"Text\":article}, ignore_index=True)\n"
     ]
    },
    {
     "name": "stdout",
     "output_type": "stream",
     "text": [
      "196.txt\n"
     ]
    },
    {
     "name": "stderr",
     "output_type": "stream",
     "text": [
      "C:\\Users\\ingeg\\AppData\\Local\\Temp\\ipykernel_1336\\1388660847.py:61: FutureWarning: The frame.append method is deprecated and will be removed from pandas in a future version. Use pandas.concat instead.\n",
      "  df = df.append({\"File_Name\": filename,\"Date\":  date, \"Sentiment\":total_sentiment, \"Publisher\":publisher, \"Mentioned_Names\":article_names, \"Text\":article}, ignore_index=True)\n",
      "C:\\Users\\ingeg\\AppData\\Local\\Temp\\ipykernel_1336\\1388660847.py:61: FutureWarning: The frame.append method is deprecated and will be removed from pandas in a future version. Use pandas.concat instead.\n",
      "  df = df.append({\"File_Name\": filename,\"Date\":  date, \"Sentiment\":total_sentiment, \"Publisher\":publisher, \"Mentioned_Names\":article_names, \"Text\":article}, ignore_index=True)\n"
     ]
    },
    {
     "name": "stdout",
     "output_type": "stream",
     "text": [
      "197.txt\n",
      "198.txt\n"
     ]
    },
    {
     "name": "stderr",
     "output_type": "stream",
     "text": [
      "C:\\Users\\ingeg\\AppData\\Local\\Temp\\ipykernel_1336\\1388660847.py:61: FutureWarning: The frame.append method is deprecated and will be removed from pandas in a future version. Use pandas.concat instead.\n",
      "  df = df.append({\"File_Name\": filename,\"Date\":  date, \"Sentiment\":total_sentiment, \"Publisher\":publisher, \"Mentioned_Names\":article_names, \"Text\":article}, ignore_index=True)\n",
      "C:\\Users\\ingeg\\AppData\\Local\\Temp\\ipykernel_1336\\1388660847.py:61: FutureWarning: The frame.append method is deprecated and will be removed from pandas in a future version. Use pandas.concat instead.\n",
      "  df = df.append({\"File_Name\": filename,\"Date\":  date, \"Sentiment\":total_sentiment, \"Publisher\":publisher, \"Mentioned_Names\":article_names, \"Text\":article}, ignore_index=True)\n"
     ]
    },
    {
     "name": "stdout",
     "output_type": "stream",
     "text": [
      "199.txt\n",
      "2.txt\n"
     ]
    },
    {
     "name": "stderr",
     "output_type": "stream",
     "text": [
      "C:\\Users\\ingeg\\AppData\\Local\\Temp\\ipykernel_1336\\1388660847.py:61: FutureWarning: The frame.append method is deprecated and will be removed from pandas in a future version. Use pandas.concat instead.\n",
      "  df = df.append({\"File_Name\": filename,\"Date\":  date, \"Sentiment\":total_sentiment, \"Publisher\":publisher, \"Mentioned_Names\":article_names, \"Text\":article}, ignore_index=True)\n"
     ]
    },
    {
     "name": "stdout",
     "output_type": "stream",
     "text": [
      "20.txt\n"
     ]
    },
    {
     "name": "stderr",
     "output_type": "stream",
     "text": [
      "C:\\Users\\ingeg\\AppData\\Local\\Temp\\ipykernel_1336\\1388660847.py:61: FutureWarning: The frame.append method is deprecated and will be removed from pandas in a future version. Use pandas.concat instead.\n",
      "  df = df.append({\"File_Name\": filename,\"Date\":  date, \"Sentiment\":total_sentiment, \"Publisher\":publisher, \"Mentioned_Names\":article_names, \"Text\":article}, ignore_index=True)\n"
     ]
    },
    {
     "name": "stdout",
     "output_type": "stream",
     "text": [
      "200.txt\n"
     ]
    },
    {
     "name": "stderr",
     "output_type": "stream",
     "text": [
      "C:\\Users\\ingeg\\AppData\\Local\\Temp\\ipykernel_1336\\1388660847.py:61: FutureWarning: The frame.append method is deprecated and will be removed from pandas in a future version. Use pandas.concat instead.\n",
      "  df = df.append({\"File_Name\": filename,\"Date\":  date, \"Sentiment\":total_sentiment, \"Publisher\":publisher, \"Mentioned_Names\":article_names, \"Text\":article}, ignore_index=True)\n"
     ]
    },
    {
     "name": "stdout",
     "output_type": "stream",
     "text": [
      "201.txt\n"
     ]
    },
    {
     "name": "stderr",
     "output_type": "stream",
     "text": [
      "C:\\Users\\ingeg\\AppData\\Local\\Temp\\ipykernel_1336\\1388660847.py:61: FutureWarning: The frame.append method is deprecated and will be removed from pandas in a future version. Use pandas.concat instead.\n",
      "  df = df.append({\"File_Name\": filename,\"Date\":  date, \"Sentiment\":total_sentiment, \"Publisher\":publisher, \"Mentioned_Names\":article_names, \"Text\":article}, ignore_index=True)\n"
     ]
    },
    {
     "name": "stdout",
     "output_type": "stream",
     "text": [
      "202.txt\n"
     ]
    },
    {
     "name": "stderr",
     "output_type": "stream",
     "text": [
      "C:\\Users\\ingeg\\AppData\\Local\\Temp\\ipykernel_1336\\1388660847.py:61: FutureWarning: The frame.append method is deprecated and will be removed from pandas in a future version. Use pandas.concat instead.\n",
      "  df = df.append({\"File_Name\": filename,\"Date\":  date, \"Sentiment\":total_sentiment, \"Publisher\":publisher, \"Mentioned_Names\":article_names, \"Text\":article}, ignore_index=True)\n",
      "C:\\Users\\ingeg\\AppData\\Local\\Temp\\ipykernel_1336\\1388660847.py:61: FutureWarning: The frame.append method is deprecated and will be removed from pandas in a future version. Use pandas.concat instead.\n",
      "  df = df.append({\"File_Name\": filename,\"Date\":  date, \"Sentiment\":total_sentiment, \"Publisher\":publisher, \"Mentioned_Names\":article_names, \"Text\":article}, ignore_index=True)\n",
      "C:\\Users\\ingeg\\AppData\\Local\\Temp\\ipykernel_1336\\1388660847.py:61: FutureWarning: The frame.append method is deprecated and will be removed from pandas in a future version. Use pandas.concat instead.\n",
      "  df = df.append({\"File_Name\": filename,\"Date\":  date, \"Sentiment\":total_sentiment, \"Publisher\":publisher, \"Mentioned_Names\":article_names, \"Text\":article}, ignore_index=True)\n"
     ]
    },
    {
     "name": "stdout",
     "output_type": "stream",
     "text": [
      "203.txt\n",
      "204.txt\n",
      "205.txt\n"
     ]
    },
    {
     "name": "stderr",
     "output_type": "stream",
     "text": [
      "C:\\Users\\ingeg\\AppData\\Local\\Temp\\ipykernel_1336\\1388660847.py:61: FutureWarning: The frame.append method is deprecated and will be removed from pandas in a future version. Use pandas.concat instead.\n",
      "  df = df.append({\"File_Name\": filename,\"Date\":  date, \"Sentiment\":total_sentiment, \"Publisher\":publisher, \"Mentioned_Names\":article_names, \"Text\":article}, ignore_index=True)\n",
      "C:\\Users\\ingeg\\AppData\\Local\\Temp\\ipykernel_1336\\1388660847.py:61: FutureWarning: The frame.append method is deprecated and will be removed from pandas in a future version. Use pandas.concat instead.\n",
      "  df = df.append({\"File_Name\": filename,\"Date\":  date, \"Sentiment\":total_sentiment, \"Publisher\":publisher, \"Mentioned_Names\":article_names, \"Text\":article}, ignore_index=True)\n"
     ]
    },
    {
     "name": "stdout",
     "output_type": "stream",
     "text": [
      "206.txt\n",
      "207.txt\n"
     ]
    },
    {
     "name": "stderr",
     "output_type": "stream",
     "text": [
      "C:\\Users\\ingeg\\AppData\\Local\\Temp\\ipykernel_1336\\1388660847.py:61: FutureWarning: The frame.append method is deprecated and will be removed from pandas in a future version. Use pandas.concat instead.\n",
      "  df = df.append({\"File_Name\": filename,\"Date\":  date, \"Sentiment\":total_sentiment, \"Publisher\":publisher, \"Mentioned_Names\":article_names, \"Text\":article}, ignore_index=True)\n",
      "C:\\Users\\ingeg\\AppData\\Local\\Temp\\ipykernel_1336\\1388660847.py:61: FutureWarning: The frame.append method is deprecated and will be removed from pandas in a future version. Use pandas.concat instead.\n",
      "  df = df.append({\"File_Name\": filename,\"Date\":  date, \"Sentiment\":total_sentiment, \"Publisher\":publisher, \"Mentioned_Names\":article_names, \"Text\":article}, ignore_index=True)\n"
     ]
    },
    {
     "name": "stdout",
     "output_type": "stream",
     "text": [
      "208.txt\n",
      "209.txt\n"
     ]
    },
    {
     "name": "stderr",
     "output_type": "stream",
     "text": [
      "C:\\Users\\ingeg\\AppData\\Local\\Temp\\ipykernel_1336\\1388660847.py:61: FutureWarning: The frame.append method is deprecated and will be removed from pandas in a future version. Use pandas.concat instead.\n",
      "  df = df.append({\"File_Name\": filename,\"Date\":  date, \"Sentiment\":total_sentiment, \"Publisher\":publisher, \"Mentioned_Names\":article_names, \"Text\":article}, ignore_index=True)\n",
      "C:\\Users\\ingeg\\AppData\\Local\\Temp\\ipykernel_1336\\1388660847.py:61: FutureWarning: The frame.append method is deprecated and will be removed from pandas in a future version. Use pandas.concat instead.\n",
      "  df = df.append({\"File_Name\": filename,\"Date\":  date, \"Sentiment\":total_sentiment, \"Publisher\":publisher, \"Mentioned_Names\":article_names, \"Text\":article}, ignore_index=True)\n"
     ]
    },
    {
     "name": "stdout",
     "output_type": "stream",
     "text": [
      "21.txt\n",
      "210.txt\n"
     ]
    },
    {
     "name": "stderr",
     "output_type": "stream",
     "text": [
      "C:\\Users\\ingeg\\AppData\\Local\\Temp\\ipykernel_1336\\1388660847.py:61: FutureWarning: The frame.append method is deprecated and will be removed from pandas in a future version. Use pandas.concat instead.\n",
      "  df = df.append({\"File_Name\": filename,\"Date\":  date, \"Sentiment\":total_sentiment, \"Publisher\":publisher, \"Mentioned_Names\":article_names, \"Text\":article}, ignore_index=True)\n",
      "C:\\Users\\ingeg\\AppData\\Local\\Temp\\ipykernel_1336\\1388660847.py:61: FutureWarning: The frame.append method is deprecated and will be removed from pandas in a future version. Use pandas.concat instead.\n",
      "  df = df.append({\"File_Name\": filename,\"Date\":  date, \"Sentiment\":total_sentiment, \"Publisher\":publisher, \"Mentioned_Names\":article_names, \"Text\":article}, ignore_index=True)\n"
     ]
    },
    {
     "name": "stdout",
     "output_type": "stream",
     "text": [
      "211.txt\n",
      "212.txt\n",
      "213.txt\n"
     ]
    },
    {
     "name": "stderr",
     "output_type": "stream",
     "text": [
      "C:\\Users\\ingeg\\AppData\\Local\\Temp\\ipykernel_1336\\1388660847.py:61: FutureWarning: The frame.append method is deprecated and will be removed from pandas in a future version. Use pandas.concat instead.\n",
      "  df = df.append({\"File_Name\": filename,\"Date\":  date, \"Sentiment\":total_sentiment, \"Publisher\":publisher, \"Mentioned_Names\":article_names, \"Text\":article}, ignore_index=True)\n",
      "C:\\Users\\ingeg\\AppData\\Local\\Temp\\ipykernel_1336\\1388660847.py:61: FutureWarning: The frame.append method is deprecated and will be removed from pandas in a future version. Use pandas.concat instead.\n",
      "  df = df.append({\"File_Name\": filename,\"Date\":  date, \"Sentiment\":total_sentiment, \"Publisher\":publisher, \"Mentioned_Names\":article_names, \"Text\":article}, ignore_index=True)\n"
     ]
    },
    {
     "name": "stdout",
     "output_type": "stream",
     "text": [
      "214.txt\n"
     ]
    },
    {
     "name": "stderr",
     "output_type": "stream",
     "text": [
      "C:\\Users\\ingeg\\AppData\\Local\\Temp\\ipykernel_1336\\1388660847.py:61: FutureWarning: The frame.append method is deprecated and will be removed from pandas in a future version. Use pandas.concat instead.\n",
      "  df = df.append({\"File_Name\": filename,\"Date\":  date, \"Sentiment\":total_sentiment, \"Publisher\":publisher, \"Mentioned_Names\":article_names, \"Text\":article}, ignore_index=True)\n",
      "C:\\Users\\ingeg\\AppData\\Local\\Temp\\ipykernel_1336\\1388660847.py:61: FutureWarning: The frame.append method is deprecated and will be removed from pandas in a future version. Use pandas.concat instead.\n",
      "  df = df.append({\"File_Name\": filename,\"Date\":  date, \"Sentiment\":total_sentiment, \"Publisher\":publisher, \"Mentioned_Names\":article_names, \"Text\":article}, ignore_index=True)\n",
      "C:\\Users\\ingeg\\AppData\\Local\\Temp\\ipykernel_1336\\1388660847.py:61: FutureWarning: The frame.append method is deprecated and will be removed from pandas in a future version. Use pandas.concat instead.\n",
      "  df = df.append({\"File_Name\": filename,\"Date\":  date, \"Sentiment\":total_sentiment, \"Publisher\":publisher, \"Mentioned_Names\":article_names, \"Text\":article}, ignore_index=True)\n"
     ]
    },
    {
     "name": "stdout",
     "output_type": "stream",
     "text": [
      "215.txt\n",
      "216.txt\n",
      "217.txt\n"
     ]
    },
    {
     "name": "stderr",
     "output_type": "stream",
     "text": [
      "C:\\Users\\ingeg\\AppData\\Local\\Temp\\ipykernel_1336\\1388660847.py:61: FutureWarning: The frame.append method is deprecated and will be removed from pandas in a future version. Use pandas.concat instead.\n",
      "  df = df.append({\"File_Name\": filename,\"Date\":  date, \"Sentiment\":total_sentiment, \"Publisher\":publisher, \"Mentioned_Names\":article_names, \"Text\":article}, ignore_index=True)\n",
      "C:\\Users\\ingeg\\AppData\\Local\\Temp\\ipykernel_1336\\1388660847.py:61: FutureWarning: The frame.append method is deprecated and will be removed from pandas in a future version. Use pandas.concat instead.\n",
      "  df = df.append({\"File_Name\": filename,\"Date\":  date, \"Sentiment\":total_sentiment, \"Publisher\":publisher, \"Mentioned_Names\":article_names, \"Text\":article}, ignore_index=True)\n",
      "C:\\Users\\ingeg\\AppData\\Local\\Temp\\ipykernel_1336\\1388660847.py:61: FutureWarning: The frame.append method is deprecated and will be removed from pandas in a future version. Use pandas.concat instead.\n",
      "  df = df.append({\"File_Name\": filename,\"Date\":  date, \"Sentiment\":total_sentiment, \"Publisher\":publisher, \"Mentioned_Names\":article_names, \"Text\":article}, ignore_index=True)\n"
     ]
    },
    {
     "name": "stdout",
     "output_type": "stream",
     "text": [
      "218.txt\n",
      "219.txt\n",
      "22.txt\n"
     ]
    },
    {
     "name": "stderr",
     "output_type": "stream",
     "text": [
      "C:\\Users\\ingeg\\AppData\\Local\\Temp\\ipykernel_1336\\1388660847.py:61: FutureWarning: The frame.append method is deprecated and will be removed from pandas in a future version. Use pandas.concat instead.\n",
      "  df = df.append({\"File_Name\": filename,\"Date\":  date, \"Sentiment\":total_sentiment, \"Publisher\":publisher, \"Mentioned_Names\":article_names, \"Text\":article}, ignore_index=True)\n"
     ]
    },
    {
     "name": "stdout",
     "output_type": "stream",
     "text": [
      "220.txt\n"
     ]
    },
    {
     "name": "stderr",
     "output_type": "stream",
     "text": [
      "C:\\Users\\ingeg\\AppData\\Local\\Temp\\ipykernel_1336\\1388660847.py:61: FutureWarning: The frame.append method is deprecated and will be removed from pandas in a future version. Use pandas.concat instead.\n",
      "  df = df.append({\"File_Name\": filename,\"Date\":  date, \"Sentiment\":total_sentiment, \"Publisher\":publisher, \"Mentioned_Names\":article_names, \"Text\":article}, ignore_index=True)\n",
      "C:\\Users\\ingeg\\AppData\\Local\\Temp\\ipykernel_1336\\1388660847.py:61: FutureWarning: The frame.append method is deprecated and will be removed from pandas in a future version. Use pandas.concat instead.\n",
      "  df = df.append({\"File_Name\": filename,\"Date\":  date, \"Sentiment\":total_sentiment, \"Publisher\":publisher, \"Mentioned_Names\":article_names, \"Text\":article}, ignore_index=True)\n"
     ]
    },
    {
     "name": "stdout",
     "output_type": "stream",
     "text": [
      "221.txt\n",
      "222.txt\n"
     ]
    },
    {
     "name": "stderr",
     "output_type": "stream",
     "text": [
      "C:\\Users\\ingeg\\AppData\\Local\\Temp\\ipykernel_1336\\1388660847.py:61: FutureWarning: The frame.append method is deprecated and will be removed from pandas in a future version. Use pandas.concat instead.\n",
      "  df = df.append({\"File_Name\": filename,\"Date\":  date, \"Sentiment\":total_sentiment, \"Publisher\":publisher, \"Mentioned_Names\":article_names, \"Text\":article}, ignore_index=True)\n"
     ]
    },
    {
     "name": "stdout",
     "output_type": "stream",
     "text": [
      "223.txt\n"
     ]
    },
    {
     "name": "stderr",
     "output_type": "stream",
     "text": [
      "C:\\Users\\ingeg\\AppData\\Local\\Temp\\ipykernel_1336\\1388660847.py:61: FutureWarning: The frame.append method is deprecated and will be removed from pandas in a future version. Use pandas.concat instead.\n",
      "  df = df.append({\"File_Name\": filename,\"Date\":  date, \"Sentiment\":total_sentiment, \"Publisher\":publisher, \"Mentioned_Names\":article_names, \"Text\":article}, ignore_index=True)\n",
      "C:\\Users\\ingeg\\AppData\\Local\\Temp\\ipykernel_1336\\1388660847.py:61: FutureWarning: The frame.append method is deprecated and will be removed from pandas in a future version. Use pandas.concat instead.\n",
      "  df = df.append({\"File_Name\": filename,\"Date\":  date, \"Sentiment\":total_sentiment, \"Publisher\":publisher, \"Mentioned_Names\":article_names, \"Text\":article}, ignore_index=True)\n"
     ]
    },
    {
     "name": "stdout",
     "output_type": "stream",
     "text": [
      "224.txt\n",
      "225.txt\n"
     ]
    },
    {
     "name": "stderr",
     "output_type": "stream",
     "text": [
      "C:\\Users\\ingeg\\AppData\\Local\\Temp\\ipykernel_1336\\1388660847.py:61: FutureWarning: The frame.append method is deprecated and will be removed from pandas in a future version. Use pandas.concat instead.\n",
      "  df = df.append({\"File_Name\": filename,\"Date\":  date, \"Sentiment\":total_sentiment, \"Publisher\":publisher, \"Mentioned_Names\":article_names, \"Text\":article}, ignore_index=True)\n",
      "C:\\Users\\ingeg\\AppData\\Local\\Temp\\ipykernel_1336\\1388660847.py:61: FutureWarning: The frame.append method is deprecated and will be removed from pandas in a future version. Use pandas.concat instead.\n",
      "  df = df.append({\"File_Name\": filename,\"Date\":  date, \"Sentiment\":total_sentiment, \"Publisher\":publisher, \"Mentioned_Names\":article_names, \"Text\":article}, ignore_index=True)\n"
     ]
    },
    {
     "name": "stdout",
     "output_type": "stream",
     "text": [
      "226.txt\n",
      "227.txt\n"
     ]
    },
    {
     "name": "stderr",
     "output_type": "stream",
     "text": [
      "C:\\Users\\ingeg\\AppData\\Local\\Temp\\ipykernel_1336\\1388660847.py:61: FutureWarning: The frame.append method is deprecated and will be removed from pandas in a future version. Use pandas.concat instead.\n",
      "  df = df.append({\"File_Name\": filename,\"Date\":  date, \"Sentiment\":total_sentiment, \"Publisher\":publisher, \"Mentioned_Names\":article_names, \"Text\":article}, ignore_index=True)\n",
      "C:\\Users\\ingeg\\AppData\\Local\\Temp\\ipykernel_1336\\1388660847.py:61: FutureWarning: The frame.append method is deprecated and will be removed from pandas in a future version. Use pandas.concat instead.\n",
      "  df = df.append({\"File_Name\": filename,\"Date\":  date, \"Sentiment\":total_sentiment, \"Publisher\":publisher, \"Mentioned_Names\":article_names, \"Text\":article}, ignore_index=True)\n"
     ]
    },
    {
     "name": "stdout",
     "output_type": "stream",
     "text": [
      "228.txt\n",
      "229.txt\n"
     ]
    },
    {
     "name": "stderr",
     "output_type": "stream",
     "text": [
      "C:\\Users\\ingeg\\AppData\\Local\\Temp\\ipykernel_1336\\1388660847.py:61: FutureWarning: The frame.append method is deprecated and will be removed from pandas in a future version. Use pandas.concat instead.\n",
      "  df = df.append({\"File_Name\": filename,\"Date\":  date, \"Sentiment\":total_sentiment, \"Publisher\":publisher, \"Mentioned_Names\":article_names, \"Text\":article}, ignore_index=True)\n"
     ]
    },
    {
     "name": "stdout",
     "output_type": "stream",
     "text": [
      "23.txt\n"
     ]
    },
    {
     "name": "stderr",
     "output_type": "stream",
     "text": [
      "C:\\Users\\ingeg\\AppData\\Local\\Temp\\ipykernel_1336\\1388660847.py:61: FutureWarning: The frame.append method is deprecated and will be removed from pandas in a future version. Use pandas.concat instead.\n",
      "  df = df.append({\"File_Name\": filename,\"Date\":  date, \"Sentiment\":total_sentiment, \"Publisher\":publisher, \"Mentioned_Names\":article_names, \"Text\":article}, ignore_index=True)\n"
     ]
    },
    {
     "name": "stdout",
     "output_type": "stream",
     "text": [
      "230.txt\n"
     ]
    },
    {
     "name": "stderr",
     "output_type": "stream",
     "text": [
      "C:\\Users\\ingeg\\AppData\\Local\\Temp\\ipykernel_1336\\1388660847.py:61: FutureWarning: The frame.append method is deprecated and will be removed from pandas in a future version. Use pandas.concat instead.\n",
      "  df = df.append({\"File_Name\": filename,\"Date\":  date, \"Sentiment\":total_sentiment, \"Publisher\":publisher, \"Mentioned_Names\":article_names, \"Text\":article}, ignore_index=True)\n",
      "C:\\Users\\ingeg\\AppData\\Local\\Temp\\ipykernel_1336\\1388660847.py:61: FutureWarning: The frame.append method is deprecated and will be removed from pandas in a future version. Use pandas.concat instead.\n",
      "  df = df.append({\"File_Name\": filename,\"Date\":  date, \"Sentiment\":total_sentiment, \"Publisher\":publisher, \"Mentioned_Names\":article_names, \"Text\":article}, ignore_index=True)\n"
     ]
    },
    {
     "name": "stdout",
     "output_type": "stream",
     "text": [
      "231.txt\n",
      "232.txt\n"
     ]
    },
    {
     "name": "stderr",
     "output_type": "stream",
     "text": [
      "C:\\Users\\ingeg\\AppData\\Local\\Temp\\ipykernel_1336\\1388660847.py:61: FutureWarning: The frame.append method is deprecated and will be removed from pandas in a future version. Use pandas.concat instead.\n",
      "  df = df.append({\"File_Name\": filename,\"Date\":  date, \"Sentiment\":total_sentiment, \"Publisher\":publisher, \"Mentioned_Names\":article_names, \"Text\":article}, ignore_index=True)\n",
      "C:\\Users\\ingeg\\AppData\\Local\\Temp\\ipykernel_1336\\1388660847.py:61: FutureWarning: The frame.append method is deprecated and will be removed from pandas in a future version. Use pandas.concat instead.\n",
      "  df = df.append({\"File_Name\": filename,\"Date\":  date, \"Sentiment\":total_sentiment, \"Publisher\":publisher, \"Mentioned_Names\":article_names, \"Text\":article}, ignore_index=True)\n"
     ]
    },
    {
     "name": "stdout",
     "output_type": "stream",
     "text": [
      "233.txt\n",
      "234.txt\n"
     ]
    },
    {
     "name": "stderr",
     "output_type": "stream",
     "text": [
      "C:\\Users\\ingeg\\AppData\\Local\\Temp\\ipykernel_1336\\1388660847.py:61: FutureWarning: The frame.append method is deprecated and will be removed from pandas in a future version. Use pandas.concat instead.\n",
      "  df = df.append({\"File_Name\": filename,\"Date\":  date, \"Sentiment\":total_sentiment, \"Publisher\":publisher, \"Mentioned_Names\":article_names, \"Text\":article}, ignore_index=True)\n"
     ]
    },
    {
     "name": "stdout",
     "output_type": "stream",
     "text": [
      "235.txt\n"
     ]
    },
    {
     "name": "stderr",
     "output_type": "stream",
     "text": [
      "C:\\Users\\ingeg\\AppData\\Local\\Temp\\ipykernel_1336\\1388660847.py:61: FutureWarning: The frame.append method is deprecated and will be removed from pandas in a future version. Use pandas.concat instead.\n",
      "  df = df.append({\"File_Name\": filename,\"Date\":  date, \"Sentiment\":total_sentiment, \"Publisher\":publisher, \"Mentioned_Names\":article_names, \"Text\":article}, ignore_index=True)\n"
     ]
    },
    {
     "name": "stdout",
     "output_type": "stream",
     "text": [
      "236.txt\n"
     ]
    },
    {
     "name": "stderr",
     "output_type": "stream",
     "text": [
      "C:\\Users\\ingeg\\AppData\\Local\\Temp\\ipykernel_1336\\1388660847.py:61: FutureWarning: The frame.append method is deprecated and will be removed from pandas in a future version. Use pandas.concat instead.\n",
      "  df = df.append({\"File_Name\": filename,\"Date\":  date, \"Sentiment\":total_sentiment, \"Publisher\":publisher, \"Mentioned_Names\":article_names, \"Text\":article}, ignore_index=True)\n"
     ]
    },
    {
     "name": "stdout",
     "output_type": "stream",
     "text": [
      "237.txt\n"
     ]
    },
    {
     "name": "stderr",
     "output_type": "stream",
     "text": [
      "C:\\Users\\ingeg\\AppData\\Local\\Temp\\ipykernel_1336\\1388660847.py:61: FutureWarning: The frame.append method is deprecated and will be removed from pandas in a future version. Use pandas.concat instead.\n",
      "  df = df.append({\"File_Name\": filename,\"Date\":  date, \"Sentiment\":total_sentiment, \"Publisher\":publisher, \"Mentioned_Names\":article_names, \"Text\":article}, ignore_index=True)\n"
     ]
    },
    {
     "name": "stdout",
     "output_type": "stream",
     "text": [
      "238.txt\n"
     ]
    },
    {
     "name": "stderr",
     "output_type": "stream",
     "text": [
      "C:\\Users\\ingeg\\AppData\\Local\\Temp\\ipykernel_1336\\1388660847.py:61: FutureWarning: The frame.append method is deprecated and will be removed from pandas in a future version. Use pandas.concat instead.\n",
      "  df = df.append({\"File_Name\": filename,\"Date\":  date, \"Sentiment\":total_sentiment, \"Publisher\":publisher, \"Mentioned_Names\":article_names, \"Text\":article}, ignore_index=True)\n",
      "C:\\Users\\ingeg\\AppData\\Local\\Temp\\ipykernel_1336\\1388660847.py:61: FutureWarning: The frame.append method is deprecated and will be removed from pandas in a future version. Use pandas.concat instead.\n",
      "  df = df.append({\"File_Name\": filename,\"Date\":  date, \"Sentiment\":total_sentiment, \"Publisher\":publisher, \"Mentioned_Names\":article_names, \"Text\":article}, ignore_index=True)\n"
     ]
    },
    {
     "name": "stdout",
     "output_type": "stream",
     "text": [
      "239.txt\n",
      "24.txt\n"
     ]
    },
    {
     "name": "stderr",
     "output_type": "stream",
     "text": [
      "C:\\Users\\ingeg\\AppData\\Local\\Temp\\ipykernel_1336\\1388660847.py:61: FutureWarning: The frame.append method is deprecated and will be removed from pandas in a future version. Use pandas.concat instead.\n",
      "  df = df.append({\"File_Name\": filename,\"Date\":  date, \"Sentiment\":total_sentiment, \"Publisher\":publisher, \"Mentioned_Names\":article_names, \"Text\":article}, ignore_index=True)\n"
     ]
    },
    {
     "name": "stdout",
     "output_type": "stream",
     "text": [
      "240.txt\n"
     ]
    },
    {
     "name": "stderr",
     "output_type": "stream",
     "text": [
      "C:\\Users\\ingeg\\AppData\\Local\\Temp\\ipykernel_1336\\1388660847.py:61: FutureWarning: The frame.append method is deprecated and will be removed from pandas in a future version. Use pandas.concat instead.\n",
      "  df = df.append({\"File_Name\": filename,\"Date\":  date, \"Sentiment\":total_sentiment, \"Publisher\":publisher, \"Mentioned_Names\":article_names, \"Text\":article}, ignore_index=True)\n"
     ]
    },
    {
     "name": "stdout",
     "output_type": "stream",
     "text": [
      "241.txt\n"
     ]
    },
    {
     "name": "stderr",
     "output_type": "stream",
     "text": [
      "C:\\Users\\ingeg\\AppData\\Local\\Temp\\ipykernel_1336\\1388660847.py:61: FutureWarning: The frame.append method is deprecated and will be removed from pandas in a future version. Use pandas.concat instead.\n",
      "  df = df.append({\"File_Name\": filename,\"Date\":  date, \"Sentiment\":total_sentiment, \"Publisher\":publisher, \"Mentioned_Names\":article_names, \"Text\":article}, ignore_index=True)\n"
     ]
    },
    {
     "name": "stdout",
     "output_type": "stream",
     "text": [
      "242.txt\n"
     ]
    },
    {
     "name": "stderr",
     "output_type": "stream",
     "text": [
      "C:\\Users\\ingeg\\AppData\\Local\\Temp\\ipykernel_1336\\1388660847.py:61: FutureWarning: The frame.append method is deprecated and will be removed from pandas in a future version. Use pandas.concat instead.\n",
      "  df = df.append({\"File_Name\": filename,\"Date\":  date, \"Sentiment\":total_sentiment, \"Publisher\":publisher, \"Mentioned_Names\":article_names, \"Text\":article}, ignore_index=True)\n",
      "C:\\Users\\ingeg\\AppData\\Local\\Temp\\ipykernel_1336\\1388660847.py:61: FutureWarning: The frame.append method is deprecated and will be removed from pandas in a future version. Use pandas.concat instead.\n",
      "  df = df.append({\"File_Name\": filename,\"Date\":  date, \"Sentiment\":total_sentiment, \"Publisher\":publisher, \"Mentioned_Names\":article_names, \"Text\":article}, ignore_index=True)\n"
     ]
    },
    {
     "name": "stdout",
     "output_type": "stream",
     "text": [
      "243.txt\n",
      "244.txt\n"
     ]
    },
    {
     "name": "stderr",
     "output_type": "stream",
     "text": [
      "C:\\Users\\ingeg\\AppData\\Local\\Temp\\ipykernel_1336\\1388660847.py:61: FutureWarning: The frame.append method is deprecated and will be removed from pandas in a future version. Use pandas.concat instead.\n",
      "  df = df.append({\"File_Name\": filename,\"Date\":  date, \"Sentiment\":total_sentiment, \"Publisher\":publisher, \"Mentioned_Names\":article_names, \"Text\":article}, ignore_index=True)\n"
     ]
    },
    {
     "name": "stdout",
     "output_type": "stream",
     "text": [
      "245.txt\n"
     ]
    },
    {
     "name": "stderr",
     "output_type": "stream",
     "text": [
      "C:\\Users\\ingeg\\AppData\\Local\\Temp\\ipykernel_1336\\1388660847.py:61: FutureWarning: The frame.append method is deprecated and will be removed from pandas in a future version. Use pandas.concat instead.\n",
      "  df = df.append({\"File_Name\": filename,\"Date\":  date, \"Sentiment\":total_sentiment, \"Publisher\":publisher, \"Mentioned_Names\":article_names, \"Text\":article}, ignore_index=True)\n"
     ]
    },
    {
     "name": "stdout",
     "output_type": "stream",
     "text": [
      "246.txt\n"
     ]
    },
    {
     "name": "stderr",
     "output_type": "stream",
     "text": [
      "C:\\Users\\ingeg\\AppData\\Local\\Temp\\ipykernel_1336\\1388660847.py:61: FutureWarning: The frame.append method is deprecated and will be removed from pandas in a future version. Use pandas.concat instead.\n",
      "  df = df.append({\"File_Name\": filename,\"Date\":  date, \"Sentiment\":total_sentiment, \"Publisher\":publisher, \"Mentioned_Names\":article_names, \"Text\":article}, ignore_index=True)\n",
      "C:\\Users\\ingeg\\AppData\\Local\\Temp\\ipykernel_1336\\1388660847.py:61: FutureWarning: The frame.append method is deprecated and will be removed from pandas in a future version. Use pandas.concat instead.\n",
      "  df = df.append({\"File_Name\": filename,\"Date\":  date, \"Sentiment\":total_sentiment, \"Publisher\":publisher, \"Mentioned_Names\":article_names, \"Text\":article}, ignore_index=True)\n"
     ]
    },
    {
     "name": "stdout",
     "output_type": "stream",
     "text": [
      "247.txt\n",
      "248.txt\n"
     ]
    },
    {
     "name": "stderr",
     "output_type": "stream",
     "text": [
      "C:\\Users\\ingeg\\AppData\\Local\\Temp\\ipykernel_1336\\1388660847.py:61: FutureWarning: The frame.append method is deprecated and will be removed from pandas in a future version. Use pandas.concat instead.\n",
      "  df = df.append({\"File_Name\": filename,\"Date\":  date, \"Sentiment\":total_sentiment, \"Publisher\":publisher, \"Mentioned_Names\":article_names, \"Text\":article}, ignore_index=True)\n"
     ]
    },
    {
     "name": "stdout",
     "output_type": "stream",
     "text": [
      "249.txt\n"
     ]
    },
    {
     "name": "stderr",
     "output_type": "stream",
     "text": [
      "C:\\Users\\ingeg\\AppData\\Local\\Temp\\ipykernel_1336\\1388660847.py:61: FutureWarning: The frame.append method is deprecated and will be removed from pandas in a future version. Use pandas.concat instead.\n",
      "  df = df.append({\"File_Name\": filename,\"Date\":  date, \"Sentiment\":total_sentiment, \"Publisher\":publisher, \"Mentioned_Names\":article_names, \"Text\":article}, ignore_index=True)\n",
      "C:\\Users\\ingeg\\AppData\\Local\\Temp\\ipykernel_1336\\1388660847.py:61: FutureWarning: The frame.append method is deprecated and will be removed from pandas in a future version. Use pandas.concat instead.\n",
      "  df = df.append({\"File_Name\": filename,\"Date\":  date, \"Sentiment\":total_sentiment, \"Publisher\":publisher, \"Mentioned_Names\":article_names, \"Text\":article}, ignore_index=True)\n"
     ]
    },
    {
     "name": "stdout",
     "output_type": "stream",
     "text": [
      "25.txt\n",
      "250.txt\n"
     ]
    },
    {
     "name": "stderr",
     "output_type": "stream",
     "text": [
      "C:\\Users\\ingeg\\AppData\\Local\\Temp\\ipykernel_1336\\1388660847.py:61: FutureWarning: The frame.append method is deprecated and will be removed from pandas in a future version. Use pandas.concat instead.\n",
      "  df = df.append({\"File_Name\": filename,\"Date\":  date, \"Sentiment\":total_sentiment, \"Publisher\":publisher, \"Mentioned_Names\":article_names, \"Text\":article}, ignore_index=True)\n",
      "C:\\Users\\ingeg\\AppData\\Local\\Temp\\ipykernel_1336\\1388660847.py:61: FutureWarning: The frame.append method is deprecated and will be removed from pandas in a future version. Use pandas.concat instead.\n",
      "  df = df.append({\"File_Name\": filename,\"Date\":  date, \"Sentiment\":total_sentiment, \"Publisher\":publisher, \"Mentioned_Names\":article_names, \"Text\":article}, ignore_index=True)\n",
      "C:\\Users\\ingeg\\AppData\\Local\\Temp\\ipykernel_1336\\1388660847.py:61: FutureWarning: The frame.append method is deprecated and will be removed from pandas in a future version. Use pandas.concat instead.\n",
      "  df = df.append({\"File_Name\": filename,\"Date\":  date, \"Sentiment\":total_sentiment, \"Publisher\":publisher, \"Mentioned_Names\":article_names, \"Text\":article}, ignore_index=True)\n"
     ]
    },
    {
     "name": "stdout",
     "output_type": "stream",
     "text": [
      "251.txt\n",
      "252.txt\n",
      "253.txt\n",
      "254.txt\n"
     ]
    },
    {
     "name": "stderr",
     "output_type": "stream",
     "text": [
      "C:\\Users\\ingeg\\AppData\\Local\\Temp\\ipykernel_1336\\1388660847.py:61: FutureWarning: The frame.append method is deprecated and will be removed from pandas in a future version. Use pandas.concat instead.\n",
      "  df = df.append({\"File_Name\": filename,\"Date\":  date, \"Sentiment\":total_sentiment, \"Publisher\":publisher, \"Mentioned_Names\":article_names, \"Text\":article}, ignore_index=True)\n",
      "C:\\Users\\ingeg\\AppData\\Local\\Temp\\ipykernel_1336\\1388660847.py:61: FutureWarning: The frame.append method is deprecated and will be removed from pandas in a future version. Use pandas.concat instead.\n",
      "  df = df.append({\"File_Name\": filename,\"Date\":  date, \"Sentiment\":total_sentiment, \"Publisher\":publisher, \"Mentioned_Names\":article_names, \"Text\":article}, ignore_index=True)\n"
     ]
    },
    {
     "name": "stdout",
     "output_type": "stream",
     "text": [
      "255.txt\n"
     ]
    },
    {
     "name": "stderr",
     "output_type": "stream",
     "text": [
      "C:\\Users\\ingeg\\AppData\\Local\\Temp\\ipykernel_1336\\1388660847.py:61: FutureWarning: The frame.append method is deprecated and will be removed from pandas in a future version. Use pandas.concat instead.\n",
      "  df = df.append({\"File_Name\": filename,\"Date\":  date, \"Sentiment\":total_sentiment, \"Publisher\":publisher, \"Mentioned_Names\":article_names, \"Text\":article}, ignore_index=True)\n",
      "C:\\Users\\ingeg\\AppData\\Local\\Temp\\ipykernel_1336\\1388660847.py:61: FutureWarning: The frame.append method is deprecated and will be removed from pandas in a future version. Use pandas.concat instead.\n",
      "  df = df.append({\"File_Name\": filename,\"Date\":  date, \"Sentiment\":total_sentiment, \"Publisher\":publisher, \"Mentioned_Names\":article_names, \"Text\":article}, ignore_index=True)\n"
     ]
    },
    {
     "name": "stdout",
     "output_type": "stream",
     "text": [
      "256.txt\n",
      "257.txt\n"
     ]
    },
    {
     "name": "stderr",
     "output_type": "stream",
     "text": [
      "C:\\Users\\ingeg\\AppData\\Local\\Temp\\ipykernel_1336\\1388660847.py:61: FutureWarning: The frame.append method is deprecated and will be removed from pandas in a future version. Use pandas.concat instead.\n",
      "  df = df.append({\"File_Name\": filename,\"Date\":  date, \"Sentiment\":total_sentiment, \"Publisher\":publisher, \"Mentioned_Names\":article_names, \"Text\":article}, ignore_index=True)\n"
     ]
    },
    {
     "name": "stdout",
     "output_type": "stream",
     "text": [
      "258.txt\n"
     ]
    },
    {
     "name": "stderr",
     "output_type": "stream",
     "text": [
      "C:\\Users\\ingeg\\AppData\\Local\\Temp\\ipykernel_1336\\1388660847.py:61: FutureWarning: The frame.append method is deprecated and will be removed from pandas in a future version. Use pandas.concat instead.\n",
      "  df = df.append({\"File_Name\": filename,\"Date\":  date, \"Sentiment\":total_sentiment, \"Publisher\":publisher, \"Mentioned_Names\":article_names, \"Text\":article}, ignore_index=True)\n",
      "C:\\Users\\ingeg\\AppData\\Local\\Temp\\ipykernel_1336\\1388660847.py:61: FutureWarning: The frame.append method is deprecated and will be removed from pandas in a future version. Use pandas.concat instead.\n",
      "  df = df.append({\"File_Name\": filename,\"Date\":  date, \"Sentiment\":total_sentiment, \"Publisher\":publisher, \"Mentioned_Names\":article_names, \"Text\":article}, ignore_index=True)\n"
     ]
    },
    {
     "name": "stdout",
     "output_type": "stream",
     "text": [
      "259.txt\n",
      "26.txt\n"
     ]
    },
    {
     "name": "stderr",
     "output_type": "stream",
     "text": [
      "C:\\Users\\ingeg\\AppData\\Local\\Temp\\ipykernel_1336\\1388660847.py:61: FutureWarning: The frame.append method is deprecated and will be removed from pandas in a future version. Use pandas.concat instead.\n",
      "  df = df.append({\"File_Name\": filename,\"Date\":  date, \"Sentiment\":total_sentiment, \"Publisher\":publisher, \"Mentioned_Names\":article_names, \"Text\":article}, ignore_index=True)\n"
     ]
    },
    {
     "name": "stdout",
     "output_type": "stream",
     "text": [
      "260.txt\n"
     ]
    },
    {
     "name": "stderr",
     "output_type": "stream",
     "text": [
      "C:\\Users\\ingeg\\AppData\\Local\\Temp\\ipykernel_1336\\1388660847.py:61: FutureWarning: The frame.append method is deprecated and will be removed from pandas in a future version. Use pandas.concat instead.\n",
      "  df = df.append({\"File_Name\": filename,\"Date\":  date, \"Sentiment\":total_sentiment, \"Publisher\":publisher, \"Mentioned_Names\":article_names, \"Text\":article}, ignore_index=True)\n",
      "C:\\Users\\ingeg\\AppData\\Local\\Temp\\ipykernel_1336\\1388660847.py:61: FutureWarning: The frame.append method is deprecated and will be removed from pandas in a future version. Use pandas.concat instead.\n",
      "  df = df.append({\"File_Name\": filename,\"Date\":  date, \"Sentiment\":total_sentiment, \"Publisher\":publisher, \"Mentioned_Names\":article_names, \"Text\":article}, ignore_index=True)\n"
     ]
    },
    {
     "name": "stdout",
     "output_type": "stream",
     "text": [
      "261.txt\n",
      "262.txt\n"
     ]
    },
    {
     "name": "stderr",
     "output_type": "stream",
     "text": [
      "C:\\Users\\ingeg\\AppData\\Local\\Temp\\ipykernel_1336\\1388660847.py:61: FutureWarning: The frame.append method is deprecated and will be removed from pandas in a future version. Use pandas.concat instead.\n",
      "  df = df.append({\"File_Name\": filename,\"Date\":  date, \"Sentiment\":total_sentiment, \"Publisher\":publisher, \"Mentioned_Names\":article_names, \"Text\":article}, ignore_index=True)\n",
      "C:\\Users\\ingeg\\AppData\\Local\\Temp\\ipykernel_1336\\1388660847.py:61: FutureWarning: The frame.append method is deprecated and will be removed from pandas in a future version. Use pandas.concat instead.\n",
      "  df = df.append({\"File_Name\": filename,\"Date\":  date, \"Sentiment\":total_sentiment, \"Publisher\":publisher, \"Mentioned_Names\":article_names, \"Text\":article}, ignore_index=True)\n"
     ]
    },
    {
     "name": "stdout",
     "output_type": "stream",
     "text": [
      "263.txt\n",
      "264.txt\n"
     ]
    },
    {
     "name": "stderr",
     "output_type": "stream",
     "text": [
      "C:\\Users\\ingeg\\AppData\\Local\\Temp\\ipykernel_1336\\1388660847.py:61: FutureWarning: The frame.append method is deprecated and will be removed from pandas in a future version. Use pandas.concat instead.\n",
      "  df = df.append({\"File_Name\": filename,\"Date\":  date, \"Sentiment\":total_sentiment, \"Publisher\":publisher, \"Mentioned_Names\":article_names, \"Text\":article}, ignore_index=True)\n",
      "C:\\Users\\ingeg\\AppData\\Local\\Temp\\ipykernel_1336\\1388660847.py:61: FutureWarning: The frame.append method is deprecated and will be removed from pandas in a future version. Use pandas.concat instead.\n",
      "  df = df.append({\"File_Name\": filename,\"Date\":  date, \"Sentiment\":total_sentiment, \"Publisher\":publisher, \"Mentioned_Names\":article_names, \"Text\":article}, ignore_index=True)\n"
     ]
    },
    {
     "name": "stdout",
     "output_type": "stream",
     "text": [
      "265.txt\n",
      "266.txt\n"
     ]
    },
    {
     "name": "stderr",
     "output_type": "stream",
     "text": [
      "C:\\Users\\ingeg\\AppData\\Local\\Temp\\ipykernel_1336\\1388660847.py:61: FutureWarning: The frame.append method is deprecated and will be removed from pandas in a future version. Use pandas.concat instead.\n",
      "  df = df.append({\"File_Name\": filename,\"Date\":  date, \"Sentiment\":total_sentiment, \"Publisher\":publisher, \"Mentioned_Names\":article_names, \"Text\":article}, ignore_index=True)\n",
      "C:\\Users\\ingeg\\AppData\\Local\\Temp\\ipykernel_1336\\1388660847.py:61: FutureWarning: The frame.append method is deprecated and will be removed from pandas in a future version. Use pandas.concat instead.\n",
      "  df = df.append({\"File_Name\": filename,\"Date\":  date, \"Sentiment\":total_sentiment, \"Publisher\":publisher, \"Mentioned_Names\":article_names, \"Text\":article}, ignore_index=True)\n"
     ]
    },
    {
     "name": "stdout",
     "output_type": "stream",
     "text": [
      "267.txt\n",
      "268.txt\n"
     ]
    },
    {
     "name": "stderr",
     "output_type": "stream",
     "text": [
      "C:\\Users\\ingeg\\AppData\\Local\\Temp\\ipykernel_1336\\1388660847.py:61: FutureWarning: The frame.append method is deprecated and will be removed from pandas in a future version. Use pandas.concat instead.\n",
      "  df = df.append({\"File_Name\": filename,\"Date\":  date, \"Sentiment\":total_sentiment, \"Publisher\":publisher, \"Mentioned_Names\":article_names, \"Text\":article}, ignore_index=True)\n"
     ]
    },
    {
     "name": "stdout",
     "output_type": "stream",
     "text": [
      "269.txt\n"
     ]
    },
    {
     "name": "stderr",
     "output_type": "stream",
     "text": [
      "C:\\Users\\ingeg\\AppData\\Local\\Temp\\ipykernel_1336\\1388660847.py:61: FutureWarning: The frame.append method is deprecated and will be removed from pandas in a future version. Use pandas.concat instead.\n",
      "  df = df.append({\"File_Name\": filename,\"Date\":  date, \"Sentiment\":total_sentiment, \"Publisher\":publisher, \"Mentioned_Names\":article_names, \"Text\":article}, ignore_index=True)\n",
      "C:\\Users\\ingeg\\AppData\\Local\\Temp\\ipykernel_1336\\1388660847.py:61: FutureWarning: The frame.append method is deprecated and will be removed from pandas in a future version. Use pandas.concat instead.\n",
      "  df = df.append({\"File_Name\": filename,\"Date\":  date, \"Sentiment\":total_sentiment, \"Publisher\":publisher, \"Mentioned_Names\":article_names, \"Text\":article}, ignore_index=True)\n"
     ]
    },
    {
     "name": "stdout",
     "output_type": "stream",
     "text": [
      "27.txt\n",
      "270.txt\n"
     ]
    },
    {
     "name": "stderr",
     "output_type": "stream",
     "text": [
      "C:\\Users\\ingeg\\AppData\\Local\\Temp\\ipykernel_1336\\1388660847.py:61: FutureWarning: The frame.append method is deprecated and will be removed from pandas in a future version. Use pandas.concat instead.\n",
      "  df = df.append({\"File_Name\": filename,\"Date\":  date, \"Sentiment\":total_sentiment, \"Publisher\":publisher, \"Mentioned_Names\":article_names, \"Text\":article}, ignore_index=True)\n",
      "C:\\Users\\ingeg\\AppData\\Local\\Temp\\ipykernel_1336\\1388660847.py:61: FutureWarning: The frame.append method is deprecated and will be removed from pandas in a future version. Use pandas.concat instead.\n",
      "  df = df.append({\"File_Name\": filename,\"Date\":  date, \"Sentiment\":total_sentiment, \"Publisher\":publisher, \"Mentioned_Names\":article_names, \"Text\":article}, ignore_index=True)\n"
     ]
    },
    {
     "name": "stdout",
     "output_type": "stream",
     "text": [
      "271.txt\n",
      "272.txt\n"
     ]
    },
    {
     "name": "stderr",
     "output_type": "stream",
     "text": [
      "C:\\Users\\ingeg\\AppData\\Local\\Temp\\ipykernel_1336\\1388660847.py:61: FutureWarning: The frame.append method is deprecated and will be removed from pandas in a future version. Use pandas.concat instead.\n",
      "  df = df.append({\"File_Name\": filename,\"Date\":  date, \"Sentiment\":total_sentiment, \"Publisher\":publisher, \"Mentioned_Names\":article_names, \"Text\":article}, ignore_index=True)\n"
     ]
    },
    {
     "name": "stdout",
     "output_type": "stream",
     "text": [
      "273.txt\n"
     ]
    },
    {
     "name": "stderr",
     "output_type": "stream",
     "text": [
      "C:\\Users\\ingeg\\AppData\\Local\\Temp\\ipykernel_1336\\1388660847.py:61: FutureWarning: The frame.append method is deprecated and will be removed from pandas in a future version. Use pandas.concat instead.\n",
      "  df = df.append({\"File_Name\": filename,\"Date\":  date, \"Sentiment\":total_sentiment, \"Publisher\":publisher, \"Mentioned_Names\":article_names, \"Text\":article}, ignore_index=True)\n",
      "C:\\Users\\ingeg\\AppData\\Local\\Temp\\ipykernel_1336\\1388660847.py:61: FutureWarning: The frame.append method is deprecated and will be removed from pandas in a future version. Use pandas.concat instead.\n",
      "  df = df.append({\"File_Name\": filename,\"Date\":  date, \"Sentiment\":total_sentiment, \"Publisher\":publisher, \"Mentioned_Names\":article_names, \"Text\":article}, ignore_index=True)\n"
     ]
    },
    {
     "name": "stdout",
     "output_type": "stream",
     "text": [
      "274.txt\n",
      "275.txt\n"
     ]
    },
    {
     "name": "stderr",
     "output_type": "stream",
     "text": [
      "C:\\Users\\ingeg\\AppData\\Local\\Temp\\ipykernel_1336\\1388660847.py:61: FutureWarning: The frame.append method is deprecated and will be removed from pandas in a future version. Use pandas.concat instead.\n",
      "  df = df.append({\"File_Name\": filename,\"Date\":  date, \"Sentiment\":total_sentiment, \"Publisher\":publisher, \"Mentioned_Names\":article_names, \"Text\":article}, ignore_index=True)\n",
      "C:\\Users\\ingeg\\AppData\\Local\\Temp\\ipykernel_1336\\1388660847.py:61: FutureWarning: The frame.append method is deprecated and will be removed from pandas in a future version. Use pandas.concat instead.\n",
      "  df = df.append({\"File_Name\": filename,\"Date\":  date, \"Sentiment\":total_sentiment, \"Publisher\":publisher, \"Mentioned_Names\":article_names, \"Text\":article}, ignore_index=True)\n"
     ]
    },
    {
     "name": "stdout",
     "output_type": "stream",
     "text": [
      "276.txt\n",
      "277.txt\n"
     ]
    },
    {
     "name": "stderr",
     "output_type": "stream",
     "text": [
      "C:\\Users\\ingeg\\AppData\\Local\\Temp\\ipykernel_1336\\1388660847.py:61: FutureWarning: The frame.append method is deprecated and will be removed from pandas in a future version. Use pandas.concat instead.\n",
      "  df = df.append({\"File_Name\": filename,\"Date\":  date, \"Sentiment\":total_sentiment, \"Publisher\":publisher, \"Mentioned_Names\":article_names, \"Text\":article}, ignore_index=True)\n",
      "C:\\Users\\ingeg\\AppData\\Local\\Temp\\ipykernel_1336\\1388660847.py:61: FutureWarning: The frame.append method is deprecated and will be removed from pandas in a future version. Use pandas.concat instead.\n",
      "  df = df.append({\"File_Name\": filename,\"Date\":  date, \"Sentiment\":total_sentiment, \"Publisher\":publisher, \"Mentioned_Names\":article_names, \"Text\":article}, ignore_index=True)\n"
     ]
    },
    {
     "name": "stdout",
     "output_type": "stream",
     "text": [
      "278.txt\n",
      "279.txt\n"
     ]
    },
    {
     "name": "stderr",
     "output_type": "stream",
     "text": [
      "C:\\Users\\ingeg\\AppData\\Local\\Temp\\ipykernel_1336\\1388660847.py:61: FutureWarning: The frame.append method is deprecated and will be removed from pandas in a future version. Use pandas.concat instead.\n",
      "  df = df.append({\"File_Name\": filename,\"Date\":  date, \"Sentiment\":total_sentiment, \"Publisher\":publisher, \"Mentioned_Names\":article_names, \"Text\":article}, ignore_index=True)\n",
      "C:\\Users\\ingeg\\AppData\\Local\\Temp\\ipykernel_1336\\1388660847.py:61: FutureWarning: The frame.append method is deprecated and will be removed from pandas in a future version. Use pandas.concat instead.\n",
      "  df = df.append({\"File_Name\": filename,\"Date\":  date, \"Sentiment\":total_sentiment, \"Publisher\":publisher, \"Mentioned_Names\":article_names, \"Text\":article}, ignore_index=True)\n"
     ]
    },
    {
     "name": "stdout",
     "output_type": "stream",
     "text": [
      "28.txt\n",
      "280.txt\n"
     ]
    },
    {
     "name": "stderr",
     "output_type": "stream",
     "text": [
      "C:\\Users\\ingeg\\AppData\\Local\\Temp\\ipykernel_1336\\1388660847.py:61: FutureWarning: The frame.append method is deprecated and will be removed from pandas in a future version. Use pandas.concat instead.\n",
      "  df = df.append({\"File_Name\": filename,\"Date\":  date, \"Sentiment\":total_sentiment, \"Publisher\":publisher, \"Mentioned_Names\":article_names, \"Text\":article}, ignore_index=True)\n",
      "C:\\Users\\ingeg\\AppData\\Local\\Temp\\ipykernel_1336\\1388660847.py:61: FutureWarning: The frame.append method is deprecated and will be removed from pandas in a future version. Use pandas.concat instead.\n",
      "  df = df.append({\"File_Name\": filename,\"Date\":  date, \"Sentiment\":total_sentiment, \"Publisher\":publisher, \"Mentioned_Names\":article_names, \"Text\":article}, ignore_index=True)\n"
     ]
    },
    {
     "name": "stdout",
     "output_type": "stream",
     "text": [
      "281.txt\n",
      "282.txt\n"
     ]
    },
    {
     "name": "stderr",
     "output_type": "stream",
     "text": [
      "C:\\Users\\ingeg\\AppData\\Local\\Temp\\ipykernel_1336\\1388660847.py:61: FutureWarning: The frame.append method is deprecated and will be removed from pandas in a future version. Use pandas.concat instead.\n",
      "  df = df.append({\"File_Name\": filename,\"Date\":  date, \"Sentiment\":total_sentiment, \"Publisher\":publisher, \"Mentioned_Names\":article_names, \"Text\":article}, ignore_index=True)\n",
      "C:\\Users\\ingeg\\AppData\\Local\\Temp\\ipykernel_1336\\1388660847.py:61: FutureWarning: The frame.append method is deprecated and will be removed from pandas in a future version. Use pandas.concat instead.\n",
      "  df = df.append({\"File_Name\": filename,\"Date\":  date, \"Sentiment\":total_sentiment, \"Publisher\":publisher, \"Mentioned_Names\":article_names, \"Text\":article}, ignore_index=True)\n"
     ]
    },
    {
     "name": "stdout",
     "output_type": "stream",
     "text": [
      "283.txt\n",
      "284.txt\n"
     ]
    },
    {
     "name": "stderr",
     "output_type": "stream",
     "text": [
      "C:\\Users\\ingeg\\AppData\\Local\\Temp\\ipykernel_1336\\1388660847.py:61: FutureWarning: The frame.append method is deprecated and will be removed from pandas in a future version. Use pandas.concat instead.\n",
      "  df = df.append({\"File_Name\": filename,\"Date\":  date, \"Sentiment\":total_sentiment, \"Publisher\":publisher, \"Mentioned_Names\":article_names, \"Text\":article}, ignore_index=True)\n",
      "C:\\Users\\ingeg\\AppData\\Local\\Temp\\ipykernel_1336\\1388660847.py:61: FutureWarning: The frame.append method is deprecated and will be removed from pandas in a future version. Use pandas.concat instead.\n",
      "  df = df.append({\"File_Name\": filename,\"Date\":  date, \"Sentiment\":total_sentiment, \"Publisher\":publisher, \"Mentioned_Names\":article_names, \"Text\":article}, ignore_index=True)\n"
     ]
    },
    {
     "name": "stdout",
     "output_type": "stream",
     "text": [
      "285.txt\n",
      "286.txt\n"
     ]
    },
    {
     "name": "stderr",
     "output_type": "stream",
     "text": [
      "C:\\Users\\ingeg\\AppData\\Local\\Temp\\ipykernel_1336\\1388660847.py:61: FutureWarning: The frame.append method is deprecated and will be removed from pandas in a future version. Use pandas.concat instead.\n",
      "  df = df.append({\"File_Name\": filename,\"Date\":  date, \"Sentiment\":total_sentiment, \"Publisher\":publisher, \"Mentioned_Names\":article_names, \"Text\":article}, ignore_index=True)\n"
     ]
    },
    {
     "name": "stdout",
     "output_type": "stream",
     "text": [
      "287.txt\n"
     ]
    },
    {
     "name": "stderr",
     "output_type": "stream",
     "text": [
      "C:\\Users\\ingeg\\AppData\\Local\\Temp\\ipykernel_1336\\1388660847.py:61: FutureWarning: The frame.append method is deprecated and will be removed from pandas in a future version. Use pandas.concat instead.\n",
      "  df = df.append({\"File_Name\": filename,\"Date\":  date, \"Sentiment\":total_sentiment, \"Publisher\":publisher, \"Mentioned_Names\":article_names, \"Text\":article}, ignore_index=True)\n"
     ]
    },
    {
     "name": "stdout",
     "output_type": "stream",
     "text": [
      "288.txt\n"
     ]
    },
    {
     "name": "stderr",
     "output_type": "stream",
     "text": [
      "C:\\Users\\ingeg\\AppData\\Local\\Temp\\ipykernel_1336\\1388660847.py:61: FutureWarning: The frame.append method is deprecated and will be removed from pandas in a future version. Use pandas.concat instead.\n",
      "  df = df.append({\"File_Name\": filename,\"Date\":  date, \"Sentiment\":total_sentiment, \"Publisher\":publisher, \"Mentioned_Names\":article_names, \"Text\":article}, ignore_index=True)\n",
      "C:\\Users\\ingeg\\AppData\\Local\\Temp\\ipykernel_1336\\1388660847.py:61: FutureWarning: The frame.append method is deprecated and will be removed from pandas in a future version. Use pandas.concat instead.\n",
      "  df = df.append({\"File_Name\": filename,\"Date\":  date, \"Sentiment\":total_sentiment, \"Publisher\":publisher, \"Mentioned_Names\":article_names, \"Text\":article}, ignore_index=True)\n",
      "C:\\Users\\ingeg\\AppData\\Local\\Temp\\ipykernel_1336\\1388660847.py:61: FutureWarning: The frame.append method is deprecated and will be removed from pandas in a future version. Use pandas.concat instead.\n",
      "  df = df.append({\"File_Name\": filename,\"Date\":  date, \"Sentiment\":total_sentiment, \"Publisher\":publisher, \"Mentioned_Names\":article_names, \"Text\":article}, ignore_index=True)\n"
     ]
    },
    {
     "name": "stdout",
     "output_type": "stream",
     "text": [
      "289.txt\n",
      "29.txt\n",
      "290.txt\n"
     ]
    },
    {
     "name": "stderr",
     "output_type": "stream",
     "text": [
      "C:\\Users\\ingeg\\AppData\\Local\\Temp\\ipykernel_1336\\1388660847.py:61: FutureWarning: The frame.append method is deprecated and will be removed from pandas in a future version. Use pandas.concat instead.\n",
      "  df = df.append({\"File_Name\": filename,\"Date\":  date, \"Sentiment\":total_sentiment, \"Publisher\":publisher, \"Mentioned_Names\":article_names, \"Text\":article}, ignore_index=True)\n",
      "C:\\Users\\ingeg\\AppData\\Local\\Temp\\ipykernel_1336\\1388660847.py:61: FutureWarning: The frame.append method is deprecated and will be removed from pandas in a future version. Use pandas.concat instead.\n",
      "  df = df.append({\"File_Name\": filename,\"Date\":  date, \"Sentiment\":total_sentiment, \"Publisher\":publisher, \"Mentioned_Names\":article_names, \"Text\":article}, ignore_index=True)\n"
     ]
    },
    {
     "name": "stdout",
     "output_type": "stream",
     "text": [
      "291.txt\n",
      "292.txt\n"
     ]
    },
    {
     "name": "stderr",
     "output_type": "stream",
     "text": [
      "C:\\Users\\ingeg\\AppData\\Local\\Temp\\ipykernel_1336\\1388660847.py:61: FutureWarning: The frame.append method is deprecated and will be removed from pandas in a future version. Use pandas.concat instead.\n",
      "  df = df.append({\"File_Name\": filename,\"Date\":  date, \"Sentiment\":total_sentiment, \"Publisher\":publisher, \"Mentioned_Names\":article_names, \"Text\":article}, ignore_index=True)\n"
     ]
    },
    {
     "name": "stdout",
     "output_type": "stream",
     "text": [
      "293.txt\n"
     ]
    },
    {
     "name": "stderr",
     "output_type": "stream",
     "text": [
      "C:\\Users\\ingeg\\AppData\\Local\\Temp\\ipykernel_1336\\1388660847.py:61: FutureWarning: The frame.append method is deprecated and will be removed from pandas in a future version. Use pandas.concat instead.\n",
      "  df = df.append({\"File_Name\": filename,\"Date\":  date, \"Sentiment\":total_sentiment, \"Publisher\":publisher, \"Mentioned_Names\":article_names, \"Text\":article}, ignore_index=True)\n"
     ]
    },
    {
     "name": "stdout",
     "output_type": "stream",
     "text": [
      "294.txt\n"
     ]
    },
    {
     "name": "stderr",
     "output_type": "stream",
     "text": [
      "C:\\Users\\ingeg\\AppData\\Local\\Temp\\ipykernel_1336\\1388660847.py:61: FutureWarning: The frame.append method is deprecated and will be removed from pandas in a future version. Use pandas.concat instead.\n",
      "  df = df.append({\"File_Name\": filename,\"Date\":  date, \"Sentiment\":total_sentiment, \"Publisher\":publisher, \"Mentioned_Names\":article_names, \"Text\":article}, ignore_index=True)\n"
     ]
    },
    {
     "name": "stdout",
     "output_type": "stream",
     "text": [
      "295.txt\n"
     ]
    },
    {
     "name": "stderr",
     "output_type": "stream",
     "text": [
      "C:\\Users\\ingeg\\AppData\\Local\\Temp\\ipykernel_1336\\1388660847.py:61: FutureWarning: The frame.append method is deprecated and will be removed from pandas in a future version. Use pandas.concat instead.\n",
      "  df = df.append({\"File_Name\": filename,\"Date\":  date, \"Sentiment\":total_sentiment, \"Publisher\":publisher, \"Mentioned_Names\":article_names, \"Text\":article}, ignore_index=True)\n"
     ]
    },
    {
     "name": "stdout",
     "output_type": "stream",
     "text": [
      "296.txt\n"
     ]
    },
    {
     "name": "stderr",
     "output_type": "stream",
     "text": [
      "C:\\Users\\ingeg\\AppData\\Local\\Temp\\ipykernel_1336\\1388660847.py:61: FutureWarning: The frame.append method is deprecated and will be removed from pandas in a future version. Use pandas.concat instead.\n",
      "  df = df.append({\"File_Name\": filename,\"Date\":  date, \"Sentiment\":total_sentiment, \"Publisher\":publisher, \"Mentioned_Names\":article_names, \"Text\":article}, ignore_index=True)\n",
      "C:\\Users\\ingeg\\AppData\\Local\\Temp\\ipykernel_1336\\1388660847.py:61: FutureWarning: The frame.append method is deprecated and will be removed from pandas in a future version. Use pandas.concat instead.\n",
      "  df = df.append({\"File_Name\": filename,\"Date\":  date, \"Sentiment\":total_sentiment, \"Publisher\":publisher, \"Mentioned_Names\":article_names, \"Text\":article}, ignore_index=True)\n"
     ]
    },
    {
     "name": "stdout",
     "output_type": "stream",
     "text": [
      "297.txt\n",
      "298.txt\n"
     ]
    },
    {
     "name": "stderr",
     "output_type": "stream",
     "text": [
      "C:\\Users\\ingeg\\AppData\\Local\\Temp\\ipykernel_1336\\1388660847.py:61: FutureWarning: The frame.append method is deprecated and will be removed from pandas in a future version. Use pandas.concat instead.\n",
      "  df = df.append({\"File_Name\": filename,\"Date\":  date, \"Sentiment\":total_sentiment, \"Publisher\":publisher, \"Mentioned_Names\":article_names, \"Text\":article}, ignore_index=True)\n",
      "C:\\Users\\ingeg\\AppData\\Local\\Temp\\ipykernel_1336\\1388660847.py:61: FutureWarning: The frame.append method is deprecated and will be removed from pandas in a future version. Use pandas.concat instead.\n",
      "  df = df.append({\"File_Name\": filename,\"Date\":  date, \"Sentiment\":total_sentiment, \"Publisher\":publisher, \"Mentioned_Names\":article_names, \"Text\":article}, ignore_index=True)\n"
     ]
    },
    {
     "name": "stdout",
     "output_type": "stream",
     "text": [
      "299.txt\n",
      "3.txt\n"
     ]
    },
    {
     "name": "stderr",
     "output_type": "stream",
     "text": [
      "C:\\Users\\ingeg\\AppData\\Local\\Temp\\ipykernel_1336\\1388660847.py:61: FutureWarning: The frame.append method is deprecated and will be removed from pandas in a future version. Use pandas.concat instead.\n",
      "  df = df.append({\"File_Name\": filename,\"Date\":  date, \"Sentiment\":total_sentiment, \"Publisher\":publisher, \"Mentioned_Names\":article_names, \"Text\":article}, ignore_index=True)\n",
      "C:\\Users\\ingeg\\AppData\\Local\\Temp\\ipykernel_1336\\1388660847.py:61: FutureWarning: The frame.append method is deprecated and will be removed from pandas in a future version. Use pandas.concat instead.\n",
      "  df = df.append({\"File_Name\": filename,\"Date\":  date, \"Sentiment\":total_sentiment, \"Publisher\":publisher, \"Mentioned_Names\":article_names, \"Text\":article}, ignore_index=True)\n"
     ]
    },
    {
     "name": "stdout",
     "output_type": "stream",
     "text": [
      "30.txt\n",
      "300.txt\n"
     ]
    },
    {
     "name": "stderr",
     "output_type": "stream",
     "text": [
      "C:\\Users\\ingeg\\AppData\\Local\\Temp\\ipykernel_1336\\1388660847.py:61: FutureWarning: The frame.append method is deprecated and will be removed from pandas in a future version. Use pandas.concat instead.\n",
      "  df = df.append({\"File_Name\": filename,\"Date\":  date, \"Sentiment\":total_sentiment, \"Publisher\":publisher, \"Mentioned_Names\":article_names, \"Text\":article}, ignore_index=True)\n"
     ]
    },
    {
     "name": "stdout",
     "output_type": "stream",
     "text": [
      "301.txt\n"
     ]
    },
    {
     "name": "stderr",
     "output_type": "stream",
     "text": [
      "C:\\Users\\ingeg\\AppData\\Local\\Temp\\ipykernel_1336\\1388660847.py:61: FutureWarning: The frame.append method is deprecated and will be removed from pandas in a future version. Use pandas.concat instead.\n",
      "  df = df.append({\"File_Name\": filename,\"Date\":  date, \"Sentiment\":total_sentiment, \"Publisher\":publisher, \"Mentioned_Names\":article_names, \"Text\":article}, ignore_index=True)\n"
     ]
    },
    {
     "name": "stdout",
     "output_type": "stream",
     "text": [
      "302.txt\n"
     ]
    },
    {
     "name": "stderr",
     "output_type": "stream",
     "text": [
      "C:\\Users\\ingeg\\AppData\\Local\\Temp\\ipykernel_1336\\1388660847.py:61: FutureWarning: The frame.append method is deprecated and will be removed from pandas in a future version. Use pandas.concat instead.\n",
      "  df = df.append({\"File_Name\": filename,\"Date\":  date, \"Sentiment\":total_sentiment, \"Publisher\":publisher, \"Mentioned_Names\":article_names, \"Text\":article}, ignore_index=True)\n",
      "C:\\Users\\ingeg\\AppData\\Local\\Temp\\ipykernel_1336\\1388660847.py:61: FutureWarning: The frame.append method is deprecated and will be removed from pandas in a future version. Use pandas.concat instead.\n",
      "  df = df.append({\"File_Name\": filename,\"Date\":  date, \"Sentiment\":total_sentiment, \"Publisher\":publisher, \"Mentioned_Names\":article_names, \"Text\":article}, ignore_index=True)\n"
     ]
    },
    {
     "name": "stdout",
     "output_type": "stream",
     "text": [
      "303.txt\n",
      "304.txt\n"
     ]
    },
    {
     "name": "stderr",
     "output_type": "stream",
     "text": [
      "C:\\Users\\ingeg\\AppData\\Local\\Temp\\ipykernel_1336\\1388660847.py:61: FutureWarning: The frame.append method is deprecated and will be removed from pandas in a future version. Use pandas.concat instead.\n",
      "  df = df.append({\"File_Name\": filename,\"Date\":  date, \"Sentiment\":total_sentiment, \"Publisher\":publisher, \"Mentioned_Names\":article_names, \"Text\":article}, ignore_index=True)\n",
      "C:\\Users\\ingeg\\AppData\\Local\\Temp\\ipykernel_1336\\1388660847.py:61: FutureWarning: The frame.append method is deprecated and will be removed from pandas in a future version. Use pandas.concat instead.\n",
      "  df = df.append({\"File_Name\": filename,\"Date\":  date, \"Sentiment\":total_sentiment, \"Publisher\":publisher, \"Mentioned_Names\":article_names, \"Text\":article}, ignore_index=True)\n"
     ]
    },
    {
     "name": "stdout",
     "output_type": "stream",
     "text": [
      "305.txt\n",
      "306.txt\n"
     ]
    },
    {
     "name": "stderr",
     "output_type": "stream",
     "text": [
      "C:\\Users\\ingeg\\AppData\\Local\\Temp\\ipykernel_1336\\1388660847.py:61: FutureWarning: The frame.append method is deprecated and will be removed from pandas in a future version. Use pandas.concat instead.\n",
      "  df = df.append({\"File_Name\": filename,\"Date\":  date, \"Sentiment\":total_sentiment, \"Publisher\":publisher, \"Mentioned_Names\":article_names, \"Text\":article}, ignore_index=True)\n",
      "C:\\Users\\ingeg\\AppData\\Local\\Temp\\ipykernel_1336\\1388660847.py:61: FutureWarning: The frame.append method is deprecated and will be removed from pandas in a future version. Use pandas.concat instead.\n",
      "  df = df.append({\"File_Name\": filename,\"Date\":  date, \"Sentiment\":total_sentiment, \"Publisher\":publisher, \"Mentioned_Names\":article_names, \"Text\":article}, ignore_index=True)\n",
      "C:\\Users\\ingeg\\AppData\\Local\\Temp\\ipykernel_1336\\1388660847.py:61: FutureWarning: The frame.append method is deprecated and will be removed from pandas in a future version. Use pandas.concat instead.\n",
      "  df = df.append({\"File_Name\": filename,\"Date\":  date, \"Sentiment\":total_sentiment, \"Publisher\":publisher, \"Mentioned_Names\":article_names, \"Text\":article}, ignore_index=True)\n"
     ]
    },
    {
     "name": "stdout",
     "output_type": "stream",
     "text": [
      "307.txt\n",
      "308.txt\n",
      "309.txt\n"
     ]
    },
    {
     "name": "stderr",
     "output_type": "stream",
     "text": [
      "C:\\Users\\ingeg\\AppData\\Local\\Temp\\ipykernel_1336\\1388660847.py:61: FutureWarning: The frame.append method is deprecated and will be removed from pandas in a future version. Use pandas.concat instead.\n",
      "  df = df.append({\"File_Name\": filename,\"Date\":  date, \"Sentiment\":total_sentiment, \"Publisher\":publisher, \"Mentioned_Names\":article_names, \"Text\":article}, ignore_index=True)\n",
      "C:\\Users\\ingeg\\AppData\\Local\\Temp\\ipykernel_1336\\1388660847.py:61: FutureWarning: The frame.append method is deprecated and will be removed from pandas in a future version. Use pandas.concat instead.\n",
      "  df = df.append({\"File_Name\": filename,\"Date\":  date, \"Sentiment\":total_sentiment, \"Publisher\":publisher, \"Mentioned_Names\":article_names, \"Text\":article}, ignore_index=True)\n"
     ]
    },
    {
     "name": "stdout",
     "output_type": "stream",
     "text": [
      "31.txt\n",
      "310.txt\n"
     ]
    },
    {
     "name": "stderr",
     "output_type": "stream",
     "text": [
      "C:\\Users\\ingeg\\AppData\\Local\\Temp\\ipykernel_1336\\1388660847.py:61: FutureWarning: The frame.append method is deprecated and will be removed from pandas in a future version. Use pandas.concat instead.\n",
      "  df = df.append({\"File_Name\": filename,\"Date\":  date, \"Sentiment\":total_sentiment, \"Publisher\":publisher, \"Mentioned_Names\":article_names, \"Text\":article}, ignore_index=True)\n",
      "C:\\Users\\ingeg\\AppData\\Local\\Temp\\ipykernel_1336\\1388660847.py:61: FutureWarning: The frame.append method is deprecated and will be removed from pandas in a future version. Use pandas.concat instead.\n",
      "  df = df.append({\"File_Name\": filename,\"Date\":  date, \"Sentiment\":total_sentiment, \"Publisher\":publisher, \"Mentioned_Names\":article_names, \"Text\":article}, ignore_index=True)\n"
     ]
    },
    {
     "name": "stdout",
     "output_type": "stream",
     "text": [
      "311.txt\n",
      "312.txt\n"
     ]
    },
    {
     "name": "stderr",
     "output_type": "stream",
     "text": [
      "C:\\Users\\ingeg\\AppData\\Local\\Temp\\ipykernel_1336\\1388660847.py:61: FutureWarning: The frame.append method is deprecated and will be removed from pandas in a future version. Use pandas.concat instead.\n",
      "  df = df.append({\"File_Name\": filename,\"Date\":  date, \"Sentiment\":total_sentiment, \"Publisher\":publisher, \"Mentioned_Names\":article_names, \"Text\":article}, ignore_index=True)\n",
      "C:\\Users\\ingeg\\AppData\\Local\\Temp\\ipykernel_1336\\1388660847.py:61: FutureWarning: The frame.append method is deprecated and will be removed from pandas in a future version. Use pandas.concat instead.\n",
      "  df = df.append({\"File_Name\": filename,\"Date\":  date, \"Sentiment\":total_sentiment, \"Publisher\":publisher, \"Mentioned_Names\":article_names, \"Text\":article}, ignore_index=True)\n",
      "C:\\Users\\ingeg\\AppData\\Local\\Temp\\ipykernel_1336\\1388660847.py:61: FutureWarning: The frame.append method is deprecated and will be removed from pandas in a future version. Use pandas.concat instead.\n",
      "  df = df.append({\"File_Name\": filename,\"Date\":  date, \"Sentiment\":total_sentiment, \"Publisher\":publisher, \"Mentioned_Names\":article_names, \"Text\":article}, ignore_index=True)\n"
     ]
    },
    {
     "name": "stdout",
     "output_type": "stream",
     "text": [
      "313.txt\n",
      "314.txt\n",
      "315.txt\n"
     ]
    },
    {
     "name": "stderr",
     "output_type": "stream",
     "text": [
      "C:\\Users\\ingeg\\AppData\\Local\\Temp\\ipykernel_1336\\1388660847.py:61: FutureWarning: The frame.append method is deprecated and will be removed from pandas in a future version. Use pandas.concat instead.\n",
      "  df = df.append({\"File_Name\": filename,\"Date\":  date, \"Sentiment\":total_sentiment, \"Publisher\":publisher, \"Mentioned_Names\":article_names, \"Text\":article}, ignore_index=True)\n"
     ]
    },
    {
     "name": "stdout",
     "output_type": "stream",
     "text": [
      "316.txt\n"
     ]
    },
    {
     "name": "stderr",
     "output_type": "stream",
     "text": [
      "C:\\Users\\ingeg\\AppData\\Local\\Temp\\ipykernel_1336\\1388660847.py:61: FutureWarning: The frame.append method is deprecated and will be removed from pandas in a future version. Use pandas.concat instead.\n",
      "  df = df.append({\"File_Name\": filename,\"Date\":  date, \"Sentiment\":total_sentiment, \"Publisher\":publisher, \"Mentioned_Names\":article_names, \"Text\":article}, ignore_index=True)\n"
     ]
    },
    {
     "name": "stdout",
     "output_type": "stream",
     "text": [
      "317.txt\n"
     ]
    },
    {
     "name": "stderr",
     "output_type": "stream",
     "text": [
      "C:\\Users\\ingeg\\AppData\\Local\\Temp\\ipykernel_1336\\1388660847.py:61: FutureWarning: The frame.append method is deprecated and will be removed from pandas in a future version. Use pandas.concat instead.\n",
      "  df = df.append({\"File_Name\": filename,\"Date\":  date, \"Sentiment\":total_sentiment, \"Publisher\":publisher, \"Mentioned_Names\":article_names, \"Text\":article}, ignore_index=True)\n"
     ]
    },
    {
     "name": "stdout",
     "output_type": "stream",
     "text": [
      "318.txt\n"
     ]
    },
    {
     "name": "stderr",
     "output_type": "stream",
     "text": [
      "C:\\Users\\ingeg\\AppData\\Local\\Temp\\ipykernel_1336\\1388660847.py:61: FutureWarning: The frame.append method is deprecated and will be removed from pandas in a future version. Use pandas.concat instead.\n",
      "  df = df.append({\"File_Name\": filename,\"Date\":  date, \"Sentiment\":total_sentiment, \"Publisher\":publisher, \"Mentioned_Names\":article_names, \"Text\":article}, ignore_index=True)\n",
      "C:\\Users\\ingeg\\AppData\\Local\\Temp\\ipykernel_1336\\1388660847.py:61: FutureWarning: The frame.append method is deprecated and will be removed from pandas in a future version. Use pandas.concat instead.\n",
      "  df = df.append({\"File_Name\": filename,\"Date\":  date, \"Sentiment\":total_sentiment, \"Publisher\":publisher, \"Mentioned_Names\":article_names, \"Text\":article}, ignore_index=True)\n"
     ]
    },
    {
     "name": "stdout",
     "output_type": "stream",
     "text": [
      "319.txt\n",
      "32.txt\n",
      "320.txt\n"
     ]
    },
    {
     "name": "stderr",
     "output_type": "stream",
     "text": [
      "C:\\Users\\ingeg\\AppData\\Local\\Temp\\ipykernel_1336\\1388660847.py:61: FutureWarning: The frame.append method is deprecated and will be removed from pandas in a future version. Use pandas.concat instead.\n",
      "  df = df.append({\"File_Name\": filename,\"Date\":  date, \"Sentiment\":total_sentiment, \"Publisher\":publisher, \"Mentioned_Names\":article_names, \"Text\":article}, ignore_index=True)\n",
      "C:\\Users\\ingeg\\AppData\\Local\\Temp\\ipykernel_1336\\1388660847.py:61: FutureWarning: The frame.append method is deprecated and will be removed from pandas in a future version. Use pandas.concat instead.\n",
      "  df = df.append({\"File_Name\": filename,\"Date\":  date, \"Sentiment\":total_sentiment, \"Publisher\":publisher, \"Mentioned_Names\":article_names, \"Text\":article}, ignore_index=True)\n",
      "C:\\Users\\ingeg\\AppData\\Local\\Temp\\ipykernel_1336\\1388660847.py:61: FutureWarning: The frame.append method is deprecated and will be removed from pandas in a future version. Use pandas.concat instead.\n",
      "  df = df.append({\"File_Name\": filename,\"Date\":  date, \"Sentiment\":total_sentiment, \"Publisher\":publisher, \"Mentioned_Names\":article_names, \"Text\":article}, ignore_index=True)\n"
     ]
    },
    {
     "name": "stdout",
     "output_type": "stream",
     "text": [
      "321.txt\n",
      "322.txt\n"
     ]
    },
    {
     "name": "stderr",
     "output_type": "stream",
     "text": [
      "C:\\Users\\ingeg\\AppData\\Local\\Temp\\ipykernel_1336\\1388660847.py:61: FutureWarning: The frame.append method is deprecated and will be removed from pandas in a future version. Use pandas.concat instead.\n",
      "  df = df.append({\"File_Name\": filename,\"Date\":  date, \"Sentiment\":total_sentiment, \"Publisher\":publisher, \"Mentioned_Names\":article_names, \"Text\":article}, ignore_index=True)\n"
     ]
    },
    {
     "name": "stdout",
     "output_type": "stream",
     "text": [
      "323.txt\n"
     ]
    },
    {
     "name": "stderr",
     "output_type": "stream",
     "text": [
      "C:\\Users\\ingeg\\AppData\\Local\\Temp\\ipykernel_1336\\1388660847.py:61: FutureWarning: The frame.append method is deprecated and will be removed from pandas in a future version. Use pandas.concat instead.\n",
      "  df = df.append({\"File_Name\": filename,\"Date\":  date, \"Sentiment\":total_sentiment, \"Publisher\":publisher, \"Mentioned_Names\":article_names, \"Text\":article}, ignore_index=True)\n"
     ]
    },
    {
     "name": "stdout",
     "output_type": "stream",
     "text": [
      "324.txt\n"
     ]
    },
    {
     "name": "stderr",
     "output_type": "stream",
     "text": [
      "C:\\Users\\ingeg\\AppData\\Local\\Temp\\ipykernel_1336\\1388660847.py:61: FutureWarning: The frame.append method is deprecated and will be removed from pandas in a future version. Use pandas.concat instead.\n",
      "  df = df.append({\"File_Name\": filename,\"Date\":  date, \"Sentiment\":total_sentiment, \"Publisher\":publisher, \"Mentioned_Names\":article_names, \"Text\":article}, ignore_index=True)\n",
      "C:\\Users\\ingeg\\AppData\\Local\\Temp\\ipykernel_1336\\1388660847.py:61: FutureWarning: The frame.append method is deprecated and will be removed from pandas in a future version. Use pandas.concat instead.\n",
      "  df = df.append({\"File_Name\": filename,\"Date\":  date, \"Sentiment\":total_sentiment, \"Publisher\":publisher, \"Mentioned_Names\":article_names, \"Text\":article}, ignore_index=True)\n"
     ]
    },
    {
     "name": "stdout",
     "output_type": "stream",
     "text": [
      "325.txt\n",
      "326.txt\n"
     ]
    },
    {
     "name": "stderr",
     "output_type": "stream",
     "text": [
      "C:\\Users\\ingeg\\AppData\\Local\\Temp\\ipykernel_1336\\1388660847.py:61: FutureWarning: The frame.append method is deprecated and will be removed from pandas in a future version. Use pandas.concat instead.\n",
      "  df = df.append({\"File_Name\": filename,\"Date\":  date, \"Sentiment\":total_sentiment, \"Publisher\":publisher, \"Mentioned_Names\":article_names, \"Text\":article}, ignore_index=True)\n",
      "C:\\Users\\ingeg\\AppData\\Local\\Temp\\ipykernel_1336\\1388660847.py:61: FutureWarning: The frame.append method is deprecated and will be removed from pandas in a future version. Use pandas.concat instead.\n",
      "  df = df.append({\"File_Name\": filename,\"Date\":  date, \"Sentiment\":total_sentiment, \"Publisher\":publisher, \"Mentioned_Names\":article_names, \"Text\":article}, ignore_index=True)\n"
     ]
    },
    {
     "name": "stdout",
     "output_type": "stream",
     "text": [
      "327.txt\n",
      "328.txt\n"
     ]
    },
    {
     "name": "stderr",
     "output_type": "stream",
     "text": [
      "C:\\Users\\ingeg\\AppData\\Local\\Temp\\ipykernel_1336\\1388660847.py:61: FutureWarning: The frame.append method is deprecated and will be removed from pandas in a future version. Use pandas.concat instead.\n",
      "  df = df.append({\"File_Name\": filename,\"Date\":  date, \"Sentiment\":total_sentiment, \"Publisher\":publisher, \"Mentioned_Names\":article_names, \"Text\":article}, ignore_index=True)\n",
      "C:\\Users\\ingeg\\AppData\\Local\\Temp\\ipykernel_1336\\1388660847.py:61: FutureWarning: The frame.append method is deprecated and will be removed from pandas in a future version. Use pandas.concat instead.\n",
      "  df = df.append({\"File_Name\": filename,\"Date\":  date, \"Sentiment\":total_sentiment, \"Publisher\":publisher, \"Mentioned_Names\":article_names, \"Text\":article}, ignore_index=True)\n"
     ]
    },
    {
     "name": "stdout",
     "output_type": "stream",
     "text": [
      "329.txt\n",
      "33.txt\n"
     ]
    },
    {
     "name": "stderr",
     "output_type": "stream",
     "text": [
      "C:\\Users\\ingeg\\AppData\\Local\\Temp\\ipykernel_1336\\1388660847.py:61: FutureWarning: The frame.append method is deprecated and will be removed from pandas in a future version. Use pandas.concat instead.\n",
      "  df = df.append({\"File_Name\": filename,\"Date\":  date, \"Sentiment\":total_sentiment, \"Publisher\":publisher, \"Mentioned_Names\":article_names, \"Text\":article}, ignore_index=True)\n"
     ]
    },
    {
     "name": "stdout",
     "output_type": "stream",
     "text": [
      "330.txt\n"
     ]
    },
    {
     "name": "stderr",
     "output_type": "stream",
     "text": [
      "C:\\Users\\ingeg\\AppData\\Local\\Temp\\ipykernel_1336\\1388660847.py:61: FutureWarning: The frame.append method is deprecated and will be removed from pandas in a future version. Use pandas.concat instead.\n",
      "  df = df.append({\"File_Name\": filename,\"Date\":  date, \"Sentiment\":total_sentiment, \"Publisher\":publisher, \"Mentioned_Names\":article_names, \"Text\":article}, ignore_index=True)\n",
      "C:\\Users\\ingeg\\AppData\\Local\\Temp\\ipykernel_1336\\1388660847.py:61: FutureWarning: The frame.append method is deprecated and will be removed from pandas in a future version. Use pandas.concat instead.\n",
      "  df = df.append({\"File_Name\": filename,\"Date\":  date, \"Sentiment\":total_sentiment, \"Publisher\":publisher, \"Mentioned_Names\":article_names, \"Text\":article}, ignore_index=True)\n"
     ]
    },
    {
     "name": "stdout",
     "output_type": "stream",
     "text": [
      "331.txt\n",
      "332.txt\n"
     ]
    },
    {
     "name": "stderr",
     "output_type": "stream",
     "text": [
      "C:\\Users\\ingeg\\AppData\\Local\\Temp\\ipykernel_1336\\1388660847.py:61: FutureWarning: The frame.append method is deprecated and will be removed from pandas in a future version. Use pandas.concat instead.\n",
      "  df = df.append({\"File_Name\": filename,\"Date\":  date, \"Sentiment\":total_sentiment, \"Publisher\":publisher, \"Mentioned_Names\":article_names, \"Text\":article}, ignore_index=True)\n",
      "C:\\Users\\ingeg\\AppData\\Local\\Temp\\ipykernel_1336\\1388660847.py:61: FutureWarning: The frame.append method is deprecated and will be removed from pandas in a future version. Use pandas.concat instead.\n",
      "  df = df.append({\"File_Name\": filename,\"Date\":  date, \"Sentiment\":total_sentiment, \"Publisher\":publisher, \"Mentioned_Names\":article_names, \"Text\":article}, ignore_index=True)\n"
     ]
    },
    {
     "name": "stdout",
     "output_type": "stream",
     "text": [
      "333.txt\n",
      "334.txt\n"
     ]
    },
    {
     "name": "stderr",
     "output_type": "stream",
     "text": [
      "C:\\Users\\ingeg\\AppData\\Local\\Temp\\ipykernel_1336\\1388660847.py:61: FutureWarning: The frame.append method is deprecated and will be removed from pandas in a future version. Use pandas.concat instead.\n",
      "  df = df.append({\"File_Name\": filename,\"Date\":  date, \"Sentiment\":total_sentiment, \"Publisher\":publisher, \"Mentioned_Names\":article_names, \"Text\":article}, ignore_index=True)\n",
      "C:\\Users\\ingeg\\AppData\\Local\\Temp\\ipykernel_1336\\1388660847.py:61: FutureWarning: The frame.append method is deprecated and will be removed from pandas in a future version. Use pandas.concat instead.\n",
      "  df = df.append({\"File_Name\": filename,\"Date\":  date, \"Sentiment\":total_sentiment, \"Publisher\":publisher, \"Mentioned_Names\":article_names, \"Text\":article}, ignore_index=True)\n"
     ]
    },
    {
     "name": "stdout",
     "output_type": "stream",
     "text": [
      "335.txt\n",
      "336.txt\n"
     ]
    },
    {
     "name": "stderr",
     "output_type": "stream",
     "text": [
      "C:\\Users\\ingeg\\AppData\\Local\\Temp\\ipykernel_1336\\1388660847.py:61: FutureWarning: The frame.append method is deprecated and will be removed from pandas in a future version. Use pandas.concat instead.\n",
      "  df = df.append({\"File_Name\": filename,\"Date\":  date, \"Sentiment\":total_sentiment, \"Publisher\":publisher, \"Mentioned_Names\":article_names, \"Text\":article}, ignore_index=True)\n",
      "C:\\Users\\ingeg\\AppData\\Local\\Temp\\ipykernel_1336\\1388660847.py:61: FutureWarning: The frame.append method is deprecated and will be removed from pandas in a future version. Use pandas.concat instead.\n",
      "  df = df.append({\"File_Name\": filename,\"Date\":  date, \"Sentiment\":total_sentiment, \"Publisher\":publisher, \"Mentioned_Names\":article_names, \"Text\":article}, ignore_index=True)\n",
      "C:\\Users\\ingeg\\AppData\\Local\\Temp\\ipykernel_1336\\1388660847.py:61: FutureWarning: The frame.append method is deprecated and will be removed from pandas in a future version. Use pandas.concat instead.\n",
      "  df = df.append({\"File_Name\": filename,\"Date\":  date, \"Sentiment\":total_sentiment, \"Publisher\":publisher, \"Mentioned_Names\":article_names, \"Text\":article}, ignore_index=True)\n"
     ]
    },
    {
     "name": "stdout",
     "output_type": "stream",
     "text": [
      "337.txt\n",
      "338.txt\n",
      "339.txt\n"
     ]
    },
    {
     "name": "stderr",
     "output_type": "stream",
     "text": [
      "C:\\Users\\ingeg\\AppData\\Local\\Temp\\ipykernel_1336\\1388660847.py:61: FutureWarning: The frame.append method is deprecated and will be removed from pandas in a future version. Use pandas.concat instead.\n",
      "  df = df.append({\"File_Name\": filename,\"Date\":  date, \"Sentiment\":total_sentiment, \"Publisher\":publisher, \"Mentioned_Names\":article_names, \"Text\":article}, ignore_index=True)\n",
      "C:\\Users\\ingeg\\AppData\\Local\\Temp\\ipykernel_1336\\1388660847.py:61: FutureWarning: The frame.append method is deprecated and will be removed from pandas in a future version. Use pandas.concat instead.\n",
      "  df = df.append({\"File_Name\": filename,\"Date\":  date, \"Sentiment\":total_sentiment, \"Publisher\":publisher, \"Mentioned_Names\":article_names, \"Text\":article}, ignore_index=True)\n"
     ]
    },
    {
     "name": "stdout",
     "output_type": "stream",
     "text": [
      "34.txt\n",
      "340.txt\n"
     ]
    },
    {
     "name": "stderr",
     "output_type": "stream",
     "text": [
      "C:\\Users\\ingeg\\AppData\\Local\\Temp\\ipykernel_1336\\1388660847.py:61: FutureWarning: The frame.append method is deprecated and will be removed from pandas in a future version. Use pandas.concat instead.\n",
      "  df = df.append({\"File_Name\": filename,\"Date\":  date, \"Sentiment\":total_sentiment, \"Publisher\":publisher, \"Mentioned_Names\":article_names, \"Text\":article}, ignore_index=True)\n"
     ]
    },
    {
     "name": "stdout",
     "output_type": "stream",
     "text": [
      "341.txt\n"
     ]
    },
    {
     "name": "stderr",
     "output_type": "stream",
     "text": [
      "C:\\Users\\ingeg\\AppData\\Local\\Temp\\ipykernel_1336\\1388660847.py:61: FutureWarning: The frame.append method is deprecated and will be removed from pandas in a future version. Use pandas.concat instead.\n",
      "  df = df.append({\"File_Name\": filename,\"Date\":  date, \"Sentiment\":total_sentiment, \"Publisher\":publisher, \"Mentioned_Names\":article_names, \"Text\":article}, ignore_index=True)\n"
     ]
    },
    {
     "name": "stdout",
     "output_type": "stream",
     "text": [
      "342.txt\n"
     ]
    },
    {
     "name": "stderr",
     "output_type": "stream",
     "text": [
      "C:\\Users\\ingeg\\AppData\\Local\\Temp\\ipykernel_1336\\1388660847.py:61: FutureWarning: The frame.append method is deprecated and will be removed from pandas in a future version. Use pandas.concat instead.\n",
      "  df = df.append({\"File_Name\": filename,\"Date\":  date, \"Sentiment\":total_sentiment, \"Publisher\":publisher, \"Mentioned_Names\":article_names, \"Text\":article}, ignore_index=True)\n"
     ]
    },
    {
     "name": "stdout",
     "output_type": "stream",
     "text": [
      "343.txt\n"
     ]
    },
    {
     "name": "stderr",
     "output_type": "stream",
     "text": [
      "C:\\Users\\ingeg\\AppData\\Local\\Temp\\ipykernel_1336\\1388660847.py:61: FutureWarning: The frame.append method is deprecated and will be removed from pandas in a future version. Use pandas.concat instead.\n",
      "  df = df.append({\"File_Name\": filename,\"Date\":  date, \"Sentiment\":total_sentiment, \"Publisher\":publisher, \"Mentioned_Names\":article_names, \"Text\":article}, ignore_index=True)\n",
      "C:\\Users\\ingeg\\AppData\\Local\\Temp\\ipykernel_1336\\1388660847.py:61: FutureWarning: The frame.append method is deprecated and will be removed from pandas in a future version. Use pandas.concat instead.\n",
      "  df = df.append({\"File_Name\": filename,\"Date\":  date, \"Sentiment\":total_sentiment, \"Publisher\":publisher, \"Mentioned_Names\":article_names, \"Text\":article}, ignore_index=True)\n"
     ]
    },
    {
     "name": "stdout",
     "output_type": "stream",
     "text": [
      "344.txt\n",
      "345.txt\n"
     ]
    },
    {
     "name": "stderr",
     "output_type": "stream",
     "text": [
      "C:\\Users\\ingeg\\AppData\\Local\\Temp\\ipykernel_1336\\1388660847.py:61: FutureWarning: The frame.append method is deprecated and will be removed from pandas in a future version. Use pandas.concat instead.\n",
      "  df = df.append({\"File_Name\": filename,\"Date\":  date, \"Sentiment\":total_sentiment, \"Publisher\":publisher, \"Mentioned_Names\":article_names, \"Text\":article}, ignore_index=True)\n",
      "C:\\Users\\ingeg\\AppData\\Local\\Temp\\ipykernel_1336\\1388660847.py:61: FutureWarning: The frame.append method is deprecated and will be removed from pandas in a future version. Use pandas.concat instead.\n",
      "  df = df.append({\"File_Name\": filename,\"Date\":  date, \"Sentiment\":total_sentiment, \"Publisher\":publisher, \"Mentioned_Names\":article_names, \"Text\":article}, ignore_index=True)\n",
      "C:\\Users\\ingeg\\AppData\\Local\\Temp\\ipykernel_1336\\1388660847.py:61: FutureWarning: The frame.append method is deprecated and will be removed from pandas in a future version. Use pandas.concat instead.\n",
      "  df = df.append({\"File_Name\": filename,\"Date\":  date, \"Sentiment\":total_sentiment, \"Publisher\":publisher, \"Mentioned_Names\":article_names, \"Text\":article}, ignore_index=True)\n"
     ]
    },
    {
     "name": "stdout",
     "output_type": "stream",
     "text": [
      "346.txt\n",
      "347.txt\n",
      "348.txt\n"
     ]
    },
    {
     "name": "stderr",
     "output_type": "stream",
     "text": [
      "C:\\Users\\ingeg\\AppData\\Local\\Temp\\ipykernel_1336\\1388660847.py:61: FutureWarning: The frame.append method is deprecated and will be removed from pandas in a future version. Use pandas.concat instead.\n",
      "  df = df.append({\"File_Name\": filename,\"Date\":  date, \"Sentiment\":total_sentiment, \"Publisher\":publisher, \"Mentioned_Names\":article_names, \"Text\":article}, ignore_index=True)\n",
      "C:\\Users\\ingeg\\AppData\\Local\\Temp\\ipykernel_1336\\1388660847.py:61: FutureWarning: The frame.append method is deprecated and will be removed from pandas in a future version. Use pandas.concat instead.\n",
      "  df = df.append({\"File_Name\": filename,\"Date\":  date, \"Sentiment\":total_sentiment, \"Publisher\":publisher, \"Mentioned_Names\":article_names, \"Text\":article}, ignore_index=True)\n"
     ]
    },
    {
     "name": "stdout",
     "output_type": "stream",
     "text": [
      "349.txt\n",
      "35.txt\n"
     ]
    },
    {
     "name": "stderr",
     "output_type": "stream",
     "text": [
      "C:\\Users\\ingeg\\AppData\\Local\\Temp\\ipykernel_1336\\1388660847.py:61: FutureWarning: The frame.append method is deprecated and will be removed from pandas in a future version. Use pandas.concat instead.\n",
      "  df = df.append({\"File_Name\": filename,\"Date\":  date, \"Sentiment\":total_sentiment, \"Publisher\":publisher, \"Mentioned_Names\":article_names, \"Text\":article}, ignore_index=True)\n",
      "C:\\Users\\ingeg\\AppData\\Local\\Temp\\ipykernel_1336\\1388660847.py:61: FutureWarning: The frame.append method is deprecated and will be removed from pandas in a future version. Use pandas.concat instead.\n",
      "  df = df.append({\"File_Name\": filename,\"Date\":  date, \"Sentiment\":total_sentiment, \"Publisher\":publisher, \"Mentioned_Names\":article_names, \"Text\":article}, ignore_index=True)\n"
     ]
    },
    {
     "name": "stdout",
     "output_type": "stream",
     "text": [
      "350.txt\n",
      "351.txt\n"
     ]
    },
    {
     "name": "stderr",
     "output_type": "stream",
     "text": [
      "C:\\Users\\ingeg\\AppData\\Local\\Temp\\ipykernel_1336\\1388660847.py:61: FutureWarning: The frame.append method is deprecated and will be removed from pandas in a future version. Use pandas.concat instead.\n",
      "  df = df.append({\"File_Name\": filename,\"Date\":  date, \"Sentiment\":total_sentiment, \"Publisher\":publisher, \"Mentioned_Names\":article_names, \"Text\":article}, ignore_index=True)\n",
      "C:\\Users\\ingeg\\AppData\\Local\\Temp\\ipykernel_1336\\1388660847.py:61: FutureWarning: The frame.append method is deprecated and will be removed from pandas in a future version. Use pandas.concat instead.\n",
      "  df = df.append({\"File_Name\": filename,\"Date\":  date, \"Sentiment\":total_sentiment, \"Publisher\":publisher, \"Mentioned_Names\":article_names, \"Text\":article}, ignore_index=True)\n"
     ]
    },
    {
     "name": "stdout",
     "output_type": "stream",
     "text": [
      "352.txt\n",
      "353.txt\n"
     ]
    },
    {
     "name": "stderr",
     "output_type": "stream",
     "text": [
      "C:\\Users\\ingeg\\AppData\\Local\\Temp\\ipykernel_1336\\1388660847.py:61: FutureWarning: The frame.append method is deprecated and will be removed from pandas in a future version. Use pandas.concat instead.\n",
      "  df = df.append({\"File_Name\": filename,\"Date\":  date, \"Sentiment\":total_sentiment, \"Publisher\":publisher, \"Mentioned_Names\":article_names, \"Text\":article}, ignore_index=True)\n",
      "C:\\Users\\ingeg\\AppData\\Local\\Temp\\ipykernel_1336\\1388660847.py:61: FutureWarning: The frame.append method is deprecated and will be removed from pandas in a future version. Use pandas.concat instead.\n",
      "  df = df.append({\"File_Name\": filename,\"Date\":  date, \"Sentiment\":total_sentiment, \"Publisher\":publisher, \"Mentioned_Names\":article_names, \"Text\":article}, ignore_index=True)\n"
     ]
    },
    {
     "name": "stdout",
     "output_type": "stream",
     "text": [
      "354.txt\n",
      "355.txt\n",
      "356.txt\n"
     ]
    },
    {
     "name": "stderr",
     "output_type": "stream",
     "text": [
      "C:\\Users\\ingeg\\AppData\\Local\\Temp\\ipykernel_1336\\1388660847.py:61: FutureWarning: The frame.append method is deprecated and will be removed from pandas in a future version. Use pandas.concat instead.\n",
      "  df = df.append({\"File_Name\": filename,\"Date\":  date, \"Sentiment\":total_sentiment, \"Publisher\":publisher, \"Mentioned_Names\":article_names, \"Text\":article}, ignore_index=True)\n",
      "C:\\Users\\ingeg\\AppData\\Local\\Temp\\ipykernel_1336\\1388660847.py:61: FutureWarning: The frame.append method is deprecated and will be removed from pandas in a future version. Use pandas.concat instead.\n",
      "  df = df.append({\"File_Name\": filename,\"Date\":  date, \"Sentiment\":total_sentiment, \"Publisher\":publisher, \"Mentioned_Names\":article_names, \"Text\":article}, ignore_index=True)\n"
     ]
    },
    {
     "name": "stdout",
     "output_type": "stream",
     "text": [
      "357.txt\n"
     ]
    },
    {
     "name": "stderr",
     "output_type": "stream",
     "text": [
      "C:\\Users\\ingeg\\AppData\\Local\\Temp\\ipykernel_1336\\1388660847.py:61: FutureWarning: The frame.append method is deprecated and will be removed from pandas in a future version. Use pandas.concat instead.\n",
      "  df = df.append({\"File_Name\": filename,\"Date\":  date, \"Sentiment\":total_sentiment, \"Publisher\":publisher, \"Mentioned_Names\":article_names, \"Text\":article}, ignore_index=True)\n",
      "C:\\Users\\ingeg\\AppData\\Local\\Temp\\ipykernel_1336\\1388660847.py:61: FutureWarning: The frame.append method is deprecated and will be removed from pandas in a future version. Use pandas.concat instead.\n",
      "  df = df.append({\"File_Name\": filename,\"Date\":  date, \"Sentiment\":total_sentiment, \"Publisher\":publisher, \"Mentioned_Names\":article_names, \"Text\":article}, ignore_index=True)\n"
     ]
    },
    {
     "name": "stdout",
     "output_type": "stream",
     "text": [
      "358.txt\n",
      "359.txt\n"
     ]
    },
    {
     "name": "stderr",
     "output_type": "stream",
     "text": [
      "C:\\Users\\ingeg\\AppData\\Local\\Temp\\ipykernel_1336\\1388660847.py:61: FutureWarning: The frame.append method is deprecated and will be removed from pandas in a future version. Use pandas.concat instead.\n",
      "  df = df.append({\"File_Name\": filename,\"Date\":  date, \"Sentiment\":total_sentiment, \"Publisher\":publisher, \"Mentioned_Names\":article_names, \"Text\":article}, ignore_index=True)\n"
     ]
    },
    {
     "name": "stdout",
     "output_type": "stream",
     "text": [
      "36.txt\n"
     ]
    },
    {
     "name": "stderr",
     "output_type": "stream",
     "text": [
      "C:\\Users\\ingeg\\AppData\\Local\\Temp\\ipykernel_1336\\1388660847.py:61: FutureWarning: The frame.append method is deprecated and will be removed from pandas in a future version. Use pandas.concat instead.\n",
      "  df = df.append({\"File_Name\": filename,\"Date\":  date, \"Sentiment\":total_sentiment, \"Publisher\":publisher, \"Mentioned_Names\":article_names, \"Text\":article}, ignore_index=True)\n"
     ]
    },
    {
     "name": "stdout",
     "output_type": "stream",
     "text": [
      "360.txt\n"
     ]
    },
    {
     "name": "stderr",
     "output_type": "stream",
     "text": [
      "C:\\Users\\ingeg\\AppData\\Local\\Temp\\ipykernel_1336\\1388660847.py:61: FutureWarning: The frame.append method is deprecated and will be removed from pandas in a future version. Use pandas.concat instead.\n",
      "  df = df.append({\"File_Name\": filename,\"Date\":  date, \"Sentiment\":total_sentiment, \"Publisher\":publisher, \"Mentioned_Names\":article_names, \"Text\":article}, ignore_index=True)\n",
      "C:\\Users\\ingeg\\AppData\\Local\\Temp\\ipykernel_1336\\1388660847.py:61: FutureWarning: The frame.append method is deprecated and will be removed from pandas in a future version. Use pandas.concat instead.\n",
      "  df = df.append({\"File_Name\": filename,\"Date\":  date, \"Sentiment\":total_sentiment, \"Publisher\":publisher, \"Mentioned_Names\":article_names, \"Text\":article}, ignore_index=True)\n"
     ]
    },
    {
     "name": "stdout",
     "output_type": "stream",
     "text": [
      "361.txt\n",
      "362.txt\n"
     ]
    },
    {
     "name": "stderr",
     "output_type": "stream",
     "text": [
      "C:\\Users\\ingeg\\AppData\\Local\\Temp\\ipykernel_1336\\1388660847.py:61: FutureWarning: The frame.append method is deprecated and will be removed from pandas in a future version. Use pandas.concat instead.\n",
      "  df = df.append({\"File_Name\": filename,\"Date\":  date, \"Sentiment\":total_sentiment, \"Publisher\":publisher, \"Mentioned_Names\":article_names, \"Text\":article}, ignore_index=True)\n",
      "C:\\Users\\ingeg\\AppData\\Local\\Temp\\ipykernel_1336\\1388660847.py:61: FutureWarning: The frame.append method is deprecated and will be removed from pandas in a future version. Use pandas.concat instead.\n",
      "  df = df.append({\"File_Name\": filename,\"Date\":  date, \"Sentiment\":total_sentiment, \"Publisher\":publisher, \"Mentioned_Names\":article_names, \"Text\":article}, ignore_index=True)\n"
     ]
    },
    {
     "name": "stdout",
     "output_type": "stream",
     "text": [
      "363.txt\n",
      "364.txt\n"
     ]
    },
    {
     "name": "stderr",
     "output_type": "stream",
     "text": [
      "C:\\Users\\ingeg\\AppData\\Local\\Temp\\ipykernel_1336\\1388660847.py:61: FutureWarning: The frame.append method is deprecated and will be removed from pandas in a future version. Use pandas.concat instead.\n",
      "  df = df.append({\"File_Name\": filename,\"Date\":  date, \"Sentiment\":total_sentiment, \"Publisher\":publisher, \"Mentioned_Names\":article_names, \"Text\":article}, ignore_index=True)\n",
      "C:\\Users\\ingeg\\AppData\\Local\\Temp\\ipykernel_1336\\1388660847.py:61: FutureWarning: The frame.append method is deprecated and will be removed from pandas in a future version. Use pandas.concat instead.\n",
      "  df = df.append({\"File_Name\": filename,\"Date\":  date, \"Sentiment\":total_sentiment, \"Publisher\":publisher, \"Mentioned_Names\":article_names, \"Text\":article}, ignore_index=True)\n"
     ]
    },
    {
     "name": "stdout",
     "output_type": "stream",
     "text": [
      "365.txt\n",
      "366.txt\n"
     ]
    },
    {
     "name": "stderr",
     "output_type": "stream",
     "text": [
      "C:\\Users\\ingeg\\AppData\\Local\\Temp\\ipykernel_1336\\1388660847.py:61: FutureWarning: The frame.append method is deprecated and will be removed from pandas in a future version. Use pandas.concat instead.\n",
      "  df = df.append({\"File_Name\": filename,\"Date\":  date, \"Sentiment\":total_sentiment, \"Publisher\":publisher, \"Mentioned_Names\":article_names, \"Text\":article}, ignore_index=True)\n",
      "C:\\Users\\ingeg\\AppData\\Local\\Temp\\ipykernel_1336\\1388660847.py:61: FutureWarning: The frame.append method is deprecated and will be removed from pandas in a future version. Use pandas.concat instead.\n",
      "  df = df.append({\"File_Name\": filename,\"Date\":  date, \"Sentiment\":total_sentiment, \"Publisher\":publisher, \"Mentioned_Names\":article_names, \"Text\":article}, ignore_index=True)\n"
     ]
    },
    {
     "name": "stdout",
     "output_type": "stream",
     "text": [
      "367.txt\n",
      "368.txt\n"
     ]
    },
    {
     "name": "stderr",
     "output_type": "stream",
     "text": [
      "C:\\Users\\ingeg\\AppData\\Local\\Temp\\ipykernel_1336\\1388660847.py:61: FutureWarning: The frame.append method is deprecated and will be removed from pandas in a future version. Use pandas.concat instead.\n",
      "  df = df.append({\"File_Name\": filename,\"Date\":  date, \"Sentiment\":total_sentiment, \"Publisher\":publisher, \"Mentioned_Names\":article_names, \"Text\":article}, ignore_index=True)\n",
      "C:\\Users\\ingeg\\AppData\\Local\\Temp\\ipykernel_1336\\1388660847.py:61: FutureWarning: The frame.append method is deprecated and will be removed from pandas in a future version. Use pandas.concat instead.\n",
      "  df = df.append({\"File_Name\": filename,\"Date\":  date, \"Sentiment\":total_sentiment, \"Publisher\":publisher, \"Mentioned_Names\":article_names, \"Text\":article}, ignore_index=True)\n"
     ]
    },
    {
     "name": "stdout",
     "output_type": "stream",
     "text": [
      "369.txt\n",
      "37.txt\n"
     ]
    },
    {
     "name": "stderr",
     "output_type": "stream",
     "text": [
      "C:\\Users\\ingeg\\AppData\\Local\\Temp\\ipykernel_1336\\1388660847.py:61: FutureWarning: The frame.append method is deprecated and will be removed from pandas in a future version. Use pandas.concat instead.\n",
      "  df = df.append({\"File_Name\": filename,\"Date\":  date, \"Sentiment\":total_sentiment, \"Publisher\":publisher, \"Mentioned_Names\":article_names, \"Text\":article}, ignore_index=True)\n",
      "C:\\Users\\ingeg\\AppData\\Local\\Temp\\ipykernel_1336\\1388660847.py:61: FutureWarning: The frame.append method is deprecated and will be removed from pandas in a future version. Use pandas.concat instead.\n",
      "  df = df.append({\"File_Name\": filename,\"Date\":  date, \"Sentiment\":total_sentiment, \"Publisher\":publisher, \"Mentioned_Names\":article_names, \"Text\":article}, ignore_index=True)\n"
     ]
    },
    {
     "name": "stdout",
     "output_type": "stream",
     "text": [
      "370.txt\n",
      "371.txt\n"
     ]
    },
    {
     "name": "stderr",
     "output_type": "stream",
     "text": [
      "C:\\Users\\ingeg\\AppData\\Local\\Temp\\ipykernel_1336\\1388660847.py:61: FutureWarning: The frame.append method is deprecated and will be removed from pandas in a future version. Use pandas.concat instead.\n",
      "  df = df.append({\"File_Name\": filename,\"Date\":  date, \"Sentiment\":total_sentiment, \"Publisher\":publisher, \"Mentioned_Names\":article_names, \"Text\":article}, ignore_index=True)\n",
      "C:\\Users\\ingeg\\AppData\\Local\\Temp\\ipykernel_1336\\1388660847.py:61: FutureWarning: The frame.append method is deprecated and will be removed from pandas in a future version. Use pandas.concat instead.\n",
      "  df = df.append({\"File_Name\": filename,\"Date\":  date, \"Sentiment\":total_sentiment, \"Publisher\":publisher, \"Mentioned_Names\":article_names, \"Text\":article}, ignore_index=True)\n"
     ]
    },
    {
     "name": "stdout",
     "output_type": "stream",
     "text": [
      "372.txt\n",
      "373.txt\n"
     ]
    },
    {
     "name": "stderr",
     "output_type": "stream",
     "text": [
      "C:\\Users\\ingeg\\AppData\\Local\\Temp\\ipykernel_1336\\1388660847.py:61: FutureWarning: The frame.append method is deprecated and will be removed from pandas in a future version. Use pandas.concat instead.\n",
      "  df = df.append({\"File_Name\": filename,\"Date\":  date, \"Sentiment\":total_sentiment, \"Publisher\":publisher, \"Mentioned_Names\":article_names, \"Text\":article}, ignore_index=True)\n",
      "C:\\Users\\ingeg\\AppData\\Local\\Temp\\ipykernel_1336\\1388660847.py:61: FutureWarning: The frame.append method is deprecated and will be removed from pandas in a future version. Use pandas.concat instead.\n",
      "  df = df.append({\"File_Name\": filename,\"Date\":  date, \"Sentiment\":total_sentiment, \"Publisher\":publisher, \"Mentioned_Names\":article_names, \"Text\":article}, ignore_index=True)\n"
     ]
    },
    {
     "name": "stdout",
     "output_type": "stream",
     "text": [
      "374.txt\n",
      "375.txt\n"
     ]
    },
    {
     "name": "stderr",
     "output_type": "stream",
     "text": [
      "C:\\Users\\ingeg\\AppData\\Local\\Temp\\ipykernel_1336\\1388660847.py:61: FutureWarning: The frame.append method is deprecated and will be removed from pandas in a future version. Use pandas.concat instead.\n",
      "  df = df.append({\"File_Name\": filename,\"Date\":  date, \"Sentiment\":total_sentiment, \"Publisher\":publisher, \"Mentioned_Names\":article_names, \"Text\":article}, ignore_index=True)\n",
      "C:\\Users\\ingeg\\AppData\\Local\\Temp\\ipykernel_1336\\1388660847.py:61: FutureWarning: The frame.append method is deprecated and will be removed from pandas in a future version. Use pandas.concat instead.\n",
      "  df = df.append({\"File_Name\": filename,\"Date\":  date, \"Sentiment\":total_sentiment, \"Publisher\":publisher, \"Mentioned_Names\":article_names, \"Text\":article}, ignore_index=True)\n"
     ]
    },
    {
     "name": "stdout",
     "output_type": "stream",
     "text": [
      "376.txt\n",
      "377.txt\n"
     ]
    },
    {
     "name": "stderr",
     "output_type": "stream",
     "text": [
      "C:\\Users\\ingeg\\AppData\\Local\\Temp\\ipykernel_1336\\1388660847.py:61: FutureWarning: The frame.append method is deprecated and will be removed from pandas in a future version. Use pandas.concat instead.\n",
      "  df = df.append({\"File_Name\": filename,\"Date\":  date, \"Sentiment\":total_sentiment, \"Publisher\":publisher, \"Mentioned_Names\":article_names, \"Text\":article}, ignore_index=True)\n",
      "C:\\Users\\ingeg\\AppData\\Local\\Temp\\ipykernel_1336\\1388660847.py:61: FutureWarning: The frame.append method is deprecated and will be removed from pandas in a future version. Use pandas.concat instead.\n",
      "  df = df.append({\"File_Name\": filename,\"Date\":  date, \"Sentiment\":total_sentiment, \"Publisher\":publisher, \"Mentioned_Names\":article_names, \"Text\":article}, ignore_index=True)\n"
     ]
    },
    {
     "name": "stdout",
     "output_type": "stream",
     "text": [
      "378.txt\n",
      "379.txt\n"
     ]
    },
    {
     "name": "stderr",
     "output_type": "stream",
     "text": [
      "C:\\Users\\ingeg\\AppData\\Local\\Temp\\ipykernel_1336\\1388660847.py:61: FutureWarning: The frame.append method is deprecated and will be removed from pandas in a future version. Use pandas.concat instead.\n",
      "  df = df.append({\"File_Name\": filename,\"Date\":  date, \"Sentiment\":total_sentiment, \"Publisher\":publisher, \"Mentioned_Names\":article_names, \"Text\":article}, ignore_index=True)\n"
     ]
    },
    {
     "name": "stdout",
     "output_type": "stream",
     "text": [
      "38.txt\n"
     ]
    },
    {
     "name": "stderr",
     "output_type": "stream",
     "text": [
      "C:\\Users\\ingeg\\AppData\\Local\\Temp\\ipykernel_1336\\1388660847.py:61: FutureWarning: The frame.append method is deprecated and will be removed from pandas in a future version. Use pandas.concat instead.\n",
      "  df = df.append({\"File_Name\": filename,\"Date\":  date, \"Sentiment\":total_sentiment, \"Publisher\":publisher, \"Mentioned_Names\":article_names, \"Text\":article}, ignore_index=True)\n",
      "C:\\Users\\ingeg\\AppData\\Local\\Temp\\ipykernel_1336\\1388660847.py:61: FutureWarning: The frame.append method is deprecated and will be removed from pandas in a future version. Use pandas.concat instead.\n",
      "  df = df.append({\"File_Name\": filename,\"Date\":  date, \"Sentiment\":total_sentiment, \"Publisher\":publisher, \"Mentioned_Names\":article_names, \"Text\":article}, ignore_index=True)\n",
      "C:\\Users\\ingeg\\AppData\\Local\\Temp\\ipykernel_1336\\1388660847.py:61: FutureWarning: The frame.append method is deprecated and will be removed from pandas in a future version. Use pandas.concat instead.\n",
      "  df = df.append({\"File_Name\": filename,\"Date\":  date, \"Sentiment\":total_sentiment, \"Publisher\":publisher, \"Mentioned_Names\":article_names, \"Text\":article}, ignore_index=True)\n"
     ]
    },
    {
     "name": "stdout",
     "output_type": "stream",
     "text": [
      "380.txt\n",
      "381.txt\n",
      "382.txt\n"
     ]
    },
    {
     "name": "stderr",
     "output_type": "stream",
     "text": [
      "C:\\Users\\ingeg\\AppData\\Local\\Temp\\ipykernel_1336\\1388660847.py:61: FutureWarning: The frame.append method is deprecated and will be removed from pandas in a future version. Use pandas.concat instead.\n",
      "  df = df.append({\"File_Name\": filename,\"Date\":  date, \"Sentiment\":total_sentiment, \"Publisher\":publisher, \"Mentioned_Names\":article_names, \"Text\":article}, ignore_index=True)\n"
     ]
    },
    {
     "name": "stdout",
     "output_type": "stream",
     "text": [
      "383.txt\n"
     ]
    },
    {
     "name": "stderr",
     "output_type": "stream",
     "text": [
      "C:\\Users\\ingeg\\AppData\\Local\\Temp\\ipykernel_1336\\1388660847.py:61: FutureWarning: The frame.append method is deprecated and will be removed from pandas in a future version. Use pandas.concat instead.\n",
      "  df = df.append({\"File_Name\": filename,\"Date\":  date, \"Sentiment\":total_sentiment, \"Publisher\":publisher, \"Mentioned_Names\":article_names, \"Text\":article}, ignore_index=True)\n",
      "C:\\Users\\ingeg\\AppData\\Local\\Temp\\ipykernel_1336\\1388660847.py:61: FutureWarning: The frame.append method is deprecated and will be removed from pandas in a future version. Use pandas.concat instead.\n",
      "  df = df.append({\"File_Name\": filename,\"Date\":  date, \"Sentiment\":total_sentiment, \"Publisher\":publisher, \"Mentioned_Names\":article_names, \"Text\":article}, ignore_index=True)\n"
     ]
    },
    {
     "name": "stdout",
     "output_type": "stream",
     "text": [
      "384.txt\n",
      "385.txt\n"
     ]
    },
    {
     "name": "stderr",
     "output_type": "stream",
     "text": [
      "C:\\Users\\ingeg\\AppData\\Local\\Temp\\ipykernel_1336\\1388660847.py:61: FutureWarning: The frame.append method is deprecated and will be removed from pandas in a future version. Use pandas.concat instead.\n",
      "  df = df.append({\"File_Name\": filename,\"Date\":  date, \"Sentiment\":total_sentiment, \"Publisher\":publisher, \"Mentioned_Names\":article_names, \"Text\":article}, ignore_index=True)\n",
      "C:\\Users\\ingeg\\AppData\\Local\\Temp\\ipykernel_1336\\1388660847.py:61: FutureWarning: The frame.append method is deprecated and will be removed from pandas in a future version. Use pandas.concat instead.\n",
      "  df = df.append({\"File_Name\": filename,\"Date\":  date, \"Sentiment\":total_sentiment, \"Publisher\":publisher, \"Mentioned_Names\":article_names, \"Text\":article}, ignore_index=True)\n"
     ]
    },
    {
     "name": "stdout",
     "output_type": "stream",
     "text": [
      "386.txt\n",
      "387.txt\n"
     ]
    },
    {
     "name": "stderr",
     "output_type": "stream",
     "text": [
      "C:\\Users\\ingeg\\AppData\\Local\\Temp\\ipykernel_1336\\1388660847.py:61: FutureWarning: The frame.append method is deprecated and will be removed from pandas in a future version. Use pandas.concat instead.\n",
      "  df = df.append({\"File_Name\": filename,\"Date\":  date, \"Sentiment\":total_sentiment, \"Publisher\":publisher, \"Mentioned_Names\":article_names, \"Text\":article}, ignore_index=True)\n",
      "C:\\Users\\ingeg\\AppData\\Local\\Temp\\ipykernel_1336\\1388660847.py:61: FutureWarning: The frame.append method is deprecated and will be removed from pandas in a future version. Use pandas.concat instead.\n",
      "  df = df.append({\"File_Name\": filename,\"Date\":  date, \"Sentiment\":total_sentiment, \"Publisher\":publisher, \"Mentioned_Names\":article_names, \"Text\":article}, ignore_index=True)\n"
     ]
    },
    {
     "name": "stdout",
     "output_type": "stream",
     "text": [
      "388.txt\n",
      "389.txt\n",
      "39.txt\n"
     ]
    },
    {
     "name": "stderr",
     "output_type": "stream",
     "text": [
      "C:\\Users\\ingeg\\AppData\\Local\\Temp\\ipykernel_1336\\1388660847.py:61: FutureWarning: The frame.append method is deprecated and will be removed from pandas in a future version. Use pandas.concat instead.\n",
      "  df = df.append({\"File_Name\": filename,\"Date\":  date, \"Sentiment\":total_sentiment, \"Publisher\":publisher, \"Mentioned_Names\":article_names, \"Text\":article}, ignore_index=True)\n",
      "C:\\Users\\ingeg\\AppData\\Local\\Temp\\ipykernel_1336\\1388660847.py:61: FutureWarning: The frame.append method is deprecated and will be removed from pandas in a future version. Use pandas.concat instead.\n",
      "  df = df.append({\"File_Name\": filename,\"Date\":  date, \"Sentiment\":total_sentiment, \"Publisher\":publisher, \"Mentioned_Names\":article_names, \"Text\":article}, ignore_index=True)\n"
     ]
    },
    {
     "name": "stdout",
     "output_type": "stream",
     "text": [
      "390.txt\n"
     ]
    },
    {
     "name": "stderr",
     "output_type": "stream",
     "text": [
      "C:\\Users\\ingeg\\AppData\\Local\\Temp\\ipykernel_1336\\1388660847.py:61: FutureWarning: The frame.append method is deprecated and will be removed from pandas in a future version. Use pandas.concat instead.\n",
      "  df = df.append({\"File_Name\": filename,\"Date\":  date, \"Sentiment\":total_sentiment, \"Publisher\":publisher, \"Mentioned_Names\":article_names, \"Text\":article}, ignore_index=True)\n",
      "C:\\Users\\ingeg\\AppData\\Local\\Temp\\ipykernel_1336\\1388660847.py:61: FutureWarning: The frame.append method is deprecated and will be removed from pandas in a future version. Use pandas.concat instead.\n",
      "  df = df.append({\"File_Name\": filename,\"Date\":  date, \"Sentiment\":total_sentiment, \"Publisher\":publisher, \"Mentioned_Names\":article_names, \"Text\":article}, ignore_index=True)\n"
     ]
    },
    {
     "name": "stdout",
     "output_type": "stream",
     "text": [
      "391.txt\n",
      "392.txt\n"
     ]
    },
    {
     "name": "stderr",
     "output_type": "stream",
     "text": [
      "C:\\Users\\ingeg\\AppData\\Local\\Temp\\ipykernel_1336\\1388660847.py:61: FutureWarning: The frame.append method is deprecated and will be removed from pandas in a future version. Use pandas.concat instead.\n",
      "  df = df.append({\"File_Name\": filename,\"Date\":  date, \"Sentiment\":total_sentiment, \"Publisher\":publisher, \"Mentioned_Names\":article_names, \"Text\":article}, ignore_index=True)\n"
     ]
    },
    {
     "name": "stdout",
     "output_type": "stream",
     "text": [
      "393.txt\n"
     ]
    },
    {
     "name": "stderr",
     "output_type": "stream",
     "text": [
      "C:\\Users\\ingeg\\AppData\\Local\\Temp\\ipykernel_1336\\1388660847.py:61: FutureWarning: The frame.append method is deprecated and will be removed from pandas in a future version. Use pandas.concat instead.\n",
      "  df = df.append({\"File_Name\": filename,\"Date\":  date, \"Sentiment\":total_sentiment, \"Publisher\":publisher, \"Mentioned_Names\":article_names, \"Text\":article}, ignore_index=True)\n"
     ]
    },
    {
     "name": "stdout",
     "output_type": "stream",
     "text": [
      "394.txt\n"
     ]
    },
    {
     "name": "stderr",
     "output_type": "stream",
     "text": [
      "C:\\Users\\ingeg\\AppData\\Local\\Temp\\ipykernel_1336\\1388660847.py:61: FutureWarning: The frame.append method is deprecated and will be removed from pandas in a future version. Use pandas.concat instead.\n",
      "  df = df.append({\"File_Name\": filename,\"Date\":  date, \"Sentiment\":total_sentiment, \"Publisher\":publisher, \"Mentioned_Names\":article_names, \"Text\":article}, ignore_index=True)\n",
      "C:\\Users\\ingeg\\AppData\\Local\\Temp\\ipykernel_1336\\1388660847.py:61: FutureWarning: The frame.append method is deprecated and will be removed from pandas in a future version. Use pandas.concat instead.\n",
      "  df = df.append({\"File_Name\": filename,\"Date\":  date, \"Sentiment\":total_sentiment, \"Publisher\":publisher, \"Mentioned_Names\":article_names, \"Text\":article}, ignore_index=True)\n"
     ]
    },
    {
     "name": "stdout",
     "output_type": "stream",
     "text": [
      "395.txt\n",
      "396.txt\n"
     ]
    },
    {
     "name": "stderr",
     "output_type": "stream",
     "text": [
      "C:\\Users\\ingeg\\AppData\\Local\\Temp\\ipykernel_1336\\1388660847.py:61: FutureWarning: The frame.append method is deprecated and will be removed from pandas in a future version. Use pandas.concat instead.\n",
      "  df = df.append({\"File_Name\": filename,\"Date\":  date, \"Sentiment\":total_sentiment, \"Publisher\":publisher, \"Mentioned_Names\":article_names, \"Text\":article}, ignore_index=True)\n"
     ]
    },
    {
     "name": "stdout",
     "output_type": "stream",
     "text": [
      "397.txt\n"
     ]
    },
    {
     "name": "stderr",
     "output_type": "stream",
     "text": [
      "C:\\Users\\ingeg\\AppData\\Local\\Temp\\ipykernel_1336\\1388660847.py:61: FutureWarning: The frame.append method is deprecated and will be removed from pandas in a future version. Use pandas.concat instead.\n",
      "  df = df.append({\"File_Name\": filename,\"Date\":  date, \"Sentiment\":total_sentiment, \"Publisher\":publisher, \"Mentioned_Names\":article_names, \"Text\":article}, ignore_index=True)\n",
      "C:\\Users\\ingeg\\AppData\\Local\\Temp\\ipykernel_1336\\1388660847.py:61: FutureWarning: The frame.append method is deprecated and will be removed from pandas in a future version. Use pandas.concat instead.\n",
      "  df = df.append({\"File_Name\": filename,\"Date\":  date, \"Sentiment\":total_sentiment, \"Publisher\":publisher, \"Mentioned_Names\":article_names, \"Text\":article}, ignore_index=True)\n"
     ]
    },
    {
     "name": "stdout",
     "output_type": "stream",
     "text": [
      "398.txt\n",
      "399.txt\n"
     ]
    },
    {
     "name": "stderr",
     "output_type": "stream",
     "text": [
      "C:\\Users\\ingeg\\AppData\\Local\\Temp\\ipykernel_1336\\1388660847.py:61: FutureWarning: The frame.append method is deprecated and will be removed from pandas in a future version. Use pandas.concat instead.\n",
      "  df = df.append({\"File_Name\": filename,\"Date\":  date, \"Sentiment\":total_sentiment, \"Publisher\":publisher, \"Mentioned_Names\":article_names, \"Text\":article}, ignore_index=True)\n"
     ]
    },
    {
     "name": "stdout",
     "output_type": "stream",
     "text": [
      "4.txt\n"
     ]
    },
    {
     "name": "stderr",
     "output_type": "stream",
     "text": [
      "C:\\Users\\ingeg\\AppData\\Local\\Temp\\ipykernel_1336\\1388660847.py:61: FutureWarning: The frame.append method is deprecated and will be removed from pandas in a future version. Use pandas.concat instead.\n",
      "  df = df.append({\"File_Name\": filename,\"Date\":  date, \"Sentiment\":total_sentiment, \"Publisher\":publisher, \"Mentioned_Names\":article_names, \"Text\":article}, ignore_index=True)\n",
      "C:\\Users\\ingeg\\AppData\\Local\\Temp\\ipykernel_1336\\1388660847.py:61: FutureWarning: The frame.append method is deprecated and will be removed from pandas in a future version. Use pandas.concat instead.\n",
      "  df = df.append({\"File_Name\": filename,\"Date\":  date, \"Sentiment\":total_sentiment, \"Publisher\":publisher, \"Mentioned_Names\":article_names, \"Text\":article}, ignore_index=True)\n"
     ]
    },
    {
     "name": "stdout",
     "output_type": "stream",
     "text": [
      "40.txt\n",
      "400.txt\n"
     ]
    },
    {
     "name": "stderr",
     "output_type": "stream",
     "text": [
      "C:\\Users\\ingeg\\AppData\\Local\\Temp\\ipykernel_1336\\1388660847.py:61: FutureWarning: The frame.append method is deprecated and will be removed from pandas in a future version. Use pandas.concat instead.\n",
      "  df = df.append({\"File_Name\": filename,\"Date\":  date, \"Sentiment\":total_sentiment, \"Publisher\":publisher, \"Mentioned_Names\":article_names, \"Text\":article}, ignore_index=True)\n",
      "C:\\Users\\ingeg\\AppData\\Local\\Temp\\ipykernel_1336\\1388660847.py:61: FutureWarning: The frame.append method is deprecated and will be removed from pandas in a future version. Use pandas.concat instead.\n",
      "  df = df.append({\"File_Name\": filename,\"Date\":  date, \"Sentiment\":total_sentiment, \"Publisher\":publisher, \"Mentioned_Names\":article_names, \"Text\":article}, ignore_index=True)\n"
     ]
    },
    {
     "name": "stdout",
     "output_type": "stream",
     "text": [
      "401.txt\n",
      "402.txt\n"
     ]
    },
    {
     "name": "stderr",
     "output_type": "stream",
     "text": [
      "C:\\Users\\ingeg\\AppData\\Local\\Temp\\ipykernel_1336\\1388660847.py:61: FutureWarning: The frame.append method is deprecated and will be removed from pandas in a future version. Use pandas.concat instead.\n",
      "  df = df.append({\"File_Name\": filename,\"Date\":  date, \"Sentiment\":total_sentiment, \"Publisher\":publisher, \"Mentioned_Names\":article_names, \"Text\":article}, ignore_index=True)\n",
      "C:\\Users\\ingeg\\AppData\\Local\\Temp\\ipykernel_1336\\1388660847.py:61: FutureWarning: The frame.append method is deprecated and will be removed from pandas in a future version. Use pandas.concat instead.\n",
      "  df = df.append({\"File_Name\": filename,\"Date\":  date, \"Sentiment\":total_sentiment, \"Publisher\":publisher, \"Mentioned_Names\":article_names, \"Text\":article}, ignore_index=True)\n"
     ]
    },
    {
     "name": "stdout",
     "output_type": "stream",
     "text": [
      "403.txt\n",
      "404.txt\n"
     ]
    },
    {
     "name": "stderr",
     "output_type": "stream",
     "text": [
      "C:\\Users\\ingeg\\AppData\\Local\\Temp\\ipykernel_1336\\1388660847.py:61: FutureWarning: The frame.append method is deprecated and will be removed from pandas in a future version. Use pandas.concat instead.\n",
      "  df = df.append({\"File_Name\": filename,\"Date\":  date, \"Sentiment\":total_sentiment, \"Publisher\":publisher, \"Mentioned_Names\":article_names, \"Text\":article}, ignore_index=True)\n"
     ]
    },
    {
     "name": "stdout",
     "output_type": "stream",
     "text": [
      "405.txt\n"
     ]
    },
    {
     "name": "stderr",
     "output_type": "stream",
     "text": [
      "C:\\Users\\ingeg\\AppData\\Local\\Temp\\ipykernel_1336\\1388660847.py:61: FutureWarning: The frame.append method is deprecated and will be removed from pandas in a future version. Use pandas.concat instead.\n",
      "  df = df.append({\"File_Name\": filename,\"Date\":  date, \"Sentiment\":total_sentiment, \"Publisher\":publisher, \"Mentioned_Names\":article_names, \"Text\":article}, ignore_index=True)\n"
     ]
    },
    {
     "name": "stdout",
     "output_type": "stream",
     "text": [
      "406.txt\n"
     ]
    },
    {
     "name": "stderr",
     "output_type": "stream",
     "text": [
      "C:\\Users\\ingeg\\AppData\\Local\\Temp\\ipykernel_1336\\1388660847.py:61: FutureWarning: The frame.append method is deprecated and will be removed from pandas in a future version. Use pandas.concat instead.\n",
      "  df = df.append({\"File_Name\": filename,\"Date\":  date, \"Sentiment\":total_sentiment, \"Publisher\":publisher, \"Mentioned_Names\":article_names, \"Text\":article}, ignore_index=True)\n",
      "C:\\Users\\ingeg\\AppData\\Local\\Temp\\ipykernel_1336\\1388660847.py:61: FutureWarning: The frame.append method is deprecated and will be removed from pandas in a future version. Use pandas.concat instead.\n",
      "  df = df.append({\"File_Name\": filename,\"Date\":  date, \"Sentiment\":total_sentiment, \"Publisher\":publisher, \"Mentioned_Names\":article_names, \"Text\":article}, ignore_index=True)\n"
     ]
    },
    {
     "name": "stdout",
     "output_type": "stream",
     "text": [
      "407.txt\n",
      "408.txt\n"
     ]
    },
    {
     "name": "stderr",
     "output_type": "stream",
     "text": [
      "C:\\Users\\ingeg\\AppData\\Local\\Temp\\ipykernel_1336\\1388660847.py:61: FutureWarning: The frame.append method is deprecated and will be removed from pandas in a future version. Use pandas.concat instead.\n",
      "  df = df.append({\"File_Name\": filename,\"Date\":  date, \"Sentiment\":total_sentiment, \"Publisher\":publisher, \"Mentioned_Names\":article_names, \"Text\":article}, ignore_index=True)\n"
     ]
    },
    {
     "name": "stdout",
     "output_type": "stream",
     "text": [
      "409.txt\n"
     ]
    },
    {
     "name": "stderr",
     "output_type": "stream",
     "text": [
      "C:\\Users\\ingeg\\AppData\\Local\\Temp\\ipykernel_1336\\1388660847.py:61: FutureWarning: The frame.append method is deprecated and will be removed from pandas in a future version. Use pandas.concat instead.\n",
      "  df = df.append({\"File_Name\": filename,\"Date\":  date, \"Sentiment\":total_sentiment, \"Publisher\":publisher, \"Mentioned_Names\":article_names, \"Text\":article}, ignore_index=True)\n",
      "C:\\Users\\ingeg\\AppData\\Local\\Temp\\ipykernel_1336\\1388660847.py:61: FutureWarning: The frame.append method is deprecated and will be removed from pandas in a future version. Use pandas.concat instead.\n",
      "  df = df.append({\"File_Name\": filename,\"Date\":  date, \"Sentiment\":total_sentiment, \"Publisher\":publisher, \"Mentioned_Names\":article_names, \"Text\":article}, ignore_index=True)\n"
     ]
    },
    {
     "name": "stdout",
     "output_type": "stream",
     "text": [
      "41.txt\n",
      "410.txt\n",
      "411.txt\n",
      "412.txt\n"
     ]
    },
    {
     "name": "stderr",
     "output_type": "stream",
     "text": [
      "C:\\Users\\ingeg\\AppData\\Local\\Temp\\ipykernel_1336\\1388660847.py:61: FutureWarning: The frame.append method is deprecated and will be removed from pandas in a future version. Use pandas.concat instead.\n",
      "  df = df.append({\"File_Name\": filename,\"Date\":  date, \"Sentiment\":total_sentiment, \"Publisher\":publisher, \"Mentioned_Names\":article_names, \"Text\":article}, ignore_index=True)\n",
      "C:\\Users\\ingeg\\AppData\\Local\\Temp\\ipykernel_1336\\1388660847.py:61: FutureWarning: The frame.append method is deprecated and will be removed from pandas in a future version. Use pandas.concat instead.\n",
      "  df = df.append({\"File_Name\": filename,\"Date\":  date, \"Sentiment\":total_sentiment, \"Publisher\":publisher, \"Mentioned_Names\":article_names, \"Text\":article}, ignore_index=True)\n",
      "C:\\Users\\ingeg\\AppData\\Local\\Temp\\ipykernel_1336\\1388660847.py:61: FutureWarning: The frame.append method is deprecated and will be removed from pandas in a future version. Use pandas.concat instead.\n",
      "  df = df.append({\"File_Name\": filename,\"Date\":  date, \"Sentiment\":total_sentiment, \"Publisher\":publisher, \"Mentioned_Names\":article_names, \"Text\":article}, ignore_index=True)\n",
      "C:\\Users\\ingeg\\AppData\\Local\\Temp\\ipykernel_1336\\1388660847.py:61: FutureWarning: The frame.append method is deprecated and will be removed from pandas in a future version. Use pandas.concat instead.\n",
      "  df = df.append({\"File_Name\": filename,\"Date\":  date, \"Sentiment\":total_sentiment, \"Publisher\":publisher, \"Mentioned_Names\":article_names, \"Text\":article}, ignore_index=True)\n",
      "C:\\Users\\ingeg\\AppData\\Local\\Temp\\ipykernel_1336\\1388660847.py:61: FutureWarning: The frame.append method is deprecated and will be removed from pandas in a future version. Use pandas.concat instead.\n",
      "  df = df.append({\"File_Name\": filename,\"Date\":  date, \"Sentiment\":total_sentiment, \"Publisher\":publisher, \"Mentioned_Names\":article_names, \"Text\":article}, ignore_index=True)\n"
     ]
    },
    {
     "name": "stdout",
     "output_type": "stream",
     "text": [
      "413.txt\n",
      "414.txt\n",
      "415.txt\n"
     ]
    },
    {
     "name": "stderr",
     "output_type": "stream",
     "text": [
      "C:\\Users\\ingeg\\AppData\\Local\\Temp\\ipykernel_1336\\1388660847.py:61: FutureWarning: The frame.append method is deprecated and will be removed from pandas in a future version. Use pandas.concat instead.\n",
      "  df = df.append({\"File_Name\": filename,\"Date\":  date, \"Sentiment\":total_sentiment, \"Publisher\":publisher, \"Mentioned_Names\":article_names, \"Text\":article}, ignore_index=True)\n",
      "C:\\Users\\ingeg\\AppData\\Local\\Temp\\ipykernel_1336\\1388660847.py:61: FutureWarning: The frame.append method is deprecated and will be removed from pandas in a future version. Use pandas.concat instead.\n",
      "  df = df.append({\"File_Name\": filename,\"Date\":  date, \"Sentiment\":total_sentiment, \"Publisher\":publisher, \"Mentioned_Names\":article_names, \"Text\":article}, ignore_index=True)\n",
      "C:\\Users\\ingeg\\AppData\\Local\\Temp\\ipykernel_1336\\1388660847.py:61: FutureWarning: The frame.append method is deprecated and will be removed from pandas in a future version. Use pandas.concat instead.\n",
      "  df = df.append({\"File_Name\": filename,\"Date\":  date, \"Sentiment\":total_sentiment, \"Publisher\":publisher, \"Mentioned_Names\":article_names, \"Text\":article}, ignore_index=True)\n"
     ]
    },
    {
     "name": "stdout",
     "output_type": "stream",
     "text": [
      "416.txt\n",
      "417.txt\n",
      "418.txt\n",
      "419.txt\n"
     ]
    },
    {
     "name": "stderr",
     "output_type": "stream",
     "text": [
      "C:\\Users\\ingeg\\AppData\\Local\\Temp\\ipykernel_1336\\1388660847.py:61: FutureWarning: The frame.append method is deprecated and will be removed from pandas in a future version. Use pandas.concat instead.\n",
      "  df = df.append({\"File_Name\": filename,\"Date\":  date, \"Sentiment\":total_sentiment, \"Publisher\":publisher, \"Mentioned_Names\":article_names, \"Text\":article}, ignore_index=True)\n",
      "C:\\Users\\ingeg\\AppData\\Local\\Temp\\ipykernel_1336\\1388660847.py:61: FutureWarning: The frame.append method is deprecated and will be removed from pandas in a future version. Use pandas.concat instead.\n",
      "  df = df.append({\"File_Name\": filename,\"Date\":  date, \"Sentiment\":total_sentiment, \"Publisher\":publisher, \"Mentioned_Names\":article_names, \"Text\":article}, ignore_index=True)\n"
     ]
    },
    {
     "name": "stdout",
     "output_type": "stream",
     "text": [
      "42.txt\n"
     ]
    },
    {
     "name": "stderr",
     "output_type": "stream",
     "text": [
      "C:\\Users\\ingeg\\AppData\\Local\\Temp\\ipykernel_1336\\1388660847.py:61: FutureWarning: The frame.append method is deprecated and will be removed from pandas in a future version. Use pandas.concat instead.\n",
      "  df = df.append({\"File_Name\": filename,\"Date\":  date, \"Sentiment\":total_sentiment, \"Publisher\":publisher, \"Mentioned_Names\":article_names, \"Text\":article}, ignore_index=True)\n",
      "C:\\Users\\ingeg\\AppData\\Local\\Temp\\ipykernel_1336\\1388660847.py:61: FutureWarning: The frame.append method is deprecated and will be removed from pandas in a future version. Use pandas.concat instead.\n",
      "  df = df.append({\"File_Name\": filename,\"Date\":  date, \"Sentiment\":total_sentiment, \"Publisher\":publisher, \"Mentioned_Names\":article_names, \"Text\":article}, ignore_index=True)\n"
     ]
    },
    {
     "name": "stdout",
     "output_type": "stream",
     "text": [
      "420.txt\n",
      "421.txt\n"
     ]
    },
    {
     "name": "stderr",
     "output_type": "stream",
     "text": [
      "C:\\Users\\ingeg\\AppData\\Local\\Temp\\ipykernel_1336\\1388660847.py:61: FutureWarning: The frame.append method is deprecated and will be removed from pandas in a future version. Use pandas.concat instead.\n",
      "  df = df.append({\"File_Name\": filename,\"Date\":  date, \"Sentiment\":total_sentiment, \"Publisher\":publisher, \"Mentioned_Names\":article_names, \"Text\":article}, ignore_index=True)\n"
     ]
    },
    {
     "name": "stdout",
     "output_type": "stream",
     "text": [
      "422.txt\n"
     ]
    },
    {
     "name": "stderr",
     "output_type": "stream",
     "text": [
      "C:\\Users\\ingeg\\AppData\\Local\\Temp\\ipykernel_1336\\1388660847.py:61: FutureWarning: The frame.append method is deprecated and will be removed from pandas in a future version. Use pandas.concat instead.\n",
      "  df = df.append({\"File_Name\": filename,\"Date\":  date, \"Sentiment\":total_sentiment, \"Publisher\":publisher, \"Mentioned_Names\":article_names, \"Text\":article}, ignore_index=True)\n",
      "C:\\Users\\ingeg\\AppData\\Local\\Temp\\ipykernel_1336\\1388660847.py:61: FutureWarning: The frame.append method is deprecated and will be removed from pandas in a future version. Use pandas.concat instead.\n",
      "  df = df.append({\"File_Name\": filename,\"Date\":  date, \"Sentiment\":total_sentiment, \"Publisher\":publisher, \"Mentioned_Names\":article_names, \"Text\":article}, ignore_index=True)\n"
     ]
    },
    {
     "name": "stdout",
     "output_type": "stream",
     "text": [
      "423.txt\n",
      "424.txt\n"
     ]
    },
    {
     "name": "stderr",
     "output_type": "stream",
     "text": [
      "C:\\Users\\ingeg\\AppData\\Local\\Temp\\ipykernel_1336\\1388660847.py:61: FutureWarning: The frame.append method is deprecated and will be removed from pandas in a future version. Use pandas.concat instead.\n",
      "  df = df.append({\"File_Name\": filename,\"Date\":  date, \"Sentiment\":total_sentiment, \"Publisher\":publisher, \"Mentioned_Names\":article_names, \"Text\":article}, ignore_index=True)\n",
      "C:\\Users\\ingeg\\AppData\\Local\\Temp\\ipykernel_1336\\1388660847.py:61: FutureWarning: The frame.append method is deprecated and will be removed from pandas in a future version. Use pandas.concat instead.\n",
      "  df = df.append({\"File_Name\": filename,\"Date\":  date, \"Sentiment\":total_sentiment, \"Publisher\":publisher, \"Mentioned_Names\":article_names, \"Text\":article}, ignore_index=True)\n",
      "C:\\Users\\ingeg\\AppData\\Local\\Temp\\ipykernel_1336\\1388660847.py:61: FutureWarning: The frame.append method is deprecated and will be removed from pandas in a future version. Use pandas.concat instead.\n",
      "  df = df.append({\"File_Name\": filename,\"Date\":  date, \"Sentiment\":total_sentiment, \"Publisher\":publisher, \"Mentioned_Names\":article_names, \"Text\":article}, ignore_index=True)\n"
     ]
    },
    {
     "name": "stdout",
     "output_type": "stream",
     "text": [
      "425.txt\n",
      "426.txt\n",
      "427.txt\n",
      "428.txt\n"
     ]
    },
    {
     "name": "stderr",
     "output_type": "stream",
     "text": [
      "C:\\Users\\ingeg\\AppData\\Local\\Temp\\ipykernel_1336\\1388660847.py:61: FutureWarning: The frame.append method is deprecated and will be removed from pandas in a future version. Use pandas.concat instead.\n",
      "  df = df.append({\"File_Name\": filename,\"Date\":  date, \"Sentiment\":total_sentiment, \"Publisher\":publisher, \"Mentioned_Names\":article_names, \"Text\":article}, ignore_index=True)\n",
      "C:\\Users\\ingeg\\AppData\\Local\\Temp\\ipykernel_1336\\1388660847.py:61: FutureWarning: The frame.append method is deprecated and will be removed from pandas in a future version. Use pandas.concat instead.\n",
      "  df = df.append({\"File_Name\": filename,\"Date\":  date, \"Sentiment\":total_sentiment, \"Publisher\":publisher, \"Mentioned_Names\":article_names, \"Text\":article}, ignore_index=True)\n",
      "C:\\Users\\ingeg\\AppData\\Local\\Temp\\ipykernel_1336\\1388660847.py:61: FutureWarning: The frame.append method is deprecated and will be removed from pandas in a future version. Use pandas.concat instead.\n",
      "  df = df.append({\"File_Name\": filename,\"Date\":  date, \"Sentiment\":total_sentiment, \"Publisher\":publisher, \"Mentioned_Names\":article_names, \"Text\":article}, ignore_index=True)\n"
     ]
    },
    {
     "name": "stdout",
     "output_type": "stream",
     "text": [
      "429.txt\n",
      "43.txt\n"
     ]
    },
    {
     "name": "stderr",
     "output_type": "stream",
     "text": [
      "C:\\Users\\ingeg\\AppData\\Local\\Temp\\ipykernel_1336\\1388660847.py:61: FutureWarning: The frame.append method is deprecated and will be removed from pandas in a future version. Use pandas.concat instead.\n",
      "  df = df.append({\"File_Name\": filename,\"Date\":  date, \"Sentiment\":total_sentiment, \"Publisher\":publisher, \"Mentioned_Names\":article_names, \"Text\":article}, ignore_index=True)\n",
      "C:\\Users\\ingeg\\AppData\\Local\\Temp\\ipykernel_1336\\1388660847.py:61: FutureWarning: The frame.append method is deprecated and will be removed from pandas in a future version. Use pandas.concat instead.\n",
      "  df = df.append({\"File_Name\": filename,\"Date\":  date, \"Sentiment\":total_sentiment, \"Publisher\":publisher, \"Mentioned_Names\":article_names, \"Text\":article}, ignore_index=True)\n",
      "C:\\Users\\ingeg\\AppData\\Local\\Temp\\ipykernel_1336\\1388660847.py:61: FutureWarning: The frame.append method is deprecated and will be removed from pandas in a future version. Use pandas.concat instead.\n",
      "  df = df.append({\"File_Name\": filename,\"Date\":  date, \"Sentiment\":total_sentiment, \"Publisher\":publisher, \"Mentioned_Names\":article_names, \"Text\":article}, ignore_index=True)\n"
     ]
    },
    {
     "name": "stdout",
     "output_type": "stream",
     "text": [
      "430.txt\n",
      "431.txt\n",
      "432.txt\n"
     ]
    },
    {
     "name": "stderr",
     "output_type": "stream",
     "text": [
      "C:\\Users\\ingeg\\AppData\\Local\\Temp\\ipykernel_1336\\1388660847.py:61: FutureWarning: The frame.append method is deprecated and will be removed from pandas in a future version. Use pandas.concat instead.\n",
      "  df = df.append({\"File_Name\": filename,\"Date\":  date, \"Sentiment\":total_sentiment, \"Publisher\":publisher, \"Mentioned_Names\":article_names, \"Text\":article}, ignore_index=True)\n",
      "C:\\Users\\ingeg\\AppData\\Local\\Temp\\ipykernel_1336\\1388660847.py:61: FutureWarning: The frame.append method is deprecated and will be removed from pandas in a future version. Use pandas.concat instead.\n",
      "  df = df.append({\"File_Name\": filename,\"Date\":  date, \"Sentiment\":total_sentiment, \"Publisher\":publisher, \"Mentioned_Names\":article_names, \"Text\":article}, ignore_index=True)\n"
     ]
    },
    {
     "name": "stdout",
     "output_type": "stream",
     "text": [
      "433.txt\n",
      "434.txt\n"
     ]
    },
    {
     "name": "stderr",
     "output_type": "stream",
     "text": [
      "C:\\Users\\ingeg\\AppData\\Local\\Temp\\ipykernel_1336\\1388660847.py:61: FutureWarning: The frame.append method is deprecated and will be removed from pandas in a future version. Use pandas.concat instead.\n",
      "  df = df.append({\"File_Name\": filename,\"Date\":  date, \"Sentiment\":total_sentiment, \"Publisher\":publisher, \"Mentioned_Names\":article_names, \"Text\":article}, ignore_index=True)\n",
      "C:\\Users\\ingeg\\AppData\\Local\\Temp\\ipykernel_1336\\1388660847.py:61: FutureWarning: The frame.append method is deprecated and will be removed from pandas in a future version. Use pandas.concat instead.\n",
      "  df = df.append({\"File_Name\": filename,\"Date\":  date, \"Sentiment\":total_sentiment, \"Publisher\":publisher, \"Mentioned_Names\":article_names, \"Text\":article}, ignore_index=True)\n"
     ]
    },
    {
     "name": "stdout",
     "output_type": "stream",
     "text": [
      "435.txt\n",
      "436.txt\n"
     ]
    },
    {
     "name": "stderr",
     "output_type": "stream",
     "text": [
      "C:\\Users\\ingeg\\AppData\\Local\\Temp\\ipykernel_1336\\1388660847.py:61: FutureWarning: The frame.append method is deprecated and will be removed from pandas in a future version. Use pandas.concat instead.\n",
      "  df = df.append({\"File_Name\": filename,\"Date\":  date, \"Sentiment\":total_sentiment, \"Publisher\":publisher, \"Mentioned_Names\":article_names, \"Text\":article}, ignore_index=True)\n"
     ]
    },
    {
     "name": "stdout",
     "output_type": "stream",
     "text": [
      "437.txt\n"
     ]
    },
    {
     "name": "stderr",
     "output_type": "stream",
     "text": [
      "C:\\Users\\ingeg\\AppData\\Local\\Temp\\ipykernel_1336\\1388660847.py:61: FutureWarning: The frame.append method is deprecated and will be removed from pandas in a future version. Use pandas.concat instead.\n",
      "  df = df.append({\"File_Name\": filename,\"Date\":  date, \"Sentiment\":total_sentiment, \"Publisher\":publisher, \"Mentioned_Names\":article_names, \"Text\":article}, ignore_index=True)\n",
      "C:\\Users\\ingeg\\AppData\\Local\\Temp\\ipykernel_1336\\1388660847.py:61: FutureWarning: The frame.append method is deprecated and will be removed from pandas in a future version. Use pandas.concat instead.\n",
      "  df = df.append({\"File_Name\": filename,\"Date\":  date, \"Sentiment\":total_sentiment, \"Publisher\":publisher, \"Mentioned_Names\":article_names, \"Text\":article}, ignore_index=True)\n"
     ]
    },
    {
     "name": "stdout",
     "output_type": "stream",
     "text": [
      "438.txt\n",
      "439.txt\n"
     ]
    },
    {
     "name": "stderr",
     "output_type": "stream",
     "text": [
      "C:\\Users\\ingeg\\AppData\\Local\\Temp\\ipykernel_1336\\1388660847.py:61: FutureWarning: The frame.append method is deprecated and will be removed from pandas in a future version. Use pandas.concat instead.\n",
      "  df = df.append({\"File_Name\": filename,\"Date\":  date, \"Sentiment\":total_sentiment, \"Publisher\":publisher, \"Mentioned_Names\":article_names, \"Text\":article}, ignore_index=True)\n",
      "C:\\Users\\ingeg\\AppData\\Local\\Temp\\ipykernel_1336\\1388660847.py:61: FutureWarning: The frame.append method is deprecated and will be removed from pandas in a future version. Use pandas.concat instead.\n",
      "  df = df.append({\"File_Name\": filename,\"Date\":  date, \"Sentiment\":total_sentiment, \"Publisher\":publisher, \"Mentioned_Names\":article_names, \"Text\":article}, ignore_index=True)\n",
      "C:\\Users\\ingeg\\AppData\\Local\\Temp\\ipykernel_1336\\1388660847.py:61: FutureWarning: The frame.append method is deprecated and will be removed from pandas in a future version. Use pandas.concat instead.\n",
      "  df = df.append({\"File_Name\": filename,\"Date\":  date, \"Sentiment\":total_sentiment, \"Publisher\":publisher, \"Mentioned_Names\":article_names, \"Text\":article}, ignore_index=True)\n"
     ]
    },
    {
     "name": "stdout",
     "output_type": "stream",
     "text": [
      "44.txt\n",
      "440.txt\n",
      "441.txt\n",
      "442.txt\n"
     ]
    },
    {
     "name": "stderr",
     "output_type": "stream",
     "text": [
      "C:\\Users\\ingeg\\AppData\\Local\\Temp\\ipykernel_1336\\1388660847.py:61: FutureWarning: The frame.append method is deprecated and will be removed from pandas in a future version. Use pandas.concat instead.\n",
      "  df = df.append({\"File_Name\": filename,\"Date\":  date, \"Sentiment\":total_sentiment, \"Publisher\":publisher, \"Mentioned_Names\":article_names, \"Text\":article}, ignore_index=True)\n",
      "C:\\Users\\ingeg\\AppData\\Local\\Temp\\ipykernel_1336\\1388660847.py:61: FutureWarning: The frame.append method is deprecated and will be removed from pandas in a future version. Use pandas.concat instead.\n",
      "  df = df.append({\"File_Name\": filename,\"Date\":  date, \"Sentiment\":total_sentiment, \"Publisher\":publisher, \"Mentioned_Names\":article_names, \"Text\":article}, ignore_index=True)\n"
     ]
    },
    {
     "name": "stdout",
     "output_type": "stream",
     "text": [
      "443.txt\n"
     ]
    },
    {
     "name": "stderr",
     "output_type": "stream",
     "text": [
      "C:\\Users\\ingeg\\AppData\\Local\\Temp\\ipykernel_1336\\1388660847.py:61: FutureWarning: The frame.append method is deprecated and will be removed from pandas in a future version. Use pandas.concat instead.\n",
      "  df = df.append({\"File_Name\": filename,\"Date\":  date, \"Sentiment\":total_sentiment, \"Publisher\":publisher, \"Mentioned_Names\":article_names, \"Text\":article}, ignore_index=True)\n",
      "C:\\Users\\ingeg\\AppData\\Local\\Temp\\ipykernel_1336\\1388660847.py:61: FutureWarning: The frame.append method is deprecated and will be removed from pandas in a future version. Use pandas.concat instead.\n",
      "  df = df.append({\"File_Name\": filename,\"Date\":  date, \"Sentiment\":total_sentiment, \"Publisher\":publisher, \"Mentioned_Names\":article_names, \"Text\":article}, ignore_index=True)\n"
     ]
    },
    {
     "name": "stdout",
     "output_type": "stream",
     "text": [
      "444.txt\n",
      "445.txt\n"
     ]
    },
    {
     "name": "stderr",
     "output_type": "stream",
     "text": [
      "C:\\Users\\ingeg\\AppData\\Local\\Temp\\ipykernel_1336\\1388660847.py:61: FutureWarning: The frame.append method is deprecated and will be removed from pandas in a future version. Use pandas.concat instead.\n",
      "  df = df.append({\"File_Name\": filename,\"Date\":  date, \"Sentiment\":total_sentiment, \"Publisher\":publisher, \"Mentioned_Names\":article_names, \"Text\":article}, ignore_index=True)\n",
      "C:\\Users\\ingeg\\AppData\\Local\\Temp\\ipykernel_1336\\1388660847.py:61: FutureWarning: The frame.append method is deprecated and will be removed from pandas in a future version. Use pandas.concat instead.\n",
      "  df = df.append({\"File_Name\": filename,\"Date\":  date, \"Sentiment\":total_sentiment, \"Publisher\":publisher, \"Mentioned_Names\":article_names, \"Text\":article}, ignore_index=True)\n"
     ]
    },
    {
     "name": "stdout",
     "output_type": "stream",
     "text": [
      "446.txt\n",
      "447.txt\n"
     ]
    },
    {
     "name": "stderr",
     "output_type": "stream",
     "text": [
      "C:\\Users\\ingeg\\AppData\\Local\\Temp\\ipykernel_1336\\1388660847.py:61: FutureWarning: The frame.append method is deprecated and will be removed from pandas in a future version. Use pandas.concat instead.\n",
      "  df = df.append({\"File_Name\": filename,\"Date\":  date, \"Sentiment\":total_sentiment, \"Publisher\":publisher, \"Mentioned_Names\":article_names, \"Text\":article}, ignore_index=True)\n"
     ]
    },
    {
     "name": "stdout",
     "output_type": "stream",
     "text": [
      "448.txt\n"
     ]
    },
    {
     "name": "stderr",
     "output_type": "stream",
     "text": [
      "C:\\Users\\ingeg\\AppData\\Local\\Temp\\ipykernel_1336\\1388660847.py:61: FutureWarning: The frame.append method is deprecated and will be removed from pandas in a future version. Use pandas.concat instead.\n",
      "  df = df.append({\"File_Name\": filename,\"Date\":  date, \"Sentiment\":total_sentiment, \"Publisher\":publisher, \"Mentioned_Names\":article_names, \"Text\":article}, ignore_index=True)\n",
      "C:\\Users\\ingeg\\AppData\\Local\\Temp\\ipykernel_1336\\1388660847.py:61: FutureWarning: The frame.append method is deprecated and will be removed from pandas in a future version. Use pandas.concat instead.\n",
      "  df = df.append({\"File_Name\": filename,\"Date\":  date, \"Sentiment\":total_sentiment, \"Publisher\":publisher, \"Mentioned_Names\":article_names, \"Text\":article}, ignore_index=True)\n"
     ]
    },
    {
     "name": "stdout",
     "output_type": "stream",
     "text": [
      "449.txt\n",
      "45.txt\n"
     ]
    },
    {
     "name": "stderr",
     "output_type": "stream",
     "text": [
      "C:\\Users\\ingeg\\AppData\\Local\\Temp\\ipykernel_1336\\1388660847.py:61: FutureWarning: The frame.append method is deprecated and will be removed from pandas in a future version. Use pandas.concat instead.\n",
      "  df = df.append({\"File_Name\": filename,\"Date\":  date, \"Sentiment\":total_sentiment, \"Publisher\":publisher, \"Mentioned_Names\":article_names, \"Text\":article}, ignore_index=True)\n",
      "C:\\Users\\ingeg\\AppData\\Local\\Temp\\ipykernel_1336\\1388660847.py:61: FutureWarning: The frame.append method is deprecated and will be removed from pandas in a future version. Use pandas.concat instead.\n",
      "  df = df.append({\"File_Name\": filename,\"Date\":  date, \"Sentiment\":total_sentiment, \"Publisher\":publisher, \"Mentioned_Names\":article_names, \"Text\":article}, ignore_index=True)\n"
     ]
    },
    {
     "name": "stdout",
     "output_type": "stream",
     "text": [
      "450.txt\n",
      "451.txt\n"
     ]
    },
    {
     "name": "stderr",
     "output_type": "stream",
     "text": [
      "C:\\Users\\ingeg\\AppData\\Local\\Temp\\ipykernel_1336\\1388660847.py:61: FutureWarning: The frame.append method is deprecated and will be removed from pandas in a future version. Use pandas.concat instead.\n",
      "  df = df.append({\"File_Name\": filename,\"Date\":  date, \"Sentiment\":total_sentiment, \"Publisher\":publisher, \"Mentioned_Names\":article_names, \"Text\":article}, ignore_index=True)\n",
      "C:\\Users\\ingeg\\AppData\\Local\\Temp\\ipykernel_1336\\1388660847.py:61: FutureWarning: The frame.append method is deprecated and will be removed from pandas in a future version. Use pandas.concat instead.\n",
      "  df = df.append({\"File_Name\": filename,\"Date\":  date, \"Sentiment\":total_sentiment, \"Publisher\":publisher, \"Mentioned_Names\":article_names, \"Text\":article}, ignore_index=True)\n",
      "C:\\Users\\ingeg\\AppData\\Local\\Temp\\ipykernel_1336\\1388660847.py:61: FutureWarning: The frame.append method is deprecated and will be removed from pandas in a future version. Use pandas.concat instead.\n",
      "  df = df.append({\"File_Name\": filename,\"Date\":  date, \"Sentiment\":total_sentiment, \"Publisher\":publisher, \"Mentioned_Names\":article_names, \"Text\":article}, ignore_index=True)\n"
     ]
    },
    {
     "name": "stdout",
     "output_type": "stream",
     "text": [
      "452.txt\n",
      "453.txt\n",
      "454.txt\n",
      "455.txt\n"
     ]
    },
    {
     "name": "stderr",
     "output_type": "stream",
     "text": [
      "C:\\Users\\ingeg\\AppData\\Local\\Temp\\ipykernel_1336\\1388660847.py:61: FutureWarning: The frame.append method is deprecated and will be removed from pandas in a future version. Use pandas.concat instead.\n",
      "  df = df.append({\"File_Name\": filename,\"Date\":  date, \"Sentiment\":total_sentiment, \"Publisher\":publisher, \"Mentioned_Names\":article_names, \"Text\":article}, ignore_index=True)\n",
      "C:\\Users\\ingeg\\AppData\\Local\\Temp\\ipykernel_1336\\1388660847.py:61: FutureWarning: The frame.append method is deprecated and will be removed from pandas in a future version. Use pandas.concat instead.\n",
      "  df = df.append({\"File_Name\": filename,\"Date\":  date, \"Sentiment\":total_sentiment, \"Publisher\":publisher, \"Mentioned_Names\":article_names, \"Text\":article}, ignore_index=True)\n",
      "C:\\Users\\ingeg\\AppData\\Local\\Temp\\ipykernel_1336\\1388660847.py:61: FutureWarning: The frame.append method is deprecated and will be removed from pandas in a future version. Use pandas.concat instead.\n",
      "  df = df.append({\"File_Name\": filename,\"Date\":  date, \"Sentiment\":total_sentiment, \"Publisher\":publisher, \"Mentioned_Names\":article_names, \"Text\":article}, ignore_index=True)\n"
     ]
    },
    {
     "name": "stdout",
     "output_type": "stream",
     "text": [
      "456.txt\n",
      "457.txt\n"
     ]
    },
    {
     "name": "stderr",
     "output_type": "stream",
     "text": [
      "C:\\Users\\ingeg\\AppData\\Local\\Temp\\ipykernel_1336\\1388660847.py:61: FutureWarning: The frame.append method is deprecated and will be removed from pandas in a future version. Use pandas.concat instead.\n",
      "  df = df.append({\"File_Name\": filename,\"Date\":  date, \"Sentiment\":total_sentiment, \"Publisher\":publisher, \"Mentioned_Names\":article_names, \"Text\":article}, ignore_index=True)\n",
      "C:\\Users\\ingeg\\AppData\\Local\\Temp\\ipykernel_1336\\1388660847.py:61: FutureWarning: The frame.append method is deprecated and will be removed from pandas in a future version. Use pandas.concat instead.\n",
      "  df = df.append({\"File_Name\": filename,\"Date\":  date, \"Sentiment\":total_sentiment, \"Publisher\":publisher, \"Mentioned_Names\":article_names, \"Text\":article}, ignore_index=True)\n"
     ]
    },
    {
     "name": "stdout",
     "output_type": "stream",
     "text": [
      "458.txt\n",
      "459.txt\n"
     ]
    },
    {
     "name": "stderr",
     "output_type": "stream",
     "text": [
      "C:\\Users\\ingeg\\AppData\\Local\\Temp\\ipykernel_1336\\1388660847.py:61: FutureWarning: The frame.append method is deprecated and will be removed from pandas in a future version. Use pandas.concat instead.\n",
      "  df = df.append({\"File_Name\": filename,\"Date\":  date, \"Sentiment\":total_sentiment, \"Publisher\":publisher, \"Mentioned_Names\":article_names, \"Text\":article}, ignore_index=True)\n",
      "C:\\Users\\ingeg\\AppData\\Local\\Temp\\ipykernel_1336\\1388660847.py:61: FutureWarning: The frame.append method is deprecated and will be removed from pandas in a future version. Use pandas.concat instead.\n",
      "  df = df.append({\"File_Name\": filename,\"Date\":  date, \"Sentiment\":total_sentiment, \"Publisher\":publisher, \"Mentioned_Names\":article_names, \"Text\":article}, ignore_index=True)\n"
     ]
    },
    {
     "name": "stdout",
     "output_type": "stream",
     "text": [
      "46.txt\n",
      "460.txt\n"
     ]
    },
    {
     "name": "stderr",
     "output_type": "stream",
     "text": [
      "C:\\Users\\ingeg\\AppData\\Local\\Temp\\ipykernel_1336\\1388660847.py:61: FutureWarning: The frame.append method is deprecated and will be removed from pandas in a future version. Use pandas.concat instead.\n",
      "  df = df.append({\"File_Name\": filename,\"Date\":  date, \"Sentiment\":total_sentiment, \"Publisher\":publisher, \"Mentioned_Names\":article_names, \"Text\":article}, ignore_index=True)\n",
      "C:\\Users\\ingeg\\AppData\\Local\\Temp\\ipykernel_1336\\1388660847.py:61: FutureWarning: The frame.append method is deprecated and will be removed from pandas in a future version. Use pandas.concat instead.\n",
      "  df = df.append({\"File_Name\": filename,\"Date\":  date, \"Sentiment\":total_sentiment, \"Publisher\":publisher, \"Mentioned_Names\":article_names, \"Text\":article}, ignore_index=True)\n"
     ]
    },
    {
     "name": "stdout",
     "output_type": "stream",
     "text": [
      "461.txt\n",
      "462.txt\n"
     ]
    },
    {
     "name": "stderr",
     "output_type": "stream",
     "text": [
      "C:\\Users\\ingeg\\AppData\\Local\\Temp\\ipykernel_1336\\1388660847.py:61: FutureWarning: The frame.append method is deprecated and will be removed from pandas in a future version. Use pandas.concat instead.\n",
      "  df = df.append({\"File_Name\": filename,\"Date\":  date, \"Sentiment\":total_sentiment, \"Publisher\":publisher, \"Mentioned_Names\":article_names, \"Text\":article}, ignore_index=True)\n"
     ]
    },
    {
     "name": "stdout",
     "output_type": "stream",
     "text": [
      "463.txt\n"
     ]
    },
    {
     "name": "stderr",
     "output_type": "stream",
     "text": [
      "C:\\Users\\ingeg\\AppData\\Local\\Temp\\ipykernel_1336\\1388660847.py:61: FutureWarning: The frame.append method is deprecated and will be removed from pandas in a future version. Use pandas.concat instead.\n",
      "  df = df.append({\"File_Name\": filename,\"Date\":  date, \"Sentiment\":total_sentiment, \"Publisher\":publisher, \"Mentioned_Names\":article_names, \"Text\":article}, ignore_index=True)\n"
     ]
    },
    {
     "name": "stdout",
     "output_type": "stream",
     "text": [
      "464.txt\n"
     ]
    },
    {
     "name": "stderr",
     "output_type": "stream",
     "text": [
      "C:\\Users\\ingeg\\AppData\\Local\\Temp\\ipykernel_1336\\1388660847.py:61: FutureWarning: The frame.append method is deprecated and will be removed from pandas in a future version. Use pandas.concat instead.\n",
      "  df = df.append({\"File_Name\": filename,\"Date\":  date, \"Sentiment\":total_sentiment, \"Publisher\":publisher, \"Mentioned_Names\":article_names, \"Text\":article}, ignore_index=True)\n"
     ]
    },
    {
     "name": "stdout",
     "output_type": "stream",
     "text": [
      "465.txt\n"
     ]
    },
    {
     "name": "stderr",
     "output_type": "stream",
     "text": [
      "C:\\Users\\ingeg\\AppData\\Local\\Temp\\ipykernel_1336\\1388660847.py:61: FutureWarning: The frame.append method is deprecated and will be removed from pandas in a future version. Use pandas.concat instead.\n",
      "  df = df.append({\"File_Name\": filename,\"Date\":  date, \"Sentiment\":total_sentiment, \"Publisher\":publisher, \"Mentioned_Names\":article_names, \"Text\":article}, ignore_index=True)\n"
     ]
    },
    {
     "name": "stdout",
     "output_type": "stream",
     "text": [
      "466.txt\n"
     ]
    },
    {
     "name": "stderr",
     "output_type": "stream",
     "text": [
      "C:\\Users\\ingeg\\AppData\\Local\\Temp\\ipykernel_1336\\1388660847.py:61: FutureWarning: The frame.append method is deprecated and will be removed from pandas in a future version. Use pandas.concat instead.\n",
      "  df = df.append({\"File_Name\": filename,\"Date\":  date, \"Sentiment\":total_sentiment, \"Publisher\":publisher, \"Mentioned_Names\":article_names, \"Text\":article}, ignore_index=True)\n",
      "C:\\Users\\ingeg\\AppData\\Local\\Temp\\ipykernel_1336\\1388660847.py:61: FutureWarning: The frame.append method is deprecated and will be removed from pandas in a future version. Use pandas.concat instead.\n",
      "  df = df.append({\"File_Name\": filename,\"Date\":  date, \"Sentiment\":total_sentiment, \"Publisher\":publisher, \"Mentioned_Names\":article_names, \"Text\":article}, ignore_index=True)\n"
     ]
    },
    {
     "name": "stdout",
     "output_type": "stream",
     "text": [
      "467.txt\n",
      "468.txt\n"
     ]
    },
    {
     "name": "stderr",
     "output_type": "stream",
     "text": [
      "C:\\Users\\ingeg\\AppData\\Local\\Temp\\ipykernel_1336\\1388660847.py:61: FutureWarning: The frame.append method is deprecated and will be removed from pandas in a future version. Use pandas.concat instead.\n",
      "  df = df.append({\"File_Name\": filename,\"Date\":  date, \"Sentiment\":total_sentiment, \"Publisher\":publisher, \"Mentioned_Names\":article_names, \"Text\":article}, ignore_index=True)\n"
     ]
    },
    {
     "name": "stdout",
     "output_type": "stream",
     "text": [
      "469.txt\n",
      "47.txt\n"
     ]
    },
    {
     "name": "stderr",
     "output_type": "stream",
     "text": [
      "C:\\Users\\ingeg\\AppData\\Local\\Temp\\ipykernel_1336\\1388660847.py:61: FutureWarning: The frame.append method is deprecated and will be removed from pandas in a future version. Use pandas.concat instead.\n",
      "  df = df.append({\"File_Name\": filename,\"Date\":  date, \"Sentiment\":total_sentiment, \"Publisher\":publisher, \"Mentioned_Names\":article_names, \"Text\":article}, ignore_index=True)\n",
      "C:\\Users\\ingeg\\AppData\\Local\\Temp\\ipykernel_1336\\1388660847.py:61: FutureWarning: The frame.append method is deprecated and will be removed from pandas in a future version. Use pandas.concat instead.\n",
      "  df = df.append({\"File_Name\": filename,\"Date\":  date, \"Sentiment\":total_sentiment, \"Publisher\":publisher, \"Mentioned_Names\":article_names, \"Text\":article}, ignore_index=True)\n"
     ]
    },
    {
     "name": "stdout",
     "output_type": "stream",
     "text": [
      "470.txt\n",
      "471.txt\n"
     ]
    },
    {
     "name": "stderr",
     "output_type": "stream",
     "text": [
      "C:\\Users\\ingeg\\AppData\\Local\\Temp\\ipykernel_1336\\1388660847.py:61: FutureWarning: The frame.append method is deprecated and will be removed from pandas in a future version. Use pandas.concat instead.\n",
      "  df = df.append({\"File_Name\": filename,\"Date\":  date, \"Sentiment\":total_sentiment, \"Publisher\":publisher, \"Mentioned_Names\":article_names, \"Text\":article}, ignore_index=True)\n",
      "C:\\Users\\ingeg\\AppData\\Local\\Temp\\ipykernel_1336\\1388660847.py:61: FutureWarning: The frame.append method is deprecated and will be removed from pandas in a future version. Use pandas.concat instead.\n",
      "  df = df.append({\"File_Name\": filename,\"Date\":  date, \"Sentiment\":total_sentiment, \"Publisher\":publisher, \"Mentioned_Names\":article_names, \"Text\":article}, ignore_index=True)\n"
     ]
    },
    {
     "name": "stdout",
     "output_type": "stream",
     "text": [
      "472.txt\n",
      "473.txt\n"
     ]
    },
    {
     "name": "stderr",
     "output_type": "stream",
     "text": [
      "C:\\Users\\ingeg\\AppData\\Local\\Temp\\ipykernel_1336\\1388660847.py:61: FutureWarning: The frame.append method is deprecated and will be removed from pandas in a future version. Use pandas.concat instead.\n",
      "  df = df.append({\"File_Name\": filename,\"Date\":  date, \"Sentiment\":total_sentiment, \"Publisher\":publisher, \"Mentioned_Names\":article_names, \"Text\":article}, ignore_index=True)\n",
      "C:\\Users\\ingeg\\AppData\\Local\\Temp\\ipykernel_1336\\1388660847.py:61: FutureWarning: The frame.append method is deprecated and will be removed from pandas in a future version. Use pandas.concat instead.\n",
      "  df = df.append({\"File_Name\": filename,\"Date\":  date, \"Sentiment\":total_sentiment, \"Publisher\":publisher, \"Mentioned_Names\":article_names, \"Text\":article}, ignore_index=True)\n"
     ]
    },
    {
     "name": "stdout",
     "output_type": "stream",
     "text": [
      "474.txt\n",
      "475.txt\n"
     ]
    },
    {
     "name": "stderr",
     "output_type": "stream",
     "text": [
      "C:\\Users\\ingeg\\AppData\\Local\\Temp\\ipykernel_1336\\1388660847.py:61: FutureWarning: The frame.append method is deprecated and will be removed from pandas in a future version. Use pandas.concat instead.\n",
      "  df = df.append({\"File_Name\": filename,\"Date\":  date, \"Sentiment\":total_sentiment, \"Publisher\":publisher, \"Mentioned_Names\":article_names, \"Text\":article}, ignore_index=True)\n",
      "C:\\Users\\ingeg\\AppData\\Local\\Temp\\ipykernel_1336\\1388660847.py:61: FutureWarning: The frame.append method is deprecated and will be removed from pandas in a future version. Use pandas.concat instead.\n",
      "  df = df.append({\"File_Name\": filename,\"Date\":  date, \"Sentiment\":total_sentiment, \"Publisher\":publisher, \"Mentioned_Names\":article_names, \"Text\":article}, ignore_index=True)\n",
      "C:\\Users\\ingeg\\AppData\\Local\\Temp\\ipykernel_1336\\1388660847.py:61: FutureWarning: The frame.append method is deprecated and will be removed from pandas in a future version. Use pandas.concat instead.\n",
      "  df = df.append({\"File_Name\": filename,\"Date\":  date, \"Sentiment\":total_sentiment, \"Publisher\":publisher, \"Mentioned_Names\":article_names, \"Text\":article}, ignore_index=True)\n"
     ]
    },
    {
     "name": "stdout",
     "output_type": "stream",
     "text": [
      "476.txt\n",
      "477.txt\n"
     ]
    },
    {
     "name": "stderr",
     "output_type": "stream",
     "text": [
      "C:\\Users\\ingeg\\AppData\\Local\\Temp\\ipykernel_1336\\1388660847.py:61: FutureWarning: The frame.append method is deprecated and will be removed from pandas in a future version. Use pandas.concat instead.\n",
      "  df = df.append({\"File_Name\": filename,\"Date\":  date, \"Sentiment\":total_sentiment, \"Publisher\":publisher, \"Mentioned_Names\":article_names, \"Text\":article}, ignore_index=True)\n"
     ]
    },
    {
     "name": "stdout",
     "output_type": "stream",
     "text": [
      "478.txt\n"
     ]
    },
    {
     "name": "stderr",
     "output_type": "stream",
     "text": [
      "C:\\Users\\ingeg\\AppData\\Local\\Temp\\ipykernel_1336\\1388660847.py:61: FutureWarning: The frame.append method is deprecated and will be removed from pandas in a future version. Use pandas.concat instead.\n",
      "  df = df.append({\"File_Name\": filename,\"Date\":  date, \"Sentiment\":total_sentiment, \"Publisher\":publisher, \"Mentioned_Names\":article_names, \"Text\":article}, ignore_index=True)\n"
     ]
    },
    {
     "name": "stdout",
     "output_type": "stream",
     "text": [
      "479.txt\n"
     ]
    },
    {
     "name": "stderr",
     "output_type": "stream",
     "text": [
      "C:\\Users\\ingeg\\AppData\\Local\\Temp\\ipykernel_1336\\1388660847.py:61: FutureWarning: The frame.append method is deprecated and will be removed from pandas in a future version. Use pandas.concat instead.\n",
      "  df = df.append({\"File_Name\": filename,\"Date\":  date, \"Sentiment\":total_sentiment, \"Publisher\":publisher, \"Mentioned_Names\":article_names, \"Text\":article}, ignore_index=True)\n"
     ]
    },
    {
     "name": "stdout",
     "output_type": "stream",
     "text": [
      "48.txt\n"
     ]
    },
    {
     "name": "stderr",
     "output_type": "stream",
     "text": [
      "C:\\Users\\ingeg\\AppData\\Local\\Temp\\ipykernel_1336\\1388660847.py:61: FutureWarning: The frame.append method is deprecated and will be removed from pandas in a future version. Use pandas.concat instead.\n",
      "  df = df.append({\"File_Name\": filename,\"Date\":  date, \"Sentiment\":total_sentiment, \"Publisher\":publisher, \"Mentioned_Names\":article_names, \"Text\":article}, ignore_index=True)\n",
      "C:\\Users\\ingeg\\AppData\\Local\\Temp\\ipykernel_1336\\1388660847.py:61: FutureWarning: The frame.append method is deprecated and will be removed from pandas in a future version. Use pandas.concat instead.\n",
      "  df = df.append({\"File_Name\": filename,\"Date\":  date, \"Sentiment\":total_sentiment, \"Publisher\":publisher, \"Mentioned_Names\":article_names, \"Text\":article}, ignore_index=True)\n"
     ]
    },
    {
     "name": "stdout",
     "output_type": "stream",
     "text": [
      "480.txt\n",
      "481.txt\n"
     ]
    },
    {
     "name": "stderr",
     "output_type": "stream",
     "text": [
      "C:\\Users\\ingeg\\AppData\\Local\\Temp\\ipykernel_1336\\1388660847.py:61: FutureWarning: The frame.append method is deprecated and will be removed from pandas in a future version. Use pandas.concat instead.\n",
      "  df = df.append({\"File_Name\": filename,\"Date\":  date, \"Sentiment\":total_sentiment, \"Publisher\":publisher, \"Mentioned_Names\":article_names, \"Text\":article}, ignore_index=True)\n"
     ]
    },
    {
     "name": "stdout",
     "output_type": "stream",
     "text": [
      "482.txt\n"
     ]
    },
    {
     "name": "stderr",
     "output_type": "stream",
     "text": [
      "C:\\Users\\ingeg\\AppData\\Local\\Temp\\ipykernel_1336\\1388660847.py:61: FutureWarning: The frame.append method is deprecated and will be removed from pandas in a future version. Use pandas.concat instead.\n",
      "  df = df.append({\"File_Name\": filename,\"Date\":  date, \"Sentiment\":total_sentiment, \"Publisher\":publisher, \"Mentioned_Names\":article_names, \"Text\":article}, ignore_index=True)\n",
      "C:\\Users\\ingeg\\AppData\\Local\\Temp\\ipykernel_1336\\1388660847.py:61: FutureWarning: The frame.append method is deprecated and will be removed from pandas in a future version. Use pandas.concat instead.\n",
      "  df = df.append({\"File_Name\": filename,\"Date\":  date, \"Sentiment\":total_sentiment, \"Publisher\":publisher, \"Mentioned_Names\":article_names, \"Text\":article}, ignore_index=True)\n"
     ]
    },
    {
     "name": "stdout",
     "output_type": "stream",
     "text": [
      "483.txt\n",
      "484.txt\n"
     ]
    },
    {
     "name": "stderr",
     "output_type": "stream",
     "text": [
      "C:\\Users\\ingeg\\AppData\\Local\\Temp\\ipykernel_1336\\1388660847.py:61: FutureWarning: The frame.append method is deprecated and will be removed from pandas in a future version. Use pandas.concat instead.\n",
      "  df = df.append({\"File_Name\": filename,\"Date\":  date, \"Sentiment\":total_sentiment, \"Publisher\":publisher, \"Mentioned_Names\":article_names, \"Text\":article}, ignore_index=True)\n",
      "C:\\Users\\ingeg\\AppData\\Local\\Temp\\ipykernel_1336\\1388660847.py:61: FutureWarning: The frame.append method is deprecated and will be removed from pandas in a future version. Use pandas.concat instead.\n",
      "  df = df.append({\"File_Name\": filename,\"Date\":  date, \"Sentiment\":total_sentiment, \"Publisher\":publisher, \"Mentioned_Names\":article_names, \"Text\":article}, ignore_index=True)\n"
     ]
    },
    {
     "name": "stdout",
     "output_type": "stream",
     "text": [
      "485.txt\n",
      "486.txt\n"
     ]
    },
    {
     "name": "stderr",
     "output_type": "stream",
     "text": [
      "C:\\Users\\ingeg\\AppData\\Local\\Temp\\ipykernel_1336\\1388660847.py:61: FutureWarning: The frame.append method is deprecated and will be removed from pandas in a future version. Use pandas.concat instead.\n",
      "  df = df.append({\"File_Name\": filename,\"Date\":  date, \"Sentiment\":total_sentiment, \"Publisher\":publisher, \"Mentioned_Names\":article_names, \"Text\":article}, ignore_index=True)\n",
      "C:\\Users\\ingeg\\AppData\\Local\\Temp\\ipykernel_1336\\1388660847.py:61: FutureWarning: The frame.append method is deprecated and will be removed from pandas in a future version. Use pandas.concat instead.\n",
      "  df = df.append({\"File_Name\": filename,\"Date\":  date, \"Sentiment\":total_sentiment, \"Publisher\":publisher, \"Mentioned_Names\":article_names, \"Text\":article}, ignore_index=True)\n"
     ]
    },
    {
     "name": "stdout",
     "output_type": "stream",
     "text": [
      "487.txt\n",
      "488.txt\n"
     ]
    },
    {
     "name": "stderr",
     "output_type": "stream",
     "text": [
      "C:\\Users\\ingeg\\AppData\\Local\\Temp\\ipykernel_1336\\1388660847.py:61: FutureWarning: The frame.append method is deprecated and will be removed from pandas in a future version. Use pandas.concat instead.\n",
      "  df = df.append({\"File_Name\": filename,\"Date\":  date, \"Sentiment\":total_sentiment, \"Publisher\":publisher, \"Mentioned_Names\":article_names, \"Text\":article}, ignore_index=True)\n",
      "C:\\Users\\ingeg\\AppData\\Local\\Temp\\ipykernel_1336\\1388660847.py:61: FutureWarning: The frame.append method is deprecated and will be removed from pandas in a future version. Use pandas.concat instead.\n",
      "  df = df.append({\"File_Name\": filename,\"Date\":  date, \"Sentiment\":total_sentiment, \"Publisher\":publisher, \"Mentioned_Names\":article_names, \"Text\":article}, ignore_index=True)\n"
     ]
    },
    {
     "name": "stdout",
     "output_type": "stream",
     "text": [
      "489.txt\n",
      "49.txt\n"
     ]
    },
    {
     "name": "stderr",
     "output_type": "stream",
     "text": [
      "C:\\Users\\ingeg\\AppData\\Local\\Temp\\ipykernel_1336\\1388660847.py:61: FutureWarning: The frame.append method is deprecated and will be removed from pandas in a future version. Use pandas.concat instead.\n",
      "  df = df.append({\"File_Name\": filename,\"Date\":  date, \"Sentiment\":total_sentiment, \"Publisher\":publisher, \"Mentioned_Names\":article_names, \"Text\":article}, ignore_index=True)\n",
      "C:\\Users\\ingeg\\AppData\\Local\\Temp\\ipykernel_1336\\1388660847.py:61: FutureWarning: The frame.append method is deprecated and will be removed from pandas in a future version. Use pandas.concat instead.\n",
      "  df = df.append({\"File_Name\": filename,\"Date\":  date, \"Sentiment\":total_sentiment, \"Publisher\":publisher, \"Mentioned_Names\":article_names, \"Text\":article}, ignore_index=True)\n"
     ]
    },
    {
     "name": "stdout",
     "output_type": "stream",
     "text": [
      "490.txt\n",
      "491.txt\n"
     ]
    },
    {
     "name": "stderr",
     "output_type": "stream",
     "text": [
      "C:\\Users\\ingeg\\AppData\\Local\\Temp\\ipykernel_1336\\1388660847.py:61: FutureWarning: The frame.append method is deprecated and will be removed from pandas in a future version. Use pandas.concat instead.\n",
      "  df = df.append({\"File_Name\": filename,\"Date\":  date, \"Sentiment\":total_sentiment, \"Publisher\":publisher, \"Mentioned_Names\":article_names, \"Text\":article}, ignore_index=True)\n",
      "C:\\Users\\ingeg\\AppData\\Local\\Temp\\ipykernel_1336\\1388660847.py:61: FutureWarning: The frame.append method is deprecated and will be removed from pandas in a future version. Use pandas.concat instead.\n",
      "  df = df.append({\"File_Name\": filename,\"Date\":  date, \"Sentiment\":total_sentiment, \"Publisher\":publisher, \"Mentioned_Names\":article_names, \"Text\":article}, ignore_index=True)\n"
     ]
    },
    {
     "name": "stdout",
     "output_type": "stream",
     "text": [
      "492.txt\n",
      "493.txt\n"
     ]
    },
    {
     "name": "stderr",
     "output_type": "stream",
     "text": [
      "C:\\Users\\ingeg\\AppData\\Local\\Temp\\ipykernel_1336\\1388660847.py:61: FutureWarning: The frame.append method is deprecated and will be removed from pandas in a future version. Use pandas.concat instead.\n",
      "  df = df.append({\"File_Name\": filename,\"Date\":  date, \"Sentiment\":total_sentiment, \"Publisher\":publisher, \"Mentioned_Names\":article_names, \"Text\":article}, ignore_index=True)\n"
     ]
    },
    {
     "name": "stdout",
     "output_type": "stream",
     "text": [
      "494.txt\n"
     ]
    },
    {
     "name": "stderr",
     "output_type": "stream",
     "text": [
      "C:\\Users\\ingeg\\AppData\\Local\\Temp\\ipykernel_1336\\1388660847.py:61: FutureWarning: The frame.append method is deprecated and will be removed from pandas in a future version. Use pandas.concat instead.\n",
      "  df = df.append({\"File_Name\": filename,\"Date\":  date, \"Sentiment\":total_sentiment, \"Publisher\":publisher, \"Mentioned_Names\":article_names, \"Text\":article}, ignore_index=True)\n",
      "C:\\Users\\ingeg\\AppData\\Local\\Temp\\ipykernel_1336\\1388660847.py:61: FutureWarning: The frame.append method is deprecated and will be removed from pandas in a future version. Use pandas.concat instead.\n",
      "  df = df.append({\"File_Name\": filename,\"Date\":  date, \"Sentiment\":total_sentiment, \"Publisher\":publisher, \"Mentioned_Names\":article_names, \"Text\":article}, ignore_index=True)\n"
     ]
    },
    {
     "name": "stdout",
     "output_type": "stream",
     "text": [
      "495.txt\n",
      "496.txt\n"
     ]
    },
    {
     "name": "stderr",
     "output_type": "stream",
     "text": [
      "C:\\Users\\ingeg\\AppData\\Local\\Temp\\ipykernel_1336\\1388660847.py:61: FutureWarning: The frame.append method is deprecated and will be removed from pandas in a future version. Use pandas.concat instead.\n",
      "  df = df.append({\"File_Name\": filename,\"Date\":  date, \"Sentiment\":total_sentiment, \"Publisher\":publisher, \"Mentioned_Names\":article_names, \"Text\":article}, ignore_index=True)\n",
      "C:\\Users\\ingeg\\AppData\\Local\\Temp\\ipykernel_1336\\1388660847.py:61: FutureWarning: The frame.append method is deprecated and will be removed from pandas in a future version. Use pandas.concat instead.\n",
      "  df = df.append({\"File_Name\": filename,\"Date\":  date, \"Sentiment\":total_sentiment, \"Publisher\":publisher, \"Mentioned_Names\":article_names, \"Text\":article}, ignore_index=True)\n"
     ]
    },
    {
     "name": "stdout",
     "output_type": "stream",
     "text": [
      "497.txt\n",
      "498.txt\n"
     ]
    },
    {
     "name": "stderr",
     "output_type": "stream",
     "text": [
      "C:\\Users\\ingeg\\AppData\\Local\\Temp\\ipykernel_1336\\1388660847.py:61: FutureWarning: The frame.append method is deprecated and will be removed from pandas in a future version. Use pandas.concat instead.\n",
      "  df = df.append({\"File_Name\": filename,\"Date\":  date, \"Sentiment\":total_sentiment, \"Publisher\":publisher, \"Mentioned_Names\":article_names, \"Text\":article}, ignore_index=True)\n",
      "C:\\Users\\ingeg\\AppData\\Local\\Temp\\ipykernel_1336\\1388660847.py:61: FutureWarning: The frame.append method is deprecated and will be removed from pandas in a future version. Use pandas.concat instead.\n",
      "  df = df.append({\"File_Name\": filename,\"Date\":  date, \"Sentiment\":total_sentiment, \"Publisher\":publisher, \"Mentioned_Names\":article_names, \"Text\":article}, ignore_index=True)\n"
     ]
    },
    {
     "name": "stdout",
     "output_type": "stream",
     "text": [
      "499.txt\n",
      "5.txt\n"
     ]
    },
    {
     "name": "stderr",
     "output_type": "stream",
     "text": [
      "C:\\Users\\ingeg\\AppData\\Local\\Temp\\ipykernel_1336\\1388660847.py:61: FutureWarning: The frame.append method is deprecated and will be removed from pandas in a future version. Use pandas.concat instead.\n",
      "  df = df.append({\"File_Name\": filename,\"Date\":  date, \"Sentiment\":total_sentiment, \"Publisher\":publisher, \"Mentioned_Names\":article_names, \"Text\":article}, ignore_index=True)\n"
     ]
    },
    {
     "name": "stdout",
     "output_type": "stream",
     "text": [
      "50.txt\n"
     ]
    },
    {
     "name": "stderr",
     "output_type": "stream",
     "text": [
      "C:\\Users\\ingeg\\AppData\\Local\\Temp\\ipykernel_1336\\1388660847.py:61: FutureWarning: The frame.append method is deprecated and will be removed from pandas in a future version. Use pandas.concat instead.\n",
      "  df = df.append({\"File_Name\": filename,\"Date\":  date, \"Sentiment\":total_sentiment, \"Publisher\":publisher, \"Mentioned_Names\":article_names, \"Text\":article}, ignore_index=True)\n"
     ]
    },
    {
     "name": "stdout",
     "output_type": "stream",
     "text": [
      "500.txt\n"
     ]
    },
    {
     "name": "stderr",
     "output_type": "stream",
     "text": [
      "C:\\Users\\ingeg\\AppData\\Local\\Temp\\ipykernel_1336\\1388660847.py:61: FutureWarning: The frame.append method is deprecated and will be removed from pandas in a future version. Use pandas.concat instead.\n",
      "  df = df.append({\"File_Name\": filename,\"Date\":  date, \"Sentiment\":total_sentiment, \"Publisher\":publisher, \"Mentioned_Names\":article_names, \"Text\":article}, ignore_index=True)\n"
     ]
    },
    {
     "name": "stdout",
     "output_type": "stream",
     "text": [
      "501.txt\n"
     ]
    },
    {
     "name": "stderr",
     "output_type": "stream",
     "text": [
      "C:\\Users\\ingeg\\AppData\\Local\\Temp\\ipykernel_1336\\1388660847.py:61: FutureWarning: The frame.append method is deprecated and will be removed from pandas in a future version. Use pandas.concat instead.\n",
      "  df = df.append({\"File_Name\": filename,\"Date\":  date, \"Sentiment\":total_sentiment, \"Publisher\":publisher, \"Mentioned_Names\":article_names, \"Text\":article}, ignore_index=True)\n"
     ]
    },
    {
     "name": "stdout",
     "output_type": "stream",
     "text": [
      "502.txt\n"
     ]
    },
    {
     "name": "stderr",
     "output_type": "stream",
     "text": [
      "C:\\Users\\ingeg\\AppData\\Local\\Temp\\ipykernel_1336\\1388660847.py:61: FutureWarning: The frame.append method is deprecated and will be removed from pandas in a future version. Use pandas.concat instead.\n",
      "  df = df.append({\"File_Name\": filename,\"Date\":  date, \"Sentiment\":total_sentiment, \"Publisher\":publisher, \"Mentioned_Names\":article_names, \"Text\":article}, ignore_index=True)\n"
     ]
    },
    {
     "name": "stdout",
     "output_type": "stream",
     "text": [
      "503.txt\n"
     ]
    },
    {
     "name": "stderr",
     "output_type": "stream",
     "text": [
      "C:\\Users\\ingeg\\AppData\\Local\\Temp\\ipykernel_1336\\1388660847.py:61: FutureWarning: The frame.append method is deprecated and will be removed from pandas in a future version. Use pandas.concat instead.\n",
      "  df = df.append({\"File_Name\": filename,\"Date\":  date, \"Sentiment\":total_sentiment, \"Publisher\":publisher, \"Mentioned_Names\":article_names, \"Text\":article}, ignore_index=True)\n"
     ]
    },
    {
     "name": "stdout",
     "output_type": "stream",
     "text": [
      "504.txt\n"
     ]
    },
    {
     "name": "stderr",
     "output_type": "stream",
     "text": [
      "C:\\Users\\ingeg\\AppData\\Local\\Temp\\ipykernel_1336\\1388660847.py:61: FutureWarning: The frame.append method is deprecated and will be removed from pandas in a future version. Use pandas.concat instead.\n",
      "  df = df.append({\"File_Name\": filename,\"Date\":  date, \"Sentiment\":total_sentiment, \"Publisher\":publisher, \"Mentioned_Names\":article_names, \"Text\":article}, ignore_index=True)\n",
      "C:\\Users\\ingeg\\AppData\\Local\\Temp\\ipykernel_1336\\1388660847.py:61: FutureWarning: The frame.append method is deprecated and will be removed from pandas in a future version. Use pandas.concat instead.\n",
      "  df = df.append({\"File_Name\": filename,\"Date\":  date, \"Sentiment\":total_sentiment, \"Publisher\":publisher, \"Mentioned_Names\":article_names, \"Text\":article}, ignore_index=True)\n"
     ]
    },
    {
     "name": "stdout",
     "output_type": "stream",
     "text": [
      "505.txt\n",
      "506.txt\n"
     ]
    },
    {
     "name": "stderr",
     "output_type": "stream",
     "text": [
      "C:\\Users\\ingeg\\AppData\\Local\\Temp\\ipykernel_1336\\1388660847.py:61: FutureWarning: The frame.append method is deprecated and will be removed from pandas in a future version. Use pandas.concat instead.\n",
      "  df = df.append({\"File_Name\": filename,\"Date\":  date, \"Sentiment\":total_sentiment, \"Publisher\":publisher, \"Mentioned_Names\":article_names, \"Text\":article}, ignore_index=True)\n",
      "C:\\Users\\ingeg\\AppData\\Local\\Temp\\ipykernel_1336\\1388660847.py:61: FutureWarning: The frame.append method is deprecated and will be removed from pandas in a future version. Use pandas.concat instead.\n",
      "  df = df.append({\"File_Name\": filename,\"Date\":  date, \"Sentiment\":total_sentiment, \"Publisher\":publisher, \"Mentioned_Names\":article_names, \"Text\":article}, ignore_index=True)\n"
     ]
    },
    {
     "name": "stdout",
     "output_type": "stream",
     "text": [
      "507.txt\n",
      "508.txt\n"
     ]
    },
    {
     "name": "stderr",
     "output_type": "stream",
     "text": [
      "C:\\Users\\ingeg\\AppData\\Local\\Temp\\ipykernel_1336\\1388660847.py:61: FutureWarning: The frame.append method is deprecated and will be removed from pandas in a future version. Use pandas.concat instead.\n",
      "  df = df.append({\"File_Name\": filename,\"Date\":  date, \"Sentiment\":total_sentiment, \"Publisher\":publisher, \"Mentioned_Names\":article_names, \"Text\":article}, ignore_index=True)\n"
     ]
    },
    {
     "name": "stdout",
     "output_type": "stream",
     "text": [
      "509.txt\n"
     ]
    },
    {
     "name": "stderr",
     "output_type": "stream",
     "text": [
      "C:\\Users\\ingeg\\AppData\\Local\\Temp\\ipykernel_1336\\1388660847.py:61: FutureWarning: The frame.append method is deprecated and will be removed from pandas in a future version. Use pandas.concat instead.\n",
      "  df = df.append({\"File_Name\": filename,\"Date\":  date, \"Sentiment\":total_sentiment, \"Publisher\":publisher, \"Mentioned_Names\":article_names, \"Text\":article}, ignore_index=True)\n"
     ]
    },
    {
     "name": "stdout",
     "output_type": "stream",
     "text": [
      "51.txt\n"
     ]
    },
    {
     "name": "stderr",
     "output_type": "stream",
     "text": [
      "C:\\Users\\ingeg\\AppData\\Local\\Temp\\ipykernel_1336\\1388660847.py:61: FutureWarning: The frame.append method is deprecated and will be removed from pandas in a future version. Use pandas.concat instead.\n",
      "  df = df.append({\"File_Name\": filename,\"Date\":  date, \"Sentiment\":total_sentiment, \"Publisher\":publisher, \"Mentioned_Names\":article_names, \"Text\":article}, ignore_index=True)\n",
      "C:\\Users\\ingeg\\AppData\\Local\\Temp\\ipykernel_1336\\1388660847.py:61: FutureWarning: The frame.append method is deprecated and will be removed from pandas in a future version. Use pandas.concat instead.\n",
      "  df = df.append({\"File_Name\": filename,\"Date\":  date, \"Sentiment\":total_sentiment, \"Publisher\":publisher, \"Mentioned_Names\":article_names, \"Text\":article}, ignore_index=True)\n"
     ]
    },
    {
     "name": "stdout",
     "output_type": "stream",
     "text": [
      "510.txt\n",
      "511.txt\n"
     ]
    },
    {
     "name": "stderr",
     "output_type": "stream",
     "text": [
      "C:\\Users\\ingeg\\AppData\\Local\\Temp\\ipykernel_1336\\1388660847.py:61: FutureWarning: The frame.append method is deprecated and will be removed from pandas in a future version. Use pandas.concat instead.\n",
      "  df = df.append({\"File_Name\": filename,\"Date\":  date, \"Sentiment\":total_sentiment, \"Publisher\":publisher, \"Mentioned_Names\":article_names, \"Text\":article}, ignore_index=True)\n"
     ]
    },
    {
     "name": "stdout",
     "output_type": "stream",
     "text": [
      "512.txt\n"
     ]
    },
    {
     "name": "stderr",
     "output_type": "stream",
     "text": [
      "C:\\Users\\ingeg\\AppData\\Local\\Temp\\ipykernel_1336\\1388660847.py:61: FutureWarning: The frame.append method is deprecated and will be removed from pandas in a future version. Use pandas.concat instead.\n",
      "  df = df.append({\"File_Name\": filename,\"Date\":  date, \"Sentiment\":total_sentiment, \"Publisher\":publisher, \"Mentioned_Names\":article_names, \"Text\":article}, ignore_index=True)\n"
     ]
    },
    {
     "name": "stdout",
     "output_type": "stream",
     "text": [
      "513.txt\n"
     ]
    },
    {
     "name": "stderr",
     "output_type": "stream",
     "text": [
      "C:\\Users\\ingeg\\AppData\\Local\\Temp\\ipykernel_1336\\1388660847.py:61: FutureWarning: The frame.append method is deprecated and will be removed from pandas in a future version. Use pandas.concat instead.\n",
      "  df = df.append({\"File_Name\": filename,\"Date\":  date, \"Sentiment\":total_sentiment, \"Publisher\":publisher, \"Mentioned_Names\":article_names, \"Text\":article}, ignore_index=True)\n"
     ]
    },
    {
     "name": "stdout",
     "output_type": "stream",
     "text": [
      "514.txt\n"
     ]
    },
    {
     "name": "stderr",
     "output_type": "stream",
     "text": [
      "C:\\Users\\ingeg\\AppData\\Local\\Temp\\ipykernel_1336\\1388660847.py:61: FutureWarning: The frame.append method is deprecated and will be removed from pandas in a future version. Use pandas.concat instead.\n",
      "  df = df.append({\"File_Name\": filename,\"Date\":  date, \"Sentiment\":total_sentiment, \"Publisher\":publisher, \"Mentioned_Names\":article_names, \"Text\":article}, ignore_index=True)\n",
      "C:\\Users\\ingeg\\AppData\\Local\\Temp\\ipykernel_1336\\1388660847.py:61: FutureWarning: The frame.append method is deprecated and will be removed from pandas in a future version. Use pandas.concat instead.\n",
      "  df = df.append({\"File_Name\": filename,\"Date\":  date, \"Sentiment\":total_sentiment, \"Publisher\":publisher, \"Mentioned_Names\":article_names, \"Text\":article}, ignore_index=True)\n"
     ]
    },
    {
     "name": "stdout",
     "output_type": "stream",
     "text": [
      "515.txt\n",
      "516.txt\n"
     ]
    },
    {
     "name": "stderr",
     "output_type": "stream",
     "text": [
      "C:\\Users\\ingeg\\AppData\\Local\\Temp\\ipykernel_1336\\1388660847.py:61: FutureWarning: The frame.append method is deprecated and will be removed from pandas in a future version. Use pandas.concat instead.\n",
      "  df = df.append({\"File_Name\": filename,\"Date\":  date, \"Sentiment\":total_sentiment, \"Publisher\":publisher, \"Mentioned_Names\":article_names, \"Text\":article}, ignore_index=True)\n"
     ]
    },
    {
     "name": "stdout",
     "output_type": "stream",
     "text": [
      "517.txt\n"
     ]
    },
    {
     "name": "stderr",
     "output_type": "stream",
     "text": [
      "C:\\Users\\ingeg\\AppData\\Local\\Temp\\ipykernel_1336\\1388660847.py:61: FutureWarning: The frame.append method is deprecated and will be removed from pandas in a future version. Use pandas.concat instead.\n",
      "  df = df.append({\"File_Name\": filename,\"Date\":  date, \"Sentiment\":total_sentiment, \"Publisher\":publisher, \"Mentioned_Names\":article_names, \"Text\":article}, ignore_index=True)\n",
      "C:\\Users\\ingeg\\AppData\\Local\\Temp\\ipykernel_1336\\1388660847.py:61: FutureWarning: The frame.append method is deprecated and will be removed from pandas in a future version. Use pandas.concat instead.\n",
      "  df = df.append({\"File_Name\": filename,\"Date\":  date, \"Sentiment\":total_sentiment, \"Publisher\":publisher, \"Mentioned_Names\":article_names, \"Text\":article}, ignore_index=True)\n"
     ]
    },
    {
     "name": "stdout",
     "output_type": "stream",
     "text": [
      "518.txt\n",
      "519.txt\n"
     ]
    },
    {
     "name": "stderr",
     "output_type": "stream",
     "text": [
      "C:\\Users\\ingeg\\AppData\\Local\\Temp\\ipykernel_1336\\1388660847.py:61: FutureWarning: The frame.append method is deprecated and will be removed from pandas in a future version. Use pandas.concat instead.\n",
      "  df = df.append({\"File_Name\": filename,\"Date\":  date, \"Sentiment\":total_sentiment, \"Publisher\":publisher, \"Mentioned_Names\":article_names, \"Text\":article}, ignore_index=True)\n",
      "C:\\Users\\ingeg\\AppData\\Local\\Temp\\ipykernel_1336\\1388660847.py:61: FutureWarning: The frame.append method is deprecated and will be removed from pandas in a future version. Use pandas.concat instead.\n",
      "  df = df.append({\"File_Name\": filename,\"Date\":  date, \"Sentiment\":total_sentiment, \"Publisher\":publisher, \"Mentioned_Names\":article_names, \"Text\":article}, ignore_index=True)\n"
     ]
    },
    {
     "name": "stdout",
     "output_type": "stream",
     "text": [
      "52.txt\n",
      "520.txt\n"
     ]
    },
    {
     "name": "stderr",
     "output_type": "stream",
     "text": [
      "C:\\Users\\ingeg\\AppData\\Local\\Temp\\ipykernel_1336\\1388660847.py:61: FutureWarning: The frame.append method is deprecated and will be removed from pandas in a future version. Use pandas.concat instead.\n",
      "  df = df.append({\"File_Name\": filename,\"Date\":  date, \"Sentiment\":total_sentiment, \"Publisher\":publisher, \"Mentioned_Names\":article_names, \"Text\":article}, ignore_index=True)\n",
      "C:\\Users\\ingeg\\AppData\\Local\\Temp\\ipykernel_1336\\1388660847.py:61: FutureWarning: The frame.append method is deprecated and will be removed from pandas in a future version. Use pandas.concat instead.\n",
      "  df = df.append({\"File_Name\": filename,\"Date\":  date, \"Sentiment\":total_sentiment, \"Publisher\":publisher, \"Mentioned_Names\":article_names, \"Text\":article}, ignore_index=True)\n",
      "C:\\Users\\ingeg\\AppData\\Local\\Temp\\ipykernel_1336\\1388660847.py:61: FutureWarning: The frame.append method is deprecated and will be removed from pandas in a future version. Use pandas.concat instead.\n",
      "  df = df.append({\"File_Name\": filename,\"Date\":  date, \"Sentiment\":total_sentiment, \"Publisher\":publisher, \"Mentioned_Names\":article_names, \"Text\":article}, ignore_index=True)\n"
     ]
    },
    {
     "name": "stdout",
     "output_type": "stream",
     "text": [
      "521.txt\n",
      "522.txt\n",
      "523.txt\n"
     ]
    },
    {
     "name": "stderr",
     "output_type": "stream",
     "text": [
      "C:\\Users\\ingeg\\AppData\\Local\\Temp\\ipykernel_1336\\1388660847.py:61: FutureWarning: The frame.append method is deprecated and will be removed from pandas in a future version. Use pandas.concat instead.\n",
      "  df = df.append({\"File_Name\": filename,\"Date\":  date, \"Sentiment\":total_sentiment, \"Publisher\":publisher, \"Mentioned_Names\":article_names, \"Text\":article}, ignore_index=True)\n",
      "C:\\Users\\ingeg\\AppData\\Local\\Temp\\ipykernel_1336\\1388660847.py:61: FutureWarning: The frame.append method is deprecated and will be removed from pandas in a future version. Use pandas.concat instead.\n",
      "  df = df.append({\"File_Name\": filename,\"Date\":  date, \"Sentiment\":total_sentiment, \"Publisher\":publisher, \"Mentioned_Names\":article_names, \"Text\":article}, ignore_index=True)\n"
     ]
    },
    {
     "name": "stdout",
     "output_type": "stream",
     "text": [
      "524.txt\n",
      "525.txt\n"
     ]
    },
    {
     "name": "stderr",
     "output_type": "stream",
     "text": [
      "C:\\Users\\ingeg\\AppData\\Local\\Temp\\ipykernel_1336\\1388660847.py:61: FutureWarning: The frame.append method is deprecated and will be removed from pandas in a future version. Use pandas.concat instead.\n",
      "  df = df.append({\"File_Name\": filename,\"Date\":  date, \"Sentiment\":total_sentiment, \"Publisher\":publisher, \"Mentioned_Names\":article_names, \"Text\":article}, ignore_index=True)\n",
      "C:\\Users\\ingeg\\AppData\\Local\\Temp\\ipykernel_1336\\1388660847.py:61: FutureWarning: The frame.append method is deprecated and will be removed from pandas in a future version. Use pandas.concat instead.\n",
      "  df = df.append({\"File_Name\": filename,\"Date\":  date, \"Sentiment\":total_sentiment, \"Publisher\":publisher, \"Mentioned_Names\":article_names, \"Text\":article}, ignore_index=True)\n"
     ]
    },
    {
     "name": "stdout",
     "output_type": "stream",
     "text": [
      "526.txt\n",
      "527.txt\n"
     ]
    },
    {
     "name": "stderr",
     "output_type": "stream",
     "text": [
      "C:\\Users\\ingeg\\AppData\\Local\\Temp\\ipykernel_1336\\1388660847.py:61: FutureWarning: The frame.append method is deprecated and will be removed from pandas in a future version. Use pandas.concat instead.\n",
      "  df = df.append({\"File_Name\": filename,\"Date\":  date, \"Sentiment\":total_sentiment, \"Publisher\":publisher, \"Mentioned_Names\":article_names, \"Text\":article}, ignore_index=True)\n",
      "C:\\Users\\ingeg\\AppData\\Local\\Temp\\ipykernel_1336\\1388660847.py:61: FutureWarning: The frame.append method is deprecated and will be removed from pandas in a future version. Use pandas.concat instead.\n",
      "  df = df.append({\"File_Name\": filename,\"Date\":  date, \"Sentiment\":total_sentiment, \"Publisher\":publisher, \"Mentioned_Names\":article_names, \"Text\":article}, ignore_index=True)\n"
     ]
    },
    {
     "name": "stdout",
     "output_type": "stream",
     "text": [
      "528.txt\n",
      "529.txt\n"
     ]
    },
    {
     "name": "stderr",
     "output_type": "stream",
     "text": [
      "C:\\Users\\ingeg\\AppData\\Local\\Temp\\ipykernel_1336\\1388660847.py:61: FutureWarning: The frame.append method is deprecated and will be removed from pandas in a future version. Use pandas.concat instead.\n",
      "  df = df.append({\"File_Name\": filename,\"Date\":  date, \"Sentiment\":total_sentiment, \"Publisher\":publisher, \"Mentioned_Names\":article_names, \"Text\":article}, ignore_index=True)\n",
      "C:\\Users\\ingeg\\AppData\\Local\\Temp\\ipykernel_1336\\1388660847.py:61: FutureWarning: The frame.append method is deprecated and will be removed from pandas in a future version. Use pandas.concat instead.\n",
      "  df = df.append({\"File_Name\": filename,\"Date\":  date, \"Sentiment\":total_sentiment, \"Publisher\":publisher, \"Mentioned_Names\":article_names, \"Text\":article}, ignore_index=True)\n"
     ]
    },
    {
     "name": "stdout",
     "output_type": "stream",
     "text": [
      "53.txt\n",
      "530.txt\n"
     ]
    },
    {
     "name": "stderr",
     "output_type": "stream",
     "text": [
      "C:\\Users\\ingeg\\AppData\\Local\\Temp\\ipykernel_1336\\1388660847.py:61: FutureWarning: The frame.append method is deprecated and will be removed from pandas in a future version. Use pandas.concat instead.\n",
      "  df = df.append({\"File_Name\": filename,\"Date\":  date, \"Sentiment\":total_sentiment, \"Publisher\":publisher, \"Mentioned_Names\":article_names, \"Text\":article}, ignore_index=True)\n"
     ]
    },
    {
     "name": "stdout",
     "output_type": "stream",
     "text": [
      "531.txt\n"
     ]
    },
    {
     "name": "stderr",
     "output_type": "stream",
     "text": [
      "C:\\Users\\ingeg\\AppData\\Local\\Temp\\ipykernel_1336\\1388660847.py:61: FutureWarning: The frame.append method is deprecated and will be removed from pandas in a future version. Use pandas.concat instead.\n",
      "  df = df.append({\"File_Name\": filename,\"Date\":  date, \"Sentiment\":total_sentiment, \"Publisher\":publisher, \"Mentioned_Names\":article_names, \"Text\":article}, ignore_index=True)\n",
      "C:\\Users\\ingeg\\AppData\\Local\\Temp\\ipykernel_1336\\1388660847.py:61: FutureWarning: The frame.append method is deprecated and will be removed from pandas in a future version. Use pandas.concat instead.\n",
      "  df = df.append({\"File_Name\": filename,\"Date\":  date, \"Sentiment\":total_sentiment, \"Publisher\":publisher, \"Mentioned_Names\":article_names, \"Text\":article}, ignore_index=True)\n"
     ]
    },
    {
     "name": "stdout",
     "output_type": "stream",
     "text": [
      "532.txt\n",
      "533.txt\n"
     ]
    },
    {
     "name": "stderr",
     "output_type": "stream",
     "text": [
      "C:\\Users\\ingeg\\AppData\\Local\\Temp\\ipykernel_1336\\1388660847.py:61: FutureWarning: The frame.append method is deprecated and will be removed from pandas in a future version. Use pandas.concat instead.\n",
      "  df = df.append({\"File_Name\": filename,\"Date\":  date, \"Sentiment\":total_sentiment, \"Publisher\":publisher, \"Mentioned_Names\":article_names, \"Text\":article}, ignore_index=True)\n",
      "C:\\Users\\ingeg\\AppData\\Local\\Temp\\ipykernel_1336\\1388660847.py:61: FutureWarning: The frame.append method is deprecated and will be removed from pandas in a future version. Use pandas.concat instead.\n",
      "  df = df.append({\"File_Name\": filename,\"Date\":  date, \"Sentiment\":total_sentiment, \"Publisher\":publisher, \"Mentioned_Names\":article_names, \"Text\":article}, ignore_index=True)\n"
     ]
    },
    {
     "name": "stdout",
     "output_type": "stream",
     "text": [
      "534.txt\n",
      "535.txt\n"
     ]
    },
    {
     "name": "stderr",
     "output_type": "stream",
     "text": [
      "C:\\Users\\ingeg\\AppData\\Local\\Temp\\ipykernel_1336\\1388660847.py:61: FutureWarning: The frame.append method is deprecated and will be removed from pandas in a future version. Use pandas.concat instead.\n",
      "  df = df.append({\"File_Name\": filename,\"Date\":  date, \"Sentiment\":total_sentiment, \"Publisher\":publisher, \"Mentioned_Names\":article_names, \"Text\":article}, ignore_index=True)\n",
      "C:\\Users\\ingeg\\AppData\\Local\\Temp\\ipykernel_1336\\1388660847.py:61: FutureWarning: The frame.append method is deprecated and will be removed from pandas in a future version. Use pandas.concat instead.\n",
      "  df = df.append({\"File_Name\": filename,\"Date\":  date, \"Sentiment\":total_sentiment, \"Publisher\":publisher, \"Mentioned_Names\":article_names, \"Text\":article}, ignore_index=True)\n"
     ]
    },
    {
     "name": "stdout",
     "output_type": "stream",
     "text": [
      "536.txt\n",
      "537.txt\n",
      "538.txt\n"
     ]
    },
    {
     "name": "stderr",
     "output_type": "stream",
     "text": [
      "C:\\Users\\ingeg\\AppData\\Local\\Temp\\ipykernel_1336\\1388660847.py:61: FutureWarning: The frame.append method is deprecated and will be removed from pandas in a future version. Use pandas.concat instead.\n",
      "  df = df.append({\"File_Name\": filename,\"Date\":  date, \"Sentiment\":total_sentiment, \"Publisher\":publisher, \"Mentioned_Names\":article_names, \"Text\":article}, ignore_index=True)\n",
      "C:\\Users\\ingeg\\AppData\\Local\\Temp\\ipykernel_1336\\1388660847.py:61: FutureWarning: The frame.append method is deprecated and will be removed from pandas in a future version. Use pandas.concat instead.\n",
      "  df = df.append({\"File_Name\": filename,\"Date\":  date, \"Sentiment\":total_sentiment, \"Publisher\":publisher, \"Mentioned_Names\":article_names, \"Text\":article}, ignore_index=True)\n",
      "C:\\Users\\ingeg\\AppData\\Local\\Temp\\ipykernel_1336\\1388660847.py:61: FutureWarning: The frame.append method is deprecated and will be removed from pandas in a future version. Use pandas.concat instead.\n",
      "  df = df.append({\"File_Name\": filename,\"Date\":  date, \"Sentiment\":total_sentiment, \"Publisher\":publisher, \"Mentioned_Names\":article_names, \"Text\":article}, ignore_index=True)\n"
     ]
    },
    {
     "name": "stdout",
     "output_type": "stream",
     "text": [
      "539.txt\n",
      "54.txt\n"
     ]
    },
    {
     "name": "stderr",
     "output_type": "stream",
     "text": [
      "C:\\Users\\ingeg\\AppData\\Local\\Temp\\ipykernel_1336\\1388660847.py:61: FutureWarning: The frame.append method is deprecated and will be removed from pandas in a future version. Use pandas.concat instead.\n",
      "  df = df.append({\"File_Name\": filename,\"Date\":  date, \"Sentiment\":total_sentiment, \"Publisher\":publisher, \"Mentioned_Names\":article_names, \"Text\":article}, ignore_index=True)\n",
      "C:\\Users\\ingeg\\AppData\\Local\\Temp\\ipykernel_1336\\1388660847.py:61: FutureWarning: The frame.append method is deprecated and will be removed from pandas in a future version. Use pandas.concat instead.\n",
      "  df = df.append({\"File_Name\": filename,\"Date\":  date, \"Sentiment\":total_sentiment, \"Publisher\":publisher, \"Mentioned_Names\":article_names, \"Text\":article}, ignore_index=True)\n"
     ]
    },
    {
     "name": "stdout",
     "output_type": "stream",
     "text": [
      "540.txt\n",
      "541.txt\n"
     ]
    },
    {
     "name": "stderr",
     "output_type": "stream",
     "text": [
      "C:\\Users\\ingeg\\AppData\\Local\\Temp\\ipykernel_1336\\1388660847.py:61: FutureWarning: The frame.append method is deprecated and will be removed from pandas in a future version. Use pandas.concat instead.\n",
      "  df = df.append({\"File_Name\": filename,\"Date\":  date, \"Sentiment\":total_sentiment, \"Publisher\":publisher, \"Mentioned_Names\":article_names, \"Text\":article}, ignore_index=True)\n",
      "C:\\Users\\ingeg\\AppData\\Local\\Temp\\ipykernel_1336\\1388660847.py:61: FutureWarning: The frame.append method is deprecated and will be removed from pandas in a future version. Use pandas.concat instead.\n",
      "  df = df.append({\"File_Name\": filename,\"Date\":  date, \"Sentiment\":total_sentiment, \"Publisher\":publisher, \"Mentioned_Names\":article_names, \"Text\":article}, ignore_index=True)\n"
     ]
    },
    {
     "name": "stdout",
     "output_type": "stream",
     "text": [
      "542.txt\n",
      "543.txt\n"
     ]
    },
    {
     "name": "stderr",
     "output_type": "stream",
     "text": [
      "C:\\Users\\ingeg\\AppData\\Local\\Temp\\ipykernel_1336\\1388660847.py:61: FutureWarning: The frame.append method is deprecated and will be removed from pandas in a future version. Use pandas.concat instead.\n",
      "  df = df.append({\"File_Name\": filename,\"Date\":  date, \"Sentiment\":total_sentiment, \"Publisher\":publisher, \"Mentioned_Names\":article_names, \"Text\":article}, ignore_index=True)\n",
      "C:\\Users\\ingeg\\AppData\\Local\\Temp\\ipykernel_1336\\1388660847.py:61: FutureWarning: The frame.append method is deprecated and will be removed from pandas in a future version. Use pandas.concat instead.\n",
      "  df = df.append({\"File_Name\": filename,\"Date\":  date, \"Sentiment\":total_sentiment, \"Publisher\":publisher, \"Mentioned_Names\":article_names, \"Text\":article}, ignore_index=True)\n"
     ]
    },
    {
     "name": "stdout",
     "output_type": "stream",
     "text": [
      "544.txt\n",
      "545.txt\n"
     ]
    },
    {
     "name": "stderr",
     "output_type": "stream",
     "text": [
      "C:\\Users\\ingeg\\AppData\\Local\\Temp\\ipykernel_1336\\1388660847.py:61: FutureWarning: The frame.append method is deprecated and will be removed from pandas in a future version. Use pandas.concat instead.\n",
      "  df = df.append({\"File_Name\": filename,\"Date\":  date, \"Sentiment\":total_sentiment, \"Publisher\":publisher, \"Mentioned_Names\":article_names, \"Text\":article}, ignore_index=True)\n",
      "C:\\Users\\ingeg\\AppData\\Local\\Temp\\ipykernel_1336\\1388660847.py:61: FutureWarning: The frame.append method is deprecated and will be removed from pandas in a future version. Use pandas.concat instead.\n",
      "  df = df.append({\"File_Name\": filename,\"Date\":  date, \"Sentiment\":total_sentiment, \"Publisher\":publisher, \"Mentioned_Names\":article_names, \"Text\":article}, ignore_index=True)\n"
     ]
    },
    {
     "name": "stdout",
     "output_type": "stream",
     "text": [
      "546.txt\n",
      "547.txt\n"
     ]
    },
    {
     "name": "stderr",
     "output_type": "stream",
     "text": [
      "C:\\Users\\ingeg\\AppData\\Local\\Temp\\ipykernel_1336\\1388660847.py:61: FutureWarning: The frame.append method is deprecated and will be removed from pandas in a future version. Use pandas.concat instead.\n",
      "  df = df.append({\"File_Name\": filename,\"Date\":  date, \"Sentiment\":total_sentiment, \"Publisher\":publisher, \"Mentioned_Names\":article_names, \"Text\":article}, ignore_index=True)\n",
      "C:\\Users\\ingeg\\AppData\\Local\\Temp\\ipykernel_1336\\1388660847.py:61: FutureWarning: The frame.append method is deprecated and will be removed from pandas in a future version. Use pandas.concat instead.\n",
      "  df = df.append({\"File_Name\": filename,\"Date\":  date, \"Sentiment\":total_sentiment, \"Publisher\":publisher, \"Mentioned_Names\":article_names, \"Text\":article}, ignore_index=True)\n",
      "C:\\Users\\ingeg\\AppData\\Local\\Temp\\ipykernel_1336\\1388660847.py:61: FutureWarning: The frame.append method is deprecated and will be removed from pandas in a future version. Use pandas.concat instead.\n",
      "  df = df.append({\"File_Name\": filename,\"Date\":  date, \"Sentiment\":total_sentiment, \"Publisher\":publisher, \"Mentioned_Names\":article_names, \"Text\":article}, ignore_index=True)\n"
     ]
    },
    {
     "name": "stdout",
     "output_type": "stream",
     "text": [
      "548.txt\n",
      "549.txt\n",
      "55.txt\n"
     ]
    },
    {
     "name": "stderr",
     "output_type": "stream",
     "text": [
      "C:\\Users\\ingeg\\AppData\\Local\\Temp\\ipykernel_1336\\1388660847.py:61: FutureWarning: The frame.append method is deprecated and will be removed from pandas in a future version. Use pandas.concat instead.\n",
      "  df = df.append({\"File_Name\": filename,\"Date\":  date, \"Sentiment\":total_sentiment, \"Publisher\":publisher, \"Mentioned_Names\":article_names, \"Text\":article}, ignore_index=True)\n",
      "C:\\Users\\ingeg\\AppData\\Local\\Temp\\ipykernel_1336\\1388660847.py:61: FutureWarning: The frame.append method is deprecated and will be removed from pandas in a future version. Use pandas.concat instead.\n",
      "  df = df.append({\"File_Name\": filename,\"Date\":  date, \"Sentiment\":total_sentiment, \"Publisher\":publisher, \"Mentioned_Names\":article_names, \"Text\":article}, ignore_index=True)\n"
     ]
    },
    {
     "name": "stdout",
     "output_type": "stream",
     "text": [
      "550.txt\n",
      "551.txt\n"
     ]
    },
    {
     "name": "stderr",
     "output_type": "stream",
     "text": [
      "C:\\Users\\ingeg\\AppData\\Local\\Temp\\ipykernel_1336\\1388660847.py:61: FutureWarning: The frame.append method is deprecated and will be removed from pandas in a future version. Use pandas.concat instead.\n",
      "  df = df.append({\"File_Name\": filename,\"Date\":  date, \"Sentiment\":total_sentiment, \"Publisher\":publisher, \"Mentioned_Names\":article_names, \"Text\":article}, ignore_index=True)\n"
     ]
    },
    {
     "name": "stdout",
     "output_type": "stream",
     "text": [
      "552.txt\n"
     ]
    },
    {
     "name": "stderr",
     "output_type": "stream",
     "text": [
      "C:\\Users\\ingeg\\AppData\\Local\\Temp\\ipykernel_1336\\1388660847.py:61: FutureWarning: The frame.append method is deprecated and will be removed from pandas in a future version. Use pandas.concat instead.\n",
      "  df = df.append({\"File_Name\": filename,\"Date\":  date, \"Sentiment\":total_sentiment, \"Publisher\":publisher, \"Mentioned_Names\":article_names, \"Text\":article}, ignore_index=True)\n",
      "C:\\Users\\ingeg\\AppData\\Local\\Temp\\ipykernel_1336\\1388660847.py:61: FutureWarning: The frame.append method is deprecated and will be removed from pandas in a future version. Use pandas.concat instead.\n",
      "  df = df.append({\"File_Name\": filename,\"Date\":  date, \"Sentiment\":total_sentiment, \"Publisher\":publisher, \"Mentioned_Names\":article_names, \"Text\":article}, ignore_index=True)\n"
     ]
    },
    {
     "name": "stdout",
     "output_type": "stream",
     "text": [
      "553.txt\n",
      "554.txt\n"
     ]
    },
    {
     "name": "stderr",
     "output_type": "stream",
     "text": [
      "C:\\Users\\ingeg\\AppData\\Local\\Temp\\ipykernel_1336\\1388660847.py:61: FutureWarning: The frame.append method is deprecated and will be removed from pandas in a future version. Use pandas.concat instead.\n",
      "  df = df.append({\"File_Name\": filename,\"Date\":  date, \"Sentiment\":total_sentiment, \"Publisher\":publisher, \"Mentioned_Names\":article_names, \"Text\":article}, ignore_index=True)\n",
      "C:\\Users\\ingeg\\AppData\\Local\\Temp\\ipykernel_1336\\1388660847.py:61: FutureWarning: The frame.append method is deprecated and will be removed from pandas in a future version. Use pandas.concat instead.\n",
      "  df = df.append({\"File_Name\": filename,\"Date\":  date, \"Sentiment\":total_sentiment, \"Publisher\":publisher, \"Mentioned_Names\":article_names, \"Text\":article}, ignore_index=True)\n"
     ]
    },
    {
     "name": "stdout",
     "output_type": "stream",
     "text": [
      "555.txt\n",
      "556.txt\n"
     ]
    },
    {
     "name": "stderr",
     "output_type": "stream",
     "text": [
      "C:\\Users\\ingeg\\AppData\\Local\\Temp\\ipykernel_1336\\1388660847.py:61: FutureWarning: The frame.append method is deprecated and will be removed from pandas in a future version. Use pandas.concat instead.\n",
      "  df = df.append({\"File_Name\": filename,\"Date\":  date, \"Sentiment\":total_sentiment, \"Publisher\":publisher, \"Mentioned_Names\":article_names, \"Text\":article}, ignore_index=True)\n",
      "C:\\Users\\ingeg\\AppData\\Local\\Temp\\ipykernel_1336\\1388660847.py:61: FutureWarning: The frame.append method is deprecated and will be removed from pandas in a future version. Use pandas.concat instead.\n",
      "  df = df.append({\"File_Name\": filename,\"Date\":  date, \"Sentiment\":total_sentiment, \"Publisher\":publisher, \"Mentioned_Names\":article_names, \"Text\":article}, ignore_index=True)\n",
      "C:\\Users\\ingeg\\AppData\\Local\\Temp\\ipykernel_1336\\1388660847.py:61: FutureWarning: The frame.append method is deprecated and will be removed from pandas in a future version. Use pandas.concat instead.\n",
      "  df = df.append({\"File_Name\": filename,\"Date\":  date, \"Sentiment\":total_sentiment, \"Publisher\":publisher, \"Mentioned_Names\":article_names, \"Text\":article}, ignore_index=True)\n"
     ]
    },
    {
     "name": "stdout",
     "output_type": "stream",
     "text": [
      "557.txt\n",
      "558.txt\n",
      "559.txt\n"
     ]
    },
    {
     "name": "stderr",
     "output_type": "stream",
     "text": [
      "C:\\Users\\ingeg\\AppData\\Local\\Temp\\ipykernel_1336\\1388660847.py:61: FutureWarning: The frame.append method is deprecated and will be removed from pandas in a future version. Use pandas.concat instead.\n",
      "  df = df.append({\"File_Name\": filename,\"Date\":  date, \"Sentiment\":total_sentiment, \"Publisher\":publisher, \"Mentioned_Names\":article_names, \"Text\":article}, ignore_index=True)\n",
      "C:\\Users\\ingeg\\AppData\\Local\\Temp\\ipykernel_1336\\1388660847.py:61: FutureWarning: The frame.append method is deprecated and will be removed from pandas in a future version. Use pandas.concat instead.\n",
      "  df = df.append({\"File_Name\": filename,\"Date\":  date, \"Sentiment\":total_sentiment, \"Publisher\":publisher, \"Mentioned_Names\":article_names, \"Text\":article}, ignore_index=True)\n"
     ]
    },
    {
     "name": "stdout",
     "output_type": "stream",
     "text": [
      "56.txt\n",
      "560.txt\n"
     ]
    },
    {
     "name": "stderr",
     "output_type": "stream",
     "text": [
      "C:\\Users\\ingeg\\AppData\\Local\\Temp\\ipykernel_1336\\1388660847.py:61: FutureWarning: The frame.append method is deprecated and will be removed from pandas in a future version. Use pandas.concat instead.\n",
      "  df = df.append({\"File_Name\": filename,\"Date\":  date, \"Sentiment\":total_sentiment, \"Publisher\":publisher, \"Mentioned_Names\":article_names, \"Text\":article}, ignore_index=True)\n"
     ]
    },
    {
     "name": "stdout",
     "output_type": "stream",
     "text": [
      "561.txt\n"
     ]
    },
    {
     "name": "stderr",
     "output_type": "stream",
     "text": [
      "C:\\Users\\ingeg\\AppData\\Local\\Temp\\ipykernel_1336\\1388660847.py:61: FutureWarning: The frame.append method is deprecated and will be removed from pandas in a future version. Use pandas.concat instead.\n",
      "  df = df.append({\"File_Name\": filename,\"Date\":  date, \"Sentiment\":total_sentiment, \"Publisher\":publisher, \"Mentioned_Names\":article_names, \"Text\":article}, ignore_index=True)\n",
      "C:\\Users\\ingeg\\AppData\\Local\\Temp\\ipykernel_1336\\1388660847.py:61: FutureWarning: The frame.append method is deprecated and will be removed from pandas in a future version. Use pandas.concat instead.\n",
      "  df = df.append({\"File_Name\": filename,\"Date\":  date, \"Sentiment\":total_sentiment, \"Publisher\":publisher, \"Mentioned_Names\":article_names, \"Text\":article}, ignore_index=True)\n",
      "C:\\Users\\ingeg\\AppData\\Local\\Temp\\ipykernel_1336\\1388660847.py:61: FutureWarning: The frame.append method is deprecated and will be removed from pandas in a future version. Use pandas.concat instead.\n",
      "  df = df.append({\"File_Name\": filename,\"Date\":  date, \"Sentiment\":total_sentiment, \"Publisher\":publisher, \"Mentioned_Names\":article_names, \"Text\":article}, ignore_index=True)\n"
     ]
    },
    {
     "name": "stdout",
     "output_type": "stream",
     "text": [
      "562.txt\n",
      "563.txt\n",
      "564.txt\n"
     ]
    },
    {
     "name": "stderr",
     "output_type": "stream",
     "text": [
      "C:\\Users\\ingeg\\AppData\\Local\\Temp\\ipykernel_1336\\1388660847.py:61: FutureWarning: The frame.append method is deprecated and will be removed from pandas in a future version. Use pandas.concat instead.\n",
      "  df = df.append({\"File_Name\": filename,\"Date\":  date, \"Sentiment\":total_sentiment, \"Publisher\":publisher, \"Mentioned_Names\":article_names, \"Text\":article}, ignore_index=True)\n",
      "C:\\Users\\ingeg\\AppData\\Local\\Temp\\ipykernel_1336\\1388660847.py:61: FutureWarning: The frame.append method is deprecated and will be removed from pandas in a future version. Use pandas.concat instead.\n",
      "  df = df.append({\"File_Name\": filename,\"Date\":  date, \"Sentiment\":total_sentiment, \"Publisher\":publisher, \"Mentioned_Names\":article_names, \"Text\":article}, ignore_index=True)\n"
     ]
    },
    {
     "name": "stdout",
     "output_type": "stream",
     "text": [
      "565.txt\n",
      "566.txt\n",
      "567.txt\n"
     ]
    },
    {
     "name": "stderr",
     "output_type": "stream",
     "text": [
      "C:\\Users\\ingeg\\AppData\\Local\\Temp\\ipykernel_1336\\1388660847.py:61: FutureWarning: The frame.append method is deprecated and will be removed from pandas in a future version. Use pandas.concat instead.\n",
      "  df = df.append({\"File_Name\": filename,\"Date\":  date, \"Sentiment\":total_sentiment, \"Publisher\":publisher, \"Mentioned_Names\":article_names, \"Text\":article}, ignore_index=True)\n",
      "C:\\Users\\ingeg\\AppData\\Local\\Temp\\ipykernel_1336\\1388660847.py:61: FutureWarning: The frame.append method is deprecated and will be removed from pandas in a future version. Use pandas.concat instead.\n",
      "  df = df.append({\"File_Name\": filename,\"Date\":  date, \"Sentiment\":total_sentiment, \"Publisher\":publisher, \"Mentioned_Names\":article_names, \"Text\":article}, ignore_index=True)\n"
     ]
    },
    {
     "name": "stdout",
     "output_type": "stream",
     "text": [
      "568.txt\n"
     ]
    },
    {
     "name": "stderr",
     "output_type": "stream",
     "text": [
      "C:\\Users\\ingeg\\AppData\\Local\\Temp\\ipykernel_1336\\1388660847.py:61: FutureWarning: The frame.append method is deprecated and will be removed from pandas in a future version. Use pandas.concat instead.\n",
      "  df = df.append({\"File_Name\": filename,\"Date\":  date, \"Sentiment\":total_sentiment, \"Publisher\":publisher, \"Mentioned_Names\":article_names, \"Text\":article}, ignore_index=True)\n",
      "C:\\Users\\ingeg\\AppData\\Local\\Temp\\ipykernel_1336\\1388660847.py:61: FutureWarning: The frame.append method is deprecated and will be removed from pandas in a future version. Use pandas.concat instead.\n",
      "  df = df.append({\"File_Name\": filename,\"Date\":  date, \"Sentiment\":total_sentiment, \"Publisher\":publisher, \"Mentioned_Names\":article_names, \"Text\":article}, ignore_index=True)\n"
     ]
    },
    {
     "name": "stdout",
     "output_type": "stream",
     "text": [
      "569.txt\n",
      "57.txt\n"
     ]
    },
    {
     "name": "stderr",
     "output_type": "stream",
     "text": [
      "C:\\Users\\ingeg\\AppData\\Local\\Temp\\ipykernel_1336\\1388660847.py:61: FutureWarning: The frame.append method is deprecated and will be removed from pandas in a future version. Use pandas.concat instead.\n",
      "  df = df.append({\"File_Name\": filename,\"Date\":  date, \"Sentiment\":total_sentiment, \"Publisher\":publisher, \"Mentioned_Names\":article_names, \"Text\":article}, ignore_index=True)\n",
      "C:\\Users\\ingeg\\AppData\\Local\\Temp\\ipykernel_1336\\1388660847.py:61: FutureWarning: The frame.append method is deprecated and will be removed from pandas in a future version. Use pandas.concat instead.\n",
      "  df = df.append({\"File_Name\": filename,\"Date\":  date, \"Sentiment\":total_sentiment, \"Publisher\":publisher, \"Mentioned_Names\":article_names, \"Text\":article}, ignore_index=True)\n"
     ]
    },
    {
     "name": "stdout",
     "output_type": "stream",
     "text": [
      "570.txt\n",
      "571.txt\n"
     ]
    },
    {
     "name": "stderr",
     "output_type": "stream",
     "text": [
      "C:\\Users\\ingeg\\AppData\\Local\\Temp\\ipykernel_1336\\1388660847.py:61: FutureWarning: The frame.append method is deprecated and will be removed from pandas in a future version. Use pandas.concat instead.\n",
      "  df = df.append({\"File_Name\": filename,\"Date\":  date, \"Sentiment\":total_sentiment, \"Publisher\":publisher, \"Mentioned_Names\":article_names, \"Text\":article}, ignore_index=True)\n"
     ]
    },
    {
     "name": "stdout",
     "output_type": "stream",
     "text": [
      "572.txt\n"
     ]
    },
    {
     "name": "stderr",
     "output_type": "stream",
     "text": [
      "C:\\Users\\ingeg\\AppData\\Local\\Temp\\ipykernel_1336\\1388660847.py:61: FutureWarning: The frame.append method is deprecated and will be removed from pandas in a future version. Use pandas.concat instead.\n",
      "  df = df.append({\"File_Name\": filename,\"Date\":  date, \"Sentiment\":total_sentiment, \"Publisher\":publisher, \"Mentioned_Names\":article_names, \"Text\":article}, ignore_index=True)\n",
      "C:\\Users\\ingeg\\AppData\\Local\\Temp\\ipykernel_1336\\1388660847.py:61: FutureWarning: The frame.append method is deprecated and will be removed from pandas in a future version. Use pandas.concat instead.\n",
      "  df = df.append({\"File_Name\": filename,\"Date\":  date, \"Sentiment\":total_sentiment, \"Publisher\":publisher, \"Mentioned_Names\":article_names, \"Text\":article}, ignore_index=True)\n",
      "C:\\Users\\ingeg\\AppData\\Local\\Temp\\ipykernel_1336\\1388660847.py:61: FutureWarning: The frame.append method is deprecated and will be removed from pandas in a future version. Use pandas.concat instead.\n",
      "  df = df.append({\"File_Name\": filename,\"Date\":  date, \"Sentiment\":total_sentiment, \"Publisher\":publisher, \"Mentioned_Names\":article_names, \"Text\":article}, ignore_index=True)\n"
     ]
    },
    {
     "name": "stdout",
     "output_type": "stream",
     "text": [
      "573.txt\n",
      "574.txt\n",
      "575.txt\n"
     ]
    },
    {
     "name": "stderr",
     "output_type": "stream",
     "text": [
      "C:\\Users\\ingeg\\AppData\\Local\\Temp\\ipykernel_1336\\1388660847.py:61: FutureWarning: The frame.append method is deprecated and will be removed from pandas in a future version. Use pandas.concat instead.\n",
      "  df = df.append({\"File_Name\": filename,\"Date\":  date, \"Sentiment\":total_sentiment, \"Publisher\":publisher, \"Mentioned_Names\":article_names, \"Text\":article}, ignore_index=True)\n",
      "C:\\Users\\ingeg\\AppData\\Local\\Temp\\ipykernel_1336\\1388660847.py:61: FutureWarning: The frame.append method is deprecated and will be removed from pandas in a future version. Use pandas.concat instead.\n",
      "  df = df.append({\"File_Name\": filename,\"Date\":  date, \"Sentiment\":total_sentiment, \"Publisher\":publisher, \"Mentioned_Names\":article_names, \"Text\":article}, ignore_index=True)\n"
     ]
    },
    {
     "name": "stdout",
     "output_type": "stream",
     "text": [
      "576.txt\n",
      "577.txt\n"
     ]
    },
    {
     "name": "stderr",
     "output_type": "stream",
     "text": [
      "C:\\Users\\ingeg\\AppData\\Local\\Temp\\ipykernel_1336\\1388660847.py:61: FutureWarning: The frame.append method is deprecated and will be removed from pandas in a future version. Use pandas.concat instead.\n",
      "  df = df.append({\"File_Name\": filename,\"Date\":  date, \"Sentiment\":total_sentiment, \"Publisher\":publisher, \"Mentioned_Names\":article_names, \"Text\":article}, ignore_index=True)\n",
      "C:\\Users\\ingeg\\AppData\\Local\\Temp\\ipykernel_1336\\1388660847.py:61: FutureWarning: The frame.append method is deprecated and will be removed from pandas in a future version. Use pandas.concat instead.\n",
      "  df = df.append({\"File_Name\": filename,\"Date\":  date, \"Sentiment\":total_sentiment, \"Publisher\":publisher, \"Mentioned_Names\":article_names, \"Text\":article}, ignore_index=True)\n"
     ]
    },
    {
     "name": "stdout",
     "output_type": "stream",
     "text": [
      "578.txt\n",
      "579.txt\n"
     ]
    },
    {
     "name": "stderr",
     "output_type": "stream",
     "text": [
      "C:\\Users\\ingeg\\AppData\\Local\\Temp\\ipykernel_1336\\1388660847.py:61: FutureWarning: The frame.append method is deprecated and will be removed from pandas in a future version. Use pandas.concat instead.\n",
      "  df = df.append({\"File_Name\": filename,\"Date\":  date, \"Sentiment\":total_sentiment, \"Publisher\":publisher, \"Mentioned_Names\":article_names, \"Text\":article}, ignore_index=True)\n"
     ]
    },
    {
     "name": "stdout",
     "output_type": "stream",
     "text": [
      "58.txt\n"
     ]
    },
    {
     "name": "stderr",
     "output_type": "stream",
     "text": [
      "C:\\Users\\ingeg\\AppData\\Local\\Temp\\ipykernel_1336\\1388660847.py:61: FutureWarning: The frame.append method is deprecated and will be removed from pandas in a future version. Use pandas.concat instead.\n",
      "  df = df.append({\"File_Name\": filename,\"Date\":  date, \"Sentiment\":total_sentiment, \"Publisher\":publisher, \"Mentioned_Names\":article_names, \"Text\":article}, ignore_index=True)\n"
     ]
    },
    {
     "name": "stdout",
     "output_type": "stream",
     "text": [
      "580.txt\n"
     ]
    },
    {
     "name": "stderr",
     "output_type": "stream",
     "text": [
      "C:\\Users\\ingeg\\AppData\\Local\\Temp\\ipykernel_1336\\1388660847.py:61: FutureWarning: The frame.append method is deprecated and will be removed from pandas in a future version. Use pandas.concat instead.\n",
      "  df = df.append({\"File_Name\": filename,\"Date\":  date, \"Sentiment\":total_sentiment, \"Publisher\":publisher, \"Mentioned_Names\":article_names, \"Text\":article}, ignore_index=True)\n"
     ]
    },
    {
     "name": "stdout",
     "output_type": "stream",
     "text": [
      "581.txt\n"
     ]
    },
    {
     "name": "stderr",
     "output_type": "stream",
     "text": [
      "C:\\Users\\ingeg\\AppData\\Local\\Temp\\ipykernel_1336\\1388660847.py:61: FutureWarning: The frame.append method is deprecated and will be removed from pandas in a future version. Use pandas.concat instead.\n",
      "  df = df.append({\"File_Name\": filename,\"Date\":  date, \"Sentiment\":total_sentiment, \"Publisher\":publisher, \"Mentioned_Names\":article_names, \"Text\":article}, ignore_index=True)\n",
      "C:\\Users\\ingeg\\AppData\\Local\\Temp\\ipykernel_1336\\1388660847.py:61: FutureWarning: The frame.append method is deprecated and will be removed from pandas in a future version. Use pandas.concat instead.\n",
      "  df = df.append({\"File_Name\": filename,\"Date\":  date, \"Sentiment\":total_sentiment, \"Publisher\":publisher, \"Mentioned_Names\":article_names, \"Text\":article}, ignore_index=True)\n",
      "C:\\Users\\ingeg\\AppData\\Local\\Temp\\ipykernel_1336\\1388660847.py:61: FutureWarning: The frame.append method is deprecated and will be removed from pandas in a future version. Use pandas.concat instead.\n",
      "  df = df.append({\"File_Name\": filename,\"Date\":  date, \"Sentiment\":total_sentiment, \"Publisher\":publisher, \"Mentioned_Names\":article_names, \"Text\":article}, ignore_index=True)\n"
     ]
    },
    {
     "name": "stdout",
     "output_type": "stream",
     "text": [
      "582.txt\n",
      "583.txt\n",
      "584.txt\n"
     ]
    },
    {
     "name": "stderr",
     "output_type": "stream",
     "text": [
      "C:\\Users\\ingeg\\AppData\\Local\\Temp\\ipykernel_1336\\1388660847.py:61: FutureWarning: The frame.append method is deprecated and will be removed from pandas in a future version. Use pandas.concat instead.\n",
      "  df = df.append({\"File_Name\": filename,\"Date\":  date, \"Sentiment\":total_sentiment, \"Publisher\":publisher, \"Mentioned_Names\":article_names, \"Text\":article}, ignore_index=True)\n",
      "C:\\Users\\ingeg\\AppData\\Local\\Temp\\ipykernel_1336\\1388660847.py:61: FutureWarning: The frame.append method is deprecated and will be removed from pandas in a future version. Use pandas.concat instead.\n",
      "  df = df.append({\"File_Name\": filename,\"Date\":  date, \"Sentiment\":total_sentiment, \"Publisher\":publisher, \"Mentioned_Names\":article_names, \"Text\":article}, ignore_index=True)\n"
     ]
    },
    {
     "name": "stdout",
     "output_type": "stream",
     "text": [
      "585.txt\n",
      "586.txt\n"
     ]
    },
    {
     "name": "stderr",
     "output_type": "stream",
     "text": [
      "C:\\Users\\ingeg\\AppData\\Local\\Temp\\ipykernel_1336\\1388660847.py:61: FutureWarning: The frame.append method is deprecated and will be removed from pandas in a future version. Use pandas.concat instead.\n",
      "  df = df.append({\"File_Name\": filename,\"Date\":  date, \"Sentiment\":total_sentiment, \"Publisher\":publisher, \"Mentioned_Names\":article_names, \"Text\":article}, ignore_index=True)\n"
     ]
    },
    {
     "name": "stdout",
     "output_type": "stream",
     "text": [
      "587.txt\n"
     ]
    },
    {
     "name": "stderr",
     "output_type": "stream",
     "text": [
      "C:\\Users\\ingeg\\AppData\\Local\\Temp\\ipykernel_1336\\1388660847.py:61: FutureWarning: The frame.append method is deprecated and will be removed from pandas in a future version. Use pandas.concat instead.\n",
      "  df = df.append({\"File_Name\": filename,\"Date\":  date, \"Sentiment\":total_sentiment, \"Publisher\":publisher, \"Mentioned_Names\":article_names, \"Text\":article}, ignore_index=True)\n",
      "C:\\Users\\ingeg\\AppData\\Local\\Temp\\ipykernel_1336\\1388660847.py:61: FutureWarning: The frame.append method is deprecated and will be removed from pandas in a future version. Use pandas.concat instead.\n",
      "  df = df.append({\"File_Name\": filename,\"Date\":  date, \"Sentiment\":total_sentiment, \"Publisher\":publisher, \"Mentioned_Names\":article_names, \"Text\":article}, ignore_index=True)\n"
     ]
    },
    {
     "name": "stdout",
     "output_type": "stream",
     "text": [
      "588.txt\n",
      "589.txt\n"
     ]
    },
    {
     "name": "stderr",
     "output_type": "stream",
     "text": [
      "C:\\Users\\ingeg\\AppData\\Local\\Temp\\ipykernel_1336\\1388660847.py:61: FutureWarning: The frame.append method is deprecated and will be removed from pandas in a future version. Use pandas.concat instead.\n",
      "  df = df.append({\"File_Name\": filename,\"Date\":  date, \"Sentiment\":total_sentiment, \"Publisher\":publisher, \"Mentioned_Names\":article_names, \"Text\":article}, ignore_index=True)\n"
     ]
    },
    {
     "name": "stdout",
     "output_type": "stream",
     "text": [
      "59.txt\n"
     ]
    },
    {
     "name": "stderr",
     "output_type": "stream",
     "text": [
      "C:\\Users\\ingeg\\AppData\\Local\\Temp\\ipykernel_1336\\1388660847.py:61: FutureWarning: The frame.append method is deprecated and will be removed from pandas in a future version. Use pandas.concat instead.\n",
      "  df = df.append({\"File_Name\": filename,\"Date\":  date, \"Sentiment\":total_sentiment, \"Publisher\":publisher, \"Mentioned_Names\":article_names, \"Text\":article}, ignore_index=True)\n",
      "C:\\Users\\ingeg\\AppData\\Local\\Temp\\ipykernel_1336\\1388660847.py:61: FutureWarning: The frame.append method is deprecated and will be removed from pandas in a future version. Use pandas.concat instead.\n",
      "  df = df.append({\"File_Name\": filename,\"Date\":  date, \"Sentiment\":total_sentiment, \"Publisher\":publisher, \"Mentioned_Names\":article_names, \"Text\":article}, ignore_index=True)\n"
     ]
    },
    {
     "name": "stdout",
     "output_type": "stream",
     "text": [
      "590.txt\n",
      "591.txt\n"
     ]
    },
    {
     "name": "stderr",
     "output_type": "stream",
     "text": [
      "C:\\Users\\ingeg\\AppData\\Local\\Temp\\ipykernel_1336\\1388660847.py:61: FutureWarning: The frame.append method is deprecated and will be removed from pandas in a future version. Use pandas.concat instead.\n",
      "  df = df.append({\"File_Name\": filename,\"Date\":  date, \"Sentiment\":total_sentiment, \"Publisher\":publisher, \"Mentioned_Names\":article_names, \"Text\":article}, ignore_index=True)\n",
      "C:\\Users\\ingeg\\AppData\\Local\\Temp\\ipykernel_1336\\1388660847.py:61: FutureWarning: The frame.append method is deprecated and will be removed from pandas in a future version. Use pandas.concat instead.\n",
      "  df = df.append({\"File_Name\": filename,\"Date\":  date, \"Sentiment\":total_sentiment, \"Publisher\":publisher, \"Mentioned_Names\":article_names, \"Text\":article}, ignore_index=True)\n"
     ]
    },
    {
     "name": "stdout",
     "output_type": "stream",
     "text": [
      "592.txt\n",
      "593.txt\n"
     ]
    },
    {
     "name": "stderr",
     "output_type": "stream",
     "text": [
      "C:\\Users\\ingeg\\AppData\\Local\\Temp\\ipykernel_1336\\1388660847.py:61: FutureWarning: The frame.append method is deprecated and will be removed from pandas in a future version. Use pandas.concat instead.\n",
      "  df = df.append({\"File_Name\": filename,\"Date\":  date, \"Sentiment\":total_sentiment, \"Publisher\":publisher, \"Mentioned_Names\":article_names, \"Text\":article}, ignore_index=True)\n"
     ]
    },
    {
     "name": "stdout",
     "output_type": "stream",
     "text": [
      "594.txt\n"
     ]
    },
    {
     "name": "stderr",
     "output_type": "stream",
     "text": [
      "C:\\Users\\ingeg\\AppData\\Local\\Temp\\ipykernel_1336\\1388660847.py:61: FutureWarning: The frame.append method is deprecated and will be removed from pandas in a future version. Use pandas.concat instead.\n",
      "  df = df.append({\"File_Name\": filename,\"Date\":  date, \"Sentiment\":total_sentiment, \"Publisher\":publisher, \"Mentioned_Names\":article_names, \"Text\":article}, ignore_index=True)\n"
     ]
    },
    {
     "name": "stdout",
     "output_type": "stream",
     "text": [
      "595.txt\n"
     ]
    },
    {
     "name": "stderr",
     "output_type": "stream",
     "text": [
      "C:\\Users\\ingeg\\AppData\\Local\\Temp\\ipykernel_1336\\1388660847.py:61: FutureWarning: The frame.append method is deprecated and will be removed from pandas in a future version. Use pandas.concat instead.\n",
      "  df = df.append({\"File_Name\": filename,\"Date\":  date, \"Sentiment\":total_sentiment, \"Publisher\":publisher, \"Mentioned_Names\":article_names, \"Text\":article}, ignore_index=True)\n"
     ]
    },
    {
     "name": "stdout",
     "output_type": "stream",
     "text": [
      "596.txt\n"
     ]
    },
    {
     "name": "stderr",
     "output_type": "stream",
     "text": [
      "C:\\Users\\ingeg\\AppData\\Local\\Temp\\ipykernel_1336\\1388660847.py:61: FutureWarning: The frame.append method is deprecated and will be removed from pandas in a future version. Use pandas.concat instead.\n",
      "  df = df.append({\"File_Name\": filename,\"Date\":  date, \"Sentiment\":total_sentiment, \"Publisher\":publisher, \"Mentioned_Names\":article_names, \"Text\":article}, ignore_index=True)\n",
      "C:\\Users\\ingeg\\AppData\\Local\\Temp\\ipykernel_1336\\1388660847.py:61: FutureWarning: The frame.append method is deprecated and will be removed from pandas in a future version. Use pandas.concat instead.\n",
      "  df = df.append({\"File_Name\": filename,\"Date\":  date, \"Sentiment\":total_sentiment, \"Publisher\":publisher, \"Mentioned_Names\":article_names, \"Text\":article}, ignore_index=True)\n"
     ]
    },
    {
     "name": "stdout",
     "output_type": "stream",
     "text": [
      "597.txt\n",
      "598.txt\n"
     ]
    },
    {
     "name": "stderr",
     "output_type": "stream",
     "text": [
      "C:\\Users\\ingeg\\AppData\\Local\\Temp\\ipykernel_1336\\1388660847.py:61: FutureWarning: The frame.append method is deprecated and will be removed from pandas in a future version. Use pandas.concat instead.\n",
      "  df = df.append({\"File_Name\": filename,\"Date\":  date, \"Sentiment\":total_sentiment, \"Publisher\":publisher, \"Mentioned_Names\":article_names, \"Text\":article}, ignore_index=True)\n"
     ]
    },
    {
     "name": "stdout",
     "output_type": "stream",
     "text": [
      "599.txt\n"
     ]
    },
    {
     "name": "stderr",
     "output_type": "stream",
     "text": [
      "C:\\Users\\ingeg\\AppData\\Local\\Temp\\ipykernel_1336\\1388660847.py:61: FutureWarning: The frame.append method is deprecated and will be removed from pandas in a future version. Use pandas.concat instead.\n",
      "  df = df.append({\"File_Name\": filename,\"Date\":  date, \"Sentiment\":total_sentiment, \"Publisher\":publisher, \"Mentioned_Names\":article_names, \"Text\":article}, ignore_index=True)\n"
     ]
    },
    {
     "name": "stdout",
     "output_type": "stream",
     "text": [
      "6.txt\n"
     ]
    },
    {
     "name": "stderr",
     "output_type": "stream",
     "text": [
      "C:\\Users\\ingeg\\AppData\\Local\\Temp\\ipykernel_1336\\1388660847.py:61: FutureWarning: The frame.append method is deprecated and will be removed from pandas in a future version. Use pandas.concat instead.\n",
      "  df = df.append({\"File_Name\": filename,\"Date\":  date, \"Sentiment\":total_sentiment, \"Publisher\":publisher, \"Mentioned_Names\":article_names, \"Text\":article}, ignore_index=True)\n",
      "C:\\Users\\ingeg\\AppData\\Local\\Temp\\ipykernel_1336\\1388660847.py:61: FutureWarning: The frame.append method is deprecated and will be removed from pandas in a future version. Use pandas.concat instead.\n",
      "  df = df.append({\"File_Name\": filename,\"Date\":  date, \"Sentiment\":total_sentiment, \"Publisher\":publisher, \"Mentioned_Names\":article_names, \"Text\":article}, ignore_index=True)\n"
     ]
    },
    {
     "name": "stdout",
     "output_type": "stream",
     "text": [
      "60.txt\n",
      "600.txt\n"
     ]
    },
    {
     "name": "stderr",
     "output_type": "stream",
     "text": [
      "C:\\Users\\ingeg\\AppData\\Local\\Temp\\ipykernel_1336\\1388660847.py:61: FutureWarning: The frame.append method is deprecated and will be removed from pandas in a future version. Use pandas.concat instead.\n",
      "  df = df.append({\"File_Name\": filename,\"Date\":  date, \"Sentiment\":total_sentiment, \"Publisher\":publisher, \"Mentioned_Names\":article_names, \"Text\":article}, ignore_index=True)\n"
     ]
    },
    {
     "name": "stdout",
     "output_type": "stream",
     "text": [
      "601.txt\n"
     ]
    },
    {
     "name": "stderr",
     "output_type": "stream",
     "text": [
      "C:\\Users\\ingeg\\AppData\\Local\\Temp\\ipykernel_1336\\1388660847.py:61: FutureWarning: The frame.append method is deprecated and will be removed from pandas in a future version. Use pandas.concat instead.\n",
      "  df = df.append({\"File_Name\": filename,\"Date\":  date, \"Sentiment\":total_sentiment, \"Publisher\":publisher, \"Mentioned_Names\":article_names, \"Text\":article}, ignore_index=True)\n",
      "C:\\Users\\ingeg\\AppData\\Local\\Temp\\ipykernel_1336\\1388660847.py:61: FutureWarning: The frame.append method is deprecated and will be removed from pandas in a future version. Use pandas.concat instead.\n",
      "  df = df.append({\"File_Name\": filename,\"Date\":  date, \"Sentiment\":total_sentiment, \"Publisher\":publisher, \"Mentioned_Names\":article_names, \"Text\":article}, ignore_index=True)\n"
     ]
    },
    {
     "name": "stdout",
     "output_type": "stream",
     "text": [
      "602.txt\n",
      "603.txt\n"
     ]
    },
    {
     "name": "stderr",
     "output_type": "stream",
     "text": [
      "C:\\Users\\ingeg\\AppData\\Local\\Temp\\ipykernel_1336\\1388660847.py:61: FutureWarning: The frame.append method is deprecated and will be removed from pandas in a future version. Use pandas.concat instead.\n",
      "  df = df.append({\"File_Name\": filename,\"Date\":  date, \"Sentiment\":total_sentiment, \"Publisher\":publisher, \"Mentioned_Names\":article_names, \"Text\":article}, ignore_index=True)\n",
      "C:\\Users\\ingeg\\AppData\\Local\\Temp\\ipykernel_1336\\1388660847.py:61: FutureWarning: The frame.append method is deprecated and will be removed from pandas in a future version. Use pandas.concat instead.\n",
      "  df = df.append({\"File_Name\": filename,\"Date\":  date, \"Sentiment\":total_sentiment, \"Publisher\":publisher, \"Mentioned_Names\":article_names, \"Text\":article}, ignore_index=True)\n"
     ]
    },
    {
     "name": "stdout",
     "output_type": "stream",
     "text": [
      "604.txt\n",
      "605.txt\n"
     ]
    },
    {
     "name": "stderr",
     "output_type": "stream",
     "text": [
      "C:\\Users\\ingeg\\AppData\\Local\\Temp\\ipykernel_1336\\1388660847.py:61: FutureWarning: The frame.append method is deprecated and will be removed from pandas in a future version. Use pandas.concat instead.\n",
      "  df = df.append({\"File_Name\": filename,\"Date\":  date, \"Sentiment\":total_sentiment, \"Publisher\":publisher, \"Mentioned_Names\":article_names, \"Text\":article}, ignore_index=True)\n",
      "C:\\Users\\ingeg\\AppData\\Local\\Temp\\ipykernel_1336\\1388660847.py:61: FutureWarning: The frame.append method is deprecated and will be removed from pandas in a future version. Use pandas.concat instead.\n",
      "  df = df.append({\"File_Name\": filename,\"Date\":  date, \"Sentiment\":total_sentiment, \"Publisher\":publisher, \"Mentioned_Names\":article_names, \"Text\":article}, ignore_index=True)\n"
     ]
    },
    {
     "name": "stdout",
     "output_type": "stream",
     "text": [
      "606.txt\n",
      "607.txt\n"
     ]
    },
    {
     "name": "stderr",
     "output_type": "stream",
     "text": [
      "C:\\Users\\ingeg\\AppData\\Local\\Temp\\ipykernel_1336\\1388660847.py:61: FutureWarning: The frame.append method is deprecated and will be removed from pandas in a future version. Use pandas.concat instead.\n",
      "  df = df.append({\"File_Name\": filename,\"Date\":  date, \"Sentiment\":total_sentiment, \"Publisher\":publisher, \"Mentioned_Names\":article_names, \"Text\":article}, ignore_index=True)\n"
     ]
    },
    {
     "name": "stdout",
     "output_type": "stream",
     "text": [
      "608.txt\n"
     ]
    },
    {
     "name": "stderr",
     "output_type": "stream",
     "text": [
      "C:\\Users\\ingeg\\AppData\\Local\\Temp\\ipykernel_1336\\1388660847.py:61: FutureWarning: The frame.append method is deprecated and will be removed from pandas in a future version. Use pandas.concat instead.\n",
      "  df = df.append({\"File_Name\": filename,\"Date\":  date, \"Sentiment\":total_sentiment, \"Publisher\":publisher, \"Mentioned_Names\":article_names, \"Text\":article}, ignore_index=True)\n",
      "C:\\Users\\ingeg\\AppData\\Local\\Temp\\ipykernel_1336\\1388660847.py:61: FutureWarning: The frame.append method is deprecated and will be removed from pandas in a future version. Use pandas.concat instead.\n",
      "  df = df.append({\"File_Name\": filename,\"Date\":  date, \"Sentiment\":total_sentiment, \"Publisher\":publisher, \"Mentioned_Names\":article_names, \"Text\":article}, ignore_index=True)\n"
     ]
    },
    {
     "name": "stdout",
     "output_type": "stream",
     "text": [
      "609.txt\n",
      "61.txt\n"
     ]
    },
    {
     "name": "stderr",
     "output_type": "stream",
     "text": [
      "C:\\Users\\ingeg\\AppData\\Local\\Temp\\ipykernel_1336\\1388660847.py:61: FutureWarning: The frame.append method is deprecated and will be removed from pandas in a future version. Use pandas.concat instead.\n",
      "  df = df.append({\"File_Name\": filename,\"Date\":  date, \"Sentiment\":total_sentiment, \"Publisher\":publisher, \"Mentioned_Names\":article_names, \"Text\":article}, ignore_index=True)\n",
      "C:\\Users\\ingeg\\AppData\\Local\\Temp\\ipykernel_1336\\1388660847.py:61: FutureWarning: The frame.append method is deprecated and will be removed from pandas in a future version. Use pandas.concat instead.\n",
      "  df = df.append({\"File_Name\": filename,\"Date\":  date, \"Sentiment\":total_sentiment, \"Publisher\":publisher, \"Mentioned_Names\":article_names, \"Text\":article}, ignore_index=True)\n"
     ]
    },
    {
     "name": "stdout",
     "output_type": "stream",
     "text": [
      "610.txt\n",
      "611.txt\n"
     ]
    },
    {
     "name": "stderr",
     "output_type": "stream",
     "text": [
      "C:\\Users\\ingeg\\AppData\\Local\\Temp\\ipykernel_1336\\1388660847.py:61: FutureWarning: The frame.append method is deprecated and will be removed from pandas in a future version. Use pandas.concat instead.\n",
      "  df = df.append({\"File_Name\": filename,\"Date\":  date, \"Sentiment\":total_sentiment, \"Publisher\":publisher, \"Mentioned_Names\":article_names, \"Text\":article}, ignore_index=True)\n",
      "C:\\Users\\ingeg\\AppData\\Local\\Temp\\ipykernel_1336\\1388660847.py:61: FutureWarning: The frame.append method is deprecated and will be removed from pandas in a future version. Use pandas.concat instead.\n",
      "  df = df.append({\"File_Name\": filename,\"Date\":  date, \"Sentiment\":total_sentiment, \"Publisher\":publisher, \"Mentioned_Names\":article_names, \"Text\":article}, ignore_index=True)\n"
     ]
    },
    {
     "name": "stdout",
     "output_type": "stream",
     "text": [
      "612.txt\n",
      "613.txt\n"
     ]
    },
    {
     "name": "stderr",
     "output_type": "stream",
     "text": [
      "C:\\Users\\ingeg\\AppData\\Local\\Temp\\ipykernel_1336\\1388660847.py:61: FutureWarning: The frame.append method is deprecated and will be removed from pandas in a future version. Use pandas.concat instead.\n",
      "  df = df.append({\"File_Name\": filename,\"Date\":  date, \"Sentiment\":total_sentiment, \"Publisher\":publisher, \"Mentioned_Names\":article_names, \"Text\":article}, ignore_index=True)\n"
     ]
    },
    {
     "name": "stdout",
     "output_type": "stream",
     "text": [
      "614.txt\n"
     ]
    },
    {
     "name": "stderr",
     "output_type": "stream",
     "text": [
      "C:\\Users\\ingeg\\AppData\\Local\\Temp\\ipykernel_1336\\1388660847.py:61: FutureWarning: The frame.append method is deprecated and will be removed from pandas in a future version. Use pandas.concat instead.\n",
      "  df = df.append({\"File_Name\": filename,\"Date\":  date, \"Sentiment\":total_sentiment, \"Publisher\":publisher, \"Mentioned_Names\":article_names, \"Text\":article}, ignore_index=True)\n"
     ]
    },
    {
     "name": "stdout",
     "output_type": "stream",
     "text": [
      "615.txt\n"
     ]
    },
    {
     "name": "stderr",
     "output_type": "stream",
     "text": [
      "C:\\Users\\ingeg\\AppData\\Local\\Temp\\ipykernel_1336\\1388660847.py:61: FutureWarning: The frame.append method is deprecated and will be removed from pandas in a future version. Use pandas.concat instead.\n",
      "  df = df.append({\"File_Name\": filename,\"Date\":  date, \"Sentiment\":total_sentiment, \"Publisher\":publisher, \"Mentioned_Names\":article_names, \"Text\":article}, ignore_index=True)\n",
      "C:\\Users\\ingeg\\AppData\\Local\\Temp\\ipykernel_1336\\1388660847.py:61: FutureWarning: The frame.append method is deprecated and will be removed from pandas in a future version. Use pandas.concat instead.\n",
      "  df = df.append({\"File_Name\": filename,\"Date\":  date, \"Sentiment\":total_sentiment, \"Publisher\":publisher, \"Mentioned_Names\":article_names, \"Text\":article}, ignore_index=True)\n"
     ]
    },
    {
     "name": "stdout",
     "output_type": "stream",
     "text": [
      "616.txt\n",
      "617.txt\n"
     ]
    },
    {
     "name": "stderr",
     "output_type": "stream",
     "text": [
      "C:\\Users\\ingeg\\AppData\\Local\\Temp\\ipykernel_1336\\1388660847.py:61: FutureWarning: The frame.append method is deprecated and will be removed from pandas in a future version. Use pandas.concat instead.\n",
      "  df = df.append({\"File_Name\": filename,\"Date\":  date, \"Sentiment\":total_sentiment, \"Publisher\":publisher, \"Mentioned_Names\":article_names, \"Text\":article}, ignore_index=True)\n",
      "C:\\Users\\ingeg\\AppData\\Local\\Temp\\ipykernel_1336\\1388660847.py:61: FutureWarning: The frame.append method is deprecated and will be removed from pandas in a future version. Use pandas.concat instead.\n",
      "  df = df.append({\"File_Name\": filename,\"Date\":  date, \"Sentiment\":total_sentiment, \"Publisher\":publisher, \"Mentioned_Names\":article_names, \"Text\":article}, ignore_index=True)\n"
     ]
    },
    {
     "name": "stdout",
     "output_type": "stream",
     "text": [
      "618.txt\n",
      "619.txt\n"
     ]
    },
    {
     "name": "stderr",
     "output_type": "stream",
     "text": [
      "C:\\Users\\ingeg\\AppData\\Local\\Temp\\ipykernel_1336\\1388660847.py:61: FutureWarning: The frame.append method is deprecated and will be removed from pandas in a future version. Use pandas.concat instead.\n",
      "  df = df.append({\"File_Name\": filename,\"Date\":  date, \"Sentiment\":total_sentiment, \"Publisher\":publisher, \"Mentioned_Names\":article_names, \"Text\":article}, ignore_index=True)\n"
     ]
    },
    {
     "name": "stdout",
     "output_type": "stream",
     "text": [
      "62.txt\n"
     ]
    },
    {
     "name": "stderr",
     "output_type": "stream",
     "text": [
      "C:\\Users\\ingeg\\AppData\\Local\\Temp\\ipykernel_1336\\1388660847.py:61: FutureWarning: The frame.append method is deprecated and will be removed from pandas in a future version. Use pandas.concat instead.\n",
      "  df = df.append({\"File_Name\": filename,\"Date\":  date, \"Sentiment\":total_sentiment, \"Publisher\":publisher, \"Mentioned_Names\":article_names, \"Text\":article}, ignore_index=True)\n"
     ]
    },
    {
     "name": "stdout",
     "output_type": "stream",
     "text": [
      "620.txt\n"
     ]
    },
    {
     "name": "stderr",
     "output_type": "stream",
     "text": [
      "C:\\Users\\ingeg\\AppData\\Local\\Temp\\ipykernel_1336\\1388660847.py:61: FutureWarning: The frame.append method is deprecated and will be removed from pandas in a future version. Use pandas.concat instead.\n",
      "  df = df.append({\"File_Name\": filename,\"Date\":  date, \"Sentiment\":total_sentiment, \"Publisher\":publisher, \"Mentioned_Names\":article_names, \"Text\":article}, ignore_index=True)\n"
     ]
    },
    {
     "name": "stdout",
     "output_type": "stream",
     "text": [
      "621.txt\n"
     ]
    },
    {
     "name": "stderr",
     "output_type": "stream",
     "text": [
      "C:\\Users\\ingeg\\AppData\\Local\\Temp\\ipykernel_1336\\1388660847.py:61: FutureWarning: The frame.append method is deprecated and will be removed from pandas in a future version. Use pandas.concat instead.\n",
      "  df = df.append({\"File_Name\": filename,\"Date\":  date, \"Sentiment\":total_sentiment, \"Publisher\":publisher, \"Mentioned_Names\":article_names, \"Text\":article}, ignore_index=True)\n"
     ]
    },
    {
     "name": "stdout",
     "output_type": "stream",
     "text": [
      "622.txt\n"
     ]
    },
    {
     "name": "stderr",
     "output_type": "stream",
     "text": [
      "C:\\Users\\ingeg\\AppData\\Local\\Temp\\ipykernel_1336\\1388660847.py:61: FutureWarning: The frame.append method is deprecated and will be removed from pandas in a future version. Use pandas.concat instead.\n",
      "  df = df.append({\"File_Name\": filename,\"Date\":  date, \"Sentiment\":total_sentiment, \"Publisher\":publisher, \"Mentioned_Names\":article_names, \"Text\":article}, ignore_index=True)\n"
     ]
    },
    {
     "name": "stdout",
     "output_type": "stream",
     "text": [
      "623.txt\n"
     ]
    },
    {
     "name": "stderr",
     "output_type": "stream",
     "text": [
      "C:\\Users\\ingeg\\AppData\\Local\\Temp\\ipykernel_1336\\1388660847.py:61: FutureWarning: The frame.append method is deprecated and will be removed from pandas in a future version. Use pandas.concat instead.\n",
      "  df = df.append({\"File_Name\": filename,\"Date\":  date, \"Sentiment\":total_sentiment, \"Publisher\":publisher, \"Mentioned_Names\":article_names, \"Text\":article}, ignore_index=True)\n",
      "C:\\Users\\ingeg\\AppData\\Local\\Temp\\ipykernel_1336\\1388660847.py:61: FutureWarning: The frame.append method is deprecated and will be removed from pandas in a future version. Use pandas.concat instead.\n",
      "  df = df.append({\"File_Name\": filename,\"Date\":  date, \"Sentiment\":total_sentiment, \"Publisher\":publisher, \"Mentioned_Names\":article_names, \"Text\":article}, ignore_index=True)\n",
      "C:\\Users\\ingeg\\AppData\\Local\\Temp\\ipykernel_1336\\1388660847.py:61: FutureWarning: The frame.append method is deprecated and will be removed from pandas in a future version. Use pandas.concat instead.\n",
      "  df = df.append({\"File_Name\": filename,\"Date\":  date, \"Sentiment\":total_sentiment, \"Publisher\":publisher, \"Mentioned_Names\":article_names, \"Text\":article}, ignore_index=True)\n"
     ]
    },
    {
     "name": "stdout",
     "output_type": "stream",
     "text": [
      "624.txt\n",
      "625.txt\n",
      "626.txt\n"
     ]
    },
    {
     "name": "stderr",
     "output_type": "stream",
     "text": [
      "C:\\Users\\ingeg\\AppData\\Local\\Temp\\ipykernel_1336\\1388660847.py:61: FutureWarning: The frame.append method is deprecated and will be removed from pandas in a future version. Use pandas.concat instead.\n",
      "  df = df.append({\"File_Name\": filename,\"Date\":  date, \"Sentiment\":total_sentiment, \"Publisher\":publisher, \"Mentioned_Names\":article_names, \"Text\":article}, ignore_index=True)\n",
      "C:\\Users\\ingeg\\AppData\\Local\\Temp\\ipykernel_1336\\1388660847.py:61: FutureWarning: The frame.append method is deprecated and will be removed from pandas in a future version. Use pandas.concat instead.\n",
      "  df = df.append({\"File_Name\": filename,\"Date\":  date, \"Sentiment\":total_sentiment, \"Publisher\":publisher, \"Mentioned_Names\":article_names, \"Text\":article}, ignore_index=True)\n"
     ]
    },
    {
     "name": "stdout",
     "output_type": "stream",
     "text": [
      "627.txt\n",
      "628.txt\n"
     ]
    },
    {
     "name": "stderr",
     "output_type": "stream",
     "text": [
      "C:\\Users\\ingeg\\AppData\\Local\\Temp\\ipykernel_1336\\1388660847.py:61: FutureWarning: The frame.append method is deprecated and will be removed from pandas in a future version. Use pandas.concat instead.\n",
      "  df = df.append({\"File_Name\": filename,\"Date\":  date, \"Sentiment\":total_sentiment, \"Publisher\":publisher, \"Mentioned_Names\":article_names, \"Text\":article}, ignore_index=True)\n",
      "C:\\Users\\ingeg\\AppData\\Local\\Temp\\ipykernel_1336\\1388660847.py:61: FutureWarning: The frame.append method is deprecated and will be removed from pandas in a future version. Use pandas.concat instead.\n",
      "  df = df.append({\"File_Name\": filename,\"Date\":  date, \"Sentiment\":total_sentiment, \"Publisher\":publisher, \"Mentioned_Names\":article_names, \"Text\":article}, ignore_index=True)\n"
     ]
    },
    {
     "name": "stdout",
     "output_type": "stream",
     "text": [
      "629.txt\n",
      "63.txt\n"
     ]
    },
    {
     "name": "stderr",
     "output_type": "stream",
     "text": [
      "C:\\Users\\ingeg\\AppData\\Local\\Temp\\ipykernel_1336\\1388660847.py:61: FutureWarning: The frame.append method is deprecated and will be removed from pandas in a future version. Use pandas.concat instead.\n",
      "  df = df.append({\"File_Name\": filename,\"Date\":  date, \"Sentiment\":total_sentiment, \"Publisher\":publisher, \"Mentioned_Names\":article_names, \"Text\":article}, ignore_index=True)\n",
      "C:\\Users\\ingeg\\AppData\\Local\\Temp\\ipykernel_1336\\1388660847.py:61: FutureWarning: The frame.append method is deprecated and will be removed from pandas in a future version. Use pandas.concat instead.\n",
      "  df = df.append({\"File_Name\": filename,\"Date\":  date, \"Sentiment\":total_sentiment, \"Publisher\":publisher, \"Mentioned_Names\":article_names, \"Text\":article}, ignore_index=True)\n"
     ]
    },
    {
     "name": "stdout",
     "output_type": "stream",
     "text": [
      "630.txt\n",
      "631.txt\n",
      "632.txt\n"
     ]
    },
    {
     "name": "stderr",
     "output_type": "stream",
     "text": [
      "C:\\Users\\ingeg\\AppData\\Local\\Temp\\ipykernel_1336\\1388660847.py:61: FutureWarning: The frame.append method is deprecated and will be removed from pandas in a future version. Use pandas.concat instead.\n",
      "  df = df.append({\"File_Name\": filename,\"Date\":  date, \"Sentiment\":total_sentiment, \"Publisher\":publisher, \"Mentioned_Names\":article_names, \"Text\":article}, ignore_index=True)\n",
      "C:\\Users\\ingeg\\AppData\\Local\\Temp\\ipykernel_1336\\1388660847.py:61: FutureWarning: The frame.append method is deprecated and will be removed from pandas in a future version. Use pandas.concat instead.\n",
      "  df = df.append({\"File_Name\": filename,\"Date\":  date, \"Sentiment\":total_sentiment, \"Publisher\":publisher, \"Mentioned_Names\":article_names, \"Text\":article}, ignore_index=True)\n"
     ]
    },
    {
     "name": "stdout",
     "output_type": "stream",
     "text": [
      "633.txt\n",
      "634.txt\n"
     ]
    },
    {
     "name": "stderr",
     "output_type": "stream",
     "text": [
      "C:\\Users\\ingeg\\AppData\\Local\\Temp\\ipykernel_1336\\1388660847.py:61: FutureWarning: The frame.append method is deprecated and will be removed from pandas in a future version. Use pandas.concat instead.\n",
      "  df = df.append({\"File_Name\": filename,\"Date\":  date, \"Sentiment\":total_sentiment, \"Publisher\":publisher, \"Mentioned_Names\":article_names, \"Text\":article}, ignore_index=True)\n",
      "C:\\Users\\ingeg\\AppData\\Local\\Temp\\ipykernel_1336\\1388660847.py:61: FutureWarning: The frame.append method is deprecated and will be removed from pandas in a future version. Use pandas.concat instead.\n",
      "  df = df.append({\"File_Name\": filename,\"Date\":  date, \"Sentiment\":total_sentiment, \"Publisher\":publisher, \"Mentioned_Names\":article_names, \"Text\":article}, ignore_index=True)\n",
      "C:\\Users\\ingeg\\AppData\\Local\\Temp\\ipykernel_1336\\1388660847.py:61: FutureWarning: The frame.append method is deprecated and will be removed from pandas in a future version. Use pandas.concat instead.\n",
      "  df = df.append({\"File_Name\": filename,\"Date\":  date, \"Sentiment\":total_sentiment, \"Publisher\":publisher, \"Mentioned_Names\":article_names, \"Text\":article}, ignore_index=True)\n"
     ]
    },
    {
     "name": "stdout",
     "output_type": "stream",
     "text": [
      "635.txt\n",
      "636.txt\n"
     ]
    },
    {
     "name": "stderr",
     "output_type": "stream",
     "text": [
      "C:\\Users\\ingeg\\AppData\\Local\\Temp\\ipykernel_1336\\1388660847.py:61: FutureWarning: The frame.append method is deprecated and will be removed from pandas in a future version. Use pandas.concat instead.\n",
      "  df = df.append({\"File_Name\": filename,\"Date\":  date, \"Sentiment\":total_sentiment, \"Publisher\":publisher, \"Mentioned_Names\":article_names, \"Text\":article}, ignore_index=True)\n",
      "C:\\Users\\ingeg\\AppData\\Local\\Temp\\ipykernel_1336\\1388660847.py:61: FutureWarning: The frame.append method is deprecated and will be removed from pandas in a future version. Use pandas.concat instead.\n",
      "  df = df.append({\"File_Name\": filename,\"Date\":  date, \"Sentiment\":total_sentiment, \"Publisher\":publisher, \"Mentioned_Names\":article_names, \"Text\":article}, ignore_index=True)\n"
     ]
    },
    {
     "name": "stdout",
     "output_type": "stream",
     "text": [
      "637.txt\n",
      "638.txt\n"
     ]
    },
    {
     "name": "stderr",
     "output_type": "stream",
     "text": [
      "C:\\Users\\ingeg\\AppData\\Local\\Temp\\ipykernel_1336\\1388660847.py:61: FutureWarning: The frame.append method is deprecated and will be removed from pandas in a future version. Use pandas.concat instead.\n",
      "  df = df.append({\"File_Name\": filename,\"Date\":  date, \"Sentiment\":total_sentiment, \"Publisher\":publisher, \"Mentioned_Names\":article_names, \"Text\":article}, ignore_index=True)\n",
      "C:\\Users\\ingeg\\AppData\\Local\\Temp\\ipykernel_1336\\1388660847.py:61: FutureWarning: The frame.append method is deprecated and will be removed from pandas in a future version. Use pandas.concat instead.\n",
      "  df = df.append({\"File_Name\": filename,\"Date\":  date, \"Sentiment\":total_sentiment, \"Publisher\":publisher, \"Mentioned_Names\":article_names, \"Text\":article}, ignore_index=True)\n"
     ]
    },
    {
     "name": "stdout",
     "output_type": "stream",
     "text": [
      "639.txt\n",
      "64.txt\n"
     ]
    },
    {
     "name": "stderr",
     "output_type": "stream",
     "text": [
      "C:\\Users\\ingeg\\AppData\\Local\\Temp\\ipykernel_1336\\1388660847.py:61: FutureWarning: The frame.append method is deprecated and will be removed from pandas in a future version. Use pandas.concat instead.\n",
      "  df = df.append({\"File_Name\": filename,\"Date\":  date, \"Sentiment\":total_sentiment, \"Publisher\":publisher, \"Mentioned_Names\":article_names, \"Text\":article}, ignore_index=True)\n",
      "C:\\Users\\ingeg\\AppData\\Local\\Temp\\ipykernel_1336\\1388660847.py:61: FutureWarning: The frame.append method is deprecated and will be removed from pandas in a future version. Use pandas.concat instead.\n",
      "  df = df.append({\"File_Name\": filename,\"Date\":  date, \"Sentiment\":total_sentiment, \"Publisher\":publisher, \"Mentioned_Names\":article_names, \"Text\":article}, ignore_index=True)\n"
     ]
    },
    {
     "name": "stdout",
     "output_type": "stream",
     "text": [
      "640.txt\n",
      "641.txt\n"
     ]
    },
    {
     "name": "stderr",
     "output_type": "stream",
     "text": [
      "C:\\Users\\ingeg\\AppData\\Local\\Temp\\ipykernel_1336\\1388660847.py:61: FutureWarning: The frame.append method is deprecated and will be removed from pandas in a future version. Use pandas.concat instead.\n",
      "  df = df.append({\"File_Name\": filename,\"Date\":  date, \"Sentiment\":total_sentiment, \"Publisher\":publisher, \"Mentioned_Names\":article_names, \"Text\":article}, ignore_index=True)\n",
      "C:\\Users\\ingeg\\AppData\\Local\\Temp\\ipykernel_1336\\1388660847.py:61: FutureWarning: The frame.append method is deprecated and will be removed from pandas in a future version. Use pandas.concat instead.\n",
      "  df = df.append({\"File_Name\": filename,\"Date\":  date, \"Sentiment\":total_sentiment, \"Publisher\":publisher, \"Mentioned_Names\":article_names, \"Text\":article}, ignore_index=True)\n"
     ]
    },
    {
     "name": "stdout",
     "output_type": "stream",
     "text": [
      "642.txt\n",
      "643.txt\n"
     ]
    },
    {
     "name": "stderr",
     "output_type": "stream",
     "text": [
      "C:\\Users\\ingeg\\AppData\\Local\\Temp\\ipykernel_1336\\1388660847.py:61: FutureWarning: The frame.append method is deprecated and will be removed from pandas in a future version. Use pandas.concat instead.\n",
      "  df = df.append({\"File_Name\": filename,\"Date\":  date, \"Sentiment\":total_sentiment, \"Publisher\":publisher, \"Mentioned_Names\":article_names, \"Text\":article}, ignore_index=True)\n"
     ]
    },
    {
     "name": "stdout",
     "output_type": "stream",
     "text": [
      "644.txt\n"
     ]
    },
    {
     "name": "stderr",
     "output_type": "stream",
     "text": [
      "C:\\Users\\ingeg\\AppData\\Local\\Temp\\ipykernel_1336\\1388660847.py:61: FutureWarning: The frame.append method is deprecated and will be removed from pandas in a future version. Use pandas.concat instead.\n",
      "  df = df.append({\"File_Name\": filename,\"Date\":  date, \"Sentiment\":total_sentiment, \"Publisher\":publisher, \"Mentioned_Names\":article_names, \"Text\":article}, ignore_index=True)\n"
     ]
    },
    {
     "name": "stdout",
     "output_type": "stream",
     "text": [
      "645.txt\n"
     ]
    },
    {
     "name": "stderr",
     "output_type": "stream",
     "text": [
      "C:\\Users\\ingeg\\AppData\\Local\\Temp\\ipykernel_1336\\1388660847.py:61: FutureWarning: The frame.append method is deprecated and will be removed from pandas in a future version. Use pandas.concat instead.\n",
      "  df = df.append({\"File_Name\": filename,\"Date\":  date, \"Sentiment\":total_sentiment, \"Publisher\":publisher, \"Mentioned_Names\":article_names, \"Text\":article}, ignore_index=True)\n"
     ]
    },
    {
     "name": "stdout",
     "output_type": "stream",
     "text": [
      "646.txt\n"
     ]
    },
    {
     "name": "stderr",
     "output_type": "stream",
     "text": [
      "C:\\Users\\ingeg\\AppData\\Local\\Temp\\ipykernel_1336\\1388660847.py:61: FutureWarning: The frame.append method is deprecated and will be removed from pandas in a future version. Use pandas.concat instead.\n",
      "  df = df.append({\"File_Name\": filename,\"Date\":  date, \"Sentiment\":total_sentiment, \"Publisher\":publisher, \"Mentioned_Names\":article_names, \"Text\":article}, ignore_index=True)\n"
     ]
    },
    {
     "name": "stdout",
     "output_type": "stream",
     "text": [
      "647.txt\n"
     ]
    },
    {
     "name": "stderr",
     "output_type": "stream",
     "text": [
      "C:\\Users\\ingeg\\AppData\\Local\\Temp\\ipykernel_1336\\1388660847.py:61: FutureWarning: The frame.append method is deprecated and will be removed from pandas in a future version. Use pandas.concat instead.\n",
      "  df = df.append({\"File_Name\": filename,\"Date\":  date, \"Sentiment\":total_sentiment, \"Publisher\":publisher, \"Mentioned_Names\":article_names, \"Text\":article}, ignore_index=True)\n"
     ]
    },
    {
     "name": "stdout",
     "output_type": "stream",
     "text": [
      "648.txt\n"
     ]
    },
    {
     "name": "stderr",
     "output_type": "stream",
     "text": [
      "C:\\Users\\ingeg\\AppData\\Local\\Temp\\ipykernel_1336\\1388660847.py:61: FutureWarning: The frame.append method is deprecated and will be removed from pandas in a future version. Use pandas.concat instead.\n",
      "  df = df.append({\"File_Name\": filename,\"Date\":  date, \"Sentiment\":total_sentiment, \"Publisher\":publisher, \"Mentioned_Names\":article_names, \"Text\":article}, ignore_index=True)\n",
      "C:\\Users\\ingeg\\AppData\\Local\\Temp\\ipykernel_1336\\1388660847.py:61: FutureWarning: The frame.append method is deprecated and will be removed from pandas in a future version. Use pandas.concat instead.\n",
      "  df = df.append({\"File_Name\": filename,\"Date\":  date, \"Sentiment\":total_sentiment, \"Publisher\":publisher, \"Mentioned_Names\":article_names, \"Text\":article}, ignore_index=True)\n"
     ]
    },
    {
     "name": "stdout",
     "output_type": "stream",
     "text": [
      "649.txt\n",
      "65.txt\n"
     ]
    },
    {
     "name": "stderr",
     "output_type": "stream",
     "text": [
      "C:\\Users\\ingeg\\AppData\\Local\\Temp\\ipykernel_1336\\1388660847.py:61: FutureWarning: The frame.append method is deprecated and will be removed from pandas in a future version. Use pandas.concat instead.\n",
      "  df = df.append({\"File_Name\": filename,\"Date\":  date, \"Sentiment\":total_sentiment, \"Publisher\":publisher, \"Mentioned_Names\":article_names, \"Text\":article}, ignore_index=True)\n",
      "C:\\Users\\ingeg\\AppData\\Local\\Temp\\ipykernel_1336\\1388660847.py:61: FutureWarning: The frame.append method is deprecated and will be removed from pandas in a future version. Use pandas.concat instead.\n",
      "  df = df.append({\"File_Name\": filename,\"Date\":  date, \"Sentiment\":total_sentiment, \"Publisher\":publisher, \"Mentioned_Names\":article_names, \"Text\":article}, ignore_index=True)\n"
     ]
    },
    {
     "name": "stdout",
     "output_type": "stream",
     "text": [
      "650.txt\n",
      "651.txt\n"
     ]
    },
    {
     "name": "stderr",
     "output_type": "stream",
     "text": [
      "C:\\Users\\ingeg\\AppData\\Local\\Temp\\ipykernel_1336\\1388660847.py:61: FutureWarning: The frame.append method is deprecated and will be removed from pandas in a future version. Use pandas.concat instead.\n",
      "  df = df.append({\"File_Name\": filename,\"Date\":  date, \"Sentiment\":total_sentiment, \"Publisher\":publisher, \"Mentioned_Names\":article_names, \"Text\":article}, ignore_index=True)\n"
     ]
    },
    {
     "name": "stdout",
     "output_type": "stream",
     "text": [
      "652.txt\n"
     ]
    },
    {
     "name": "stderr",
     "output_type": "stream",
     "text": [
      "C:\\Users\\ingeg\\AppData\\Local\\Temp\\ipykernel_1336\\1388660847.py:61: FutureWarning: The frame.append method is deprecated and will be removed from pandas in a future version. Use pandas.concat instead.\n",
      "  df = df.append({\"File_Name\": filename,\"Date\":  date, \"Sentiment\":total_sentiment, \"Publisher\":publisher, \"Mentioned_Names\":article_names, \"Text\":article}, ignore_index=True)\n",
      "C:\\Users\\ingeg\\AppData\\Local\\Temp\\ipykernel_1336\\1388660847.py:61: FutureWarning: The frame.append method is deprecated and will be removed from pandas in a future version. Use pandas.concat instead.\n",
      "  df = df.append({\"File_Name\": filename,\"Date\":  date, \"Sentiment\":total_sentiment, \"Publisher\":publisher, \"Mentioned_Names\":article_names, \"Text\":article}, ignore_index=True)\n",
      "C:\\Users\\ingeg\\AppData\\Local\\Temp\\ipykernel_1336\\1388660847.py:61: FutureWarning: The frame.append method is deprecated and will be removed from pandas in a future version. Use pandas.concat instead.\n",
      "  df = df.append({\"File_Name\": filename,\"Date\":  date, \"Sentiment\":total_sentiment, \"Publisher\":publisher, \"Mentioned_Names\":article_names, \"Text\":article}, ignore_index=True)\n"
     ]
    },
    {
     "name": "stdout",
     "output_type": "stream",
     "text": [
      "653.txt\n",
      "654.txt\n",
      "655.txt\n"
     ]
    },
    {
     "name": "stderr",
     "output_type": "stream",
     "text": [
      "C:\\Users\\ingeg\\AppData\\Local\\Temp\\ipykernel_1336\\1388660847.py:61: FutureWarning: The frame.append method is deprecated and will be removed from pandas in a future version. Use pandas.concat instead.\n",
      "  df = df.append({\"File_Name\": filename,\"Date\":  date, \"Sentiment\":total_sentiment, \"Publisher\":publisher, \"Mentioned_Names\":article_names, \"Text\":article}, ignore_index=True)\n"
     ]
    },
    {
     "name": "stdout",
     "output_type": "stream",
     "text": [
      "656.txt\n"
     ]
    },
    {
     "name": "stderr",
     "output_type": "stream",
     "text": [
      "C:\\Users\\ingeg\\AppData\\Local\\Temp\\ipykernel_1336\\1388660847.py:61: FutureWarning: The frame.append method is deprecated and will be removed from pandas in a future version. Use pandas.concat instead.\n",
      "  df = df.append({\"File_Name\": filename,\"Date\":  date, \"Sentiment\":total_sentiment, \"Publisher\":publisher, \"Mentioned_Names\":article_names, \"Text\":article}, ignore_index=True)\n",
      "C:\\Users\\ingeg\\AppData\\Local\\Temp\\ipykernel_1336\\1388660847.py:61: FutureWarning: The frame.append method is deprecated and will be removed from pandas in a future version. Use pandas.concat instead.\n",
      "  df = df.append({\"File_Name\": filename,\"Date\":  date, \"Sentiment\":total_sentiment, \"Publisher\":publisher, \"Mentioned_Names\":article_names, \"Text\":article}, ignore_index=True)\n"
     ]
    },
    {
     "name": "stdout",
     "output_type": "stream",
     "text": [
      "657.txt\n",
      "658.txt\n"
     ]
    },
    {
     "name": "stderr",
     "output_type": "stream",
     "text": [
      "C:\\Users\\ingeg\\AppData\\Local\\Temp\\ipykernel_1336\\1388660847.py:61: FutureWarning: The frame.append method is deprecated and will be removed from pandas in a future version. Use pandas.concat instead.\n",
      "  df = df.append({\"File_Name\": filename,\"Date\":  date, \"Sentiment\":total_sentiment, \"Publisher\":publisher, \"Mentioned_Names\":article_names, \"Text\":article}, ignore_index=True)\n",
      "C:\\Users\\ingeg\\AppData\\Local\\Temp\\ipykernel_1336\\1388660847.py:61: FutureWarning: The frame.append method is deprecated and will be removed from pandas in a future version. Use pandas.concat instead.\n",
      "  df = df.append({\"File_Name\": filename,\"Date\":  date, \"Sentiment\":total_sentiment, \"Publisher\":publisher, \"Mentioned_Names\":article_names, \"Text\":article}, ignore_index=True)\n"
     ]
    },
    {
     "name": "stdout",
     "output_type": "stream",
     "text": [
      "659.txt\n",
      "66.txt\n",
      "660.txt\n"
     ]
    },
    {
     "name": "stderr",
     "output_type": "stream",
     "text": [
      "C:\\Users\\ingeg\\AppData\\Local\\Temp\\ipykernel_1336\\1388660847.py:61: FutureWarning: The frame.append method is deprecated and will be removed from pandas in a future version. Use pandas.concat instead.\n",
      "  df = df.append({\"File_Name\": filename,\"Date\":  date, \"Sentiment\":total_sentiment, \"Publisher\":publisher, \"Mentioned_Names\":article_names, \"Text\":article}, ignore_index=True)\n",
      "C:\\Users\\ingeg\\AppData\\Local\\Temp\\ipykernel_1336\\1388660847.py:61: FutureWarning: The frame.append method is deprecated and will be removed from pandas in a future version. Use pandas.concat instead.\n",
      "  df = df.append({\"File_Name\": filename,\"Date\":  date, \"Sentiment\":total_sentiment, \"Publisher\":publisher, \"Mentioned_Names\":article_names, \"Text\":article}, ignore_index=True)\n"
     ]
    },
    {
     "name": "stdout",
     "output_type": "stream",
     "text": [
      "661.txt\n"
     ]
    },
    {
     "name": "stderr",
     "output_type": "stream",
     "text": [
      "C:\\Users\\ingeg\\AppData\\Local\\Temp\\ipykernel_1336\\1388660847.py:61: FutureWarning: The frame.append method is deprecated and will be removed from pandas in a future version. Use pandas.concat instead.\n",
      "  df = df.append({\"File_Name\": filename,\"Date\":  date, \"Sentiment\":total_sentiment, \"Publisher\":publisher, \"Mentioned_Names\":article_names, \"Text\":article}, ignore_index=True)\n"
     ]
    },
    {
     "name": "stdout",
     "output_type": "stream",
     "text": [
      "662.txt\n"
     ]
    },
    {
     "name": "stderr",
     "output_type": "stream",
     "text": [
      "C:\\Users\\ingeg\\AppData\\Local\\Temp\\ipykernel_1336\\1388660847.py:61: FutureWarning: The frame.append method is deprecated and will be removed from pandas in a future version. Use pandas.concat instead.\n",
      "  df = df.append({\"File_Name\": filename,\"Date\":  date, \"Sentiment\":total_sentiment, \"Publisher\":publisher, \"Mentioned_Names\":article_names, \"Text\":article}, ignore_index=True)\n",
      "C:\\Users\\ingeg\\AppData\\Local\\Temp\\ipykernel_1336\\1388660847.py:61: FutureWarning: The frame.append method is deprecated and will be removed from pandas in a future version. Use pandas.concat instead.\n",
      "  df = df.append({\"File_Name\": filename,\"Date\":  date, \"Sentiment\":total_sentiment, \"Publisher\":publisher, \"Mentioned_Names\":article_names, \"Text\":article}, ignore_index=True)\n"
     ]
    },
    {
     "name": "stdout",
     "output_type": "stream",
     "text": [
      "663.txt\n",
      "664.txt\n"
     ]
    },
    {
     "name": "stderr",
     "output_type": "stream",
     "text": [
      "C:\\Users\\ingeg\\AppData\\Local\\Temp\\ipykernel_1336\\1388660847.py:61: FutureWarning: The frame.append method is deprecated and will be removed from pandas in a future version. Use pandas.concat instead.\n",
      "  df = df.append({\"File_Name\": filename,\"Date\":  date, \"Sentiment\":total_sentiment, \"Publisher\":publisher, \"Mentioned_Names\":article_names, \"Text\":article}, ignore_index=True)\n",
      "C:\\Users\\ingeg\\AppData\\Local\\Temp\\ipykernel_1336\\1388660847.py:61: FutureWarning: The frame.append method is deprecated and will be removed from pandas in a future version. Use pandas.concat instead.\n",
      "  df = df.append({\"File_Name\": filename,\"Date\":  date, \"Sentiment\":total_sentiment, \"Publisher\":publisher, \"Mentioned_Names\":article_names, \"Text\":article}, ignore_index=True)\n"
     ]
    },
    {
     "name": "stdout",
     "output_type": "stream",
     "text": [
      "665.txt\n",
      "666.txt\n"
     ]
    },
    {
     "name": "stderr",
     "output_type": "stream",
     "text": [
      "C:\\Users\\ingeg\\AppData\\Local\\Temp\\ipykernel_1336\\1388660847.py:61: FutureWarning: The frame.append method is deprecated and will be removed from pandas in a future version. Use pandas.concat instead.\n",
      "  df = df.append({\"File_Name\": filename,\"Date\":  date, \"Sentiment\":total_sentiment, \"Publisher\":publisher, \"Mentioned_Names\":article_names, \"Text\":article}, ignore_index=True)\n"
     ]
    },
    {
     "name": "stdout",
     "output_type": "stream",
     "text": [
      "667.txt\n"
     ]
    },
    {
     "name": "stderr",
     "output_type": "stream",
     "text": [
      "C:\\Users\\ingeg\\AppData\\Local\\Temp\\ipykernel_1336\\1388660847.py:61: FutureWarning: The frame.append method is deprecated and will be removed from pandas in a future version. Use pandas.concat instead.\n",
      "  df = df.append({\"File_Name\": filename,\"Date\":  date, \"Sentiment\":total_sentiment, \"Publisher\":publisher, \"Mentioned_Names\":article_names, \"Text\":article}, ignore_index=True)\n"
     ]
    },
    {
     "name": "stdout",
     "output_type": "stream",
     "text": [
      "668.txt\n"
     ]
    },
    {
     "name": "stderr",
     "output_type": "stream",
     "text": [
      "C:\\Users\\ingeg\\AppData\\Local\\Temp\\ipykernel_1336\\1388660847.py:61: FutureWarning: The frame.append method is deprecated and will be removed from pandas in a future version. Use pandas.concat instead.\n",
      "  df = df.append({\"File_Name\": filename,\"Date\":  date, \"Sentiment\":total_sentiment, \"Publisher\":publisher, \"Mentioned_Names\":article_names, \"Text\":article}, ignore_index=True)\n",
      "C:\\Users\\ingeg\\AppData\\Local\\Temp\\ipykernel_1336\\1388660847.py:61: FutureWarning: The frame.append method is deprecated and will be removed from pandas in a future version. Use pandas.concat instead.\n",
      "  df = df.append({\"File_Name\": filename,\"Date\":  date, \"Sentiment\":total_sentiment, \"Publisher\":publisher, \"Mentioned_Names\":article_names, \"Text\":article}, ignore_index=True)\n",
      "C:\\Users\\ingeg\\AppData\\Local\\Temp\\ipykernel_1336\\1388660847.py:61: FutureWarning: The frame.append method is deprecated and will be removed from pandas in a future version. Use pandas.concat instead.\n",
      "  df = df.append({\"File_Name\": filename,\"Date\":  date, \"Sentiment\":total_sentiment, \"Publisher\":publisher, \"Mentioned_Names\":article_names, \"Text\":article}, ignore_index=True)\n"
     ]
    },
    {
     "name": "stdout",
     "output_type": "stream",
     "text": [
      "669.txt\n",
      "67.txt\n",
      "670.txt\n"
     ]
    },
    {
     "name": "stderr",
     "output_type": "stream",
     "text": [
      "C:\\Users\\ingeg\\AppData\\Local\\Temp\\ipykernel_1336\\1388660847.py:61: FutureWarning: The frame.append method is deprecated and will be removed from pandas in a future version. Use pandas.concat instead.\n",
      "  df = df.append({\"File_Name\": filename,\"Date\":  date, \"Sentiment\":total_sentiment, \"Publisher\":publisher, \"Mentioned_Names\":article_names, \"Text\":article}, ignore_index=True)\n",
      "C:\\Users\\ingeg\\AppData\\Local\\Temp\\ipykernel_1336\\1388660847.py:61: FutureWarning: The frame.append method is deprecated and will be removed from pandas in a future version. Use pandas.concat instead.\n",
      "  df = df.append({\"File_Name\": filename,\"Date\":  date, \"Sentiment\":total_sentiment, \"Publisher\":publisher, \"Mentioned_Names\":article_names, \"Text\":article}, ignore_index=True)\n"
     ]
    },
    {
     "name": "stdout",
     "output_type": "stream",
     "text": [
      "671.txt\n",
      "672.txt\n"
     ]
    },
    {
     "name": "stderr",
     "output_type": "stream",
     "text": [
      "C:\\Users\\ingeg\\AppData\\Local\\Temp\\ipykernel_1336\\1388660847.py:61: FutureWarning: The frame.append method is deprecated and will be removed from pandas in a future version. Use pandas.concat instead.\n",
      "  df = df.append({\"File_Name\": filename,\"Date\":  date, \"Sentiment\":total_sentiment, \"Publisher\":publisher, \"Mentioned_Names\":article_names, \"Text\":article}, ignore_index=True)\n"
     ]
    },
    {
     "name": "stdout",
     "output_type": "stream",
     "text": [
      "673.txt\n"
     ]
    },
    {
     "name": "stderr",
     "output_type": "stream",
     "text": [
      "C:\\Users\\ingeg\\AppData\\Local\\Temp\\ipykernel_1336\\1388660847.py:61: FutureWarning: The frame.append method is deprecated and will be removed from pandas in a future version. Use pandas.concat instead.\n",
      "  df = df.append({\"File_Name\": filename,\"Date\":  date, \"Sentiment\":total_sentiment, \"Publisher\":publisher, \"Mentioned_Names\":article_names, \"Text\":article}, ignore_index=True)\n",
      "C:\\Users\\ingeg\\AppData\\Local\\Temp\\ipykernel_1336\\1388660847.py:61: FutureWarning: The frame.append method is deprecated and will be removed from pandas in a future version. Use pandas.concat instead.\n",
      "  df = df.append({\"File_Name\": filename,\"Date\":  date, \"Sentiment\":total_sentiment, \"Publisher\":publisher, \"Mentioned_Names\":article_names, \"Text\":article}, ignore_index=True)\n"
     ]
    },
    {
     "name": "stdout",
     "output_type": "stream",
     "text": [
      "674.txt\n",
      "675.txt\n"
     ]
    },
    {
     "name": "stderr",
     "output_type": "stream",
     "text": [
      "C:\\Users\\ingeg\\AppData\\Local\\Temp\\ipykernel_1336\\1388660847.py:61: FutureWarning: The frame.append method is deprecated and will be removed from pandas in a future version. Use pandas.concat instead.\n",
      "  df = df.append({\"File_Name\": filename,\"Date\":  date, \"Sentiment\":total_sentiment, \"Publisher\":publisher, \"Mentioned_Names\":article_names, \"Text\":article}, ignore_index=True)\n",
      "C:\\Users\\ingeg\\AppData\\Local\\Temp\\ipykernel_1336\\1388660847.py:61: FutureWarning: The frame.append method is deprecated and will be removed from pandas in a future version. Use pandas.concat instead.\n",
      "  df = df.append({\"File_Name\": filename,\"Date\":  date, \"Sentiment\":total_sentiment, \"Publisher\":publisher, \"Mentioned_Names\":article_names, \"Text\":article}, ignore_index=True)\n",
      "C:\\Users\\ingeg\\AppData\\Local\\Temp\\ipykernel_1336\\1388660847.py:61: FutureWarning: The frame.append method is deprecated and will be removed from pandas in a future version. Use pandas.concat instead.\n",
      "  df = df.append({\"File_Name\": filename,\"Date\":  date, \"Sentiment\":total_sentiment, \"Publisher\":publisher, \"Mentioned_Names\":article_names, \"Text\":article}, ignore_index=True)\n"
     ]
    },
    {
     "name": "stdout",
     "output_type": "stream",
     "text": [
      "676.txt\n",
      "677.txt\n",
      "678.txt\n"
     ]
    },
    {
     "name": "stderr",
     "output_type": "stream",
     "text": [
      "C:\\Users\\ingeg\\AppData\\Local\\Temp\\ipykernel_1336\\1388660847.py:61: FutureWarning: The frame.append method is deprecated and will be removed from pandas in a future version. Use pandas.concat instead.\n",
      "  df = df.append({\"File_Name\": filename,\"Date\":  date, \"Sentiment\":total_sentiment, \"Publisher\":publisher, \"Mentioned_Names\":article_names, \"Text\":article}, ignore_index=True)\n"
     ]
    },
    {
     "name": "stdout",
     "output_type": "stream",
     "text": [
      "679.txt\n"
     ]
    },
    {
     "name": "stderr",
     "output_type": "stream",
     "text": [
      "C:\\Users\\ingeg\\AppData\\Local\\Temp\\ipykernel_1336\\1388660847.py:61: FutureWarning: The frame.append method is deprecated and will be removed from pandas in a future version. Use pandas.concat instead.\n",
      "  df = df.append({\"File_Name\": filename,\"Date\":  date, \"Sentiment\":total_sentiment, \"Publisher\":publisher, \"Mentioned_Names\":article_names, \"Text\":article}, ignore_index=True)\n",
      "C:\\Users\\ingeg\\AppData\\Local\\Temp\\ipykernel_1336\\1388660847.py:61: FutureWarning: The frame.append method is deprecated and will be removed from pandas in a future version. Use pandas.concat instead.\n",
      "  df = df.append({\"File_Name\": filename,\"Date\":  date, \"Sentiment\":total_sentiment, \"Publisher\":publisher, \"Mentioned_Names\":article_names, \"Text\":article}, ignore_index=True)\n"
     ]
    },
    {
     "name": "stdout",
     "output_type": "stream",
     "text": [
      "68.txt\n",
      "680.txt\n"
     ]
    },
    {
     "name": "stderr",
     "output_type": "stream",
     "text": [
      "C:\\Users\\ingeg\\AppData\\Local\\Temp\\ipykernel_1336\\1388660847.py:61: FutureWarning: The frame.append method is deprecated and will be removed from pandas in a future version. Use pandas.concat instead.\n",
      "  df = df.append({\"File_Name\": filename,\"Date\":  date, \"Sentiment\":total_sentiment, \"Publisher\":publisher, \"Mentioned_Names\":article_names, \"Text\":article}, ignore_index=True)\n"
     ]
    },
    {
     "name": "stdout",
     "output_type": "stream",
     "text": [
      "681.txt\n"
     ]
    },
    {
     "name": "stderr",
     "output_type": "stream",
     "text": [
      "C:\\Users\\ingeg\\AppData\\Local\\Temp\\ipykernel_1336\\1388660847.py:61: FutureWarning: The frame.append method is deprecated and will be removed from pandas in a future version. Use pandas.concat instead.\n",
      "  df = df.append({\"File_Name\": filename,\"Date\":  date, \"Sentiment\":total_sentiment, \"Publisher\":publisher, \"Mentioned_Names\":article_names, \"Text\":article}, ignore_index=True)\n",
      "C:\\Users\\ingeg\\AppData\\Local\\Temp\\ipykernel_1336\\1388660847.py:61: FutureWarning: The frame.append method is deprecated and will be removed from pandas in a future version. Use pandas.concat instead.\n",
      "  df = df.append({\"File_Name\": filename,\"Date\":  date, \"Sentiment\":total_sentiment, \"Publisher\":publisher, \"Mentioned_Names\":article_names, \"Text\":article}, ignore_index=True)\n"
     ]
    },
    {
     "name": "stdout",
     "output_type": "stream",
     "text": [
      "682.txt\n",
      "683.txt\n"
     ]
    },
    {
     "name": "stderr",
     "output_type": "stream",
     "text": [
      "C:\\Users\\ingeg\\AppData\\Local\\Temp\\ipykernel_1336\\1388660847.py:61: FutureWarning: The frame.append method is deprecated and will be removed from pandas in a future version. Use pandas.concat instead.\n",
      "  df = df.append({\"File_Name\": filename,\"Date\":  date, \"Sentiment\":total_sentiment, \"Publisher\":publisher, \"Mentioned_Names\":article_names, \"Text\":article}, ignore_index=True)\n"
     ]
    },
    {
     "name": "stdout",
     "output_type": "stream",
     "text": [
      "684.txt\n"
     ]
    },
    {
     "name": "stderr",
     "output_type": "stream",
     "text": [
      "C:\\Users\\ingeg\\AppData\\Local\\Temp\\ipykernel_1336\\1388660847.py:61: FutureWarning: The frame.append method is deprecated and will be removed from pandas in a future version. Use pandas.concat instead.\n",
      "  df = df.append({\"File_Name\": filename,\"Date\":  date, \"Sentiment\":total_sentiment, \"Publisher\":publisher, \"Mentioned_Names\":article_names, \"Text\":article}, ignore_index=True)\n",
      "C:\\Users\\ingeg\\AppData\\Local\\Temp\\ipykernel_1336\\1388660847.py:61: FutureWarning: The frame.append method is deprecated and will be removed from pandas in a future version. Use pandas.concat instead.\n",
      "  df = df.append({\"File_Name\": filename,\"Date\":  date, \"Sentiment\":total_sentiment, \"Publisher\":publisher, \"Mentioned_Names\":article_names, \"Text\":article}, ignore_index=True)\n"
     ]
    },
    {
     "name": "stdout",
     "output_type": "stream",
     "text": [
      "685.txt\n",
      "686.txt\n"
     ]
    },
    {
     "name": "stderr",
     "output_type": "stream",
     "text": [
      "C:\\Users\\ingeg\\AppData\\Local\\Temp\\ipykernel_1336\\1388660847.py:61: FutureWarning: The frame.append method is deprecated and will be removed from pandas in a future version. Use pandas.concat instead.\n",
      "  df = df.append({\"File_Name\": filename,\"Date\":  date, \"Sentiment\":total_sentiment, \"Publisher\":publisher, \"Mentioned_Names\":article_names, \"Text\":article}, ignore_index=True)\n"
     ]
    },
    {
     "name": "stdout",
     "output_type": "stream",
     "text": [
      "687.txt\n"
     ]
    },
    {
     "name": "stderr",
     "output_type": "stream",
     "text": [
      "C:\\Users\\ingeg\\AppData\\Local\\Temp\\ipykernel_1336\\1388660847.py:61: FutureWarning: The frame.append method is deprecated and will be removed from pandas in a future version. Use pandas.concat instead.\n",
      "  df = df.append({\"File_Name\": filename,\"Date\":  date, \"Sentiment\":total_sentiment, \"Publisher\":publisher, \"Mentioned_Names\":article_names, \"Text\":article}, ignore_index=True)\n",
      "C:\\Users\\ingeg\\AppData\\Local\\Temp\\ipykernel_1336\\1388660847.py:61: FutureWarning: The frame.append method is deprecated and will be removed from pandas in a future version. Use pandas.concat instead.\n",
      "  df = df.append({\"File_Name\": filename,\"Date\":  date, \"Sentiment\":total_sentiment, \"Publisher\":publisher, \"Mentioned_Names\":article_names, \"Text\":article}, ignore_index=True)\n"
     ]
    },
    {
     "name": "stdout",
     "output_type": "stream",
     "text": [
      "688.txt\n",
      "689.txt\n"
     ]
    },
    {
     "name": "stderr",
     "output_type": "stream",
     "text": [
      "C:\\Users\\ingeg\\AppData\\Local\\Temp\\ipykernel_1336\\1388660847.py:61: FutureWarning: The frame.append method is deprecated and will be removed from pandas in a future version. Use pandas.concat instead.\n",
      "  df = df.append({\"File_Name\": filename,\"Date\":  date, \"Sentiment\":total_sentiment, \"Publisher\":publisher, \"Mentioned_Names\":article_names, \"Text\":article}, ignore_index=True)\n"
     ]
    },
    {
     "name": "stdout",
     "output_type": "stream",
     "text": [
      "69.txt\n"
     ]
    },
    {
     "name": "stderr",
     "output_type": "stream",
     "text": [
      "C:\\Users\\ingeg\\AppData\\Local\\Temp\\ipykernel_1336\\1388660847.py:61: FutureWarning: The frame.append method is deprecated and will be removed from pandas in a future version. Use pandas.concat instead.\n",
      "  df = df.append({\"File_Name\": filename,\"Date\":  date, \"Sentiment\":total_sentiment, \"Publisher\":publisher, \"Mentioned_Names\":article_names, \"Text\":article}, ignore_index=True)\n",
      "C:\\Users\\ingeg\\AppData\\Local\\Temp\\ipykernel_1336\\1388660847.py:61: FutureWarning: The frame.append method is deprecated and will be removed from pandas in a future version. Use pandas.concat instead.\n",
      "  df = df.append({\"File_Name\": filename,\"Date\":  date, \"Sentiment\":total_sentiment, \"Publisher\":publisher, \"Mentioned_Names\":article_names, \"Text\":article}, ignore_index=True)\n"
     ]
    },
    {
     "name": "stdout",
     "output_type": "stream",
     "text": [
      "690.txt\n",
      "691.txt\n"
     ]
    },
    {
     "name": "stderr",
     "output_type": "stream",
     "text": [
      "C:\\Users\\ingeg\\AppData\\Local\\Temp\\ipykernel_1336\\1388660847.py:61: FutureWarning: The frame.append method is deprecated and will be removed from pandas in a future version. Use pandas.concat instead.\n",
      "  df = df.append({\"File_Name\": filename,\"Date\":  date, \"Sentiment\":total_sentiment, \"Publisher\":publisher, \"Mentioned_Names\":article_names, \"Text\":article}, ignore_index=True)\n",
      "C:\\Users\\ingeg\\AppData\\Local\\Temp\\ipykernel_1336\\1388660847.py:61: FutureWarning: The frame.append method is deprecated and will be removed from pandas in a future version. Use pandas.concat instead.\n",
      "  df = df.append({\"File_Name\": filename,\"Date\":  date, \"Sentiment\":total_sentiment, \"Publisher\":publisher, \"Mentioned_Names\":article_names, \"Text\":article}, ignore_index=True)\n"
     ]
    },
    {
     "name": "stdout",
     "output_type": "stream",
     "text": [
      "692.txt\n",
      "693.txt\n"
     ]
    },
    {
     "name": "stderr",
     "output_type": "stream",
     "text": [
      "C:\\Users\\ingeg\\AppData\\Local\\Temp\\ipykernel_1336\\1388660847.py:61: FutureWarning: The frame.append method is deprecated and will be removed from pandas in a future version. Use pandas.concat instead.\n",
      "  df = df.append({\"File_Name\": filename,\"Date\":  date, \"Sentiment\":total_sentiment, \"Publisher\":publisher, \"Mentioned_Names\":article_names, \"Text\":article}, ignore_index=True)\n",
      "C:\\Users\\ingeg\\AppData\\Local\\Temp\\ipykernel_1336\\1388660847.py:61: FutureWarning: The frame.append method is deprecated and will be removed from pandas in a future version. Use pandas.concat instead.\n",
      "  df = df.append({\"File_Name\": filename,\"Date\":  date, \"Sentiment\":total_sentiment, \"Publisher\":publisher, \"Mentioned_Names\":article_names, \"Text\":article}, ignore_index=True)\n"
     ]
    },
    {
     "name": "stdout",
     "output_type": "stream",
     "text": [
      "694.txt\n",
      "695.txt\n",
      "696.txt\n"
     ]
    },
    {
     "name": "stderr",
     "output_type": "stream",
     "text": [
      "C:\\Users\\ingeg\\AppData\\Local\\Temp\\ipykernel_1336\\1388660847.py:61: FutureWarning: The frame.append method is deprecated and will be removed from pandas in a future version. Use pandas.concat instead.\n",
      "  df = df.append({\"File_Name\": filename,\"Date\":  date, \"Sentiment\":total_sentiment, \"Publisher\":publisher, \"Mentioned_Names\":article_names, \"Text\":article}, ignore_index=True)\n",
      "C:\\Users\\ingeg\\AppData\\Local\\Temp\\ipykernel_1336\\1388660847.py:61: FutureWarning: The frame.append method is deprecated and will be removed from pandas in a future version. Use pandas.concat instead.\n",
      "  df = df.append({\"File_Name\": filename,\"Date\":  date, \"Sentiment\":total_sentiment, \"Publisher\":publisher, \"Mentioned_Names\":article_names, \"Text\":article}, ignore_index=True)\n",
      "C:\\Users\\ingeg\\AppData\\Local\\Temp\\ipykernel_1336\\1388660847.py:61: FutureWarning: The frame.append method is deprecated and will be removed from pandas in a future version. Use pandas.concat instead.\n",
      "  df = df.append({\"File_Name\": filename,\"Date\":  date, \"Sentiment\":total_sentiment, \"Publisher\":publisher, \"Mentioned_Names\":article_names, \"Text\":article}, ignore_index=True)\n"
     ]
    },
    {
     "name": "stdout",
     "output_type": "stream",
     "text": [
      "697.txt\n",
      "698.txt\n"
     ]
    },
    {
     "name": "stderr",
     "output_type": "stream",
     "text": [
      "C:\\Users\\ingeg\\AppData\\Local\\Temp\\ipykernel_1336\\1388660847.py:61: FutureWarning: The frame.append method is deprecated and will be removed from pandas in a future version. Use pandas.concat instead.\n",
      "  df = df.append({\"File_Name\": filename,\"Date\":  date, \"Sentiment\":total_sentiment, \"Publisher\":publisher, \"Mentioned_Names\":article_names, \"Text\":article}, ignore_index=True)\n",
      "C:\\Users\\ingeg\\AppData\\Local\\Temp\\ipykernel_1336\\1388660847.py:61: FutureWarning: The frame.append method is deprecated and will be removed from pandas in a future version. Use pandas.concat instead.\n",
      "  df = df.append({\"File_Name\": filename,\"Date\":  date, \"Sentiment\":total_sentiment, \"Publisher\":publisher, \"Mentioned_Names\":article_names, \"Text\":article}, ignore_index=True)\n"
     ]
    },
    {
     "name": "stdout",
     "output_type": "stream",
     "text": [
      "699.txt\n",
      "7.txt\n"
     ]
    },
    {
     "name": "stderr",
     "output_type": "stream",
     "text": [
      "C:\\Users\\ingeg\\AppData\\Local\\Temp\\ipykernel_1336\\1388660847.py:61: FutureWarning: The frame.append method is deprecated and will be removed from pandas in a future version. Use pandas.concat instead.\n",
      "  df = df.append({\"File_Name\": filename,\"Date\":  date, \"Sentiment\":total_sentiment, \"Publisher\":publisher, \"Mentioned_Names\":article_names, \"Text\":article}, ignore_index=True)\n",
      "C:\\Users\\ingeg\\AppData\\Local\\Temp\\ipykernel_1336\\1388660847.py:61: FutureWarning: The frame.append method is deprecated and will be removed from pandas in a future version. Use pandas.concat instead.\n",
      "  df = df.append({\"File_Name\": filename,\"Date\":  date, \"Sentiment\":total_sentiment, \"Publisher\":publisher, \"Mentioned_Names\":article_names, \"Text\":article}, ignore_index=True)\n"
     ]
    },
    {
     "name": "stdout",
     "output_type": "stream",
     "text": [
      "70.txt\n",
      "700.txt\n"
     ]
    },
    {
     "name": "stderr",
     "output_type": "stream",
     "text": [
      "C:\\Users\\ingeg\\AppData\\Local\\Temp\\ipykernel_1336\\1388660847.py:61: FutureWarning: The frame.append method is deprecated and will be removed from pandas in a future version. Use pandas.concat instead.\n",
      "  df = df.append({\"File_Name\": filename,\"Date\":  date, \"Sentiment\":total_sentiment, \"Publisher\":publisher, \"Mentioned_Names\":article_names, \"Text\":article}, ignore_index=True)\n"
     ]
    },
    {
     "name": "stdout",
     "output_type": "stream",
     "text": [
      "701.txt\n"
     ]
    },
    {
     "name": "stderr",
     "output_type": "stream",
     "text": [
      "C:\\Users\\ingeg\\AppData\\Local\\Temp\\ipykernel_1336\\1388660847.py:61: FutureWarning: The frame.append method is deprecated and will be removed from pandas in a future version. Use pandas.concat instead.\n",
      "  df = df.append({\"File_Name\": filename,\"Date\":  date, \"Sentiment\":total_sentiment, \"Publisher\":publisher, \"Mentioned_Names\":article_names, \"Text\":article}, ignore_index=True)\n",
      "C:\\Users\\ingeg\\AppData\\Local\\Temp\\ipykernel_1336\\1388660847.py:61: FutureWarning: The frame.append method is deprecated and will be removed from pandas in a future version. Use pandas.concat instead.\n",
      "  df = df.append({\"File_Name\": filename,\"Date\":  date, \"Sentiment\":total_sentiment, \"Publisher\":publisher, \"Mentioned_Names\":article_names, \"Text\":article}, ignore_index=True)\n"
     ]
    },
    {
     "name": "stdout",
     "output_type": "stream",
     "text": [
      "702.txt\n",
      "703.txt\n"
     ]
    },
    {
     "name": "stderr",
     "output_type": "stream",
     "text": [
      "C:\\Users\\ingeg\\AppData\\Local\\Temp\\ipykernel_1336\\1388660847.py:61: FutureWarning: The frame.append method is deprecated and will be removed from pandas in a future version. Use pandas.concat instead.\n",
      "  df = df.append({\"File_Name\": filename,\"Date\":  date, \"Sentiment\":total_sentiment, \"Publisher\":publisher, \"Mentioned_Names\":article_names, \"Text\":article}, ignore_index=True)\n",
      "C:\\Users\\ingeg\\AppData\\Local\\Temp\\ipykernel_1336\\1388660847.py:61: FutureWarning: The frame.append method is deprecated and will be removed from pandas in a future version. Use pandas.concat instead.\n",
      "  df = df.append({\"File_Name\": filename,\"Date\":  date, \"Sentiment\":total_sentiment, \"Publisher\":publisher, \"Mentioned_Names\":article_names, \"Text\":article}, ignore_index=True)\n"
     ]
    },
    {
     "name": "stdout",
     "output_type": "stream",
     "text": [
      "704.txt\n",
      "705.txt\n"
     ]
    },
    {
     "name": "stderr",
     "output_type": "stream",
     "text": [
      "C:\\Users\\ingeg\\AppData\\Local\\Temp\\ipykernel_1336\\1388660847.py:61: FutureWarning: The frame.append method is deprecated and will be removed from pandas in a future version. Use pandas.concat instead.\n",
      "  df = df.append({\"File_Name\": filename,\"Date\":  date, \"Sentiment\":total_sentiment, \"Publisher\":publisher, \"Mentioned_Names\":article_names, \"Text\":article}, ignore_index=True)\n"
     ]
    },
    {
     "name": "stdout",
     "output_type": "stream",
     "text": [
      "706.txt\n"
     ]
    },
    {
     "name": "stderr",
     "output_type": "stream",
     "text": [
      "C:\\Users\\ingeg\\AppData\\Local\\Temp\\ipykernel_1336\\1388660847.py:61: FutureWarning: The frame.append method is deprecated and will be removed from pandas in a future version. Use pandas.concat instead.\n",
      "  df = df.append({\"File_Name\": filename,\"Date\":  date, \"Sentiment\":total_sentiment, \"Publisher\":publisher, \"Mentioned_Names\":article_names, \"Text\":article}, ignore_index=True)\n",
      "C:\\Users\\ingeg\\AppData\\Local\\Temp\\ipykernel_1336\\1388660847.py:61: FutureWarning: The frame.append method is deprecated and will be removed from pandas in a future version. Use pandas.concat instead.\n",
      "  df = df.append({\"File_Name\": filename,\"Date\":  date, \"Sentiment\":total_sentiment, \"Publisher\":publisher, \"Mentioned_Names\":article_names, \"Text\":article}, ignore_index=True)\n"
     ]
    },
    {
     "name": "stdout",
     "output_type": "stream",
     "text": [
      "707.txt\n",
      "708.txt\n"
     ]
    },
    {
     "name": "stderr",
     "output_type": "stream",
     "text": [
      "C:\\Users\\ingeg\\AppData\\Local\\Temp\\ipykernel_1336\\1388660847.py:61: FutureWarning: The frame.append method is deprecated and will be removed from pandas in a future version. Use pandas.concat instead.\n",
      "  df = df.append({\"File_Name\": filename,\"Date\":  date, \"Sentiment\":total_sentiment, \"Publisher\":publisher, \"Mentioned_Names\":article_names, \"Text\":article}, ignore_index=True)\n"
     ]
    },
    {
     "name": "stdout",
     "output_type": "stream",
     "text": [
      "709.txt\n"
     ]
    },
    {
     "name": "stderr",
     "output_type": "stream",
     "text": [
      "C:\\Users\\ingeg\\AppData\\Local\\Temp\\ipykernel_1336\\1388660847.py:61: FutureWarning: The frame.append method is deprecated and will be removed from pandas in a future version. Use pandas.concat instead.\n",
      "  df = df.append({\"File_Name\": filename,\"Date\":  date, \"Sentiment\":total_sentiment, \"Publisher\":publisher, \"Mentioned_Names\":article_names, \"Text\":article}, ignore_index=True)\n",
      "C:\\Users\\ingeg\\AppData\\Local\\Temp\\ipykernel_1336\\1388660847.py:61: FutureWarning: The frame.append method is deprecated and will be removed from pandas in a future version. Use pandas.concat instead.\n",
      "  df = df.append({\"File_Name\": filename,\"Date\":  date, \"Sentiment\":total_sentiment, \"Publisher\":publisher, \"Mentioned_Names\":article_names, \"Text\":article}, ignore_index=True)\n"
     ]
    },
    {
     "name": "stdout",
     "output_type": "stream",
     "text": [
      "71.txt\n",
      "710.txt\n"
     ]
    },
    {
     "name": "stderr",
     "output_type": "stream",
     "text": [
      "C:\\Users\\ingeg\\AppData\\Local\\Temp\\ipykernel_1336\\1388660847.py:61: FutureWarning: The frame.append method is deprecated and will be removed from pandas in a future version. Use pandas.concat instead.\n",
      "  df = df.append({\"File_Name\": filename,\"Date\":  date, \"Sentiment\":total_sentiment, \"Publisher\":publisher, \"Mentioned_Names\":article_names, \"Text\":article}, ignore_index=True)\n",
      "C:\\Users\\ingeg\\AppData\\Local\\Temp\\ipykernel_1336\\1388660847.py:61: FutureWarning: The frame.append method is deprecated and will be removed from pandas in a future version. Use pandas.concat instead.\n",
      "  df = df.append({\"File_Name\": filename,\"Date\":  date, \"Sentiment\":total_sentiment, \"Publisher\":publisher, \"Mentioned_Names\":article_names, \"Text\":article}, ignore_index=True)\n"
     ]
    },
    {
     "name": "stdout",
     "output_type": "stream",
     "text": [
      "711.txt\n",
      "712.txt\n"
     ]
    },
    {
     "name": "stderr",
     "output_type": "stream",
     "text": [
      "C:\\Users\\ingeg\\AppData\\Local\\Temp\\ipykernel_1336\\1388660847.py:61: FutureWarning: The frame.append method is deprecated and will be removed from pandas in a future version. Use pandas.concat instead.\n",
      "  df = df.append({\"File_Name\": filename,\"Date\":  date, \"Sentiment\":total_sentiment, \"Publisher\":publisher, \"Mentioned_Names\":article_names, \"Text\":article}, ignore_index=True)\n"
     ]
    },
    {
     "name": "stdout",
     "output_type": "stream",
     "text": [
      "713.txt\n"
     ]
    },
    {
     "name": "stderr",
     "output_type": "stream",
     "text": [
      "C:\\Users\\ingeg\\AppData\\Local\\Temp\\ipykernel_1336\\1388660847.py:61: FutureWarning: The frame.append method is deprecated and will be removed from pandas in a future version. Use pandas.concat instead.\n",
      "  df = df.append({\"File_Name\": filename,\"Date\":  date, \"Sentiment\":total_sentiment, \"Publisher\":publisher, \"Mentioned_Names\":article_names, \"Text\":article}, ignore_index=True)\n",
      "C:\\Users\\ingeg\\AppData\\Local\\Temp\\ipykernel_1336\\1388660847.py:61: FutureWarning: The frame.append method is deprecated and will be removed from pandas in a future version. Use pandas.concat instead.\n",
      "  df = df.append({\"File_Name\": filename,\"Date\":  date, \"Sentiment\":total_sentiment, \"Publisher\":publisher, \"Mentioned_Names\":article_names, \"Text\":article}, ignore_index=True)\n"
     ]
    },
    {
     "name": "stdout",
     "output_type": "stream",
     "text": [
      "714.txt\n",
      "715.txt\n"
     ]
    },
    {
     "name": "stderr",
     "output_type": "stream",
     "text": [
      "C:\\Users\\ingeg\\AppData\\Local\\Temp\\ipykernel_1336\\1388660847.py:61: FutureWarning: The frame.append method is deprecated and will be removed from pandas in a future version. Use pandas.concat instead.\n",
      "  df = df.append({\"File_Name\": filename,\"Date\":  date, \"Sentiment\":total_sentiment, \"Publisher\":publisher, \"Mentioned_Names\":article_names, \"Text\":article}, ignore_index=True)\n"
     ]
    },
    {
     "name": "stdout",
     "output_type": "stream",
     "text": [
      "716.txt\n"
     ]
    },
    {
     "name": "stderr",
     "output_type": "stream",
     "text": [
      "C:\\Users\\ingeg\\AppData\\Local\\Temp\\ipykernel_1336\\1388660847.py:61: FutureWarning: The frame.append method is deprecated and will be removed from pandas in a future version. Use pandas.concat instead.\n",
      "  df = df.append({\"File_Name\": filename,\"Date\":  date, \"Sentiment\":total_sentiment, \"Publisher\":publisher, \"Mentioned_Names\":article_names, \"Text\":article}, ignore_index=True)\n",
      "C:\\Users\\ingeg\\AppData\\Local\\Temp\\ipykernel_1336\\1388660847.py:61: FutureWarning: The frame.append method is deprecated and will be removed from pandas in a future version. Use pandas.concat instead.\n",
      "  df = df.append({\"File_Name\": filename,\"Date\":  date, \"Sentiment\":total_sentiment, \"Publisher\":publisher, \"Mentioned_Names\":article_names, \"Text\":article}, ignore_index=True)\n"
     ]
    },
    {
     "name": "stdout",
     "output_type": "stream",
     "text": [
      "717.txt\n",
      "718.txt\n"
     ]
    },
    {
     "name": "stderr",
     "output_type": "stream",
     "text": [
      "C:\\Users\\ingeg\\AppData\\Local\\Temp\\ipykernel_1336\\1388660847.py:61: FutureWarning: The frame.append method is deprecated and will be removed from pandas in a future version. Use pandas.concat instead.\n",
      "  df = df.append({\"File_Name\": filename,\"Date\":  date, \"Sentiment\":total_sentiment, \"Publisher\":publisher, \"Mentioned_Names\":article_names, \"Text\":article}, ignore_index=True)\n",
      "C:\\Users\\ingeg\\AppData\\Local\\Temp\\ipykernel_1336\\1388660847.py:61: FutureWarning: The frame.append method is deprecated and will be removed from pandas in a future version. Use pandas.concat instead.\n",
      "  df = df.append({\"File_Name\": filename,\"Date\":  date, \"Sentiment\":total_sentiment, \"Publisher\":publisher, \"Mentioned_Names\":article_names, \"Text\":article}, ignore_index=True)\n"
     ]
    },
    {
     "name": "stdout",
     "output_type": "stream",
     "text": [
      "719.txt\n",
      "72.txt\n"
     ]
    },
    {
     "name": "stderr",
     "output_type": "stream",
     "text": [
      "C:\\Users\\ingeg\\AppData\\Local\\Temp\\ipykernel_1336\\1388660847.py:61: FutureWarning: The frame.append method is deprecated and will be removed from pandas in a future version. Use pandas.concat instead.\n",
      "  df = df.append({\"File_Name\": filename,\"Date\":  date, \"Sentiment\":total_sentiment, \"Publisher\":publisher, \"Mentioned_Names\":article_names, \"Text\":article}, ignore_index=True)\n",
      "C:\\Users\\ingeg\\AppData\\Local\\Temp\\ipykernel_1336\\1388660847.py:61: FutureWarning: The frame.append method is deprecated and will be removed from pandas in a future version. Use pandas.concat instead.\n",
      "  df = df.append({\"File_Name\": filename,\"Date\":  date, \"Sentiment\":total_sentiment, \"Publisher\":publisher, \"Mentioned_Names\":article_names, \"Text\":article}, ignore_index=True)\n"
     ]
    },
    {
     "name": "stdout",
     "output_type": "stream",
     "text": [
      "720.txt\n",
      "721.txt\n"
     ]
    },
    {
     "name": "stderr",
     "output_type": "stream",
     "text": [
      "C:\\Users\\ingeg\\AppData\\Local\\Temp\\ipykernel_1336\\1388660847.py:61: FutureWarning: The frame.append method is deprecated and will be removed from pandas in a future version. Use pandas.concat instead.\n",
      "  df = df.append({\"File_Name\": filename,\"Date\":  date, \"Sentiment\":total_sentiment, \"Publisher\":publisher, \"Mentioned_Names\":article_names, \"Text\":article}, ignore_index=True)\n",
      "C:\\Users\\ingeg\\AppData\\Local\\Temp\\ipykernel_1336\\1388660847.py:61: FutureWarning: The frame.append method is deprecated and will be removed from pandas in a future version. Use pandas.concat instead.\n",
      "  df = df.append({\"File_Name\": filename,\"Date\":  date, \"Sentiment\":total_sentiment, \"Publisher\":publisher, \"Mentioned_Names\":article_names, \"Text\":article}, ignore_index=True)\n"
     ]
    },
    {
     "name": "stdout",
     "output_type": "stream",
     "text": [
      "722.txt\n",
      "723.txt\n"
     ]
    },
    {
     "name": "stderr",
     "output_type": "stream",
     "text": [
      "C:\\Users\\ingeg\\AppData\\Local\\Temp\\ipykernel_1336\\1388660847.py:61: FutureWarning: The frame.append method is deprecated and will be removed from pandas in a future version. Use pandas.concat instead.\n",
      "  df = df.append({\"File_Name\": filename,\"Date\":  date, \"Sentiment\":total_sentiment, \"Publisher\":publisher, \"Mentioned_Names\":article_names, \"Text\":article}, ignore_index=True)\n"
     ]
    },
    {
     "name": "stdout",
     "output_type": "stream",
     "text": [
      "724.txt\n"
     ]
    },
    {
     "name": "stderr",
     "output_type": "stream",
     "text": [
      "C:\\Users\\ingeg\\AppData\\Local\\Temp\\ipykernel_1336\\1388660847.py:61: FutureWarning: The frame.append method is deprecated and will be removed from pandas in a future version. Use pandas.concat instead.\n",
      "  df = df.append({\"File_Name\": filename,\"Date\":  date, \"Sentiment\":total_sentiment, \"Publisher\":publisher, \"Mentioned_Names\":article_names, \"Text\":article}, ignore_index=True)\n"
     ]
    },
    {
     "name": "stdout",
     "output_type": "stream",
     "text": [
      "725.txt\n"
     ]
    },
    {
     "name": "stderr",
     "output_type": "stream",
     "text": [
      "C:\\Users\\ingeg\\AppData\\Local\\Temp\\ipykernel_1336\\1388660847.py:61: FutureWarning: The frame.append method is deprecated and will be removed from pandas in a future version. Use pandas.concat instead.\n",
      "  df = df.append({\"File_Name\": filename,\"Date\":  date, \"Sentiment\":total_sentiment, \"Publisher\":publisher, \"Mentioned_Names\":article_names, \"Text\":article}, ignore_index=True)\n",
      "C:\\Users\\ingeg\\AppData\\Local\\Temp\\ipykernel_1336\\1388660847.py:61: FutureWarning: The frame.append method is deprecated and will be removed from pandas in a future version. Use pandas.concat instead.\n",
      "  df = df.append({\"File_Name\": filename,\"Date\":  date, \"Sentiment\":total_sentiment, \"Publisher\":publisher, \"Mentioned_Names\":article_names, \"Text\":article}, ignore_index=True)\n"
     ]
    },
    {
     "name": "stdout",
     "output_type": "stream",
     "text": [
      "726.txt\n",
      "727.txt\n"
     ]
    },
    {
     "name": "stderr",
     "output_type": "stream",
     "text": [
      "C:\\Users\\ingeg\\AppData\\Local\\Temp\\ipykernel_1336\\1388660847.py:61: FutureWarning: The frame.append method is deprecated and will be removed from pandas in a future version. Use pandas.concat instead.\n",
      "  df = df.append({\"File_Name\": filename,\"Date\":  date, \"Sentiment\":total_sentiment, \"Publisher\":publisher, \"Mentioned_Names\":article_names, \"Text\":article}, ignore_index=True)\n"
     ]
    },
    {
     "name": "stdout",
     "output_type": "stream",
     "text": [
      "728.txt\n"
     ]
    },
    {
     "name": "stderr",
     "output_type": "stream",
     "text": [
      "C:\\Users\\ingeg\\AppData\\Local\\Temp\\ipykernel_1336\\1388660847.py:61: FutureWarning: The frame.append method is deprecated and will be removed from pandas in a future version. Use pandas.concat instead.\n",
      "  df = df.append({\"File_Name\": filename,\"Date\":  date, \"Sentiment\":total_sentiment, \"Publisher\":publisher, \"Mentioned_Names\":article_names, \"Text\":article}, ignore_index=True)\n",
      "C:\\Users\\ingeg\\AppData\\Local\\Temp\\ipykernel_1336\\1388660847.py:61: FutureWarning: The frame.append method is deprecated and will be removed from pandas in a future version. Use pandas.concat instead.\n",
      "  df = df.append({\"File_Name\": filename,\"Date\":  date, \"Sentiment\":total_sentiment, \"Publisher\":publisher, \"Mentioned_Names\":article_names, \"Text\":article}, ignore_index=True)\n"
     ]
    },
    {
     "name": "stdout",
     "output_type": "stream",
     "text": [
      "729.txt\n",
      "73.txt\n"
     ]
    },
    {
     "name": "stderr",
     "output_type": "stream",
     "text": [
      "C:\\Users\\ingeg\\AppData\\Local\\Temp\\ipykernel_1336\\1388660847.py:61: FutureWarning: The frame.append method is deprecated and will be removed from pandas in a future version. Use pandas.concat instead.\n",
      "  df = df.append({\"File_Name\": filename,\"Date\":  date, \"Sentiment\":total_sentiment, \"Publisher\":publisher, \"Mentioned_Names\":article_names, \"Text\":article}, ignore_index=True)\n"
     ]
    },
    {
     "name": "stdout",
     "output_type": "stream",
     "text": [
      "730.txt\n"
     ]
    },
    {
     "name": "stderr",
     "output_type": "stream",
     "text": [
      "C:\\Users\\ingeg\\AppData\\Local\\Temp\\ipykernel_1336\\1388660847.py:61: FutureWarning: The frame.append method is deprecated and will be removed from pandas in a future version. Use pandas.concat instead.\n",
      "  df = df.append({\"File_Name\": filename,\"Date\":  date, \"Sentiment\":total_sentiment, \"Publisher\":publisher, \"Mentioned_Names\":article_names, \"Text\":article}, ignore_index=True)\n"
     ]
    },
    {
     "name": "stdout",
     "output_type": "stream",
     "text": [
      "731.txt\n"
     ]
    },
    {
     "name": "stderr",
     "output_type": "stream",
     "text": [
      "C:\\Users\\ingeg\\AppData\\Local\\Temp\\ipykernel_1336\\1388660847.py:61: FutureWarning: The frame.append method is deprecated and will be removed from pandas in a future version. Use pandas.concat instead.\n",
      "  df = df.append({\"File_Name\": filename,\"Date\":  date, \"Sentiment\":total_sentiment, \"Publisher\":publisher, \"Mentioned_Names\":article_names, \"Text\":article}, ignore_index=True)\n",
      "C:\\Users\\ingeg\\AppData\\Local\\Temp\\ipykernel_1336\\1388660847.py:61: FutureWarning: The frame.append method is deprecated and will be removed from pandas in a future version. Use pandas.concat instead.\n",
      "  df = df.append({\"File_Name\": filename,\"Date\":  date, \"Sentiment\":total_sentiment, \"Publisher\":publisher, \"Mentioned_Names\":article_names, \"Text\":article}, ignore_index=True)\n"
     ]
    },
    {
     "name": "stdout",
     "output_type": "stream",
     "text": [
      "732.txt\n",
      "733.txt\n"
     ]
    },
    {
     "name": "stderr",
     "output_type": "stream",
     "text": [
      "C:\\Users\\ingeg\\AppData\\Local\\Temp\\ipykernel_1336\\1388660847.py:61: FutureWarning: The frame.append method is deprecated and will be removed from pandas in a future version. Use pandas.concat instead.\n",
      "  df = df.append({\"File_Name\": filename,\"Date\":  date, \"Sentiment\":total_sentiment, \"Publisher\":publisher, \"Mentioned_Names\":article_names, \"Text\":article}, ignore_index=True)\n",
      "C:\\Users\\ingeg\\AppData\\Local\\Temp\\ipykernel_1336\\1388660847.py:61: FutureWarning: The frame.append method is deprecated and will be removed from pandas in a future version. Use pandas.concat instead.\n",
      "  df = df.append({\"File_Name\": filename,\"Date\":  date, \"Sentiment\":total_sentiment, \"Publisher\":publisher, \"Mentioned_Names\":article_names, \"Text\":article}, ignore_index=True)\n"
     ]
    },
    {
     "name": "stdout",
     "output_type": "stream",
     "text": [
      "734.txt\n",
      "735.txt\n"
     ]
    },
    {
     "name": "stderr",
     "output_type": "stream",
     "text": [
      "C:\\Users\\ingeg\\AppData\\Local\\Temp\\ipykernel_1336\\1388660847.py:61: FutureWarning: The frame.append method is deprecated and will be removed from pandas in a future version. Use pandas.concat instead.\n",
      "  df = df.append({\"File_Name\": filename,\"Date\":  date, \"Sentiment\":total_sentiment, \"Publisher\":publisher, \"Mentioned_Names\":article_names, \"Text\":article}, ignore_index=True)\n"
     ]
    },
    {
     "name": "stdout",
     "output_type": "stream",
     "text": [
      "736.txt\n"
     ]
    },
    {
     "name": "stderr",
     "output_type": "stream",
     "text": [
      "C:\\Users\\ingeg\\AppData\\Local\\Temp\\ipykernel_1336\\1388660847.py:61: FutureWarning: The frame.append method is deprecated and will be removed from pandas in a future version. Use pandas.concat instead.\n",
      "  df = df.append({\"File_Name\": filename,\"Date\":  date, \"Sentiment\":total_sentiment, \"Publisher\":publisher, \"Mentioned_Names\":article_names, \"Text\":article}, ignore_index=True)\n",
      "C:\\Users\\ingeg\\AppData\\Local\\Temp\\ipykernel_1336\\1388660847.py:61: FutureWarning: The frame.append method is deprecated and will be removed from pandas in a future version. Use pandas.concat instead.\n",
      "  df = df.append({\"File_Name\": filename,\"Date\":  date, \"Sentiment\":total_sentiment, \"Publisher\":publisher, \"Mentioned_Names\":article_names, \"Text\":article}, ignore_index=True)\n"
     ]
    },
    {
     "name": "stdout",
     "output_type": "stream",
     "text": [
      "737.txt\n",
      "738.txt\n"
     ]
    },
    {
     "name": "stderr",
     "output_type": "stream",
     "text": [
      "C:\\Users\\ingeg\\AppData\\Local\\Temp\\ipykernel_1336\\1388660847.py:61: FutureWarning: The frame.append method is deprecated and will be removed from pandas in a future version. Use pandas.concat instead.\n",
      "  df = df.append({\"File_Name\": filename,\"Date\":  date, \"Sentiment\":total_sentiment, \"Publisher\":publisher, \"Mentioned_Names\":article_names, \"Text\":article}, ignore_index=True)\n"
     ]
    },
    {
     "name": "stdout",
     "output_type": "stream",
     "text": [
      "739.txt\n"
     ]
    },
    {
     "name": "stderr",
     "output_type": "stream",
     "text": [
      "C:\\Users\\ingeg\\AppData\\Local\\Temp\\ipykernel_1336\\1388660847.py:61: FutureWarning: The frame.append method is deprecated and will be removed from pandas in a future version. Use pandas.concat instead.\n",
      "  df = df.append({\"File_Name\": filename,\"Date\":  date, \"Sentiment\":total_sentiment, \"Publisher\":publisher, \"Mentioned_Names\":article_names, \"Text\":article}, ignore_index=True)\n"
     ]
    },
    {
     "name": "stdout",
     "output_type": "stream",
     "text": [
      "74.txt\n"
     ]
    },
    {
     "name": "stderr",
     "output_type": "stream",
     "text": [
      "C:\\Users\\ingeg\\AppData\\Local\\Temp\\ipykernel_1336\\1388660847.py:61: FutureWarning: The frame.append method is deprecated and will be removed from pandas in a future version. Use pandas.concat instead.\n",
      "  df = df.append({\"File_Name\": filename,\"Date\":  date, \"Sentiment\":total_sentiment, \"Publisher\":publisher, \"Mentioned_Names\":article_names, \"Text\":article}, ignore_index=True)\n"
     ]
    },
    {
     "name": "stdout",
     "output_type": "stream",
     "text": [
      "740.txt\n"
     ]
    },
    {
     "name": "stderr",
     "output_type": "stream",
     "text": [
      "C:\\Users\\ingeg\\AppData\\Local\\Temp\\ipykernel_1336\\1388660847.py:61: FutureWarning: The frame.append method is deprecated and will be removed from pandas in a future version. Use pandas.concat instead.\n",
      "  df = df.append({\"File_Name\": filename,\"Date\":  date, \"Sentiment\":total_sentiment, \"Publisher\":publisher, \"Mentioned_Names\":article_names, \"Text\":article}, ignore_index=True)\n"
     ]
    },
    {
     "name": "stdout",
     "output_type": "stream",
     "text": [
      "741.txt\n"
     ]
    },
    {
     "name": "stderr",
     "output_type": "stream",
     "text": [
      "C:\\Users\\ingeg\\AppData\\Local\\Temp\\ipykernel_1336\\1388660847.py:61: FutureWarning: The frame.append method is deprecated and will be removed from pandas in a future version. Use pandas.concat instead.\n",
      "  df = df.append({\"File_Name\": filename,\"Date\":  date, \"Sentiment\":total_sentiment, \"Publisher\":publisher, \"Mentioned_Names\":article_names, \"Text\":article}, ignore_index=True)\n"
     ]
    },
    {
     "name": "stdout",
     "output_type": "stream",
     "text": [
      "742.txt\n"
     ]
    },
    {
     "name": "stderr",
     "output_type": "stream",
     "text": [
      "C:\\Users\\ingeg\\AppData\\Local\\Temp\\ipykernel_1336\\1388660847.py:61: FutureWarning: The frame.append method is deprecated and will be removed from pandas in a future version. Use pandas.concat instead.\n",
      "  df = df.append({\"File_Name\": filename,\"Date\":  date, \"Sentiment\":total_sentiment, \"Publisher\":publisher, \"Mentioned_Names\":article_names, \"Text\":article}, ignore_index=True)\n"
     ]
    },
    {
     "name": "stdout",
     "output_type": "stream",
     "text": [
      "743.txt\n"
     ]
    },
    {
     "name": "stderr",
     "output_type": "stream",
     "text": [
      "C:\\Users\\ingeg\\AppData\\Local\\Temp\\ipykernel_1336\\1388660847.py:61: FutureWarning: The frame.append method is deprecated and will be removed from pandas in a future version. Use pandas.concat instead.\n",
      "  df = df.append({\"File_Name\": filename,\"Date\":  date, \"Sentiment\":total_sentiment, \"Publisher\":publisher, \"Mentioned_Names\":article_names, \"Text\":article}, ignore_index=True)\n",
      "C:\\Users\\ingeg\\AppData\\Local\\Temp\\ipykernel_1336\\1388660847.py:61: FutureWarning: The frame.append method is deprecated and will be removed from pandas in a future version. Use pandas.concat instead.\n",
      "  df = df.append({\"File_Name\": filename,\"Date\":  date, \"Sentiment\":total_sentiment, \"Publisher\":publisher, \"Mentioned_Names\":article_names, \"Text\":article}, ignore_index=True)\n"
     ]
    },
    {
     "name": "stdout",
     "output_type": "stream",
     "text": [
      "744.txt\n",
      "745.txt\n"
     ]
    },
    {
     "name": "stderr",
     "output_type": "stream",
     "text": [
      "C:\\Users\\ingeg\\AppData\\Local\\Temp\\ipykernel_1336\\1388660847.py:61: FutureWarning: The frame.append method is deprecated and will be removed from pandas in a future version. Use pandas.concat instead.\n",
      "  df = df.append({\"File_Name\": filename,\"Date\":  date, \"Sentiment\":total_sentiment, \"Publisher\":publisher, \"Mentioned_Names\":article_names, \"Text\":article}, ignore_index=True)\n",
      "C:\\Users\\ingeg\\AppData\\Local\\Temp\\ipykernel_1336\\1388660847.py:61: FutureWarning: The frame.append method is deprecated and will be removed from pandas in a future version. Use pandas.concat instead.\n",
      "  df = df.append({\"File_Name\": filename,\"Date\":  date, \"Sentiment\":total_sentiment, \"Publisher\":publisher, \"Mentioned_Names\":article_names, \"Text\":article}, ignore_index=True)\n"
     ]
    },
    {
     "name": "stdout",
     "output_type": "stream",
     "text": [
      "746.txt\n",
      "747.txt\n"
     ]
    },
    {
     "name": "stderr",
     "output_type": "stream",
     "text": [
      "C:\\Users\\ingeg\\AppData\\Local\\Temp\\ipykernel_1336\\1388660847.py:61: FutureWarning: The frame.append method is deprecated and will be removed from pandas in a future version. Use pandas.concat instead.\n",
      "  df = df.append({\"File_Name\": filename,\"Date\":  date, \"Sentiment\":total_sentiment, \"Publisher\":publisher, \"Mentioned_Names\":article_names, \"Text\":article}, ignore_index=True)\n",
      "C:\\Users\\ingeg\\AppData\\Local\\Temp\\ipykernel_1336\\1388660847.py:61: FutureWarning: The frame.append method is deprecated and will be removed from pandas in a future version. Use pandas.concat instead.\n",
      "  df = df.append({\"File_Name\": filename,\"Date\":  date, \"Sentiment\":total_sentiment, \"Publisher\":publisher, \"Mentioned_Names\":article_names, \"Text\":article}, ignore_index=True)\n"
     ]
    },
    {
     "name": "stdout",
     "output_type": "stream",
     "text": [
      "748.txt\n",
      "749.txt\n",
      "75.txt\n"
     ]
    },
    {
     "name": "stderr",
     "output_type": "stream",
     "text": [
      "C:\\Users\\ingeg\\AppData\\Local\\Temp\\ipykernel_1336\\1388660847.py:61: FutureWarning: The frame.append method is deprecated and will be removed from pandas in a future version. Use pandas.concat instead.\n",
      "  df = df.append({\"File_Name\": filename,\"Date\":  date, \"Sentiment\":total_sentiment, \"Publisher\":publisher, \"Mentioned_Names\":article_names, \"Text\":article}, ignore_index=True)\n",
      "C:\\Users\\ingeg\\AppData\\Local\\Temp\\ipykernel_1336\\1388660847.py:61: FutureWarning: The frame.append method is deprecated and will be removed from pandas in a future version. Use pandas.concat instead.\n",
      "  df = df.append({\"File_Name\": filename,\"Date\":  date, \"Sentiment\":total_sentiment, \"Publisher\":publisher, \"Mentioned_Names\":article_names, \"Text\":article}, ignore_index=True)\n"
     ]
    },
    {
     "name": "stdout",
     "output_type": "stream",
     "text": [
      "750.txt\n"
     ]
    },
    {
     "name": "stderr",
     "output_type": "stream",
     "text": [
      "C:\\Users\\ingeg\\AppData\\Local\\Temp\\ipykernel_1336\\1388660847.py:61: FutureWarning: The frame.append method is deprecated and will be removed from pandas in a future version. Use pandas.concat instead.\n",
      "  df = df.append({\"File_Name\": filename,\"Date\":  date, \"Sentiment\":total_sentiment, \"Publisher\":publisher, \"Mentioned_Names\":article_names, \"Text\":article}, ignore_index=True)\n"
     ]
    },
    {
     "name": "stdout",
     "output_type": "stream",
     "text": [
      "751.txt\n"
     ]
    },
    {
     "name": "stderr",
     "output_type": "stream",
     "text": [
      "C:\\Users\\ingeg\\AppData\\Local\\Temp\\ipykernel_1336\\1388660847.py:61: FutureWarning: The frame.append method is deprecated and will be removed from pandas in a future version. Use pandas.concat instead.\n",
      "  df = df.append({\"File_Name\": filename,\"Date\":  date, \"Sentiment\":total_sentiment, \"Publisher\":publisher, \"Mentioned_Names\":article_names, \"Text\":article}, ignore_index=True)\n"
     ]
    },
    {
     "name": "stdout",
     "output_type": "stream",
     "text": [
      "752.txt\n"
     ]
    },
    {
     "name": "stderr",
     "output_type": "stream",
     "text": [
      "C:\\Users\\ingeg\\AppData\\Local\\Temp\\ipykernel_1336\\1388660847.py:61: FutureWarning: The frame.append method is deprecated and will be removed from pandas in a future version. Use pandas.concat instead.\n",
      "  df = df.append({\"File_Name\": filename,\"Date\":  date, \"Sentiment\":total_sentiment, \"Publisher\":publisher, \"Mentioned_Names\":article_names, \"Text\":article}, ignore_index=True)\n"
     ]
    },
    {
     "name": "stdout",
     "output_type": "stream",
     "text": [
      "753.txt\n"
     ]
    },
    {
     "name": "stderr",
     "output_type": "stream",
     "text": [
      "C:\\Users\\ingeg\\AppData\\Local\\Temp\\ipykernel_1336\\1388660847.py:61: FutureWarning: The frame.append method is deprecated and will be removed from pandas in a future version. Use pandas.concat instead.\n",
      "  df = df.append({\"File_Name\": filename,\"Date\":  date, \"Sentiment\":total_sentiment, \"Publisher\":publisher, \"Mentioned_Names\":article_names, \"Text\":article}, ignore_index=True)\n",
      "C:\\Users\\ingeg\\AppData\\Local\\Temp\\ipykernel_1336\\1388660847.py:61: FutureWarning: The frame.append method is deprecated and will be removed from pandas in a future version. Use pandas.concat instead.\n",
      "  df = df.append({\"File_Name\": filename,\"Date\":  date, \"Sentiment\":total_sentiment, \"Publisher\":publisher, \"Mentioned_Names\":article_names, \"Text\":article}, ignore_index=True)\n"
     ]
    },
    {
     "name": "stdout",
     "output_type": "stream",
     "text": [
      "754.txt\n",
      "755.txt\n"
     ]
    },
    {
     "name": "stderr",
     "output_type": "stream",
     "text": [
      "C:\\Users\\ingeg\\AppData\\Local\\Temp\\ipykernel_1336\\1388660847.py:61: FutureWarning: The frame.append method is deprecated and will be removed from pandas in a future version. Use pandas.concat instead.\n",
      "  df = df.append({\"File_Name\": filename,\"Date\":  date, \"Sentiment\":total_sentiment, \"Publisher\":publisher, \"Mentioned_Names\":article_names, \"Text\":article}, ignore_index=True)\n"
     ]
    },
    {
     "name": "stdout",
     "output_type": "stream",
     "text": [
      "756.txt\n"
     ]
    },
    {
     "name": "stderr",
     "output_type": "stream",
     "text": [
      "C:\\Users\\ingeg\\AppData\\Local\\Temp\\ipykernel_1336\\1388660847.py:61: FutureWarning: The frame.append method is deprecated and will be removed from pandas in a future version. Use pandas.concat instead.\n",
      "  df = df.append({\"File_Name\": filename,\"Date\":  date, \"Sentiment\":total_sentiment, \"Publisher\":publisher, \"Mentioned_Names\":article_names, \"Text\":article}, ignore_index=True)\n"
     ]
    },
    {
     "name": "stdout",
     "output_type": "stream",
     "text": [
      "757.txt\n"
     ]
    },
    {
     "name": "stderr",
     "output_type": "stream",
     "text": [
      "C:\\Users\\ingeg\\AppData\\Local\\Temp\\ipykernel_1336\\1388660847.py:61: FutureWarning: The frame.append method is deprecated and will be removed from pandas in a future version. Use pandas.concat instead.\n",
      "  df = df.append({\"File_Name\": filename,\"Date\":  date, \"Sentiment\":total_sentiment, \"Publisher\":publisher, \"Mentioned_Names\":article_names, \"Text\":article}, ignore_index=True)\n"
     ]
    },
    {
     "name": "stdout",
     "output_type": "stream",
     "text": [
      "758.txt\n"
     ]
    },
    {
     "name": "stderr",
     "output_type": "stream",
     "text": [
      "C:\\Users\\ingeg\\AppData\\Local\\Temp\\ipykernel_1336\\1388660847.py:61: FutureWarning: The frame.append method is deprecated and will be removed from pandas in a future version. Use pandas.concat instead.\n",
      "  df = df.append({\"File_Name\": filename,\"Date\":  date, \"Sentiment\":total_sentiment, \"Publisher\":publisher, \"Mentioned_Names\":article_names, \"Text\":article}, ignore_index=True)\n",
      "C:\\Users\\ingeg\\AppData\\Local\\Temp\\ipykernel_1336\\1388660847.py:61: FutureWarning: The frame.append method is deprecated and will be removed from pandas in a future version. Use pandas.concat instead.\n",
      "  df = df.append({\"File_Name\": filename,\"Date\":  date, \"Sentiment\":total_sentiment, \"Publisher\":publisher, \"Mentioned_Names\":article_names, \"Text\":article}, ignore_index=True)\n"
     ]
    },
    {
     "name": "stdout",
     "output_type": "stream",
     "text": [
      "759.txt\n",
      "76.txt\n"
     ]
    },
    {
     "name": "stderr",
     "output_type": "stream",
     "text": [
      "C:\\Users\\ingeg\\AppData\\Local\\Temp\\ipykernel_1336\\1388660847.py:61: FutureWarning: The frame.append method is deprecated and will be removed from pandas in a future version. Use pandas.concat instead.\n",
      "  df = df.append({\"File_Name\": filename,\"Date\":  date, \"Sentiment\":total_sentiment, \"Publisher\":publisher, \"Mentioned_Names\":article_names, \"Text\":article}, ignore_index=True)\n"
     ]
    },
    {
     "name": "stdout",
     "output_type": "stream",
     "text": [
      "760.txt\n"
     ]
    },
    {
     "name": "stderr",
     "output_type": "stream",
     "text": [
      "C:\\Users\\ingeg\\AppData\\Local\\Temp\\ipykernel_1336\\1388660847.py:61: FutureWarning: The frame.append method is deprecated and will be removed from pandas in a future version. Use pandas.concat instead.\n",
      "  df = df.append({\"File_Name\": filename,\"Date\":  date, \"Sentiment\":total_sentiment, \"Publisher\":publisher, \"Mentioned_Names\":article_names, \"Text\":article}, ignore_index=True)\n",
      "C:\\Users\\ingeg\\AppData\\Local\\Temp\\ipykernel_1336\\1388660847.py:61: FutureWarning: The frame.append method is deprecated and will be removed from pandas in a future version. Use pandas.concat instead.\n",
      "  df = df.append({\"File_Name\": filename,\"Date\":  date, \"Sentiment\":total_sentiment, \"Publisher\":publisher, \"Mentioned_Names\":article_names, \"Text\":article}, ignore_index=True)\n"
     ]
    },
    {
     "name": "stdout",
     "output_type": "stream",
     "text": [
      "761.txt\n",
      "762.txt\n"
     ]
    },
    {
     "name": "stderr",
     "output_type": "stream",
     "text": [
      "C:\\Users\\ingeg\\AppData\\Local\\Temp\\ipykernel_1336\\1388660847.py:61: FutureWarning: The frame.append method is deprecated and will be removed from pandas in a future version. Use pandas.concat instead.\n",
      "  df = df.append({\"File_Name\": filename,\"Date\":  date, \"Sentiment\":total_sentiment, \"Publisher\":publisher, \"Mentioned_Names\":article_names, \"Text\":article}, ignore_index=True)\n",
      "C:\\Users\\ingeg\\AppData\\Local\\Temp\\ipykernel_1336\\1388660847.py:61: FutureWarning: The frame.append method is deprecated and will be removed from pandas in a future version. Use pandas.concat instead.\n",
      "  df = df.append({\"File_Name\": filename,\"Date\":  date, \"Sentiment\":total_sentiment, \"Publisher\":publisher, \"Mentioned_Names\":article_names, \"Text\":article}, ignore_index=True)\n"
     ]
    },
    {
     "name": "stdout",
     "output_type": "stream",
     "text": [
      "763.txt\n",
      "764.txt\n"
     ]
    },
    {
     "name": "stderr",
     "output_type": "stream",
     "text": [
      "C:\\Users\\ingeg\\AppData\\Local\\Temp\\ipykernel_1336\\1388660847.py:61: FutureWarning: The frame.append method is deprecated and will be removed from pandas in a future version. Use pandas.concat instead.\n",
      "  df = df.append({\"File_Name\": filename,\"Date\":  date, \"Sentiment\":total_sentiment, \"Publisher\":publisher, \"Mentioned_Names\":article_names, \"Text\":article}, ignore_index=True)\n"
     ]
    },
    {
     "name": "stdout",
     "output_type": "stream",
     "text": [
      "765.txt\n"
     ]
    },
    {
     "name": "stderr",
     "output_type": "stream",
     "text": [
      "C:\\Users\\ingeg\\AppData\\Local\\Temp\\ipykernel_1336\\1388660847.py:61: FutureWarning: The frame.append method is deprecated and will be removed from pandas in a future version. Use pandas.concat instead.\n",
      "  df = df.append({\"File_Name\": filename,\"Date\":  date, \"Sentiment\":total_sentiment, \"Publisher\":publisher, \"Mentioned_Names\":article_names, \"Text\":article}, ignore_index=True)\n",
      "C:\\Users\\ingeg\\AppData\\Local\\Temp\\ipykernel_1336\\1388660847.py:61: FutureWarning: The frame.append method is deprecated and will be removed from pandas in a future version. Use pandas.concat instead.\n",
      "  df = df.append({\"File_Name\": filename,\"Date\":  date, \"Sentiment\":total_sentiment, \"Publisher\":publisher, \"Mentioned_Names\":article_names, \"Text\":article}, ignore_index=True)\n"
     ]
    },
    {
     "name": "stdout",
     "output_type": "stream",
     "text": [
      "766.txt\n",
      "767.txt\n"
     ]
    },
    {
     "name": "stderr",
     "output_type": "stream",
     "text": [
      "C:\\Users\\ingeg\\AppData\\Local\\Temp\\ipykernel_1336\\1388660847.py:61: FutureWarning: The frame.append method is deprecated and will be removed from pandas in a future version. Use pandas.concat instead.\n",
      "  df = df.append({\"File_Name\": filename,\"Date\":  date, \"Sentiment\":total_sentiment, \"Publisher\":publisher, \"Mentioned_Names\":article_names, \"Text\":article}, ignore_index=True)\n"
     ]
    },
    {
     "name": "stdout",
     "output_type": "stream",
     "text": [
      "768.txt\n"
     ]
    },
    {
     "name": "stderr",
     "output_type": "stream",
     "text": [
      "C:\\Users\\ingeg\\AppData\\Local\\Temp\\ipykernel_1336\\1388660847.py:61: FutureWarning: The frame.append method is deprecated and will be removed from pandas in a future version. Use pandas.concat instead.\n",
      "  df = df.append({\"File_Name\": filename,\"Date\":  date, \"Sentiment\":total_sentiment, \"Publisher\":publisher, \"Mentioned_Names\":article_names, \"Text\":article}, ignore_index=True)\n"
     ]
    },
    {
     "name": "stdout",
     "output_type": "stream",
     "text": [
      "769.txt\n"
     ]
    },
    {
     "name": "stderr",
     "output_type": "stream",
     "text": [
      "C:\\Users\\ingeg\\AppData\\Local\\Temp\\ipykernel_1336\\1388660847.py:61: FutureWarning: The frame.append method is deprecated and will be removed from pandas in a future version. Use pandas.concat instead.\n",
      "  df = df.append({\"File_Name\": filename,\"Date\":  date, \"Sentiment\":total_sentiment, \"Publisher\":publisher, \"Mentioned_Names\":article_names, \"Text\":article}, ignore_index=True)\n"
     ]
    },
    {
     "name": "stdout",
     "output_type": "stream",
     "text": [
      "77.txt\n"
     ]
    },
    {
     "name": "stderr",
     "output_type": "stream",
     "text": [
      "C:\\Users\\ingeg\\AppData\\Local\\Temp\\ipykernel_1336\\1388660847.py:61: FutureWarning: The frame.append method is deprecated and will be removed from pandas in a future version. Use pandas.concat instead.\n",
      "  df = df.append({\"File_Name\": filename,\"Date\":  date, \"Sentiment\":total_sentiment, \"Publisher\":publisher, \"Mentioned_Names\":article_names, \"Text\":article}, ignore_index=True)\n"
     ]
    },
    {
     "name": "stdout",
     "output_type": "stream",
     "text": [
      "770.txt\n"
     ]
    },
    {
     "name": "stderr",
     "output_type": "stream",
     "text": [
      "C:\\Users\\ingeg\\AppData\\Local\\Temp\\ipykernel_1336\\1388660847.py:61: FutureWarning: The frame.append method is deprecated and will be removed from pandas in a future version. Use pandas.concat instead.\n",
      "  df = df.append({\"File_Name\": filename,\"Date\":  date, \"Sentiment\":total_sentiment, \"Publisher\":publisher, \"Mentioned_Names\":article_names, \"Text\":article}, ignore_index=True)\n"
     ]
    },
    {
     "name": "stdout",
     "output_type": "stream",
     "text": [
      "771.txt\n"
     ]
    },
    {
     "name": "stderr",
     "output_type": "stream",
     "text": [
      "C:\\Users\\ingeg\\AppData\\Local\\Temp\\ipykernel_1336\\1388660847.py:61: FutureWarning: The frame.append method is deprecated and will be removed from pandas in a future version. Use pandas.concat instead.\n",
      "  df = df.append({\"File_Name\": filename,\"Date\":  date, \"Sentiment\":total_sentiment, \"Publisher\":publisher, \"Mentioned_Names\":article_names, \"Text\":article}, ignore_index=True)\n",
      "C:\\Users\\ingeg\\AppData\\Local\\Temp\\ipykernel_1336\\1388660847.py:61: FutureWarning: The frame.append method is deprecated and will be removed from pandas in a future version. Use pandas.concat instead.\n",
      "  df = df.append({\"File_Name\": filename,\"Date\":  date, \"Sentiment\":total_sentiment, \"Publisher\":publisher, \"Mentioned_Names\":article_names, \"Text\":article}, ignore_index=True)\n"
     ]
    },
    {
     "name": "stdout",
     "output_type": "stream",
     "text": [
      "772.txt\n",
      "773.txt\n"
     ]
    },
    {
     "name": "stderr",
     "output_type": "stream",
     "text": [
      "C:\\Users\\ingeg\\AppData\\Local\\Temp\\ipykernel_1336\\1388660847.py:61: FutureWarning: The frame.append method is deprecated and will be removed from pandas in a future version. Use pandas.concat instead.\n",
      "  df = df.append({\"File_Name\": filename,\"Date\":  date, \"Sentiment\":total_sentiment, \"Publisher\":publisher, \"Mentioned_Names\":article_names, \"Text\":article}, ignore_index=True)\n",
      "C:\\Users\\ingeg\\AppData\\Local\\Temp\\ipykernel_1336\\1388660847.py:61: FutureWarning: The frame.append method is deprecated and will be removed from pandas in a future version. Use pandas.concat instead.\n",
      "  df = df.append({\"File_Name\": filename,\"Date\":  date, \"Sentiment\":total_sentiment, \"Publisher\":publisher, \"Mentioned_Names\":article_names, \"Text\":article}, ignore_index=True)\n"
     ]
    },
    {
     "name": "stdout",
     "output_type": "stream",
     "text": [
      "774.txt\n",
      "775.txt\n"
     ]
    },
    {
     "name": "stderr",
     "output_type": "stream",
     "text": [
      "C:\\Users\\ingeg\\AppData\\Local\\Temp\\ipykernel_1336\\1388660847.py:61: FutureWarning: The frame.append method is deprecated and will be removed from pandas in a future version. Use pandas.concat instead.\n",
      "  df = df.append({\"File_Name\": filename,\"Date\":  date, \"Sentiment\":total_sentiment, \"Publisher\":publisher, \"Mentioned_Names\":article_names, \"Text\":article}, ignore_index=True)\n",
      "C:\\Users\\ingeg\\AppData\\Local\\Temp\\ipykernel_1336\\1388660847.py:61: FutureWarning: The frame.append method is deprecated and will be removed from pandas in a future version. Use pandas.concat instead.\n",
      "  df = df.append({\"File_Name\": filename,\"Date\":  date, \"Sentiment\":total_sentiment, \"Publisher\":publisher, \"Mentioned_Names\":article_names, \"Text\":article}, ignore_index=True)\n"
     ]
    },
    {
     "name": "stdout",
     "output_type": "stream",
     "text": [
      "776.txt\n",
      "777.txt\n"
     ]
    },
    {
     "name": "stderr",
     "output_type": "stream",
     "text": [
      "C:\\Users\\ingeg\\AppData\\Local\\Temp\\ipykernel_1336\\1388660847.py:61: FutureWarning: The frame.append method is deprecated and will be removed from pandas in a future version. Use pandas.concat instead.\n",
      "  df = df.append({\"File_Name\": filename,\"Date\":  date, \"Sentiment\":total_sentiment, \"Publisher\":publisher, \"Mentioned_Names\":article_names, \"Text\":article}, ignore_index=True)\n"
     ]
    },
    {
     "name": "stdout",
     "output_type": "stream",
     "text": [
      "778.txt\n"
     ]
    },
    {
     "name": "stderr",
     "output_type": "stream",
     "text": [
      "C:\\Users\\ingeg\\AppData\\Local\\Temp\\ipykernel_1336\\1388660847.py:61: FutureWarning: The frame.append method is deprecated and will be removed from pandas in a future version. Use pandas.concat instead.\n",
      "  df = df.append({\"File_Name\": filename,\"Date\":  date, \"Sentiment\":total_sentiment, \"Publisher\":publisher, \"Mentioned_Names\":article_names, \"Text\":article}, ignore_index=True)\n",
      "C:\\Users\\ingeg\\AppData\\Local\\Temp\\ipykernel_1336\\1388660847.py:61: FutureWarning: The frame.append method is deprecated and will be removed from pandas in a future version. Use pandas.concat instead.\n",
      "  df = df.append({\"File_Name\": filename,\"Date\":  date, \"Sentiment\":total_sentiment, \"Publisher\":publisher, \"Mentioned_Names\":article_names, \"Text\":article}, ignore_index=True)\n"
     ]
    },
    {
     "name": "stdout",
     "output_type": "stream",
     "text": [
      "779.txt\n",
      "78.txt\n"
     ]
    },
    {
     "name": "stderr",
     "output_type": "stream",
     "text": [
      "C:\\Users\\ingeg\\AppData\\Local\\Temp\\ipykernel_1336\\1388660847.py:61: FutureWarning: The frame.append method is deprecated and will be removed from pandas in a future version. Use pandas.concat instead.\n",
      "  df = df.append({\"File_Name\": filename,\"Date\":  date, \"Sentiment\":total_sentiment, \"Publisher\":publisher, \"Mentioned_Names\":article_names, \"Text\":article}, ignore_index=True)\n"
     ]
    },
    {
     "name": "stdout",
     "output_type": "stream",
     "text": [
      "780.txt\n"
     ]
    },
    {
     "name": "stderr",
     "output_type": "stream",
     "text": [
      "C:\\Users\\ingeg\\AppData\\Local\\Temp\\ipykernel_1336\\1388660847.py:61: FutureWarning: The frame.append method is deprecated and will be removed from pandas in a future version. Use pandas.concat instead.\n",
      "  df = df.append({\"File_Name\": filename,\"Date\":  date, \"Sentiment\":total_sentiment, \"Publisher\":publisher, \"Mentioned_Names\":article_names, \"Text\":article}, ignore_index=True)\n"
     ]
    },
    {
     "name": "stdout",
     "output_type": "stream",
     "text": [
      "781.txt\n"
     ]
    },
    {
     "name": "stderr",
     "output_type": "stream",
     "text": [
      "C:\\Users\\ingeg\\AppData\\Local\\Temp\\ipykernel_1336\\1388660847.py:61: FutureWarning: The frame.append method is deprecated and will be removed from pandas in a future version. Use pandas.concat instead.\n",
      "  df = df.append({\"File_Name\": filename,\"Date\":  date, \"Sentiment\":total_sentiment, \"Publisher\":publisher, \"Mentioned_Names\":article_names, \"Text\":article}, ignore_index=True)\n"
     ]
    },
    {
     "name": "stdout",
     "output_type": "stream",
     "text": [
      "782.txt\n"
     ]
    },
    {
     "name": "stderr",
     "output_type": "stream",
     "text": [
      "C:\\Users\\ingeg\\AppData\\Local\\Temp\\ipykernel_1336\\1388660847.py:61: FutureWarning: The frame.append method is deprecated and will be removed from pandas in a future version. Use pandas.concat instead.\n",
      "  df = df.append({\"File_Name\": filename,\"Date\":  date, \"Sentiment\":total_sentiment, \"Publisher\":publisher, \"Mentioned_Names\":article_names, \"Text\":article}, ignore_index=True)\n",
      "C:\\Users\\ingeg\\AppData\\Local\\Temp\\ipykernel_1336\\1388660847.py:61: FutureWarning: The frame.append method is deprecated and will be removed from pandas in a future version. Use pandas.concat instead.\n",
      "  df = df.append({\"File_Name\": filename,\"Date\":  date, \"Sentiment\":total_sentiment, \"Publisher\":publisher, \"Mentioned_Names\":article_names, \"Text\":article}, ignore_index=True)\n"
     ]
    },
    {
     "name": "stdout",
     "output_type": "stream",
     "text": [
      "783.txt\n",
      "784.txt\n"
     ]
    },
    {
     "name": "stderr",
     "output_type": "stream",
     "text": [
      "C:\\Users\\ingeg\\AppData\\Local\\Temp\\ipykernel_1336\\1388660847.py:61: FutureWarning: The frame.append method is deprecated and will be removed from pandas in a future version. Use pandas.concat instead.\n",
      "  df = df.append({\"File_Name\": filename,\"Date\":  date, \"Sentiment\":total_sentiment, \"Publisher\":publisher, \"Mentioned_Names\":article_names, \"Text\":article}, ignore_index=True)\n",
      "C:\\Users\\ingeg\\AppData\\Local\\Temp\\ipykernel_1336\\1388660847.py:61: FutureWarning: The frame.append method is deprecated and will be removed from pandas in a future version. Use pandas.concat instead.\n",
      "  df = df.append({\"File_Name\": filename,\"Date\":  date, \"Sentiment\":total_sentiment, \"Publisher\":publisher, \"Mentioned_Names\":article_names, \"Text\":article}, ignore_index=True)\n"
     ]
    },
    {
     "name": "stdout",
     "output_type": "stream",
     "text": [
      "785.txt\n",
      "786.txt\n"
     ]
    },
    {
     "name": "stderr",
     "output_type": "stream",
     "text": [
      "C:\\Users\\ingeg\\AppData\\Local\\Temp\\ipykernel_1336\\1388660847.py:61: FutureWarning: The frame.append method is deprecated and will be removed from pandas in a future version. Use pandas.concat instead.\n",
      "  df = df.append({\"File_Name\": filename,\"Date\":  date, \"Sentiment\":total_sentiment, \"Publisher\":publisher, \"Mentioned_Names\":article_names, \"Text\":article}, ignore_index=True)\n"
     ]
    },
    {
     "name": "stdout",
     "output_type": "stream",
     "text": [
      "787.txt\n"
     ]
    },
    {
     "name": "stderr",
     "output_type": "stream",
     "text": [
      "C:\\Users\\ingeg\\AppData\\Local\\Temp\\ipykernel_1336\\1388660847.py:61: FutureWarning: The frame.append method is deprecated and will be removed from pandas in a future version. Use pandas.concat instead.\n",
      "  df = df.append({\"File_Name\": filename,\"Date\":  date, \"Sentiment\":total_sentiment, \"Publisher\":publisher, \"Mentioned_Names\":article_names, \"Text\":article}, ignore_index=True)\n"
     ]
    },
    {
     "name": "stdout",
     "output_type": "stream",
     "text": [
      "788.txt\n"
     ]
    },
    {
     "name": "stderr",
     "output_type": "stream",
     "text": [
      "C:\\Users\\ingeg\\AppData\\Local\\Temp\\ipykernel_1336\\1388660847.py:61: FutureWarning: The frame.append method is deprecated and will be removed from pandas in a future version. Use pandas.concat instead.\n",
      "  df = df.append({\"File_Name\": filename,\"Date\":  date, \"Sentiment\":total_sentiment, \"Publisher\":publisher, \"Mentioned_Names\":article_names, \"Text\":article}, ignore_index=True)\n",
      "C:\\Users\\ingeg\\AppData\\Local\\Temp\\ipykernel_1336\\1388660847.py:61: FutureWarning: The frame.append method is deprecated and will be removed from pandas in a future version. Use pandas.concat instead.\n",
      "  df = df.append({\"File_Name\": filename,\"Date\":  date, \"Sentiment\":total_sentiment, \"Publisher\":publisher, \"Mentioned_Names\":article_names, \"Text\":article}, ignore_index=True)\n"
     ]
    },
    {
     "name": "stdout",
     "output_type": "stream",
     "text": [
      "789.txt\n",
      "79.txt\n"
     ]
    },
    {
     "name": "stderr",
     "output_type": "stream",
     "text": [
      "C:\\Users\\ingeg\\AppData\\Local\\Temp\\ipykernel_1336\\1388660847.py:61: FutureWarning: The frame.append method is deprecated and will be removed from pandas in a future version. Use pandas.concat instead.\n",
      "  df = df.append({\"File_Name\": filename,\"Date\":  date, \"Sentiment\":total_sentiment, \"Publisher\":publisher, \"Mentioned_Names\":article_names, \"Text\":article}, ignore_index=True)\n",
      "C:\\Users\\ingeg\\AppData\\Local\\Temp\\ipykernel_1336\\1388660847.py:61: FutureWarning: The frame.append method is deprecated and will be removed from pandas in a future version. Use pandas.concat instead.\n",
      "  df = df.append({\"File_Name\": filename,\"Date\":  date, \"Sentiment\":total_sentiment, \"Publisher\":publisher, \"Mentioned_Names\":article_names, \"Text\":article}, ignore_index=True)\n"
     ]
    },
    {
     "name": "stdout",
     "output_type": "stream",
     "text": [
      "790.txt\n",
      "791.txt\n"
     ]
    },
    {
     "name": "stderr",
     "output_type": "stream",
     "text": [
      "C:\\Users\\ingeg\\AppData\\Local\\Temp\\ipykernel_1336\\1388660847.py:61: FutureWarning: The frame.append method is deprecated and will be removed from pandas in a future version. Use pandas.concat instead.\n",
      "  df = df.append({\"File_Name\": filename,\"Date\":  date, \"Sentiment\":total_sentiment, \"Publisher\":publisher, \"Mentioned_Names\":article_names, \"Text\":article}, ignore_index=True)\n"
     ]
    },
    {
     "name": "stdout",
     "output_type": "stream",
     "text": [
      "792.txt\n"
     ]
    },
    {
     "name": "stderr",
     "output_type": "stream",
     "text": [
      "C:\\Users\\ingeg\\AppData\\Local\\Temp\\ipykernel_1336\\1388660847.py:61: FutureWarning: The frame.append method is deprecated and will be removed from pandas in a future version. Use pandas.concat instead.\n",
      "  df = df.append({\"File_Name\": filename,\"Date\":  date, \"Sentiment\":total_sentiment, \"Publisher\":publisher, \"Mentioned_Names\":article_names, \"Text\":article}, ignore_index=True)\n"
     ]
    },
    {
     "name": "stdout",
     "output_type": "stream",
     "text": [
      "793.txt\n"
     ]
    },
    {
     "name": "stderr",
     "output_type": "stream",
     "text": [
      "C:\\Users\\ingeg\\AppData\\Local\\Temp\\ipykernel_1336\\1388660847.py:61: FutureWarning: The frame.append method is deprecated and will be removed from pandas in a future version. Use pandas.concat instead.\n",
      "  df = df.append({\"File_Name\": filename,\"Date\":  date, \"Sentiment\":total_sentiment, \"Publisher\":publisher, \"Mentioned_Names\":article_names, \"Text\":article}, ignore_index=True)\n"
     ]
    },
    {
     "name": "stdout",
     "output_type": "stream",
     "text": [
      "794.txt\n"
     ]
    },
    {
     "name": "stderr",
     "output_type": "stream",
     "text": [
      "C:\\Users\\ingeg\\AppData\\Local\\Temp\\ipykernel_1336\\1388660847.py:61: FutureWarning: The frame.append method is deprecated and will be removed from pandas in a future version. Use pandas.concat instead.\n",
      "  df = df.append({\"File_Name\": filename,\"Date\":  date, \"Sentiment\":total_sentiment, \"Publisher\":publisher, \"Mentioned_Names\":article_names, \"Text\":article}, ignore_index=True)\n"
     ]
    },
    {
     "name": "stdout",
     "output_type": "stream",
     "text": [
      "795.txt\n"
     ]
    },
    {
     "name": "stderr",
     "output_type": "stream",
     "text": [
      "C:\\Users\\ingeg\\AppData\\Local\\Temp\\ipykernel_1336\\1388660847.py:61: FutureWarning: The frame.append method is deprecated and will be removed from pandas in a future version. Use pandas.concat instead.\n",
      "  df = df.append({\"File_Name\": filename,\"Date\":  date, \"Sentiment\":total_sentiment, \"Publisher\":publisher, \"Mentioned_Names\":article_names, \"Text\":article}, ignore_index=True)\n"
     ]
    },
    {
     "name": "stdout",
     "output_type": "stream",
     "text": [
      "796.txt\n"
     ]
    },
    {
     "name": "stderr",
     "output_type": "stream",
     "text": [
      "C:\\Users\\ingeg\\AppData\\Local\\Temp\\ipykernel_1336\\1388660847.py:61: FutureWarning: The frame.append method is deprecated and will be removed from pandas in a future version. Use pandas.concat instead.\n",
      "  df = df.append({\"File_Name\": filename,\"Date\":  date, \"Sentiment\":total_sentiment, \"Publisher\":publisher, \"Mentioned_Names\":article_names, \"Text\":article}, ignore_index=True)\n",
      "C:\\Users\\ingeg\\AppData\\Local\\Temp\\ipykernel_1336\\1388660847.py:61: FutureWarning: The frame.append method is deprecated and will be removed from pandas in a future version. Use pandas.concat instead.\n",
      "  df = df.append({\"File_Name\": filename,\"Date\":  date, \"Sentiment\":total_sentiment, \"Publisher\":publisher, \"Mentioned_Names\":article_names, \"Text\":article}, ignore_index=True)\n"
     ]
    },
    {
     "name": "stdout",
     "output_type": "stream",
     "text": [
      "797.txt\n",
      "798.txt\n"
     ]
    },
    {
     "name": "stderr",
     "output_type": "stream",
     "text": [
      "C:\\Users\\ingeg\\AppData\\Local\\Temp\\ipykernel_1336\\1388660847.py:61: FutureWarning: The frame.append method is deprecated and will be removed from pandas in a future version. Use pandas.concat instead.\n",
      "  df = df.append({\"File_Name\": filename,\"Date\":  date, \"Sentiment\":total_sentiment, \"Publisher\":publisher, \"Mentioned_Names\":article_names, \"Text\":article}, ignore_index=True)\n"
     ]
    },
    {
     "name": "stdout",
     "output_type": "stream",
     "text": [
      "799.txt\n"
     ]
    },
    {
     "name": "stderr",
     "output_type": "stream",
     "text": [
      "C:\\Users\\ingeg\\AppData\\Local\\Temp\\ipykernel_1336\\1388660847.py:61: FutureWarning: The frame.append method is deprecated and will be removed from pandas in a future version. Use pandas.concat instead.\n",
      "  df = df.append({\"File_Name\": filename,\"Date\":  date, \"Sentiment\":total_sentiment, \"Publisher\":publisher, \"Mentioned_Names\":article_names, \"Text\":article}, ignore_index=True)\n",
      "C:\\Users\\ingeg\\AppData\\Local\\Temp\\ipykernel_1336\\1388660847.py:61: FutureWarning: The frame.append method is deprecated and will be removed from pandas in a future version. Use pandas.concat instead.\n",
      "  df = df.append({\"File_Name\": filename,\"Date\":  date, \"Sentiment\":total_sentiment, \"Publisher\":publisher, \"Mentioned_Names\":article_names, \"Text\":article}, ignore_index=True)\n"
     ]
    },
    {
     "name": "stdout",
     "output_type": "stream",
     "text": [
      "8.txt\n",
      "80.txt\n"
     ]
    },
    {
     "name": "stderr",
     "output_type": "stream",
     "text": [
      "C:\\Users\\ingeg\\AppData\\Local\\Temp\\ipykernel_1336\\1388660847.py:61: FutureWarning: The frame.append method is deprecated and will be removed from pandas in a future version. Use pandas.concat instead.\n",
      "  df = df.append({\"File_Name\": filename,\"Date\":  date, \"Sentiment\":total_sentiment, \"Publisher\":publisher, \"Mentioned_Names\":article_names, \"Text\":article}, ignore_index=True)\n",
      "C:\\Users\\ingeg\\AppData\\Local\\Temp\\ipykernel_1336\\1388660847.py:61: FutureWarning: The frame.append method is deprecated and will be removed from pandas in a future version. Use pandas.concat instead.\n",
      "  df = df.append({\"File_Name\": filename,\"Date\":  date, \"Sentiment\":total_sentiment, \"Publisher\":publisher, \"Mentioned_Names\":article_names, \"Text\":article}, ignore_index=True)\n"
     ]
    },
    {
     "name": "stdout",
     "output_type": "stream",
     "text": [
      "800.txt\n",
      "801.txt\n"
     ]
    },
    {
     "name": "stderr",
     "output_type": "stream",
     "text": [
      "C:\\Users\\ingeg\\AppData\\Local\\Temp\\ipykernel_1336\\1388660847.py:61: FutureWarning: The frame.append method is deprecated and will be removed from pandas in a future version. Use pandas.concat instead.\n",
      "  df = df.append({\"File_Name\": filename,\"Date\":  date, \"Sentiment\":total_sentiment, \"Publisher\":publisher, \"Mentioned_Names\":article_names, \"Text\":article}, ignore_index=True)\n"
     ]
    },
    {
     "name": "stdout",
     "output_type": "stream",
     "text": [
      "802.txt\n"
     ]
    },
    {
     "name": "stderr",
     "output_type": "stream",
     "text": [
      "C:\\Users\\ingeg\\AppData\\Local\\Temp\\ipykernel_1336\\1388660847.py:61: FutureWarning: The frame.append method is deprecated and will be removed from pandas in a future version. Use pandas.concat instead.\n",
      "  df = df.append({\"File_Name\": filename,\"Date\":  date, \"Sentiment\":total_sentiment, \"Publisher\":publisher, \"Mentioned_Names\":article_names, \"Text\":article}, ignore_index=True)\n",
      "C:\\Users\\ingeg\\AppData\\Local\\Temp\\ipykernel_1336\\1388660847.py:61: FutureWarning: The frame.append method is deprecated and will be removed from pandas in a future version. Use pandas.concat instead.\n",
      "  df = df.append({\"File_Name\": filename,\"Date\":  date, \"Sentiment\":total_sentiment, \"Publisher\":publisher, \"Mentioned_Names\":article_names, \"Text\":article}, ignore_index=True)\n"
     ]
    },
    {
     "name": "stdout",
     "output_type": "stream",
     "text": [
      "803.txt\n",
      "804.txt\n"
     ]
    },
    {
     "name": "stderr",
     "output_type": "stream",
     "text": [
      "C:\\Users\\ingeg\\AppData\\Local\\Temp\\ipykernel_1336\\1388660847.py:61: FutureWarning: The frame.append method is deprecated and will be removed from pandas in a future version. Use pandas.concat instead.\n",
      "  df = df.append({\"File_Name\": filename,\"Date\":  date, \"Sentiment\":total_sentiment, \"Publisher\":publisher, \"Mentioned_Names\":article_names, \"Text\":article}, ignore_index=True)\n",
      "C:\\Users\\ingeg\\AppData\\Local\\Temp\\ipykernel_1336\\1388660847.py:61: FutureWarning: The frame.append method is deprecated and will be removed from pandas in a future version. Use pandas.concat instead.\n",
      "  df = df.append({\"File_Name\": filename,\"Date\":  date, \"Sentiment\":total_sentiment, \"Publisher\":publisher, \"Mentioned_Names\":article_names, \"Text\":article}, ignore_index=True)\n",
      "C:\\Users\\ingeg\\AppData\\Local\\Temp\\ipykernel_1336\\1388660847.py:61: FutureWarning: The frame.append method is deprecated and will be removed from pandas in a future version. Use pandas.concat instead.\n",
      "  df = df.append({\"File_Name\": filename,\"Date\":  date, \"Sentiment\":total_sentiment, \"Publisher\":publisher, \"Mentioned_Names\":article_names, \"Text\":article}, ignore_index=True)\n"
     ]
    },
    {
     "name": "stdout",
     "output_type": "stream",
     "text": [
      "805.txt\n",
      "806.txt\n",
      "807.txt\n"
     ]
    },
    {
     "name": "stderr",
     "output_type": "stream",
     "text": [
      "C:\\Users\\ingeg\\AppData\\Local\\Temp\\ipykernel_1336\\1388660847.py:61: FutureWarning: The frame.append method is deprecated and will be removed from pandas in a future version. Use pandas.concat instead.\n",
      "  df = df.append({\"File_Name\": filename,\"Date\":  date, \"Sentiment\":total_sentiment, \"Publisher\":publisher, \"Mentioned_Names\":article_names, \"Text\":article}, ignore_index=True)\n"
     ]
    },
    {
     "name": "stdout",
     "output_type": "stream",
     "text": [
      "808.txt\n"
     ]
    },
    {
     "name": "stderr",
     "output_type": "stream",
     "text": [
      "C:\\Users\\ingeg\\AppData\\Local\\Temp\\ipykernel_1336\\1388660847.py:61: FutureWarning: The frame.append method is deprecated and will be removed from pandas in a future version. Use pandas.concat instead.\n",
      "  df = df.append({\"File_Name\": filename,\"Date\":  date, \"Sentiment\":total_sentiment, \"Publisher\":publisher, \"Mentioned_Names\":article_names, \"Text\":article}, ignore_index=True)\n"
     ]
    },
    {
     "name": "stdout",
     "output_type": "stream",
     "text": [
      "809.txt\n"
     ]
    },
    {
     "name": "stderr",
     "output_type": "stream",
     "text": [
      "C:\\Users\\ingeg\\AppData\\Local\\Temp\\ipykernel_1336\\1388660847.py:61: FutureWarning: The frame.append method is deprecated and will be removed from pandas in a future version. Use pandas.concat instead.\n",
      "  df = df.append({\"File_Name\": filename,\"Date\":  date, \"Sentiment\":total_sentiment, \"Publisher\":publisher, \"Mentioned_Names\":article_names, \"Text\":article}, ignore_index=True)\n"
     ]
    },
    {
     "name": "stdout",
     "output_type": "stream",
     "text": [
      "81.txt\n"
     ]
    },
    {
     "name": "stderr",
     "output_type": "stream",
     "text": [
      "C:\\Users\\ingeg\\AppData\\Local\\Temp\\ipykernel_1336\\1388660847.py:61: FutureWarning: The frame.append method is deprecated and will be removed from pandas in a future version. Use pandas.concat instead.\n",
      "  df = df.append({\"File_Name\": filename,\"Date\":  date, \"Sentiment\":total_sentiment, \"Publisher\":publisher, \"Mentioned_Names\":article_names, \"Text\":article}, ignore_index=True)\n"
     ]
    },
    {
     "name": "stdout",
     "output_type": "stream",
     "text": [
      "810.txt\n"
     ]
    },
    {
     "name": "stderr",
     "output_type": "stream",
     "text": [
      "C:\\Users\\ingeg\\AppData\\Local\\Temp\\ipykernel_1336\\1388660847.py:61: FutureWarning: The frame.append method is deprecated and will be removed from pandas in a future version. Use pandas.concat instead.\n",
      "  df = df.append({\"File_Name\": filename,\"Date\":  date, \"Sentiment\":total_sentiment, \"Publisher\":publisher, \"Mentioned_Names\":article_names, \"Text\":article}, ignore_index=True)\n",
      "C:\\Users\\ingeg\\AppData\\Local\\Temp\\ipykernel_1336\\1388660847.py:61: FutureWarning: The frame.append method is deprecated and will be removed from pandas in a future version. Use pandas.concat instead.\n",
      "  df = df.append({\"File_Name\": filename,\"Date\":  date, \"Sentiment\":total_sentiment, \"Publisher\":publisher, \"Mentioned_Names\":article_names, \"Text\":article}, ignore_index=True)\n"
     ]
    },
    {
     "name": "stdout",
     "output_type": "stream",
     "text": [
      "811.txt\n",
      "812.txt\n"
     ]
    },
    {
     "name": "stderr",
     "output_type": "stream",
     "text": [
      "C:\\Users\\ingeg\\AppData\\Local\\Temp\\ipykernel_1336\\1388660847.py:61: FutureWarning: The frame.append method is deprecated and will be removed from pandas in a future version. Use pandas.concat instead.\n",
      "  df = df.append({\"File_Name\": filename,\"Date\":  date, \"Sentiment\":total_sentiment, \"Publisher\":publisher, \"Mentioned_Names\":article_names, \"Text\":article}, ignore_index=True)\n",
      "C:\\Users\\ingeg\\AppData\\Local\\Temp\\ipykernel_1336\\1388660847.py:61: FutureWarning: The frame.append method is deprecated and will be removed from pandas in a future version. Use pandas.concat instead.\n",
      "  df = df.append({\"File_Name\": filename,\"Date\":  date, \"Sentiment\":total_sentiment, \"Publisher\":publisher, \"Mentioned_Names\":article_names, \"Text\":article}, ignore_index=True)\n"
     ]
    },
    {
     "name": "stdout",
     "output_type": "stream",
     "text": [
      "813.txt\n",
      "814.txt\n"
     ]
    },
    {
     "name": "stderr",
     "output_type": "stream",
     "text": [
      "C:\\Users\\ingeg\\AppData\\Local\\Temp\\ipykernel_1336\\1388660847.py:61: FutureWarning: The frame.append method is deprecated and will be removed from pandas in a future version. Use pandas.concat instead.\n",
      "  df = df.append({\"File_Name\": filename,\"Date\":  date, \"Sentiment\":total_sentiment, \"Publisher\":publisher, \"Mentioned_Names\":article_names, \"Text\":article}, ignore_index=True)\n"
     ]
    },
    {
     "name": "stdout",
     "output_type": "stream",
     "text": [
      "815.txt\n"
     ]
    },
    {
     "name": "stderr",
     "output_type": "stream",
     "text": [
      "C:\\Users\\ingeg\\AppData\\Local\\Temp\\ipykernel_1336\\1388660847.py:61: FutureWarning: The frame.append method is deprecated and will be removed from pandas in a future version. Use pandas.concat instead.\n",
      "  df = df.append({\"File_Name\": filename,\"Date\":  date, \"Sentiment\":total_sentiment, \"Publisher\":publisher, \"Mentioned_Names\":article_names, \"Text\":article}, ignore_index=True)\n"
     ]
    },
    {
     "name": "stdout",
     "output_type": "stream",
     "text": [
      "816.txt\n"
     ]
    },
    {
     "name": "stderr",
     "output_type": "stream",
     "text": [
      "C:\\Users\\ingeg\\AppData\\Local\\Temp\\ipykernel_1336\\1388660847.py:61: FutureWarning: The frame.append method is deprecated and will be removed from pandas in a future version. Use pandas.concat instead.\n",
      "  df = df.append({\"File_Name\": filename,\"Date\":  date, \"Sentiment\":total_sentiment, \"Publisher\":publisher, \"Mentioned_Names\":article_names, \"Text\":article}, ignore_index=True)\n",
      "C:\\Users\\ingeg\\AppData\\Local\\Temp\\ipykernel_1336\\1388660847.py:61: FutureWarning: The frame.append method is deprecated and will be removed from pandas in a future version. Use pandas.concat instead.\n",
      "  df = df.append({\"File_Name\": filename,\"Date\":  date, \"Sentiment\":total_sentiment, \"Publisher\":publisher, \"Mentioned_Names\":article_names, \"Text\":article}, ignore_index=True)\n"
     ]
    },
    {
     "name": "stdout",
     "output_type": "stream",
     "text": [
      "817.txt\n",
      "818.txt\n"
     ]
    },
    {
     "name": "stderr",
     "output_type": "stream",
     "text": [
      "C:\\Users\\ingeg\\AppData\\Local\\Temp\\ipykernel_1336\\1388660847.py:61: FutureWarning: The frame.append method is deprecated and will be removed from pandas in a future version. Use pandas.concat instead.\n",
      "  df = df.append({\"File_Name\": filename,\"Date\":  date, \"Sentiment\":total_sentiment, \"Publisher\":publisher, \"Mentioned_Names\":article_names, \"Text\":article}, ignore_index=True)\n",
      "C:\\Users\\ingeg\\AppData\\Local\\Temp\\ipykernel_1336\\1388660847.py:61: FutureWarning: The frame.append method is deprecated and will be removed from pandas in a future version. Use pandas.concat instead.\n",
      "  df = df.append({\"File_Name\": filename,\"Date\":  date, \"Sentiment\":total_sentiment, \"Publisher\":publisher, \"Mentioned_Names\":article_names, \"Text\":article}, ignore_index=True)\n"
     ]
    },
    {
     "name": "stdout",
     "output_type": "stream",
     "text": [
      "819.txt\n",
      "82.txt\n",
      "820.txt\n"
     ]
    },
    {
     "name": "stderr",
     "output_type": "stream",
     "text": [
      "C:\\Users\\ingeg\\AppData\\Local\\Temp\\ipykernel_1336\\1388660847.py:61: FutureWarning: The frame.append method is deprecated and will be removed from pandas in a future version. Use pandas.concat instead.\n",
      "  df = df.append({\"File_Name\": filename,\"Date\":  date, \"Sentiment\":total_sentiment, \"Publisher\":publisher, \"Mentioned_Names\":article_names, \"Text\":article}, ignore_index=True)\n",
      "C:\\Users\\ingeg\\AppData\\Local\\Temp\\ipykernel_1336\\1388660847.py:61: FutureWarning: The frame.append method is deprecated and will be removed from pandas in a future version. Use pandas.concat instead.\n",
      "  df = df.append({\"File_Name\": filename,\"Date\":  date, \"Sentiment\":total_sentiment, \"Publisher\":publisher, \"Mentioned_Names\":article_names, \"Text\":article}, ignore_index=True)\n",
      "C:\\Users\\ingeg\\AppData\\Local\\Temp\\ipykernel_1336\\1388660847.py:61: FutureWarning: The frame.append method is deprecated and will be removed from pandas in a future version. Use pandas.concat instead.\n",
      "  df = df.append({\"File_Name\": filename,\"Date\":  date, \"Sentiment\":total_sentiment, \"Publisher\":publisher, \"Mentioned_Names\":article_names, \"Text\":article}, ignore_index=True)\n"
     ]
    },
    {
     "name": "stdout",
     "output_type": "stream",
     "text": [
      "821.txt\n",
      "822.txt\n"
     ]
    },
    {
     "name": "stderr",
     "output_type": "stream",
     "text": [
      "C:\\Users\\ingeg\\AppData\\Local\\Temp\\ipykernel_1336\\1388660847.py:61: FutureWarning: The frame.append method is deprecated and will be removed from pandas in a future version. Use pandas.concat instead.\n",
      "  df = df.append({\"File_Name\": filename,\"Date\":  date, \"Sentiment\":total_sentiment, \"Publisher\":publisher, \"Mentioned_Names\":article_names, \"Text\":article}, ignore_index=True)\n",
      "C:\\Users\\ingeg\\AppData\\Local\\Temp\\ipykernel_1336\\1388660847.py:61: FutureWarning: The frame.append method is deprecated and will be removed from pandas in a future version. Use pandas.concat instead.\n",
      "  df = df.append({\"File_Name\": filename,\"Date\":  date, \"Sentiment\":total_sentiment, \"Publisher\":publisher, \"Mentioned_Names\":article_names, \"Text\":article}, ignore_index=True)\n"
     ]
    },
    {
     "name": "stdout",
     "output_type": "stream",
     "text": [
      "823.txt\n",
      "824.txt\n"
     ]
    },
    {
     "name": "stderr",
     "output_type": "stream",
     "text": [
      "C:\\Users\\ingeg\\AppData\\Local\\Temp\\ipykernel_1336\\1388660847.py:61: FutureWarning: The frame.append method is deprecated and will be removed from pandas in a future version. Use pandas.concat instead.\n",
      "  df = df.append({\"File_Name\": filename,\"Date\":  date, \"Sentiment\":total_sentiment, \"Publisher\":publisher, \"Mentioned_Names\":article_names, \"Text\":article}, ignore_index=True)\n",
      "C:\\Users\\ingeg\\AppData\\Local\\Temp\\ipykernel_1336\\1388660847.py:61: FutureWarning: The frame.append method is deprecated and will be removed from pandas in a future version. Use pandas.concat instead.\n",
      "  df = df.append({\"File_Name\": filename,\"Date\":  date, \"Sentiment\":total_sentiment, \"Publisher\":publisher, \"Mentioned_Names\":article_names, \"Text\":article}, ignore_index=True)\n"
     ]
    },
    {
     "name": "stdout",
     "output_type": "stream",
     "text": [
      "825.txt\n",
      "826.txt\n"
     ]
    },
    {
     "name": "stderr",
     "output_type": "stream",
     "text": [
      "C:\\Users\\ingeg\\AppData\\Local\\Temp\\ipykernel_1336\\1388660847.py:61: FutureWarning: The frame.append method is deprecated and will be removed from pandas in a future version. Use pandas.concat instead.\n",
      "  df = df.append({\"File_Name\": filename,\"Date\":  date, \"Sentiment\":total_sentiment, \"Publisher\":publisher, \"Mentioned_Names\":article_names, \"Text\":article}, ignore_index=True)\n",
      "C:\\Users\\ingeg\\AppData\\Local\\Temp\\ipykernel_1336\\1388660847.py:61: FutureWarning: The frame.append method is deprecated and will be removed from pandas in a future version. Use pandas.concat instead.\n",
      "  df = df.append({\"File_Name\": filename,\"Date\":  date, \"Sentiment\":total_sentiment, \"Publisher\":publisher, \"Mentioned_Names\":article_names, \"Text\":article}, ignore_index=True)\n"
     ]
    },
    {
     "name": "stdout",
     "output_type": "stream",
     "text": [
      "827.txt\n",
      "828.txt\n",
      "829.txt\n"
     ]
    },
    {
     "name": "stderr",
     "output_type": "stream",
     "text": [
      "C:\\Users\\ingeg\\AppData\\Local\\Temp\\ipykernel_1336\\1388660847.py:61: FutureWarning: The frame.append method is deprecated and will be removed from pandas in a future version. Use pandas.concat instead.\n",
      "  df = df.append({\"File_Name\": filename,\"Date\":  date, \"Sentiment\":total_sentiment, \"Publisher\":publisher, \"Mentioned_Names\":article_names, \"Text\":article}, ignore_index=True)\n",
      "C:\\Users\\ingeg\\AppData\\Local\\Temp\\ipykernel_1336\\1388660847.py:61: FutureWarning: The frame.append method is deprecated and will be removed from pandas in a future version. Use pandas.concat instead.\n",
      "  df = df.append({\"File_Name\": filename,\"Date\":  date, \"Sentiment\":total_sentiment, \"Publisher\":publisher, \"Mentioned_Names\":article_names, \"Text\":article}, ignore_index=True)\n"
     ]
    },
    {
     "name": "stdout",
     "output_type": "stream",
     "text": [
      "83.txt\n"
     ]
    },
    {
     "name": "stderr",
     "output_type": "stream",
     "text": [
      "C:\\Users\\ingeg\\AppData\\Local\\Temp\\ipykernel_1336\\1388660847.py:61: FutureWarning: The frame.append method is deprecated and will be removed from pandas in a future version. Use pandas.concat instead.\n",
      "  df = df.append({\"File_Name\": filename,\"Date\":  date, \"Sentiment\":total_sentiment, \"Publisher\":publisher, \"Mentioned_Names\":article_names, \"Text\":article}, ignore_index=True)\n",
      "C:\\Users\\ingeg\\AppData\\Local\\Temp\\ipykernel_1336\\1388660847.py:61: FutureWarning: The frame.append method is deprecated and will be removed from pandas in a future version. Use pandas.concat instead.\n",
      "  df = df.append({\"File_Name\": filename,\"Date\":  date, \"Sentiment\":total_sentiment, \"Publisher\":publisher, \"Mentioned_Names\":article_names, \"Text\":article}, ignore_index=True)\n"
     ]
    },
    {
     "name": "stdout",
     "output_type": "stream",
     "text": [
      "830.txt\n",
      "831.txt\n"
     ]
    },
    {
     "name": "stderr",
     "output_type": "stream",
     "text": [
      "C:\\Users\\ingeg\\AppData\\Local\\Temp\\ipykernel_1336\\1388660847.py:61: FutureWarning: The frame.append method is deprecated and will be removed from pandas in a future version. Use pandas.concat instead.\n",
      "  df = df.append({\"File_Name\": filename,\"Date\":  date, \"Sentiment\":total_sentiment, \"Publisher\":publisher, \"Mentioned_Names\":article_names, \"Text\":article}, ignore_index=True)\n"
     ]
    },
    {
     "name": "stdout",
     "output_type": "stream",
     "text": [
      "832.txt\n"
     ]
    },
    {
     "name": "stderr",
     "output_type": "stream",
     "text": [
      "C:\\Users\\ingeg\\AppData\\Local\\Temp\\ipykernel_1336\\1388660847.py:61: FutureWarning: The frame.append method is deprecated and will be removed from pandas in a future version. Use pandas.concat instead.\n",
      "  df = df.append({\"File_Name\": filename,\"Date\":  date, \"Sentiment\":total_sentiment, \"Publisher\":publisher, \"Mentioned_Names\":article_names, \"Text\":article}, ignore_index=True)\n",
      "C:\\Users\\ingeg\\AppData\\Local\\Temp\\ipykernel_1336\\1388660847.py:61: FutureWarning: The frame.append method is deprecated and will be removed from pandas in a future version. Use pandas.concat instead.\n",
      "  df = df.append({\"File_Name\": filename,\"Date\":  date, \"Sentiment\":total_sentiment, \"Publisher\":publisher, \"Mentioned_Names\":article_names, \"Text\":article}, ignore_index=True)\n"
     ]
    },
    {
     "name": "stdout",
     "output_type": "stream",
     "text": [
      "833.txt\n",
      "834.txt\n"
     ]
    },
    {
     "name": "stderr",
     "output_type": "stream",
     "text": [
      "C:\\Users\\ingeg\\AppData\\Local\\Temp\\ipykernel_1336\\1388660847.py:61: FutureWarning: The frame.append method is deprecated and will be removed from pandas in a future version. Use pandas.concat instead.\n",
      "  df = df.append({\"File_Name\": filename,\"Date\":  date, \"Sentiment\":total_sentiment, \"Publisher\":publisher, \"Mentioned_Names\":article_names, \"Text\":article}, ignore_index=True)\n"
     ]
    },
    {
     "name": "stdout",
     "output_type": "stream",
     "text": [
      "835.txt\n"
     ]
    },
    {
     "name": "stderr",
     "output_type": "stream",
     "text": [
      "C:\\Users\\ingeg\\AppData\\Local\\Temp\\ipykernel_1336\\1388660847.py:61: FutureWarning: The frame.append method is deprecated and will be removed from pandas in a future version. Use pandas.concat instead.\n",
      "  df = df.append({\"File_Name\": filename,\"Date\":  date, \"Sentiment\":total_sentiment, \"Publisher\":publisher, \"Mentioned_Names\":article_names, \"Text\":article}, ignore_index=True)\n",
      "C:\\Users\\ingeg\\AppData\\Local\\Temp\\ipykernel_1336\\1388660847.py:61: FutureWarning: The frame.append method is deprecated and will be removed from pandas in a future version. Use pandas.concat instead.\n",
      "  df = df.append({\"File_Name\": filename,\"Date\":  date, \"Sentiment\":total_sentiment, \"Publisher\":publisher, \"Mentioned_Names\":article_names, \"Text\":article}, ignore_index=True)\n"
     ]
    },
    {
     "name": "stdout",
     "output_type": "stream",
     "text": [
      "836.txt\n",
      "837.txt\n"
     ]
    },
    {
     "name": "stderr",
     "output_type": "stream",
     "text": [
      "C:\\Users\\ingeg\\AppData\\Local\\Temp\\ipykernel_1336\\1388660847.py:61: FutureWarning: The frame.append method is deprecated and will be removed from pandas in a future version. Use pandas.concat instead.\n",
      "  df = df.append({\"File_Name\": filename,\"Date\":  date, \"Sentiment\":total_sentiment, \"Publisher\":publisher, \"Mentioned_Names\":article_names, \"Text\":article}, ignore_index=True)\n"
     ]
    },
    {
     "name": "stdout",
     "output_type": "stream",
     "text": [
      "838.txt\n"
     ]
    },
    {
     "name": "stderr",
     "output_type": "stream",
     "text": [
      "C:\\Users\\ingeg\\AppData\\Local\\Temp\\ipykernel_1336\\1388660847.py:61: FutureWarning: The frame.append method is deprecated and will be removed from pandas in a future version. Use pandas.concat instead.\n",
      "  df = df.append({\"File_Name\": filename,\"Date\":  date, \"Sentiment\":total_sentiment, \"Publisher\":publisher, \"Mentioned_Names\":article_names, \"Text\":article}, ignore_index=True)\n"
     ]
    },
    {
     "name": "stdout",
     "output_type": "stream",
     "text": [
      "839.txt\n"
     ]
    },
    {
     "name": "stderr",
     "output_type": "stream",
     "text": [
      "C:\\Users\\ingeg\\AppData\\Local\\Temp\\ipykernel_1336\\1388660847.py:61: FutureWarning: The frame.append method is deprecated and will be removed from pandas in a future version. Use pandas.concat instead.\n",
      "  df = df.append({\"File_Name\": filename,\"Date\":  date, \"Sentiment\":total_sentiment, \"Publisher\":publisher, \"Mentioned_Names\":article_names, \"Text\":article}, ignore_index=True)\n"
     ]
    },
    {
     "name": "stdout",
     "output_type": "stream",
     "text": [
      "84.txt\n"
     ]
    },
    {
     "name": "stderr",
     "output_type": "stream",
     "text": [
      "C:\\Users\\ingeg\\AppData\\Local\\Temp\\ipykernel_1336\\1388660847.py:61: FutureWarning: The frame.append method is deprecated and will be removed from pandas in a future version. Use pandas.concat instead.\n",
      "  df = df.append({\"File_Name\": filename,\"Date\":  date, \"Sentiment\":total_sentiment, \"Publisher\":publisher, \"Mentioned_Names\":article_names, \"Text\":article}, ignore_index=True)\n"
     ]
    },
    {
     "name": "stdout",
     "output_type": "stream",
     "text": [
      "840.txt\n"
     ]
    },
    {
     "name": "stderr",
     "output_type": "stream",
     "text": [
      "C:\\Users\\ingeg\\AppData\\Local\\Temp\\ipykernel_1336\\1388660847.py:61: FutureWarning: The frame.append method is deprecated and will be removed from pandas in a future version. Use pandas.concat instead.\n",
      "  df = df.append({\"File_Name\": filename,\"Date\":  date, \"Sentiment\":total_sentiment, \"Publisher\":publisher, \"Mentioned_Names\":article_names, \"Text\":article}, ignore_index=True)\n",
      "C:\\Users\\ingeg\\AppData\\Local\\Temp\\ipykernel_1336\\1388660847.py:61: FutureWarning: The frame.append method is deprecated and will be removed from pandas in a future version. Use pandas.concat instead.\n",
      "  df = df.append({\"File_Name\": filename,\"Date\":  date, \"Sentiment\":total_sentiment, \"Publisher\":publisher, \"Mentioned_Names\":article_names, \"Text\":article}, ignore_index=True)\n"
     ]
    },
    {
     "name": "stdout",
     "output_type": "stream",
     "text": [
      "841.txt\n",
      "842.txt\n"
     ]
    },
    {
     "name": "stderr",
     "output_type": "stream",
     "text": [
      "C:\\Users\\ingeg\\AppData\\Local\\Temp\\ipykernel_1336\\1388660847.py:61: FutureWarning: The frame.append method is deprecated and will be removed from pandas in a future version. Use pandas.concat instead.\n",
      "  df = df.append({\"File_Name\": filename,\"Date\":  date, \"Sentiment\":total_sentiment, \"Publisher\":publisher, \"Mentioned_Names\":article_names, \"Text\":article}, ignore_index=True)\n"
     ]
    },
    {
     "name": "stdout",
     "output_type": "stream",
     "text": [
      "843.txt\n"
     ]
    },
    {
     "name": "stderr",
     "output_type": "stream",
     "text": [
      "C:\\Users\\ingeg\\AppData\\Local\\Temp\\ipykernel_1336\\1388660847.py:61: FutureWarning: The frame.append method is deprecated and will be removed from pandas in a future version. Use pandas.concat instead.\n",
      "  df = df.append({\"File_Name\": filename,\"Date\":  date, \"Sentiment\":total_sentiment, \"Publisher\":publisher, \"Mentioned_Names\":article_names, \"Text\":article}, ignore_index=True)\n",
      "C:\\Users\\ingeg\\AppData\\Local\\Temp\\ipykernel_1336\\1388660847.py:61: FutureWarning: The frame.append method is deprecated and will be removed from pandas in a future version. Use pandas.concat instead.\n",
      "  df = df.append({\"File_Name\": filename,\"Date\":  date, \"Sentiment\":total_sentiment, \"Publisher\":publisher, \"Mentioned_Names\":article_names, \"Text\":article}, ignore_index=True)\n"
     ]
    },
    {
     "name": "stdout",
     "output_type": "stream",
     "text": [
      "844.txt\n",
      "85.txt\n"
     ]
    },
    {
     "name": "stderr",
     "output_type": "stream",
     "text": [
      "C:\\Users\\ingeg\\AppData\\Local\\Temp\\ipykernel_1336\\1388660847.py:61: FutureWarning: The frame.append method is deprecated and will be removed from pandas in a future version. Use pandas.concat instead.\n",
      "  df = df.append({\"File_Name\": filename,\"Date\":  date, \"Sentiment\":total_sentiment, \"Publisher\":publisher, \"Mentioned_Names\":article_names, \"Text\":article}, ignore_index=True)\n",
      "C:\\Users\\ingeg\\AppData\\Local\\Temp\\ipykernel_1336\\1388660847.py:61: FutureWarning: The frame.append method is deprecated and will be removed from pandas in a future version. Use pandas.concat instead.\n",
      "  df = df.append({\"File_Name\": filename,\"Date\":  date, \"Sentiment\":total_sentiment, \"Publisher\":publisher, \"Mentioned_Names\":article_names, \"Text\":article}, ignore_index=True)\n"
     ]
    },
    {
     "name": "stdout",
     "output_type": "stream",
     "text": [
      "86.txt\n",
      "87.txt\n",
      "88.txt\n"
     ]
    },
    {
     "name": "stderr",
     "output_type": "stream",
     "text": [
      "C:\\Users\\ingeg\\AppData\\Local\\Temp\\ipykernel_1336\\1388660847.py:61: FutureWarning: The frame.append method is deprecated and will be removed from pandas in a future version. Use pandas.concat instead.\n",
      "  df = df.append({\"File_Name\": filename,\"Date\":  date, \"Sentiment\":total_sentiment, \"Publisher\":publisher, \"Mentioned_Names\":article_names, \"Text\":article}, ignore_index=True)\n",
      "C:\\Users\\ingeg\\AppData\\Local\\Temp\\ipykernel_1336\\1388660847.py:61: FutureWarning: The frame.append method is deprecated and will be removed from pandas in a future version. Use pandas.concat instead.\n",
      "  df = df.append({\"File_Name\": filename,\"Date\":  date, \"Sentiment\":total_sentiment, \"Publisher\":publisher, \"Mentioned_Names\":article_names, \"Text\":article}, ignore_index=True)\n"
     ]
    },
    {
     "name": "stdout",
     "output_type": "stream",
     "text": [
      "89.txt\n"
     ]
    },
    {
     "name": "stderr",
     "output_type": "stream",
     "text": [
      "C:\\Users\\ingeg\\AppData\\Local\\Temp\\ipykernel_1336\\1388660847.py:61: FutureWarning: The frame.append method is deprecated and will be removed from pandas in a future version. Use pandas.concat instead.\n",
      "  df = df.append({\"File_Name\": filename,\"Date\":  date, \"Sentiment\":total_sentiment, \"Publisher\":publisher, \"Mentioned_Names\":article_names, \"Text\":article}, ignore_index=True)\n",
      "C:\\Users\\ingeg\\AppData\\Local\\Temp\\ipykernel_1336\\1388660847.py:61: FutureWarning: The frame.append method is deprecated and will be removed from pandas in a future version. Use pandas.concat instead.\n",
      "  df = df.append({\"File_Name\": filename,\"Date\":  date, \"Sentiment\":total_sentiment, \"Publisher\":publisher, \"Mentioned_Names\":article_names, \"Text\":article}, ignore_index=True)\n",
      "C:\\Users\\ingeg\\AppData\\Local\\Temp\\ipykernel_1336\\1388660847.py:61: FutureWarning: The frame.append method is deprecated and will be removed from pandas in a future version. Use pandas.concat instead.\n",
      "  df = df.append({\"File_Name\": filename,\"Date\":  date, \"Sentiment\":total_sentiment, \"Publisher\":publisher, \"Mentioned_Names\":article_names, \"Text\":article}, ignore_index=True)\n"
     ]
    },
    {
     "name": "stdout",
     "output_type": "stream",
     "text": [
      "9.txt\n",
      "90.txt\n",
      "91.txt\n"
     ]
    },
    {
     "name": "stderr",
     "output_type": "stream",
     "text": [
      "C:\\Users\\ingeg\\AppData\\Local\\Temp\\ipykernel_1336\\1388660847.py:61: FutureWarning: The frame.append method is deprecated and will be removed from pandas in a future version. Use pandas.concat instead.\n",
      "  df = df.append({\"File_Name\": filename,\"Date\":  date, \"Sentiment\":total_sentiment, \"Publisher\":publisher, \"Mentioned_Names\":article_names, \"Text\":article}, ignore_index=True)\n",
      "C:\\Users\\ingeg\\AppData\\Local\\Temp\\ipykernel_1336\\1388660847.py:61: FutureWarning: The frame.append method is deprecated and will be removed from pandas in a future version. Use pandas.concat instead.\n",
      "  df = df.append({\"File_Name\": filename,\"Date\":  date, \"Sentiment\":total_sentiment, \"Publisher\":publisher, \"Mentioned_Names\":article_names, \"Text\":article}, ignore_index=True)\n"
     ]
    },
    {
     "name": "stdout",
     "output_type": "stream",
     "text": [
      "92.txt\n",
      "93.txt\n"
     ]
    },
    {
     "name": "stderr",
     "output_type": "stream",
     "text": [
      "C:\\Users\\ingeg\\AppData\\Local\\Temp\\ipykernel_1336\\1388660847.py:61: FutureWarning: The frame.append method is deprecated and will be removed from pandas in a future version. Use pandas.concat instead.\n",
      "  df = df.append({\"File_Name\": filename,\"Date\":  date, \"Sentiment\":total_sentiment, \"Publisher\":publisher, \"Mentioned_Names\":article_names, \"Text\":article}, ignore_index=True)\n",
      "C:\\Users\\ingeg\\AppData\\Local\\Temp\\ipykernel_1336\\1388660847.py:61: FutureWarning: The frame.append method is deprecated and will be removed from pandas in a future version. Use pandas.concat instead.\n",
      "  df = df.append({\"File_Name\": filename,\"Date\":  date, \"Sentiment\":total_sentiment, \"Publisher\":publisher, \"Mentioned_Names\":article_names, \"Text\":article}, ignore_index=True)\n"
     ]
    },
    {
     "name": "stdout",
     "output_type": "stream",
     "text": [
      "94.txt\n",
      "95.txt\n"
     ]
    },
    {
     "name": "stderr",
     "output_type": "stream",
     "text": [
      "C:\\Users\\ingeg\\AppData\\Local\\Temp\\ipykernel_1336\\1388660847.py:61: FutureWarning: The frame.append method is deprecated and will be removed from pandas in a future version. Use pandas.concat instead.\n",
      "  df = df.append({\"File_Name\": filename,\"Date\":  date, \"Sentiment\":total_sentiment, \"Publisher\":publisher, \"Mentioned_Names\":article_names, \"Text\":article}, ignore_index=True)\n",
      "C:\\Users\\ingeg\\AppData\\Local\\Temp\\ipykernel_1336\\1388660847.py:61: FutureWarning: The frame.append method is deprecated and will be removed from pandas in a future version. Use pandas.concat instead.\n",
      "  df = df.append({\"File_Name\": filename,\"Date\":  date, \"Sentiment\":total_sentiment, \"Publisher\":publisher, \"Mentioned_Names\":article_names, \"Text\":article}, ignore_index=True)\n"
     ]
    },
    {
     "name": "stdout",
     "output_type": "stream",
     "text": [
      "96.txt\n",
      "97.txt\n"
     ]
    },
    {
     "name": "stderr",
     "output_type": "stream",
     "text": [
      "C:\\Users\\ingeg\\AppData\\Local\\Temp\\ipykernel_1336\\1388660847.py:61: FutureWarning: The frame.append method is deprecated and will be removed from pandas in a future version. Use pandas.concat instead.\n",
      "  df = df.append({\"File_Name\": filename,\"Date\":  date, \"Sentiment\":total_sentiment, \"Publisher\":publisher, \"Mentioned_Names\":article_names, \"Text\":article}, ignore_index=True)\n",
      "C:\\Users\\ingeg\\AppData\\Local\\Temp\\ipykernel_1336\\1388660847.py:61: FutureWarning: The frame.append method is deprecated and will be removed from pandas in a future version. Use pandas.concat instead.\n",
      "  df = df.append({\"File_Name\": filename,\"Date\":  date, \"Sentiment\":total_sentiment, \"Publisher\":publisher, \"Mentioned_Names\":article_names, \"Text\":article}, ignore_index=True)\n"
     ]
    },
    {
     "name": "stdout",
     "output_type": "stream",
     "text": [
      "98.txt\n",
      "99.txt\n"
     ]
    },
    {
     "name": "stderr",
     "output_type": "stream",
     "text": [
      "C:\\Users\\ingeg\\AppData\\Local\\Temp\\ipykernel_1336\\1388660847.py:61: FutureWarning: The frame.append method is deprecated and will be removed from pandas in a future version. Use pandas.concat instead.\n",
      "  df = df.append({\"File_Name\": filename,\"Date\":  date, \"Sentiment\":total_sentiment, \"Publisher\":publisher, \"Mentioned_Names\":article_names, \"Text\":article}, ignore_index=True)\n"
     ]
    },
    {
     "data": {
      "text/html": [
       "<div>\n",
       "<style scoped>\n",
       "    .dataframe tbody tr th:only-of-type {\n",
       "        vertical-align: middle;\n",
       "    }\n",
       "\n",
       "    .dataframe tbody tr th {\n",
       "        vertical-align: top;\n",
       "    }\n",
       "\n",
       "    .dataframe thead th {\n",
       "        text-align: right;\n",
       "    }\n",
       "</style>\n",
       "<table border=\"1\" class=\"dataframe\">\n",
       "  <thead>\n",
       "    <tr style=\"text-align: right;\">\n",
       "      <th></th>\n",
       "      <th>File_Name</th>\n",
       "      <th>Date</th>\n",
       "      <th>Sentiment</th>\n",
       "      <th>Publisher</th>\n",
       "      <th>Mentioned_Names</th>\n",
       "      <th>Text</th>\n",
       "    </tr>\n",
       "  </thead>\n",
       "  <tbody>\n",
       "    <tr>\n",
       "      <th>599</th>\n",
       "      <td>638.txt</td>\n",
       "      <td>1982-10-02 00:00:00</td>\n",
       "      <td>[POSITIVE (0.9851)]</td>\n",
       "      <td>International Times</td>\n",
       "      <td>[]</td>\n",
       "      <td>International Times Centrum's central role in ...</td>\n",
       "    </tr>\n",
       "    <tr>\n",
       "      <th>699</th>\n",
       "      <td>728.txt</td>\n",
       "      <td>1982-10-02 00:00:00</td>\n",
       "      <td>[POSITIVE (0.9918)]</td>\n",
       "      <td>World Source</td>\n",
       "      <td>[]</td>\n",
       "      <td>World Source   Centrum's central role in the T...</td>\n",
       "    </tr>\n",
       "    <tr>\n",
       "      <th>129</th>\n",
       "      <td>214.txt</td>\n",
       "      <td>1982-10-03 00:00:00</td>\n",
       "      <td>[NEGATIVE (0.905)]</td>\n",
       "      <td>Everyday News</td>\n",
       "      <td>[]</td>\n",
       "      <td>Everyday News  Central paper of the center in ...</td>\n",
       "    </tr>\n",
       "    <tr>\n",
       "      <th>774</th>\n",
       "      <td>796.txt</td>\n",
       "      <td>1982-10-03 00:00:00</td>\n",
       "      <td>[POSITIVE (0.9747)]</td>\n",
       "      <td>The Continent</td>\n",
       "      <td>[]</td>\n",
       "      <td>The Continent  The central role of the center ...</td>\n",
       "    </tr>\n",
       "    <tr>\n",
       "      <th>552</th>\n",
       "      <td>596.txt</td>\n",
       "      <td>1982-10-03 00:00:00</td>\n",
       "      <td>[POSITIVE (0.6304)]</td>\n",
       "      <td>News Online Today</td>\n",
       "      <td>[]</td>\n",
       "      <td>News Online Today   Centrum's central role in ...</td>\n",
       "    </tr>\n",
       "    <tr>\n",
       "      <th>...</th>\n",
       "      <td>...</td>\n",
       "      <td>...</td>\n",
       "      <td>...</td>\n",
       "      <td>...</td>\n",
       "      <td>...</td>\n",
       "      <td>...</td>\n",
       "    </tr>\n",
       "    <tr>\n",
       "      <th>501</th>\n",
       "      <td>55.txt</td>\n",
       "      <td>2014-03-26 00:00:00</td>\n",
       "      <td>[NEGATIVE (0.5309)]</td>\n",
       "      <td>Daily Pegasus</td>\n",
       "      <td>[]</td>\n",
       "      <td>Daily Pegasus   INFLAMMATION OF THE PROTESTS I...</td>\n",
       "    </tr>\n",
       "    <tr>\n",
       "      <th>200</th>\n",
       "      <td>279.txt</td>\n",
       "      <td>2014-03-26 00:00:00</td>\n",
       "      <td>[POSITIVE (0.9558)]</td>\n",
       "      <td>World Journal</td>\n",
       "      <td>[]</td>\n",
       "      <td>World Journal  The perspicacity of an expert...</td>\n",
       "    </tr>\n",
       "    <tr>\n",
       "      <th>485</th>\n",
       "      <td>535.txt</td>\n",
       "      <td>2014-03-26 00:00:00</td>\n",
       "      <td>[POSITIVE (0.928)]</td>\n",
       "      <td>The Continent</td>\n",
       "      <td>[]</td>\n",
       "      <td>The Continent  The insight of an expert: thr...</td>\n",
       "    </tr>\n",
       "    <tr>\n",
       "      <th>114</th>\n",
       "      <td>200.txt</td>\n",
       "      <td>2014-03-26 00:00:00</td>\n",
       "      <td>[NEGATIVE (0.9999)]</td>\n",
       "      <td>Everyday News</td>\n",
       "      <td>[]</td>\n",
       "      <td>Everyday News  4 of March of 2010    2014/03/2...</td>\n",
       "    </tr>\n",
       "    <tr>\n",
       "      <th>653</th>\n",
       "      <td>687.txt</td>\n",
       "      <td>2014-03-26 00:00:00</td>\n",
       "      <td>[NEGATIVE (0.996)]</td>\n",
       "      <td>World Journal</td>\n",
       "      <td>[]</td>\n",
       "      <td>World Journal  2014/03/26 October 21, 2013...</td>\n",
       "    </tr>\n",
       "  </tbody>\n",
       "</table>\n",
       "<p>845 rows × 6 columns</p>\n",
       "</div>"
      ],
      "text/plain": [
       "    File_Name                 Date            Sentiment            Publisher  \\\n",
       "599   638.txt  1982-10-02 00:00:00  [POSITIVE (0.9851)]  International Times   \n",
       "699   728.txt  1982-10-02 00:00:00  [POSITIVE (0.9918)]        World Source    \n",
       "129   214.txt  1982-10-03 00:00:00   [NEGATIVE (0.905)]        Everyday News   \n",
       "774   796.txt  1982-10-03 00:00:00  [POSITIVE (0.9747)]        The Continent   \n",
       "552   596.txt  1982-10-03 00:00:00  [POSITIVE (0.6304)]   News Online Today    \n",
       "..        ...                  ...                  ...                  ...   \n",
       "501    55.txt  2014-03-26 00:00:00  [NEGATIVE (0.5309)]        Daily Pegasus   \n",
       "200   279.txt  2014-03-26 00:00:00  [POSITIVE (0.9558)]        World Journal   \n",
       "485   535.txt  2014-03-26 00:00:00   [POSITIVE (0.928)]        The Continent   \n",
       "114   200.txt  2014-03-26 00:00:00  [NEGATIVE (0.9999)]        Everyday News   \n",
       "653   687.txt  2014-03-26 00:00:00   [NEGATIVE (0.996)]        World Journal   \n",
       "\n",
       "    Mentioned_Names                                               Text  \n",
       "599              []  International Times Centrum's central role in ...  \n",
       "699              []  World Source   Centrum's central role in the T...  \n",
       "129              []  Everyday News  Central paper of the center in ...  \n",
       "774              []  The Continent  The central role of the center ...  \n",
       "552              []  News Online Today   Centrum's central role in ...  \n",
       "..              ...                                                ...  \n",
       "501              []  Daily Pegasus   INFLAMMATION OF THE PROTESTS I...  \n",
       "200              []    World Journal  The perspicacity of an expert...  \n",
       "485              []    The Continent  The insight of an expert: thr...  \n",
       "114              []  Everyday News  4 of March of 2010    2014/03/2...  \n",
       "653              []      World Journal  2014/03/26 October 21, 2013...  \n",
       "\n",
       "[845 rows x 6 columns]"
      ]
     },
     "execution_count": 35,
     "metadata": {},
     "output_type": "execute_result"
    }
   ],
   "source": [
    "import pandas as pd\n",
    "from dateutil import parser\n",
    "import os\n",
    "import numpy as np\n",
    "\n",
    "path = os.getcwd()+'/data/articles'\n",
    "data = []\n",
    "df = pd.DataFrame(columns=[\"File_Name\", \"Date\",\"Sentiment\", \"Publisher\", \"Mentioned_Names\", \"Text\"])\n",
    "\n",
    "file_name = 'data/EmployeeRecords.xlsx' # path to file + file name\n",
    "sheet = 'Employee Records'  # sheet name or sheet number or list of sheet numbers and names\n",
    "#file = 'C:\\\\Users\\\\ingeg\\\\Documents\\\\Studeren\\\\Master\\\\Jaar 1 Q3\\\\2AMV10 Visual Analytics\\\\Final project\\\\3. Disappearance at GAStech\\\\data\\\\data\\\\EmployeeRecords.xlsx'\n",
    "df_names = pd.read_excel(io=file_name, sheet_name=sheet)\n",
    "names = df_names.FirstName + ' ' + df_names.LastName\n",
    "names = names.to_list()\n",
    "\n",
    "for filename in os.listdir(path):\n",
    "    print(filename)\n",
    "    \n",
    "    with open(os.path.join(path, filename), 'r') as f: # Get all files in the folder\n",
    "        x = f.read()\n",
    "        \n",
    "        # Sentiment\n",
    "        article = ''\n",
    "        for line in x:\n",
    "            article += line.replace('\\n', ' ').replace(\"\\\"\", \"\" )\n",
    "        s = flair.data.Sentence(article)\n",
    "        flair_sentiment.predict(s)\n",
    "        total_sentiment = s.labels\n",
    "        \n",
    "        # Mentioned Names\n",
    "        article_names = []\n",
    "        for person_name in names:\n",
    "            if person_name in article:\n",
    "                article_names.append(person_name)\n",
    "        \n",
    "        # Publisher\n",
    "        lines = x.splitlines()\n",
    "        length = len(lines)\n",
    "        if lines[0]!='':\n",
    "            publisher = lines[0]\n",
    "        elif lines[2]!='':\n",
    "            publisher = lines[2]\n",
    "        else:\n",
    "            publisher = lines[4]\n",
    "        \n",
    "        # Time\n",
    "        try:\n",
    "            date = parser.parse(lines[3])\n",
    "        except:\n",
    "            try: \n",
    "                date = parser.parse(lines[6])\n",
    "            except:\n",
    "                try:\n",
    "                    date = parser.parse(lines[7])\n",
    "                except:\n",
    "                    try:\n",
    "                        date = parser.parse(lines[2])\n",
    "                    except:\n",
    "                        date = parser.parse(lines[4])\n",
    "        df = df.append({\"File_Name\": filename,\"Date\":  date, \"Sentiment\":total_sentiment, \"Publisher\":publisher, \"Mentioned_Names\":article_names, \"Text\":article}, ignore_index=True)\n",
    "df_files_sorted_or = df.sort_values(by='Date')\n",
    "df_files_sorted_or"
   ]
  },
  {
   "cell_type": "code",
   "execution_count": 60,
   "id": "0b05f159",
   "metadata": {},
   "outputs": [
    {
     "data": {
      "text/html": [
       "<div>\n",
       "<style scoped>\n",
       "    .dataframe tbody tr th:only-of-type {\n",
       "        vertical-align: middle;\n",
       "    }\n",
       "\n",
       "    .dataframe tbody tr th {\n",
       "        vertical-align: top;\n",
       "    }\n",
       "\n",
       "    .dataframe thead th {\n",
       "        text-align: right;\n",
       "    }\n",
       "</style>\n",
       "<table border=\"1\" class=\"dataframe\">\n",
       "  <thead>\n",
       "    <tr style=\"text-align: right;\">\n",
       "      <th></th>\n",
       "      <th>index</th>\n",
       "      <th>File_Name</th>\n",
       "      <th>Date</th>\n",
       "      <th>Sentiment</th>\n",
       "      <th>Publisher</th>\n",
       "      <th>Mentioned_Names</th>\n",
       "      <th>Text</th>\n",
       "      <th>Positive</th>\n",
       "      <th>Negative</th>\n",
       "      <th>Certainty</th>\n",
       "      <th>Score</th>\n",
       "    </tr>\n",
       "  </thead>\n",
       "  <tbody>\n",
       "    <tr>\n",
       "      <th>0</th>\n",
       "      <td>599</td>\n",
       "      <td>638.txt</td>\n",
       "      <td>1982-10-02 00:00:00</td>\n",
       "      <td>[POSITIVE (0.9851)]</td>\n",
       "      <td>International Times</td>\n",
       "      <td>[]</td>\n",
       "      <td>International Times Centrum's central role in ...</td>\n",
       "      <td>1</td>\n",
       "      <td>0</td>\n",
       "      <td>0.985125</td>\n",
       "      <td>0.985125</td>\n",
       "    </tr>\n",
       "    <tr>\n",
       "      <th>1</th>\n",
       "      <td>699</td>\n",
       "      <td>728.txt</td>\n",
       "      <td>1982-10-02 00:00:00</td>\n",
       "      <td>[POSITIVE (0.9918)]</td>\n",
       "      <td>World Source</td>\n",
       "      <td>[]</td>\n",
       "      <td>World Source   Centrum's central role in the T...</td>\n",
       "      <td>1</td>\n",
       "      <td>0</td>\n",
       "      <td>0.991822</td>\n",
       "      <td>0.991822</td>\n",
       "    </tr>\n",
       "    <tr>\n",
       "      <th>2</th>\n",
       "      <td>129</td>\n",
       "      <td>214.txt</td>\n",
       "      <td>1982-10-03 00:00:00</td>\n",
       "      <td>[NEGATIVE (0.905)]</td>\n",
       "      <td>Everyday News</td>\n",
       "      <td>[]</td>\n",
       "      <td>Everyday News  Central paper of the center in ...</td>\n",
       "      <td>0</td>\n",
       "      <td>1</td>\n",
       "      <td>0.905014</td>\n",
       "      <td>-0.905014</td>\n",
       "    </tr>\n",
       "    <tr>\n",
       "      <th>3</th>\n",
       "      <td>774</td>\n",
       "      <td>796.txt</td>\n",
       "      <td>1982-10-03 00:00:00</td>\n",
       "      <td>[POSITIVE (0.9747)]</td>\n",
       "      <td>The Continent</td>\n",
       "      <td>[]</td>\n",
       "      <td>The Continent  The central role of the center ...</td>\n",
       "      <td>1</td>\n",
       "      <td>0</td>\n",
       "      <td>0.974651</td>\n",
       "      <td>0.974651</td>\n",
       "    </tr>\n",
       "    <tr>\n",
       "      <th>4</th>\n",
       "      <td>552</td>\n",
       "      <td>596.txt</td>\n",
       "      <td>1982-10-03 00:00:00</td>\n",
       "      <td>[POSITIVE (0.6304)]</td>\n",
       "      <td>News Online Today</td>\n",
       "      <td>[]</td>\n",
       "      <td>News Online Today   Centrum's central role in ...</td>\n",
       "      <td>1</td>\n",
       "      <td>0</td>\n",
       "      <td>0.630370</td>\n",
       "      <td>0.630370</td>\n",
       "    </tr>\n",
       "    <tr>\n",
       "      <th>...</th>\n",
       "      <td>...</td>\n",
       "      <td>...</td>\n",
       "      <td>...</td>\n",
       "      <td>...</td>\n",
       "      <td>...</td>\n",
       "      <td>...</td>\n",
       "      <td>...</td>\n",
       "      <td>...</td>\n",
       "      <td>...</td>\n",
       "      <td>...</td>\n",
       "      <td>...</td>\n",
       "    </tr>\n",
       "    <tr>\n",
       "      <th>840</th>\n",
       "      <td>501</td>\n",
       "      <td>55.txt</td>\n",
       "      <td>2014-03-26 00:00:00</td>\n",
       "      <td>[NEGATIVE (0.5309)]</td>\n",
       "      <td>Daily Pegasus</td>\n",
       "      <td>[]</td>\n",
       "      <td>Daily Pegasus   INFLAMMATION OF THE PROTESTS I...</td>\n",
       "      <td>0</td>\n",
       "      <td>1</td>\n",
       "      <td>0.530852</td>\n",
       "      <td>-0.530852</td>\n",
       "    </tr>\n",
       "    <tr>\n",
       "      <th>841</th>\n",
       "      <td>200</td>\n",
       "      <td>279.txt</td>\n",
       "      <td>2014-03-26 00:00:00</td>\n",
       "      <td>[POSITIVE (0.9558)]</td>\n",
       "      <td>World Journal</td>\n",
       "      <td>[]</td>\n",
       "      <td>World Journal  The perspicacity of an expert...</td>\n",
       "      <td>1</td>\n",
       "      <td>0</td>\n",
       "      <td>0.955815</td>\n",
       "      <td>0.955815</td>\n",
       "    </tr>\n",
       "    <tr>\n",
       "      <th>842</th>\n",
       "      <td>485</td>\n",
       "      <td>535.txt</td>\n",
       "      <td>2014-03-26 00:00:00</td>\n",
       "      <td>[POSITIVE (0.928)]</td>\n",
       "      <td>The Continent</td>\n",
       "      <td>[]</td>\n",
       "      <td>The Continent  The insight of an expert: thr...</td>\n",
       "      <td>1</td>\n",
       "      <td>0</td>\n",
       "      <td>0.927972</td>\n",
       "      <td>0.927972</td>\n",
       "    </tr>\n",
       "    <tr>\n",
       "      <th>843</th>\n",
       "      <td>114</td>\n",
       "      <td>200.txt</td>\n",
       "      <td>2014-03-26 00:00:00</td>\n",
       "      <td>[NEGATIVE (0.9999)]</td>\n",
       "      <td>Everyday News</td>\n",
       "      <td>[]</td>\n",
       "      <td>Everyday News  4 of March of 2010    2014/03/2...</td>\n",
       "      <td>0</td>\n",
       "      <td>1</td>\n",
       "      <td>0.999898</td>\n",
       "      <td>-0.999898</td>\n",
       "    </tr>\n",
       "    <tr>\n",
       "      <th>844</th>\n",
       "      <td>653</td>\n",
       "      <td>687.txt</td>\n",
       "      <td>2014-03-26 00:00:00</td>\n",
       "      <td>[NEGATIVE (0.996)]</td>\n",
       "      <td>World Journal</td>\n",
       "      <td>[]</td>\n",
       "      <td>World Journal  2014/03/26 October 21, 2013...</td>\n",
       "      <td>0</td>\n",
       "      <td>1</td>\n",
       "      <td>0.996014</td>\n",
       "      <td>-0.996014</td>\n",
       "    </tr>\n",
       "  </tbody>\n",
       "</table>\n",
       "<p>845 rows × 11 columns</p>\n",
       "</div>"
      ],
      "text/plain": [
       "     index File_Name                 Date            Sentiment  \\\n",
       "0      599   638.txt  1982-10-02 00:00:00  [POSITIVE (0.9851)]   \n",
       "1      699   728.txt  1982-10-02 00:00:00  [POSITIVE (0.9918)]   \n",
       "2      129   214.txt  1982-10-03 00:00:00   [NEGATIVE (0.905)]   \n",
       "3      774   796.txt  1982-10-03 00:00:00  [POSITIVE (0.9747)]   \n",
       "4      552   596.txt  1982-10-03 00:00:00  [POSITIVE (0.6304)]   \n",
       "..     ...       ...                  ...                  ...   \n",
       "840    501    55.txt  2014-03-26 00:00:00  [NEGATIVE (0.5309)]   \n",
       "841    200   279.txt  2014-03-26 00:00:00  [POSITIVE (0.9558)]   \n",
       "842    485   535.txt  2014-03-26 00:00:00   [POSITIVE (0.928)]   \n",
       "843    114   200.txt  2014-03-26 00:00:00  [NEGATIVE (0.9999)]   \n",
       "844    653   687.txt  2014-03-26 00:00:00   [NEGATIVE (0.996)]   \n",
       "\n",
       "               Publisher Mentioned_Names  \\\n",
       "0    International Times              []   \n",
       "1          World Source               []   \n",
       "2          Everyday News              []   \n",
       "3          The Continent              []   \n",
       "4     News Online Today               []   \n",
       "..                   ...             ...   \n",
       "840        Daily Pegasus              []   \n",
       "841        World Journal              []   \n",
       "842        The Continent              []   \n",
       "843        Everyday News              []   \n",
       "844        World Journal              []   \n",
       "\n",
       "                                                  Text  Positive  Negative  \\\n",
       "0    International Times Centrum's central role in ...         1         0   \n",
       "1    World Source   Centrum's central role in the T...         1         0   \n",
       "2    Everyday News  Central paper of the center in ...         0         1   \n",
       "3    The Continent  The central role of the center ...         1         0   \n",
       "4    News Online Today   Centrum's central role in ...         1         0   \n",
       "..                                                 ...       ...       ...   \n",
       "840  Daily Pegasus   INFLAMMATION OF THE PROTESTS I...         0         1   \n",
       "841    World Journal  The perspicacity of an expert...         1         0   \n",
       "842    The Continent  The insight of an expert: thr...         1         0   \n",
       "843  Everyday News  4 of March of 2010    2014/03/2...         0         1   \n",
       "844      World Journal  2014/03/26 October 21, 2013...         0         1   \n",
       "\n",
       "     Certainty     Score  \n",
       "0     0.985125  0.985125  \n",
       "1     0.991822  0.991822  \n",
       "2     0.905014 -0.905014  \n",
       "3     0.974651  0.974651  \n",
       "4     0.630370  0.630370  \n",
       "..         ...       ...  \n",
       "840   0.530852 -0.530852  \n",
       "841   0.955815  0.955815  \n",
       "842   0.927972  0.927972  \n",
       "843   0.999898 -0.999898  \n",
       "844   0.996014 -0.996014  \n",
       "\n",
       "[845 rows x 11 columns]"
      ]
     },
     "execution_count": 60,
     "metadata": {},
     "output_type": "execute_result"
    }
   ],
   "source": [
    "df_files_sorted = df_files_sorted_or.reset_index()\n",
    "df_files_sorted['Positive'] = [1 if str(df_files_sorted.Sentiment[i][0]).split()[0]=='POSITIVE' else 0 for i in range(len(df_files_sorted))]\n",
    "df_files_sorted['Negative'] = abs(df_files_sorted['Positive']-1)\n",
    "df_files_sorted['Certainty'] = [df_files_sorted.Sentiment[i][0].score for i in range(len(df_files_sorted))]\n",
    "df_files_sorted['Score'] = [df_files_sorted['Certainty'][i] if df_files_sorted['Positive'][i]==1 else -1*df_files_sorted['Certainty'][i]for i in range(len(df_files_sorted))]\n",
    "df_files_sorted"
   ]
  },
  {
   "cell_type": "code",
   "execution_count": 61,
   "id": "b229dfd4",
   "metadata": {},
   "outputs": [
    {
     "data": {
      "text/html": [
       "<div>\n",
       "<style scoped>\n",
       "    .dataframe tbody tr th:only-of-type {\n",
       "        vertical-align: middle;\n",
       "    }\n",
       "\n",
       "    .dataframe tbody tr th {\n",
       "        vertical-align: top;\n",
       "    }\n",
       "\n",
       "    .dataframe thead th {\n",
       "        text-align: right;\n",
       "    }\n",
       "</style>\n",
       "<table border=\"1\" class=\"dataframe\">\n",
       "  <thead>\n",
       "    <tr style=\"text-align: right;\">\n",
       "      <th></th>\n",
       "      <th>index</th>\n",
       "      <th>File_Name</th>\n",
       "      <th>Date</th>\n",
       "      <th>Sentiment</th>\n",
       "      <th>Publisher</th>\n",
       "      <th>Mentioned_Names</th>\n",
       "      <th>Text</th>\n",
       "      <th>Positive</th>\n",
       "      <th>Negative</th>\n",
       "      <th>Certainty</th>\n",
       "      <th>Score</th>\n",
       "    </tr>\n",
       "  </thead>\n",
       "  <tbody>\n",
       "    <tr>\n",
       "      <th>0</th>\n",
       "      <td>599</td>\n",
       "      <td>638.txt</td>\n",
       "      <td>1982-10-02 00:00:00</td>\n",
       "      <td>[POSITIVE (0.9851)]</td>\n",
       "      <td>International Times</td>\n",
       "      <td>[]</td>\n",
       "      <td>International Times Centrum's central role in ...</td>\n",
       "      <td>1</td>\n",
       "      <td>0</td>\n",
       "      <td>0.985125</td>\n",
       "      <td>0.985125</td>\n",
       "    </tr>\n",
       "    <tr>\n",
       "      <th>1</th>\n",
       "      <td>699</td>\n",
       "      <td>728.txt</td>\n",
       "      <td>1982-10-02 00:00:00</td>\n",
       "      <td>[POSITIVE (0.9918)]</td>\n",
       "      <td>World Source</td>\n",
       "      <td>[]</td>\n",
       "      <td>World Source   Centrum's central role in the T...</td>\n",
       "      <td>1</td>\n",
       "      <td>0</td>\n",
       "      <td>0.991822</td>\n",
       "      <td>0.991822</td>\n",
       "    </tr>\n",
       "    <tr>\n",
       "      <th>2</th>\n",
       "      <td>129</td>\n",
       "      <td>214.txt</td>\n",
       "      <td>1982-10-03 00:00:00</td>\n",
       "      <td>[NEGATIVE (0.905)]</td>\n",
       "      <td>Everyday News</td>\n",
       "      <td>[]</td>\n",
       "      <td>Everyday News  Central paper of the center in ...</td>\n",
       "      <td>0</td>\n",
       "      <td>1</td>\n",
       "      <td>0.905014</td>\n",
       "      <td>-0.905014</td>\n",
       "    </tr>\n",
       "    <tr>\n",
       "      <th>3</th>\n",
       "      <td>774</td>\n",
       "      <td>796.txt</td>\n",
       "      <td>1982-10-03 00:00:00</td>\n",
       "      <td>[POSITIVE (0.9747)]</td>\n",
       "      <td>The Continent</td>\n",
       "      <td>[]</td>\n",
       "      <td>The Continent  The central role of the center ...</td>\n",
       "      <td>1</td>\n",
       "      <td>0</td>\n",
       "      <td>0.974651</td>\n",
       "      <td>0.974651</td>\n",
       "    </tr>\n",
       "    <tr>\n",
       "      <th>4</th>\n",
       "      <td>552</td>\n",
       "      <td>596.txt</td>\n",
       "      <td>1982-10-03 00:00:00</td>\n",
       "      <td>[POSITIVE (0.6304)]</td>\n",
       "      <td>News Online Today</td>\n",
       "      <td>[]</td>\n",
       "      <td>News Online Today   Centrum's central role in ...</td>\n",
       "      <td>1</td>\n",
       "      <td>0</td>\n",
       "      <td>0.630370</td>\n",
       "      <td>0.630370</td>\n",
       "    </tr>\n",
       "    <tr>\n",
       "      <th>...</th>\n",
       "      <td>...</td>\n",
       "      <td>...</td>\n",
       "      <td>...</td>\n",
       "      <td>...</td>\n",
       "      <td>...</td>\n",
       "      <td>...</td>\n",
       "      <td>...</td>\n",
       "      <td>...</td>\n",
       "      <td>...</td>\n",
       "      <td>...</td>\n",
       "      <td>...</td>\n",
       "    </tr>\n",
       "    <tr>\n",
       "      <th>840</th>\n",
       "      <td>501</td>\n",
       "      <td>55.txt</td>\n",
       "      <td>2014-03-26 00:00:00</td>\n",
       "      <td>[NEGATIVE (0.5309)]</td>\n",
       "      <td>Daily Pegasus</td>\n",
       "      <td>[]</td>\n",
       "      <td>Daily Pegasus   INFLAMMATION OF THE PROTESTS I...</td>\n",
       "      <td>0</td>\n",
       "      <td>1</td>\n",
       "      <td>0.530852</td>\n",
       "      <td>-0.530852</td>\n",
       "    </tr>\n",
       "    <tr>\n",
       "      <th>841</th>\n",
       "      <td>200</td>\n",
       "      <td>279.txt</td>\n",
       "      <td>2014-03-26 00:00:00</td>\n",
       "      <td>[POSITIVE (0.9558)]</td>\n",
       "      <td>World Journal</td>\n",
       "      <td>[]</td>\n",
       "      <td>World Journal  The perspicacity of an expert...</td>\n",
       "      <td>1</td>\n",
       "      <td>0</td>\n",
       "      <td>0.955815</td>\n",
       "      <td>0.955815</td>\n",
       "    </tr>\n",
       "    <tr>\n",
       "      <th>842</th>\n",
       "      <td>485</td>\n",
       "      <td>535.txt</td>\n",
       "      <td>2014-03-26 00:00:00</td>\n",
       "      <td>[POSITIVE (0.928)]</td>\n",
       "      <td>The Continent</td>\n",
       "      <td>[]</td>\n",
       "      <td>The Continent  The insight of an expert: thr...</td>\n",
       "      <td>1</td>\n",
       "      <td>0</td>\n",
       "      <td>0.927972</td>\n",
       "      <td>0.927972</td>\n",
       "    </tr>\n",
       "    <tr>\n",
       "      <th>843</th>\n",
       "      <td>114</td>\n",
       "      <td>200.txt</td>\n",
       "      <td>2014-03-26 00:00:00</td>\n",
       "      <td>[NEGATIVE (0.9999)]</td>\n",
       "      <td>Everyday News</td>\n",
       "      <td>[]</td>\n",
       "      <td>Everyday News  4 of March of 2010    2014/03/2...</td>\n",
       "      <td>0</td>\n",
       "      <td>1</td>\n",
       "      <td>0.999898</td>\n",
       "      <td>-0.999898</td>\n",
       "    </tr>\n",
       "    <tr>\n",
       "      <th>844</th>\n",
       "      <td>653</td>\n",
       "      <td>687.txt</td>\n",
       "      <td>2014-03-26 00:00:00</td>\n",
       "      <td>[NEGATIVE (0.996)]</td>\n",
       "      <td>World Journal</td>\n",
       "      <td>[]</td>\n",
       "      <td>World Journal  2014/03/26 October 21, 2013...</td>\n",
       "      <td>0</td>\n",
       "      <td>1</td>\n",
       "      <td>0.996014</td>\n",
       "      <td>-0.996014</td>\n",
       "    </tr>\n",
       "  </tbody>\n",
       "</table>\n",
       "<p>845 rows × 11 columns</p>\n",
       "</div>"
      ],
      "text/plain": [
       "     index File_Name                 Date            Sentiment  \\\n",
       "0      599   638.txt  1982-10-02 00:00:00  [POSITIVE (0.9851)]   \n",
       "1      699   728.txt  1982-10-02 00:00:00  [POSITIVE (0.9918)]   \n",
       "2      129   214.txt  1982-10-03 00:00:00   [NEGATIVE (0.905)]   \n",
       "3      774   796.txt  1982-10-03 00:00:00  [POSITIVE (0.9747)]   \n",
       "4      552   596.txt  1982-10-03 00:00:00  [POSITIVE (0.6304)]   \n",
       "..     ...       ...                  ...                  ...   \n",
       "840    501    55.txt  2014-03-26 00:00:00  [NEGATIVE (0.5309)]   \n",
       "841    200   279.txt  2014-03-26 00:00:00  [POSITIVE (0.9558)]   \n",
       "842    485   535.txt  2014-03-26 00:00:00   [POSITIVE (0.928)]   \n",
       "843    114   200.txt  2014-03-26 00:00:00  [NEGATIVE (0.9999)]   \n",
       "844    653   687.txt  2014-03-26 00:00:00   [NEGATIVE (0.996)]   \n",
       "\n",
       "               Publisher Mentioned_Names  \\\n",
       "0    International Times              []   \n",
       "1          World Source               []   \n",
       "2          Everyday News              []   \n",
       "3          The Continent              []   \n",
       "4     News Online Today               []   \n",
       "..                   ...             ...   \n",
       "840        Daily Pegasus              []   \n",
       "841        World Journal              []   \n",
       "842        The Continent              []   \n",
       "843        Everyday News              []   \n",
       "844        World Journal              []   \n",
       "\n",
       "                                                  Text  Positive  Negative  \\\n",
       "0    International Times Centrum's central role in ...         1         0   \n",
       "1    World Source   Centrum's central role in the T...         1         0   \n",
       "2    Everyday News  Central paper of the center in ...         0         1   \n",
       "3    The Continent  The central role of the center ...         1         0   \n",
       "4    News Online Today   Centrum's central role in ...         1         0   \n",
       "..                                                 ...       ...       ...   \n",
       "840  Daily Pegasus   INFLAMMATION OF THE PROTESTS I...         0         1   \n",
       "841    World Journal  The perspicacity of an expert...         1         0   \n",
       "842    The Continent  The insight of an expert: thr...         1         0   \n",
       "843  Everyday News  4 of March of 2010    2014/03/2...         0         1   \n",
       "844      World Journal  2014/03/26 October 21, 2013...         0         1   \n",
       "\n",
       "     Certainty     Score  \n",
       "0     0.985125  0.985125  \n",
       "1     0.991822  0.991822  \n",
       "2     0.905014 -0.905014  \n",
       "3     0.974651  0.974651  \n",
       "4     0.630370  0.630370  \n",
       "..         ...       ...  \n",
       "840   0.530852 -0.530852  \n",
       "841   0.955815  0.955815  \n",
       "842   0.927972  0.927972  \n",
       "843   0.999898 -0.999898  \n",
       "844   0.996014 -0.996014  \n",
       "\n",
       "[845 rows x 11 columns]"
      ]
     },
     "execution_count": 61,
     "metadata": {},
     "output_type": "execute_result"
    }
   ],
   "source": [
    "# Save df\n",
    "df_files_sorted.to_csv('df_sentiment_sorted.csv', index=False)#index=False\n",
    "df_files_sorted"
   ]
  },
  {
   "cell_type": "code",
   "execution_count": 3,
   "id": "d9734235",
   "metadata": {
    "scrolled": true
   },
   "outputs": [
    {
     "data": {
      "text/html": [
       "<div>\n",
       "<style scoped>\n",
       "    .dataframe tbody tr th:only-of-type {\n",
       "        vertical-align: middle;\n",
       "    }\n",
       "\n",
       "    .dataframe tbody tr th {\n",
       "        vertical-align: top;\n",
       "    }\n",
       "\n",
       "    .dataframe thead th {\n",
       "        text-align: right;\n",
       "    }\n",
       "</style>\n",
       "<table border=\"1\" class=\"dataframe\">\n",
       "  <thead>\n",
       "    <tr style=\"text-align: right;\">\n",
       "      <th></th>\n",
       "      <th>index</th>\n",
       "      <th>File_Name</th>\n",
       "      <th>Date</th>\n",
       "      <th>Sentiment</th>\n",
       "      <th>Publisher</th>\n",
       "      <th>Mentioned_Names</th>\n",
       "      <th>Text</th>\n",
       "      <th>Positive</th>\n",
       "      <th>Negative</th>\n",
       "      <th>Certainty</th>\n",
       "      <th>Score</th>\n",
       "    </tr>\n",
       "  </thead>\n",
       "  <tbody>\n",
       "    <tr>\n",
       "      <th>0</th>\n",
       "      <td>599</td>\n",
       "      <td>638.txt</td>\n",
       "      <td>1982-10-02</td>\n",
       "      <td>[POSITIVE (0.9851)]</td>\n",
       "      <td>International Times</td>\n",
       "      <td>[]</td>\n",
       "      <td>International Times Centrum's central role in ...</td>\n",
       "      <td>1</td>\n",
       "      <td>0</td>\n",
       "      <td>0.985125</td>\n",
       "      <td>0.985125</td>\n",
       "    </tr>\n",
       "    <tr>\n",
       "      <th>1</th>\n",
       "      <td>699</td>\n",
       "      <td>728.txt</td>\n",
       "      <td>1982-10-02</td>\n",
       "      <td>[POSITIVE (0.9918)]</td>\n",
       "      <td>World Source</td>\n",
       "      <td>[]</td>\n",
       "      <td>World Source   Centrum's central role in the T...</td>\n",
       "      <td>1</td>\n",
       "      <td>0</td>\n",
       "      <td>0.991822</td>\n",
       "      <td>0.991822</td>\n",
       "    </tr>\n",
       "    <tr>\n",
       "      <th>2</th>\n",
       "      <td>129</td>\n",
       "      <td>214.txt</td>\n",
       "      <td>1982-10-03</td>\n",
       "      <td>[NEGATIVE (0.905)]</td>\n",
       "      <td>Everyday News</td>\n",
       "      <td>[]</td>\n",
       "      <td>Everyday News  Central paper of the center in ...</td>\n",
       "      <td>0</td>\n",
       "      <td>1</td>\n",
       "      <td>0.905014</td>\n",
       "      <td>-0.905014</td>\n",
       "    </tr>\n",
       "    <tr>\n",
       "      <th>3</th>\n",
       "      <td>774</td>\n",
       "      <td>796.txt</td>\n",
       "      <td>1982-10-03</td>\n",
       "      <td>[POSITIVE (0.9747)]</td>\n",
       "      <td>The Continent</td>\n",
       "      <td>[]</td>\n",
       "      <td>The Continent  The central role of the center ...</td>\n",
       "      <td>1</td>\n",
       "      <td>0</td>\n",
       "      <td>0.974651</td>\n",
       "      <td>0.974651</td>\n",
       "    </tr>\n",
       "    <tr>\n",
       "      <th>4</th>\n",
       "      <td>552</td>\n",
       "      <td>596.txt</td>\n",
       "      <td>1982-10-03</td>\n",
       "      <td>[POSITIVE (0.6304)]</td>\n",
       "      <td>News Online Today</td>\n",
       "      <td>[]</td>\n",
       "      <td>News Online Today   Centrum's central role in ...</td>\n",
       "      <td>1</td>\n",
       "      <td>0</td>\n",
       "      <td>0.630370</td>\n",
       "      <td>0.630370</td>\n",
       "    </tr>\n",
       "    <tr>\n",
       "      <th>...</th>\n",
       "      <td>...</td>\n",
       "      <td>...</td>\n",
       "      <td>...</td>\n",
       "      <td>...</td>\n",
       "      <td>...</td>\n",
       "      <td>...</td>\n",
       "      <td>...</td>\n",
       "      <td>...</td>\n",
       "      <td>...</td>\n",
       "      <td>...</td>\n",
       "      <td>...</td>\n",
       "    </tr>\n",
       "    <tr>\n",
       "      <th>840</th>\n",
       "      <td>501</td>\n",
       "      <td>55.txt</td>\n",
       "      <td>2014-03-26</td>\n",
       "      <td>[NEGATIVE (0.5309)]</td>\n",
       "      <td>Daily Pegasus</td>\n",
       "      <td>[]</td>\n",
       "      <td>Daily Pegasus   INFLAMMATION OF THE PROTESTS I...</td>\n",
       "      <td>0</td>\n",
       "      <td>1</td>\n",
       "      <td>0.530852</td>\n",
       "      <td>-0.530852</td>\n",
       "    </tr>\n",
       "    <tr>\n",
       "      <th>841</th>\n",
       "      <td>200</td>\n",
       "      <td>279.txt</td>\n",
       "      <td>2014-03-26</td>\n",
       "      <td>[POSITIVE (0.9558)]</td>\n",
       "      <td>World Journal</td>\n",
       "      <td>[]</td>\n",
       "      <td>World Journal  The perspicacity of an expert...</td>\n",
       "      <td>1</td>\n",
       "      <td>0</td>\n",
       "      <td>0.955815</td>\n",
       "      <td>0.955815</td>\n",
       "    </tr>\n",
       "    <tr>\n",
       "      <th>842</th>\n",
       "      <td>485</td>\n",
       "      <td>535.txt</td>\n",
       "      <td>2014-03-26</td>\n",
       "      <td>[POSITIVE (0.928)]</td>\n",
       "      <td>The Continent</td>\n",
       "      <td>[]</td>\n",
       "      <td>The Continent  The insight of an expert: thr...</td>\n",
       "      <td>1</td>\n",
       "      <td>0</td>\n",
       "      <td>0.927972</td>\n",
       "      <td>0.927972</td>\n",
       "    </tr>\n",
       "    <tr>\n",
       "      <th>843</th>\n",
       "      <td>114</td>\n",
       "      <td>200.txt</td>\n",
       "      <td>2014-03-26</td>\n",
       "      <td>[NEGATIVE (0.9999)]</td>\n",
       "      <td>Everyday News</td>\n",
       "      <td>[]</td>\n",
       "      <td>Everyday News  4 of March of 2010    2014/03/2...</td>\n",
       "      <td>0</td>\n",
       "      <td>1</td>\n",
       "      <td>0.999898</td>\n",
       "      <td>-0.999898</td>\n",
       "    </tr>\n",
       "    <tr>\n",
       "      <th>844</th>\n",
       "      <td>653</td>\n",
       "      <td>687.txt</td>\n",
       "      <td>2014-03-26</td>\n",
       "      <td>[NEGATIVE (0.996)]</td>\n",
       "      <td>World Journal</td>\n",
       "      <td>[]</td>\n",
       "      <td>World Journal  2014/03/26 October 21, 2013...</td>\n",
       "      <td>0</td>\n",
       "      <td>1</td>\n",
       "      <td>0.996014</td>\n",
       "      <td>-0.996014</td>\n",
       "    </tr>\n",
       "  </tbody>\n",
       "</table>\n",
       "<p>845 rows × 11 columns</p>\n",
       "</div>"
      ],
      "text/plain": [
       "     index File_Name       Date            Sentiment            Publisher  \\\n",
       "0      599   638.txt 1982-10-02  [POSITIVE (0.9851)]  International Times   \n",
       "1      699   728.txt 1982-10-02  [POSITIVE (0.9918)]        World Source    \n",
       "2      129   214.txt 1982-10-03   [NEGATIVE (0.905)]        Everyday News   \n",
       "3      774   796.txt 1982-10-03  [POSITIVE (0.9747)]        The Continent   \n",
       "4      552   596.txt 1982-10-03  [POSITIVE (0.6304)]   News Online Today    \n",
       "..     ...       ...        ...                  ...                  ...   \n",
       "840    501    55.txt 2014-03-26  [NEGATIVE (0.5309)]        Daily Pegasus   \n",
       "841    200   279.txt 2014-03-26  [POSITIVE (0.9558)]        World Journal   \n",
       "842    485   535.txt 2014-03-26   [POSITIVE (0.928)]        The Continent   \n",
       "843    114   200.txt 2014-03-26  [NEGATIVE (0.9999)]        Everyday News   \n",
       "844    653   687.txt 2014-03-26   [NEGATIVE (0.996)]        World Journal   \n",
       "\n",
       "    Mentioned_Names                                               Text  \\\n",
       "0                []  International Times Centrum's central role in ...   \n",
       "1                []  World Source   Centrum's central role in the T...   \n",
       "2                []  Everyday News  Central paper of the center in ...   \n",
       "3                []  The Continent  The central role of the center ...   \n",
       "4                []  News Online Today   Centrum's central role in ...   \n",
       "..              ...                                                ...   \n",
       "840              []  Daily Pegasus   INFLAMMATION OF THE PROTESTS I...   \n",
       "841              []    World Journal  The perspicacity of an expert...   \n",
       "842              []    The Continent  The insight of an expert: thr...   \n",
       "843              []  Everyday News  4 of March of 2010    2014/03/2...   \n",
       "844              []      World Journal  2014/03/26 October 21, 2013...   \n",
       "\n",
       "     Positive  Negative  Certainty     Score  \n",
       "0           1         0   0.985125  0.985125  \n",
       "1           1         0   0.991822  0.991822  \n",
       "2           0         1   0.905014 -0.905014  \n",
       "3           1         0   0.974651  0.974651  \n",
       "4           1         0   0.630370  0.630370  \n",
       "..        ...       ...        ...       ...  \n",
       "840         0         1   0.530852 -0.530852  \n",
       "841         1         0   0.955815  0.955815  \n",
       "842         1         0   0.927972  0.927972  \n",
       "843         0         1   0.999898 -0.999898  \n",
       "844         0         1   0.996014 -0.996014  \n",
       "\n",
       "[845 rows x 11 columns]"
      ]
     },
     "execution_count": 3,
     "metadata": {},
     "output_type": "execute_result"
    }
   ],
   "source": [
    "# Open df\n",
    "import pandas as pd\n",
    "df_files_sorted = pd.read_csv('df_sentiment_sorted.csv', parse_dates=['Date'])  \n",
    "df_files_sorted"
   ]
  },
  {
   "cell_type": "code",
   "execution_count": 35,
   "id": "bf66f208",
   "metadata": {},
   "outputs": [
    {
     "name": "stdout",
     "output_type": "stream",
     "text": [
      "33\n",
      "223\n",
      "14\n"
     ]
    }
   ],
   "source": [
    "print(len(df_files_sorted.Publisher.unique().tolist()))\n",
    "print(len(df_files_sorted.Date.unique().tolist()))\n",
    "print(len(df_files_sorted.Mentioned_Names.unique().tolist()))\n"
   ]
  },
  {
   "cell_type": "code",
   "execution_count": 39,
   "id": "48b3f3c0",
   "metadata": {},
   "outputs": [
    {
     "data": {
      "text/plain": [
       "73"
      ]
     },
     "execution_count": 39,
     "metadata": {},
     "output_type": "execute_result"
    }
   ],
   "source": [
    "len(df_files_sorted[df_files_sorted.Mentioned_Names!='[]'].Mentioned_Names)"
   ]
  },
  {
   "cell_type": "code",
   "execution_count": 42,
   "id": "3f14a8a1",
   "metadata": {},
   "outputs": [
    {
     "data": {
      "text/plain": [
       "73"
      ]
     },
     "execution_count": 42,
     "metadata": {},
     "output_type": "execute_result"
    }
   ],
   "source": [
    "845-772"
   ]
  },
  {
   "cell_type": "code",
   "execution_count": 59,
   "id": "4548555d",
   "metadata": {},
   "outputs": [
    {
     "data": {
      "text/plain": [
       "Index(['['Orhan Strum']', '['Linda Lagos', 'Orhan Strum']',\n",
       "       '['Ada Campo-Corrente']', '['Linda Lagos']',\n",
       "       '['Ingrid Barranco', 'Ada Campo-Corrente', 'Orhan Strum']',\n",
       "       '['Willem Vasco-Pais', 'Sten Sanjorge Jr.', 'Ingrid Barranco', 'Ada Campo-Corrente', 'Orhan Strum']',\n",
       "       '['Willem Vasco-Pais', 'Ingrid Barranco', 'Orhan Strum']',\n",
       "       '['Willem Vasco-Pais']', '['Ingrid Barranco']',\n",
       "       '['Sten Sanjorge Jr.', 'Edvard Vann']',\n",
       "       '['Willem Vasco-Pais', 'Ingrid Barranco', 'Ada Campo-Corrente', 'Orhan Strum']',\n",
       "       '['Sten Sanjorge Jr.']', '['Edvard Vann']'],\n",
       "      dtype='object')"
      ]
     },
     "execution_count": 59,
     "metadata": {},
     "output_type": "execute_result"
    }
   ],
   "source": [
    "df_files_sorted.Mentioned_Names.value_counts().sort_values().drop(labels='[]').to_frame().index"
   ]
  },
  {
   "cell_type": "code",
   "execution_count": 63,
   "id": "f5beb2d6",
   "metadata": {},
   "outputs": [
    {
     "data": {
      "text/plain": [
       "array([ 1,  1,  1,  1,  3,  3,  4,  4,  5,  5,  6, 18, 21], dtype=int64)"
      ]
     },
     "execution_count": 63,
     "metadata": {},
     "output_type": "execute_result"
    }
   ],
   "source": [
    "df.Mentioned_Names.values"
   ]
  },
  {
   "cell_type": "code",
   "execution_count": 69,
   "id": "f152fef3",
   "metadata": {},
   "outputs": [
    {
     "data": {
      "image/png": "[encoded data removed]",
      "text/plain": [
       "<Figure size 432x288 with 1 Axes>"
      ]
     },
     "metadata": {
      "needs_background": "light"
     },
     "output_type": "display_data"
    }
   ],
   "source": [
    "ax = df_files_sorted.Mentioned_Names.value_counts().sort_values().drop(labels='[]').plot(kind = 'barh')\n",
    "ax.set_title('Number of articles in which name combination is mentioned')\n",
    "ax.set_ylabel(\"Mentioned name combination\")\n",
    "ax.set_xlabel(\"Number of articles mentioned (count)\")\n",
    "df = df_files_sorted.Mentioned_Names.value_counts().sort_values().drop(labels='[]').to_frame()\n",
    "bars = ax.barh(df.index, df.Mentioned_Names.values)\n",
    "ax.bar_label(bars);"
   ]
  },
  {
   "cell_type": "code",
   "execution_count": 5,
   "id": "c962986d",
   "metadata": {
    "scrolled": true
   },
   "outputs": [
    {
     "data": {
      "text/plain": [
       "['International Times',\n",
       " 'World Source ',\n",
       " 'Everyday News',\n",
       " 'The Continent',\n",
       " 'News Online Today ',\n",
       " 'International Times ',\n",
       " 'World Journal',\n",
       " 'The World',\n",
       " 'The Light of Truth',\n",
       " 'News Online Today',\n",
       " 'Who What News',\n",
       " 'The Tulip',\n",
       " 'The General Post',\n",
       " 'Kronos Star',\n",
       " 'The Guide',\n",
       " 'International News',\n",
       " 'Worldwise',\n",
       " 'The Truth',\n",
       " 'All News Today',\n",
       " 'Homeland Illumination',\n",
       " 'The Orb',\n",
       " 'The Wrap',\n",
       " 'Daily Pegasus',\n",
       " 'Central Bulletin',\n",
       " 'The Abila Post',\n",
       " 'Athena Speaks',\n",
       " 'News Desk',\n",
       " 'The Explainer',\n",
       " 'World Source',\n",
       " 'Centrum Sentinel',\n",
       " 'Tethys News',\n",
       " 'Modern Rubicon',\n",
       " 'News Desk ']"
      ]
     },
     "execution_count": 5,
     "metadata": {},
     "output_type": "execute_result"
    }
   ],
   "source": [
    "df_files_sorted.Publisher.unique().tolist()"
   ]
  },
  {
   "cell_type": "code",
   "execution_count": 67,
   "id": "f2f942f3",
   "metadata": {},
   "outputs": [
    {
     "name": "stdout",
     "output_type": "stream",
     "text": [
      "\n",
      "\n",
      "\n",
      "\n",
      "World Journal\n",
      "\n",
      "2014/03/26\n",
      "October 21, 2013\n",
      "\n",
      "\n",
      "\n",
      "\n",
      "\n",
      "Interpol announced the formation of a new working group of multi-country to fight the increasingly broad distribution of the cathinone of methyldimethyl of drug (MDMC).  To direct the working group is an elder inspector Robert Loblaw, a leader of veteran who carried out the very successful team of Tethys Counterdrug.  It is optimistic that it can identify the source.\n",
      "\n",
      "\n",
      "\n",
      "\"These drugs of originator have certain indices as for their origin,\" Loblaw says times in an interview.  \"Each time the receipt is changed, it leaves indices as for which made.  It is like a pedigree.\"\n",
      "\n",
      "\n",
      "\n",
      "This particular mixture of the drug MDMC, also known by its street calls the \"cotton sugar refinery\", the \"spice dreams\" and the \"flower of tulip\", was found previously only in Asteria but made its manner with the streets of Tethys and other international countries.\n",
      "\n",
      "\n",
      "\n",
      "\"I will look at hard the activities of the popular army of Asterian,\" Loblaw known as.  \"Our preceding investigations moved to them like source of this particular formulation.\"\n",
      "\n",
      "\n",
      "\n",
      "The popular army of Asterian (APA) is a paramilitary organization which was committed in activities of terrorist placed by his criminal companies, which include the traffic of drug.  These last years the APA sought to establish their mark by Web sites and the publication of a professional store and high quality called \"Arise\".\n",
      "\n",
      "\n",
      "\n",
      "The elder inspector Loblaw says the public statistics of Tethys indicate that MDMC is a problem growing with the youth of the country.  \"An increase in the problems of mental health, including the hallucinations and paranoia, accompanied by the violent behavior and an increase marked in the rates of suicide are only some of the indicators of the use of this drug of originator.\"\n",
      "\n",
      "\n",
      "\n",
      "\"We initially alerted the left civils servant to be on the monitoring for suspicious forwardings of insecticides and cleaning product, the two similar ones in the aspect to MDMC.\"\n",
      "\n",
      "\n",
      "\n",
      "\n",
      "\n",
      "\n",
      "\n",
      "\n"
     ]
    }
   ],
   "source": [
    "path = os.getcwd()+'/data/articles'\n",
    "with open(os.path.join(path, '687.txt'), 'r') as f: # Get all files in the folder\n",
    "    x = f.read()\n",
    "print(x)"
   ]
  },
  {
   "cell_type": "code",
   "execution_count": 15,
   "id": "6774335a",
   "metadata": {},
   "outputs": [
    {
     "data": {
      "text/plain": [
       "845"
      ]
     },
     "execution_count": 15,
     "metadata": {},
     "output_type": "execute_result"
    }
   ],
   "source": [
    "len(df_files_sorted.File_Name.unique().tolist())"
   ]
  },
  {
   "cell_type": "code",
   "execution_count": 7,
   "id": "a6e05c38",
   "metadata": {},
   "outputs": [
    {
     "data": {
      "text/html": [
       "<div>\n",
       "<style scoped>\n",
       "    .dataframe tbody tr th:only-of-type {\n",
       "        vertical-align: middle;\n",
       "    }\n",
       "\n",
       "    .dataframe tbody tr th {\n",
       "        vertical-align: top;\n",
       "    }\n",
       "\n",
       "    .dataframe thead th {\n",
       "        text-align: right;\n",
       "    }\n",
       "</style>\n",
       "<table border=\"1\" class=\"dataframe\">\n",
       "  <thead>\n",
       "    <tr style=\"text-align: right;\">\n",
       "      <th></th>\n",
       "      <th>index</th>\n",
       "      <th>Positive</th>\n",
       "      <th>Negative</th>\n",
       "      <th>Certainty</th>\n",
       "      <th>Score</th>\n",
       "      <th>Total_articles</th>\n",
       "      <th>%_Positive</th>\n",
       "      <th>%_Negative</th>\n",
       "      <th>Avg_score</th>\n",
       "      <th>Avg_score_100</th>\n",
       "    </tr>\n",
       "    <tr>\n",
       "      <th>Date</th>\n",
       "      <th></th>\n",
       "      <th></th>\n",
       "      <th></th>\n",
       "      <th></th>\n",
       "      <th></th>\n",
       "      <th></th>\n",
       "      <th></th>\n",
       "      <th></th>\n",
       "      <th></th>\n",
       "      <th></th>\n",
       "    </tr>\n",
       "  </thead>\n",
       "  <tbody>\n",
       "    <tr>\n",
       "      <th>1982-10-02 00:00:00</th>\n",
       "      <td>1298</td>\n",
       "      <td>2</td>\n",
       "      <td>0</td>\n",
       "      <td>1.976947</td>\n",
       "      <td>1.976947</td>\n",
       "      <td>2</td>\n",
       "      <td>100.000000</td>\n",
       "      <td>0.000000</td>\n",
       "      <td>0.988473</td>\n",
       "      <td>98.847339</td>\n",
       "    </tr>\n",
       "    <tr>\n",
       "      <th>1982-10-03 00:00:00</th>\n",
       "      <td>1455</td>\n",
       "      <td>2</td>\n",
       "      <td>1</td>\n",
       "      <td>2.510036</td>\n",
       "      <td>0.700008</td>\n",
       "      <td>3</td>\n",
       "      <td>66.666667</td>\n",
       "      <td>33.333333</td>\n",
       "      <td>0.233336</td>\n",
       "      <td>23.333585</td>\n",
       "    </tr>\n",
       "    <tr>\n",
       "      <th>1982-10-04 00:00:00</th>\n",
       "      <td>724</td>\n",
       "      <td>1</td>\n",
       "      <td>1</td>\n",
       "      <td>1.884881</td>\n",
       "      <td>0.096359</td>\n",
       "      <td>2</td>\n",
       "      <td>50.000000</td>\n",
       "      <td>50.000000</td>\n",
       "      <td>0.048180</td>\n",
       "      <td>4.817966</td>\n",
       "    </tr>\n",
       "    <tr>\n",
       "      <th>1984-05-03 00:00:00</th>\n",
       "      <td>1242</td>\n",
       "      <td>0</td>\n",
       "      <td>2</td>\n",
       "      <td>1.639180</td>\n",
       "      <td>-1.639180</td>\n",
       "      <td>2</td>\n",
       "      <td>0.000000</td>\n",
       "      <td>100.000000</td>\n",
       "      <td>-0.819590</td>\n",
       "      <td>-81.959006</td>\n",
       "    </tr>\n",
       "    <tr>\n",
       "      <th>1984-05-04 00:00:00</th>\n",
       "      <td>890</td>\n",
       "      <td>1</td>\n",
       "      <td>1</td>\n",
       "      <td>1.260528</td>\n",
       "      <td>-0.253610</td>\n",
       "      <td>2</td>\n",
       "      <td>50.000000</td>\n",
       "      <td>50.000000</td>\n",
       "      <td>-0.126805</td>\n",
       "      <td>-12.680519</td>\n",
       "    </tr>\n",
       "    <tr>\n",
       "      <th>...</th>\n",
       "      <td>...</td>\n",
       "      <td>...</td>\n",
       "      <td>...</td>\n",
       "      <td>...</td>\n",
       "      <td>...</td>\n",
       "      <td>...</td>\n",
       "      <td>...</td>\n",
       "      <td>...</td>\n",
       "      <td>...</td>\n",
       "      <td>...</td>\n",
       "    </tr>\n",
       "    <tr>\n",
       "      <th>2014-01-19 00:00:00</th>\n",
       "      <td>6632</td>\n",
       "      <td>15</td>\n",
       "      <td>3</td>\n",
       "      <td>17.248513</td>\n",
       "      <td>11.983193</td>\n",
       "      <td>18</td>\n",
       "      <td>83.333333</td>\n",
       "      <td>16.666667</td>\n",
       "      <td>0.665733</td>\n",
       "      <td>66.573293</td>\n",
       "    </tr>\n",
       "    <tr>\n",
       "      <th>2014-01-20 00:00:00</th>\n",
       "      <td>99003</td>\n",
       "      <td>17</td>\n",
       "      <td>205</td>\n",
       "      <td>208.779232</td>\n",
       "      <td>-185.022782</td>\n",
       "      <td>222</td>\n",
       "      <td>7.657658</td>\n",
       "      <td>92.342342</td>\n",
       "      <td>-0.833436</td>\n",
       "      <td>-83.343596</td>\n",
       "    </tr>\n",
       "    <tr>\n",
       "      <th>2014-01-21 00:00:00</th>\n",
       "      <td>17562</td>\n",
       "      <td>6</td>\n",
       "      <td>36</td>\n",
       "      <td>39.479751</td>\n",
       "      <td>-29.608476</td>\n",
       "      <td>42</td>\n",
       "      <td>14.285714</td>\n",
       "      <td>85.714286</td>\n",
       "      <td>-0.704964</td>\n",
       "      <td>-70.496372</td>\n",
       "    </tr>\n",
       "    <tr>\n",
       "      <th>2014-01-21 14:05:00</th>\n",
       "      <td>76</td>\n",
       "      <td>0</td>\n",
       "      <td>1</td>\n",
       "      <td>0.993718</td>\n",
       "      <td>-0.993718</td>\n",
       "      <td>1</td>\n",
       "      <td>0.000000</td>\n",
       "      <td>100.000000</td>\n",
       "      <td>-0.993718</td>\n",
       "      <td>-99.371791</td>\n",
       "    </tr>\n",
       "    <tr>\n",
       "      <th>2014-03-26 00:00:00</th>\n",
       "      <td>2723</td>\n",
       "      <td>3</td>\n",
       "      <td>4</td>\n",
       "      <td>6.360874</td>\n",
       "      <td>-0.691898</td>\n",
       "      <td>7</td>\n",
       "      <td>42.857143</td>\n",
       "      <td>57.142857</td>\n",
       "      <td>-0.098843</td>\n",
       "      <td>-9.884257</td>\n",
       "    </tr>\n",
       "  </tbody>\n",
       "</table>\n",
       "<p>223 rows × 10 columns</p>\n",
       "</div>"
      ],
      "text/plain": [
       "                     index  Positive  Negative   Certainty       Score  \\\n",
       "Date                                                                     \n",
       "1982-10-02 00:00:00   1298         2         0    1.976947    1.976947   \n",
       "1982-10-03 00:00:00   1455         2         1    2.510036    0.700008   \n",
       "1982-10-04 00:00:00    724         1         1    1.884881    0.096359   \n",
       "1984-05-03 00:00:00   1242         0         2    1.639180   -1.639180   \n",
       "1984-05-04 00:00:00    890         1         1    1.260528   -0.253610   \n",
       "...                    ...       ...       ...         ...         ...   \n",
       "2014-01-19 00:00:00   6632        15         3   17.248513   11.983193   \n",
       "2014-01-20 00:00:00  99003        17       205  208.779232 -185.022782   \n",
       "2014-01-21 00:00:00  17562         6        36   39.479751  -29.608476   \n",
       "2014-01-21 14:05:00     76         0         1    0.993718   -0.993718   \n",
       "2014-03-26 00:00:00   2723         3         4    6.360874   -0.691898   \n",
       "\n",
       "                     Total_articles  %_Positive  %_Negative  Avg_score  \\\n",
       "Date                                                                     \n",
       "1982-10-02 00:00:00               2  100.000000    0.000000   0.988473   \n",
       "1982-10-03 00:00:00               3   66.666667   33.333333   0.233336   \n",
       "1982-10-04 00:00:00               2   50.000000   50.000000   0.048180   \n",
       "1984-05-03 00:00:00               2    0.000000  100.000000  -0.819590   \n",
       "1984-05-04 00:00:00               2   50.000000   50.000000  -0.126805   \n",
       "...                             ...         ...         ...        ...   \n",
       "2014-01-19 00:00:00              18   83.333333   16.666667   0.665733   \n",
       "2014-01-20 00:00:00             222    7.657658   92.342342  -0.833436   \n",
       "2014-01-21 00:00:00              42   14.285714   85.714286  -0.704964   \n",
       "2014-01-21 14:05:00               1    0.000000  100.000000  -0.993718   \n",
       "2014-03-26 00:00:00               7   42.857143   57.142857  -0.098843   \n",
       "\n",
       "                     Avg_score_100  \n",
       "Date                                \n",
       "1982-10-02 00:00:00      98.847339  \n",
       "1982-10-03 00:00:00      23.333585  \n",
       "1982-10-04 00:00:00       4.817966  \n",
       "1984-05-03 00:00:00     -81.959006  \n",
       "1984-05-04 00:00:00     -12.680519  \n",
       "...                            ...  \n",
       "2014-01-19 00:00:00      66.573293  \n",
       "2014-01-20 00:00:00     -83.343596  \n",
       "2014-01-21 00:00:00     -70.496372  \n",
       "2014-01-21 14:05:00     -99.371791  \n",
       "2014-03-26 00:00:00      -9.884257  \n",
       "\n",
       "[223 rows x 10 columns]"
      ]
     },
     "execution_count": 7,
     "metadata": {},
     "output_type": "execute_result"
    }
   ],
   "source": [
    "df_grouped = df_files_sorted.groupby('Date').sum()\n",
    "df_grouped['Total_articles']  = df_grouped['Positive']+df_grouped['Negative']\n",
    "df_grouped['%_Positive'] = df_grouped['Positive']/df_grouped['Total_articles']*100\n",
    "df_grouped['%_Negative'] = 100-df_grouped['%_Positive']\n",
    "df_grouped['Avg_score'] = df_files_sorted.groupby('Date').mean()['Score']\n",
    "#df_grouped['Avg_score_pos'] = df_files_sorted.groupby('Date').mean()['Score']\n",
    "df_grouped['Avg_score_100'] = df_grouped['Avg_score']*100\n",
    "df_grouped"
   ]
  },
  {
   "cell_type": "code",
   "execution_count": null,
   "id": "46db991a",
   "metadata": {},
   "outputs": [],
   "source": [
    "# Info about flair:\n",
    "# https://towardsdatascience.com/text-classification-with-state-of-the-art-nlp-library-flair-b541d7add21f\n"
   ]
  }
 ],
 "metadata": {
  "kernelspec": {
   "display_name": "VA",
   "language": "python",
   "name": "va"
  },
  "language_info": {
   "codemirror_mode": {
    "name": "ipython",
    "version": 3
   },
   "file_extension": ".py",
   "mimetype": "text/x-python",
   "name": "python",
   "nbconvert_exporter": "python",
   "pygments_lexer": "ipython3",
   "version": "3.10.0"
  }
 },
 "nbformat": 4,
 "nbformat_minor": 5
}
