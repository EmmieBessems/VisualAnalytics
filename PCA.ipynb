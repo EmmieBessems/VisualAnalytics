{
 "cells": [
  {
   "cell_type": "code",
   "execution_count": 1,
   "id": "f6d4f29b",
   "metadata": {},
   "outputs": [
    {
     "name": "stderr",
     "output_type": "stream",
     "text": [
      "C:\\Users\\Bram\\AppData\\Local\\Continuum\\anaconda3\\lib\\site-packages\\ipykernel_launcher.py:5: UserWarning: \n",
      "The dash_html_components package is deprecated. Please replace\n",
      "`import dash_html_components as html` with `from dash import html`\n",
      "  \"\"\"\n",
      "C:\\Users\\Bram\\AppData\\Local\\Continuum\\anaconda3\\lib\\site-packages\\ipykernel_launcher.py:6: UserWarning: \n",
      "The dash_core_components package is deprecated. Please replace\n",
      "`import dash_core_components as dcc` with `from dash import dcc`\n",
      "  \n"
     ]
    }
   ],
   "source": [
    "import pandas as pd\n",
    "import numpy as np\n",
    "import datetime\n",
    "import matplotlib.pyplot as plt\n",
    "import dash_html_components as html\n",
    "import dash_core_components as dcc\n",
    "import dash\n",
    "from sklearn.decomposition import PCA\n",
    "from sklearn.preprocessing import StandardScaler\n",
    "from dash.dependencies import Input, Output\n",
    "import plotly.express as px"
   ]
  },
  {
   "cell_type": "code",
   "execution_count": 2,
   "id": "b12879ab",
   "metadata": {},
   "outputs": [],
   "source": [
    "email_headers = pd.read_csv('data/email headers.csv', encoding='mac-roman')\n",
    "email_headers['Date'] =  pd.to_datetime(email_headers['Date'], format='%m/%d/%Y %H:%M')"
   ]
  },
  {
   "cell_type": "code",
   "execution_count": 3,
   "id": "d259e1a3",
   "metadata": {},
   "outputs": [],
   "source": [
    "from_to = email_headers[['From', 'To', 'Date']]\n",
    "\n",
    "def comma_cutter(sentence):\n",
    "    names = []\n",
    "    while sentence.find(',') != -1:\n",
    "        index = sentence.find(',')\n",
    "        names.append(sentence[:index])\n",
    "        sentence = sentence[index + 1:]\n",
    "    names.append(sentence)\n",
    "    return names\n",
    "\n",
    "from_new = []\n",
    "to_new = []\n",
    "time_new = []\n",
    "\n",
    "for row in from_to.iterrows():\n",
    "    to = comma_cutter(row[1][1])\n",
    "    for name in to:\n",
    "        if name[0] == ' ':\n",
    "            name = name[1:]\n",
    "        from_new.append(row[1][0])\n",
    "        to_new.append(name)\n",
    "        time_new.append(row[1][2])"
   ]
  },
  {
   "cell_type": "code",
   "execution_count": 4,
   "id": "5f3ce49b",
   "metadata": {},
   "outputs": [],
   "source": [
    "names_dict = dict()\n",
    "i = 0\n",
    "for name in from_new:\n",
    "    if name not in names_dict:\n",
    "        names_dict[name] = i\n",
    "        i += 1\n",
    "for name in to_new:\n",
    "    if name not in names_dict:\n",
    "        names_dict[name] = i\n",
    "        i += 1"
   ]
  },
  {
   "cell_type": "code",
   "execution_count": 5,
   "id": "e2472d25",
   "metadata": {},
   "outputs": [],
   "source": [
    "def make_pca(hours):\n",
    "\n",
    "    vector_list = []\n",
    "    time_vector = []\n",
    "    start_date = datetime.datetime(2014, 1, 7, 0, 0, 0)\n",
    "    end_date = datetime.datetime(2014, 1, 19, 0, 0, 0)\n",
    "    delta = datetime.timedelta(hours=hours)\n",
    "\n",
    "    while start_date <= end_date:\n",
    "        adjacency_mat = np.zeros((len(names_dict), len(names_dict)))\n",
    "        for j in range(len(from_new)):\n",
    "            if time_new[j] < start_date and time_new[j] > (start_date - delta):\n",
    "                adjacency_mat[names_dict[from_new[j]]][names_dict[to_new[j]]] += 1\n",
    "        vector_list.append(adjacency_mat.flatten())\n",
    "        time_vector.append(start_date)\n",
    "        start_date += delta\n",
    "\n",
    "    df = pd.DataFrame(vector_list)\n",
    "    return df, time_vector"
   ]
  },
  {
   "cell_type": "code",
   "execution_count": 6,
   "id": "1c969f37",
   "metadata": {},
   "outputs": [],
   "source": [
    "def create_figure(hours):\n",
    "    df, time_vector = make_pca(hours)\n",
    "    x = df.values\n",
    "    x = StandardScaler().fit_transform(x)\n",
    "    pca = PCA(n_components=2)\n",
    "    principalComponents = pca.fit_transform(x)\n",
    "    principalDf = pd.DataFrame(data = principalComponents\n",
    "                 , columns = ['principal component 1', 'principal component 2'])\n",
    "    principalDf['Date'] = time_vector\n",
    "    principalDf['Time'] = range(len(time_vector))\n",
    "    fig = px.scatter(principalDf, x='principal component 1', y='principal component 2', color = 'Time',\n",
    "                     color_continuous_scale='Bluered_r', hover_data = ['Date'])\n",
    "    return fig"
   ]
  },
  {
   "cell_type": "code",
   "execution_count": 7,
   "id": "5f4a152c",
   "metadata": {},
   "outputs": [],
   "source": [
    "app = dash.Dash(__name__)"
   ]
  },
  {
   "cell_type": "code",
   "execution_count": 8,
   "id": "0fb8448f",
   "metadata": {},
   "outputs": [
    {
     "name": "stdout",
     "output_type": "stream",
     "text": [
      "Dash is running on http://127.0.0.1:8050/\n",
      "\n",
      " * Serving Flask app '__main__' (lazy loading)\n",
      " * Environment: production\n",
      "\u001b[31m   WARNING: This is a development server. Do not use it in a production deployment.\u001b[0m\n",
      "\u001b[2m   Use a production WSGI server instead.\u001b[0m\n",
      " * Debug mode: off\n"
     ]
    },
    {
     "name": "stderr",
     "output_type": "stream",
     "text": [
      " * Running on http://127.0.0.1:8050/ (Press CTRL+C to quit)\n",
      "127.0.0.1 - - [18/Apr/2022 16:27:24] \"GET / HTTP/1.1\" 200 -\n",
      "127.0.0.1 - - [18/Apr/2022 16:27:24] \"GET /_dash-layout HTTP/1.1\" 200 -\n",
      "127.0.0.1 - - [18/Apr/2022 16:27:24] \"GET /_dash-dependencies HTTP/1.1\" 200 -\n",
      "127.0.0.1 - - [18/Apr/2022 16:27:24] \"GET /_dash-component-suites/dash/dcc/async-graph.js HTTP/1.1\" 200 -\n",
      "127.0.0.1 - - [18/Apr/2022 16:27:24] \"GET /_dash-component-suites/dash/dcc/async-slider.js HTTP/1.1\" 200 -\n",
      "127.0.0.1 - - [18/Apr/2022 16:27:24] \"GET /_dash-component-suites/dash/dcc/async-plotlyjs.js HTTP/1.1\" 200 -\n",
      "127.0.0.1 - - [18/Apr/2022 16:27:26] \"POST /_dash-update-component HTTP/1.1\" 200 -\n",
      "127.0.0.1 - - [18/Apr/2022 16:27:28] \"POST /_dash-update-component HTTP/1.1\" 200 -\n"
     ]
    }
   ],
   "source": [
    "app.layout = html.Div([\n",
    "    html.H4('Pca representation of the email graphs'),\n",
    "    dcc.Graph(\n",
    "        id='pca'\n",
    "    ),\n",
    "    html.H4('Amount of hours per graph'),\n",
    "    dcc.Slider(1, 24, 1,\n",
    "               value=10,\n",
    "               id='slider'\n",
    "    ),\n",
    "])\n",
    "\n",
    "@app.callback(\n",
    "    Output(\"pca\", \"figure\"), \n",
    "     Input('slider', 'value')\n",
    ")\n",
    "\n",
    "def create_figure(slider):\n",
    "    \n",
    "    df, time_vector = make_pca(slider)\n",
    "    \n",
    "    \n",
    "    x = df.values\n",
    "    x = StandardScaler().fit_transform(x)\n",
    "    pca = PCA(n_components=2)\n",
    "    principalComponents = pca.fit_transform(x)\n",
    "    principalDf = pd.DataFrame(data = principalComponents\n",
    "                , columns = ['principal component 1', 'principal component 2'])\n",
    "    principalDf['Date'] = time_vector\n",
    "    principalDf['Time'] = range(len(time_vector))\n",
    "    figure = px.scatter(principalDf, x='principal component 1', y='principal component 2', color = 'Time',\n",
    "                     color_continuous_scale='Bluered_r', hover_data = ['Date'])\n",
    "\n",
    "    return figure\n",
    "    \n",
    "if __name__ == '__main__':\n",
    "    app.run_server(debug=False)"
   ]
  },
  {
   "cell_type": "code",
   "execution_count": null,
   "id": "a49f3f11",
   "metadata": {},
   "outputs": [],
   "source": []
  },
  {
   "cell_type": "code",
   "execution_count": null,
   "id": "14ffa5c5",
   "metadata": {},
   "outputs": [],
   "source": []
  }
 ],
 "metadata": {
  "kernelspec": {
   "display_name": "Python 3",
   "language": "python",
   "name": "python3"
  },
  "language_info": {
   "codemirror_mode": {
    "name": "ipython",
    "version": 3
   },
   "file_extension": ".py",
   "mimetype": "text/x-python",
   "name": "python",
   "nbconvert_exporter": "python",
   "pygments_lexer": "ipython3",
   "version": "3.7.3"
  }
 },
 "nbformat": 4,
 "nbformat_minor": 5
}
